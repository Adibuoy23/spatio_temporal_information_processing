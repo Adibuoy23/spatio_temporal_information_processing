{
 "cells": [
  {
   "cell_type": "code",
   "execution_count": 1,
   "metadata": {},
   "outputs": [
    {
     "name": "stdout",
     "output_type": "stream",
     "text": [
      "['8_07Dec2018_15-28.csv', '19_07Dec2018_17-55.txt', '7_07Dec2018_15-30.txt', '12_07Dec2018_16-36.csv', '22_07Dec2018_18-41.txt', '17_07Dec2018_17-26.txt', '9_07Dec2018_15-56.txt', '15_07Dec2018_17-21.txt', '3_07Dec2018_14-25.csv', '4_07Dec2018_14-34.csv', '16_07Dec2018_17-23.txt', '5_07Dec2018_14-48.txt', '.DS_Store', '20_07Dec2018_18-05.csv', '18_07Dec2018_17-50.txt', '4_07Dec2018_14-45.csv', '23_07Dec2018_18-48.csv', '13_07Dec2018_16-40.csv', '6_07Dec2018_14-51.csv', '1_07Dec2018_13-59.csv', '14_07Dec2018_16-43.csv', '21_07Dec2018_18-24.txt', '11_07Dec2018_16-06.txt', '2_07Dec2018_14-10.txt', '22_07Dec2018_18-41.csv', '17_07Dec2018_17-26.csv', '9_07Dec2018_15-56.csv', '8_07Dec2018_15-28.txt', '19_07Dec2018_17-55.csv', '7_07Dec2018_15-30.csv', '12_07Dec2018_16-36.txt', '20_07Dec2018_18-05.txt', '18_07Dec2018_17-50.csv', '3_07Dec2018_14-25.txt', '4_07Dec2018_14-34.txt', '15_07Dec2018_17-21.csv', '16_07Dec2018_17-23.csv', '5_07Dec2018_14-48.csv', '6_07Dec2018_14-51.txt', '4_07Dec2018_14-45.txt', '23_07Dec2018_18-48.txt', '13_07Dec2018_16-40.txt', '11_07Dec2018_16-06.csv', '2_07Dec2018_14-10.csv', '1_07Dec2018_13-59.txt', '21_07Dec2018_18-24.csv', '14_07Dec2018_16-43.txt']\n"
     ]
    }
   ],
   "source": [
    "# clear all the variables\n",
    "%reset -f\n",
    "import numpy as np\n",
    "import pandas as pd\n",
    "import sys\n",
    "import turicreate as tc\n",
    "import os\n",
    "from os import walk\n",
    "import scipy.io\n",
    "import xlrd, os, fnmatch\n",
    "import pandas as pd\n",
    "#import tensorflow as tf\n",
    "import plotly.plotly as py\n",
    "import plotly.graph_objs as go\n",
    "from scipy.spatial.distance import cdist\n",
    "# Path variable (where the data is located)\n",
    "myPath = './data/Expt_VI/' \n",
    "# Append the path variable to existing search path\n",
    "sys.path.append(myPath)\n",
    "# Get the file information in the directory\n",
    "file_list = []\n",
    "ignore_list = ['pilot','Expt_I','Expt_II','Expt_III','Expt_IV','Expt_V']\n",
    "for root, dirs, files in os.walk(myPath):\n",
    "    print(files)\n",
    "    for ig in ignore_list:\n",
    "        if ig in dirs:\n",
    "            dirs[:]=[]\n",
    "    for filename in files:\n",
    "        if fnmatch.fnmatch(filename.lower(), \"*csv\"):\n",
    "            file_list.append(os.path.join(root, filename))"
   ]
  },
  {
   "cell_type": "code",
   "execution_count": 2,
   "metadata": {},
   "outputs": [
    {
     "data": {
      "text/plain": [
       "['./data/Expt_VI/8_07Dec2018_15-28.csv',\n",
       " './data/Expt_VI/12_07Dec2018_16-36.csv',\n",
       " './data/Expt_VI/3_07Dec2018_14-25.csv',\n",
       " './data/Expt_VI/4_07Dec2018_14-34.csv',\n",
       " './data/Expt_VI/20_07Dec2018_18-05.csv',\n",
       " './data/Expt_VI/4_07Dec2018_14-45.csv',\n",
       " './data/Expt_VI/23_07Dec2018_18-48.csv',\n",
       " './data/Expt_VI/13_07Dec2018_16-40.csv',\n",
       " './data/Expt_VI/6_07Dec2018_14-51.csv',\n",
       " './data/Expt_VI/1_07Dec2018_13-59.csv',\n",
       " './data/Expt_VI/14_07Dec2018_16-43.csv',\n",
       " './data/Expt_VI/22_07Dec2018_18-41.csv',\n",
       " './data/Expt_VI/17_07Dec2018_17-26.csv',\n",
       " './data/Expt_VI/9_07Dec2018_15-56.csv',\n",
       " './data/Expt_VI/19_07Dec2018_17-55.csv',\n",
       " './data/Expt_VI/7_07Dec2018_15-30.csv',\n",
       " './data/Expt_VI/18_07Dec2018_17-50.csv',\n",
       " './data/Expt_VI/15_07Dec2018_17-21.csv',\n",
       " './data/Expt_VI/16_07Dec2018_17-23.csv',\n",
       " './data/Expt_VI/5_07Dec2018_14-48.csv',\n",
       " './data/Expt_VI/11_07Dec2018_16-06.csv',\n",
       " './data/Expt_VI/2_07Dec2018_14-10.csv',\n",
       " './data/Expt_VI/21_07Dec2018_18-24.csv']"
      ]
     },
     "execution_count": 2,
     "metadata": {},
     "output_type": "execute_result"
    }
   ],
   "source": [
    "file_list"
   ]
  },
  {
   "cell_type": "code",
   "execution_count": 3,
   "metadata": {},
   "outputs": [
    {
     "data": {
      "text/html": [
       "<pre>Finished parsing file /Users/mcp/Desktop/spatio_temporal_information_processing/RSVP_visual_now/data/Expt_VI/8_07Dec2018_15-28.csv</pre>"
      ],
      "text/plain": [
       "Finished parsing file /Users/mcp/Desktop/spatio_temporal_information_processing/RSVP_visual_now/data/Expt_VI/8_07Dec2018_15-28.csv"
      ]
     },
     "metadata": {},
     "output_type": "display_data"
    },
    {
     "data": {
      "text/html": [
       "<pre>Parsing completed. Parsed 100 lines in 0.040767 secs.</pre>"
      ],
      "text/plain": [
       "Parsing completed. Parsed 100 lines in 0.040767 secs."
      ]
     },
     "metadata": {},
     "output_type": "display_data"
    },
    {
     "name": "stdout",
     "output_type": "stream",
     "text": [
      "------------------------------------------------------\n",
      "Inferred types from first 100 line(s) of file as \n",
      "column_type_hints=[int,int,int,str,str,int,int,str,str,int,array,float,int]\n",
      "If parsing fails due to incorrect types, you can correct\n",
      "the inferred type list above and pass it to read_csv in\n",
      "the column_type_hints argument\n",
      "------------------------------------------------------\n"
     ]
    },
    {
     "data": {
      "text/html": [
       "<pre>Finished parsing file /Users/mcp/Desktop/spatio_temporal_information_processing/RSVP_visual_now/data/Expt_VI/8_07Dec2018_15-28.csv</pre>"
      ],
      "text/plain": [
       "Finished parsing file /Users/mcp/Desktop/spatio_temporal_information_processing/RSVP_visual_now/data/Expt_VI/8_07Dec2018_15-28.csv"
      ]
     },
     "metadata": {},
     "output_type": "display_data"
    },
    {
     "data": {
      "text/html": [
       "<pre>Parsing completed. Parsed 360 lines in 0.012468 secs.</pre>"
      ],
      "text/plain": [
       "Parsing completed. Parsed 360 lines in 0.012468 secs."
      ]
     },
     "metadata": {},
     "output_type": "display_data"
    },
    {
     "name": "stdout",
     "output_type": "stream",
     "text": [
      "360\n"
     ]
    },
    {
     "data": {
      "text/html": [
       "<pre>Finished parsing file /Users/mcp/Desktop/spatio_temporal_information_processing/RSVP_visual_now/data/Expt_VI/12_07Dec2018_16-36.csv</pre>"
      ],
      "text/plain": [
       "Finished parsing file /Users/mcp/Desktop/spatio_temporal_information_processing/RSVP_visual_now/data/Expt_VI/12_07Dec2018_16-36.csv"
      ]
     },
     "metadata": {},
     "output_type": "display_data"
    },
    {
     "data": {
      "text/html": [
       "<pre>Parsing completed. Parsed 100 lines in 0.012939 secs.</pre>"
      ],
      "text/plain": [
       "Parsing completed. Parsed 100 lines in 0.012939 secs."
      ]
     },
     "metadata": {},
     "output_type": "display_data"
    },
    {
     "name": "stdout",
     "output_type": "stream",
     "text": [
      "------------------------------------------------------\n",
      "Inferred types from first 100 line(s) of file as \n",
      "column_type_hints=[int,int,int,str,str,int,int,str,str,int,array,float,int]\n",
      "If parsing fails due to incorrect types, you can correct\n",
      "the inferred type list above and pass it to read_csv in\n",
      "the column_type_hints argument\n",
      "------------------------------------------------------\n"
     ]
    },
    {
     "data": {
      "text/html": [
       "<pre>Finished parsing file /Users/mcp/Desktop/spatio_temporal_information_processing/RSVP_visual_now/data/Expt_VI/12_07Dec2018_16-36.csv</pre>"
      ],
      "text/plain": [
       "Finished parsing file /Users/mcp/Desktop/spatio_temporal_information_processing/RSVP_visual_now/data/Expt_VI/12_07Dec2018_16-36.csv"
      ]
     },
     "metadata": {},
     "output_type": "display_data"
    },
    {
     "data": {
      "text/html": [
       "<pre>Parsing completed. Parsed 360 lines in 0.011505 secs.</pre>"
      ],
      "text/plain": [
       "Parsing completed. Parsed 360 lines in 0.011505 secs."
      ]
     },
     "metadata": {},
     "output_type": "display_data"
    },
    {
     "name": "stdout",
     "output_type": "stream",
     "text": [
      "360\n"
     ]
    },
    {
     "data": {
      "text/html": [
       "<pre>Finished parsing file /Users/mcp/Desktop/spatio_temporal_information_processing/RSVP_visual_now/data/Expt_VI/3_07Dec2018_14-25.csv</pre>"
      ],
      "text/plain": [
       "Finished parsing file /Users/mcp/Desktop/spatio_temporal_information_processing/RSVP_visual_now/data/Expt_VI/3_07Dec2018_14-25.csv"
      ]
     },
     "metadata": {},
     "output_type": "display_data"
    },
    {
     "data": {
      "text/html": [
       "<pre>Parsing completed. Parsed 100 lines in 0.012312 secs.</pre>"
      ],
      "text/plain": [
       "Parsing completed. Parsed 100 lines in 0.012312 secs."
      ]
     },
     "metadata": {},
     "output_type": "display_data"
    },
    {
     "name": "stdout",
     "output_type": "stream",
     "text": [
      "------------------------------------------------------\n",
      "Inferred types from first 100 line(s) of file as \n",
      "column_type_hints=[int,int,int,str,str,int,int,str,str,int,array,float,int]\n",
      "If parsing fails due to incorrect types, you can correct\n",
      "the inferred type list above and pass it to read_csv in\n",
      "the column_type_hints argument\n",
      "------------------------------------------------------\n"
     ]
    },
    {
     "data": {
      "text/html": [
       "<pre>Finished parsing file /Users/mcp/Desktop/spatio_temporal_information_processing/RSVP_visual_now/data/Expt_VI/3_07Dec2018_14-25.csv</pre>"
      ],
      "text/plain": [
       "Finished parsing file /Users/mcp/Desktop/spatio_temporal_information_processing/RSVP_visual_now/data/Expt_VI/3_07Dec2018_14-25.csv"
      ]
     },
     "metadata": {},
     "output_type": "display_data"
    },
    {
     "data": {
      "text/html": [
       "<pre>Parsing completed. Parsed 360 lines in 0.011479 secs.</pre>"
      ],
      "text/plain": [
       "Parsing completed. Parsed 360 lines in 0.011479 secs."
      ]
     },
     "metadata": {},
     "output_type": "display_data"
    },
    {
     "name": "stdout",
     "output_type": "stream",
     "text": [
      "360\n"
     ]
    },
    {
     "data": {
      "text/html": [
       "<pre>Finished parsing file /Users/mcp/Desktop/spatio_temporal_information_processing/RSVP_visual_now/data/Expt_VI/4_07Dec2018_14-34.csv</pre>"
      ],
      "text/plain": [
       "Finished parsing file /Users/mcp/Desktop/spatio_temporal_information_processing/RSVP_visual_now/data/Expt_VI/4_07Dec2018_14-34.csv"
      ]
     },
     "metadata": {},
     "output_type": "display_data"
    },
    {
     "data": {
      "text/html": [
       "<pre>Parsing completed. Parsed 100 lines in 0.010447 secs.</pre>"
      ],
      "text/plain": [
       "Parsing completed. Parsed 100 lines in 0.010447 secs."
      ]
     },
     "metadata": {},
     "output_type": "display_data"
    },
    {
     "name": "stdout",
     "output_type": "stream",
     "text": [
      "------------------------------------------------------\n",
      "Inferred types from first 100 line(s) of file as \n",
      "column_type_hints=[int,int,int,str,str,int,int,str,str,int,array,float,int]\n",
      "If parsing fails due to incorrect types, you can correct\n",
      "the inferred type list above and pass it to read_csv in\n",
      "the column_type_hints argument\n",
      "------------------------------------------------------\n"
     ]
    },
    {
     "data": {
      "text/html": [
       "<pre>Finished parsing file /Users/mcp/Desktop/spatio_temporal_information_processing/RSVP_visual_now/data/Expt_VI/4_07Dec2018_14-34.csv</pre>"
      ],
      "text/plain": [
       "Finished parsing file /Users/mcp/Desktop/spatio_temporal_information_processing/RSVP_visual_now/data/Expt_VI/4_07Dec2018_14-34.csv"
      ]
     },
     "metadata": {},
     "output_type": "display_data"
    },
    {
     "data": {
      "text/html": [
       "<pre>Parsing completed. Parsed 360 lines in 0.011393 secs.</pre>"
      ],
      "text/plain": [
       "Parsing completed. Parsed 360 lines in 0.011393 secs."
      ]
     },
     "metadata": {},
     "output_type": "display_data"
    },
    {
     "name": "stdout",
     "output_type": "stream",
     "text": [
      "360\n"
     ]
    },
    {
     "data": {
      "text/html": [
       "<pre>Finished parsing file /Users/mcp/Desktop/spatio_temporal_information_processing/RSVP_visual_now/data/Expt_VI/20_07Dec2018_18-05.csv</pre>"
      ],
      "text/plain": [
       "Finished parsing file /Users/mcp/Desktop/spatio_temporal_information_processing/RSVP_visual_now/data/Expt_VI/20_07Dec2018_18-05.csv"
      ]
     },
     "metadata": {},
     "output_type": "display_data"
    },
    {
     "data": {
      "text/html": [
       "<pre>Parsing completed. Parsed 100 lines in 0.011044 secs.</pre>"
      ],
      "text/plain": [
       "Parsing completed. Parsed 100 lines in 0.011044 secs."
      ]
     },
     "metadata": {},
     "output_type": "display_data"
    },
    {
     "name": "stdout",
     "output_type": "stream",
     "text": [
      "------------------------------------------------------\n",
      "Inferred types from first 100 line(s) of file as \n",
      "column_type_hints=[int,int,int,str,str,int,int,str,str,int,array,float,int]\n",
      "If parsing fails due to incorrect types, you can correct\n",
      "the inferred type list above and pass it to read_csv in\n",
      "the column_type_hints argument\n",
      "------------------------------------------------------\n"
     ]
    },
    {
     "data": {
      "text/html": [
       "<pre>Finished parsing file /Users/mcp/Desktop/spatio_temporal_information_processing/RSVP_visual_now/data/Expt_VI/20_07Dec2018_18-05.csv</pre>"
      ],
      "text/plain": [
       "Finished parsing file /Users/mcp/Desktop/spatio_temporal_information_processing/RSVP_visual_now/data/Expt_VI/20_07Dec2018_18-05.csv"
      ]
     },
     "metadata": {},
     "output_type": "display_data"
    },
    {
     "data": {
      "text/html": [
       "<pre>Parsing completed. Parsed 360 lines in 0.010586 secs.</pre>"
      ],
      "text/plain": [
       "Parsing completed. Parsed 360 lines in 0.010586 secs."
      ]
     },
     "metadata": {},
     "output_type": "display_data"
    },
    {
     "name": "stdout",
     "output_type": "stream",
     "text": [
      "360\n"
     ]
    },
    {
     "data": {
      "text/html": [
       "<pre>Finished parsing file /Users/mcp/Desktop/spatio_temporal_information_processing/RSVP_visual_now/data/Expt_VI/4_07Dec2018_14-45.csv</pre>"
      ],
      "text/plain": [
       "Finished parsing file /Users/mcp/Desktop/spatio_temporal_information_processing/RSVP_visual_now/data/Expt_VI/4_07Dec2018_14-45.csv"
      ]
     },
     "metadata": {},
     "output_type": "display_data"
    },
    {
     "data": {
      "text/html": [
       "<pre>Parsing completed. Parsed 100 lines in 0.011463 secs.</pre>"
      ],
      "text/plain": [
       "Parsing completed. Parsed 100 lines in 0.011463 secs."
      ]
     },
     "metadata": {},
     "output_type": "display_data"
    },
    {
     "name": "stdout",
     "output_type": "stream",
     "text": [
      "------------------------------------------------------\n",
      "Inferred types from first 100 line(s) of file as \n",
      "column_type_hints=[int,int,int,str,str,int,int,str,str,int,array,float,int]\n",
      "If parsing fails due to incorrect types, you can correct\n",
      "the inferred type list above and pass it to read_csv in\n",
      "the column_type_hints argument\n",
      "------------------------------------------------------\n"
     ]
    },
    {
     "data": {
      "text/html": [
       "<pre>Finished parsing file /Users/mcp/Desktop/spatio_temporal_information_processing/RSVP_visual_now/data/Expt_VI/4_07Dec2018_14-45.csv</pre>"
      ],
      "text/plain": [
       "Finished parsing file /Users/mcp/Desktop/spatio_temporal_information_processing/RSVP_visual_now/data/Expt_VI/4_07Dec2018_14-45.csv"
      ]
     },
     "metadata": {},
     "output_type": "display_data"
    },
    {
     "data": {
      "text/html": [
       "<pre>Parsing completed. Parsed 360 lines in 0.011781 secs.</pre>"
      ],
      "text/plain": [
       "Parsing completed. Parsed 360 lines in 0.011781 secs."
      ]
     },
     "metadata": {},
     "output_type": "display_data"
    },
    {
     "name": "stdout",
     "output_type": "stream",
     "text": [
      "360\n"
     ]
    },
    {
     "data": {
      "text/html": [
       "<pre>Finished parsing file /Users/mcp/Desktop/spatio_temporal_information_processing/RSVP_visual_now/data/Expt_VI/23_07Dec2018_18-48.csv</pre>"
      ],
      "text/plain": [
       "Finished parsing file /Users/mcp/Desktop/spatio_temporal_information_processing/RSVP_visual_now/data/Expt_VI/23_07Dec2018_18-48.csv"
      ]
     },
     "metadata": {},
     "output_type": "display_data"
    },
    {
     "data": {
      "text/html": [
       "<pre>Parsing completed. Parsed 100 lines in 0.012354 secs.</pre>"
      ],
      "text/plain": [
       "Parsing completed. Parsed 100 lines in 0.012354 secs."
      ]
     },
     "metadata": {},
     "output_type": "display_data"
    },
    {
     "name": "stdout",
     "output_type": "stream",
     "text": [
      "------------------------------------------------------\n",
      "Inferred types from first 100 line(s) of file as \n",
      "column_type_hints=[int,int,int,str,str,int,int,str,str,int,array,float,int]\n",
      "If parsing fails due to incorrect types, you can correct\n",
      "the inferred type list above and pass it to read_csv in\n",
      "the column_type_hints argument\n",
      "------------------------------------------------------\n"
     ]
    },
    {
     "data": {
      "text/html": [
       "<pre>Finished parsing file /Users/mcp/Desktop/spatio_temporal_information_processing/RSVP_visual_now/data/Expt_VI/23_07Dec2018_18-48.csv</pre>"
      ],
      "text/plain": [
       "Finished parsing file /Users/mcp/Desktop/spatio_temporal_information_processing/RSVP_visual_now/data/Expt_VI/23_07Dec2018_18-48.csv"
      ]
     },
     "metadata": {},
     "output_type": "display_data"
    },
    {
     "data": {
      "text/html": [
       "<pre>Parsing completed. Parsed 360 lines in 0.01009 secs.</pre>"
      ],
      "text/plain": [
       "Parsing completed. Parsed 360 lines in 0.01009 secs."
      ]
     },
     "metadata": {},
     "output_type": "display_data"
    },
    {
     "name": "stdout",
     "output_type": "stream",
     "text": [
      "360\n"
     ]
    },
    {
     "data": {
      "text/html": [
       "<pre>Finished parsing file /Users/mcp/Desktop/spatio_temporal_information_processing/RSVP_visual_now/data/Expt_VI/13_07Dec2018_16-40.csv</pre>"
      ],
      "text/plain": [
       "Finished parsing file /Users/mcp/Desktop/spatio_temporal_information_processing/RSVP_visual_now/data/Expt_VI/13_07Dec2018_16-40.csv"
      ]
     },
     "metadata": {},
     "output_type": "display_data"
    },
    {
     "data": {
      "text/html": [
       "<pre>Parsing completed. Parsed 100 lines in 0.010773 secs.</pre>"
      ],
      "text/plain": [
       "Parsing completed. Parsed 100 lines in 0.010773 secs."
      ]
     },
     "metadata": {},
     "output_type": "display_data"
    },
    {
     "name": "stdout",
     "output_type": "stream",
     "text": [
      "------------------------------------------------------\n",
      "Inferred types from first 100 line(s) of file as \n",
      "column_type_hints=[int,int,int,str,str,int,int,str,str,int,array,float,int]\n",
      "If parsing fails due to incorrect types, you can correct\n",
      "the inferred type list above and pass it to read_csv in\n",
      "the column_type_hints argument\n",
      "------------------------------------------------------\n"
     ]
    },
    {
     "data": {
      "text/html": [
       "<pre>Finished parsing file /Users/mcp/Desktop/spatio_temporal_information_processing/RSVP_visual_now/data/Expt_VI/13_07Dec2018_16-40.csv</pre>"
      ],
      "text/plain": [
       "Finished parsing file /Users/mcp/Desktop/spatio_temporal_information_processing/RSVP_visual_now/data/Expt_VI/13_07Dec2018_16-40.csv"
      ]
     },
     "metadata": {},
     "output_type": "display_data"
    },
    {
     "data": {
      "text/html": [
       "<pre>Parsing completed. Parsed 360 lines in 0.009923 secs.</pre>"
      ],
      "text/plain": [
       "Parsing completed. Parsed 360 lines in 0.009923 secs."
      ]
     },
     "metadata": {},
     "output_type": "display_data"
    },
    {
     "name": "stdout",
     "output_type": "stream",
     "text": [
      "360\n"
     ]
    },
    {
     "data": {
      "text/html": [
       "<pre>Finished parsing file /Users/mcp/Desktop/spatio_temporal_information_processing/RSVP_visual_now/data/Expt_VI/6_07Dec2018_14-51.csv</pre>"
      ],
      "text/plain": [
       "Finished parsing file /Users/mcp/Desktop/spatio_temporal_information_processing/RSVP_visual_now/data/Expt_VI/6_07Dec2018_14-51.csv"
      ]
     },
     "metadata": {},
     "output_type": "display_data"
    },
    {
     "data": {
      "text/html": [
       "<pre>Parsing completed. Parsed 100 lines in 0.009844 secs.</pre>"
      ],
      "text/plain": [
       "Parsing completed. Parsed 100 lines in 0.009844 secs."
      ]
     },
     "metadata": {},
     "output_type": "display_data"
    },
    {
     "name": "stdout",
     "output_type": "stream",
     "text": [
      "------------------------------------------------------\n",
      "Inferred types from first 100 line(s) of file as \n",
      "column_type_hints=[int,int,int,str,str,int,int,str,str,int,array,float,int]\n",
      "If parsing fails due to incorrect types, you can correct\n",
      "the inferred type list above and pass it to read_csv in\n",
      "the column_type_hints argument\n",
      "------------------------------------------------------\n"
     ]
    },
    {
     "data": {
      "text/html": [
       "<pre>Finished parsing file /Users/mcp/Desktop/spatio_temporal_information_processing/RSVP_visual_now/data/Expt_VI/6_07Dec2018_14-51.csv</pre>"
      ],
      "text/plain": [
       "Finished parsing file /Users/mcp/Desktop/spatio_temporal_information_processing/RSVP_visual_now/data/Expt_VI/6_07Dec2018_14-51.csv"
      ]
     },
     "metadata": {},
     "output_type": "display_data"
    },
    {
     "data": {
      "text/html": [
       "<pre>Parsing completed. Parsed 360 lines in 0.00977 secs.</pre>"
      ],
      "text/plain": [
       "Parsing completed. Parsed 360 lines in 0.00977 secs."
      ]
     },
     "metadata": {},
     "output_type": "display_data"
    },
    {
     "name": "stdout",
     "output_type": "stream",
     "text": [
      "360\n"
     ]
    },
    {
     "data": {
      "text/html": [
       "<pre>Finished parsing file /Users/mcp/Desktop/spatio_temporal_information_processing/RSVP_visual_now/data/Expt_VI/1_07Dec2018_13-59.csv</pre>"
      ],
      "text/plain": [
       "Finished parsing file /Users/mcp/Desktop/spatio_temporal_information_processing/RSVP_visual_now/data/Expt_VI/1_07Dec2018_13-59.csv"
      ]
     },
     "metadata": {},
     "output_type": "display_data"
    },
    {
     "data": {
      "text/html": [
       "<pre>Parsing completed. Parsed 100 lines in 0.010345 secs.</pre>"
      ],
      "text/plain": [
       "Parsing completed. Parsed 100 lines in 0.010345 secs."
      ]
     },
     "metadata": {},
     "output_type": "display_data"
    },
    {
     "name": "stdout",
     "output_type": "stream",
     "text": [
      "------------------------------------------------------\n",
      "Inferred types from first 100 line(s) of file as \n",
      "column_type_hints=[int,int,int,str,str,int,int,str,str,int,array,float,int]\n",
      "If parsing fails due to incorrect types, you can correct\n",
      "the inferred type list above and pass it to read_csv in\n",
      "the column_type_hints argument\n",
      "------------------------------------------------------\n"
     ]
    },
    {
     "data": {
      "text/html": [
       "<pre>Finished parsing file /Users/mcp/Desktop/spatio_temporal_information_processing/RSVP_visual_now/data/Expt_VI/1_07Dec2018_13-59.csv</pre>"
      ],
      "text/plain": [
       "Finished parsing file /Users/mcp/Desktop/spatio_temporal_information_processing/RSVP_visual_now/data/Expt_VI/1_07Dec2018_13-59.csv"
      ]
     },
     "metadata": {},
     "output_type": "display_data"
    },
    {
     "data": {
      "text/html": [
       "<pre>Parsing completed. Parsed 360 lines in 0.010255 secs.</pre>"
      ],
      "text/plain": [
       "Parsing completed. Parsed 360 lines in 0.010255 secs."
      ]
     },
     "metadata": {},
     "output_type": "display_data"
    },
    {
     "name": "stdout",
     "output_type": "stream",
     "text": [
      "360\n"
     ]
    },
    {
     "data": {
      "text/html": [
       "<pre>Finished parsing file /Users/mcp/Desktop/spatio_temporal_information_processing/RSVP_visual_now/data/Expt_VI/14_07Dec2018_16-43.csv</pre>"
      ],
      "text/plain": [
       "Finished parsing file /Users/mcp/Desktop/spatio_temporal_information_processing/RSVP_visual_now/data/Expt_VI/14_07Dec2018_16-43.csv"
      ]
     },
     "metadata": {},
     "output_type": "display_data"
    },
    {
     "data": {
      "text/html": [
       "<pre>Parsing completed. Parsed 100 lines in 0.012821 secs.</pre>"
      ],
      "text/plain": [
       "Parsing completed. Parsed 100 lines in 0.012821 secs."
      ]
     },
     "metadata": {},
     "output_type": "display_data"
    },
    {
     "name": "stdout",
     "output_type": "stream",
     "text": [
      "------------------------------------------------------\n",
      "Inferred types from first 100 line(s) of file as \n",
      "column_type_hints=[int,int,int,str,str,int,int,str,str,int,array,float,int]\n",
      "If parsing fails due to incorrect types, you can correct\n",
      "the inferred type list above and pass it to read_csv in\n",
      "the column_type_hints argument\n",
      "------------------------------------------------------\n"
     ]
    },
    {
     "data": {
      "text/html": [
       "<pre>Finished parsing file /Users/mcp/Desktop/spatio_temporal_information_processing/RSVP_visual_now/data/Expt_VI/14_07Dec2018_16-43.csv</pre>"
      ],
      "text/plain": [
       "Finished parsing file /Users/mcp/Desktop/spatio_temporal_information_processing/RSVP_visual_now/data/Expt_VI/14_07Dec2018_16-43.csv"
      ]
     },
     "metadata": {},
     "output_type": "display_data"
    },
    {
     "data": {
      "text/html": [
       "<pre>Parsing completed. Parsed 360 lines in 0.011457 secs.</pre>"
      ],
      "text/plain": [
       "Parsing completed. Parsed 360 lines in 0.011457 secs."
      ]
     },
     "metadata": {},
     "output_type": "display_data"
    },
    {
     "name": "stdout",
     "output_type": "stream",
     "text": [
      "360\n"
     ]
    },
    {
     "data": {
      "text/html": [
       "<pre>Finished parsing file /Users/mcp/Desktop/spatio_temporal_information_processing/RSVP_visual_now/data/Expt_VI/22_07Dec2018_18-41.csv</pre>"
      ],
      "text/plain": [
       "Finished parsing file /Users/mcp/Desktop/spatio_temporal_information_processing/RSVP_visual_now/data/Expt_VI/22_07Dec2018_18-41.csv"
      ]
     },
     "metadata": {},
     "output_type": "display_data"
    },
    {
     "data": {
      "text/html": [
       "<pre>Parsing completed. Parsed 100 lines in 0.011575 secs.</pre>"
      ],
      "text/plain": [
       "Parsing completed. Parsed 100 lines in 0.011575 secs."
      ]
     },
     "metadata": {},
     "output_type": "display_data"
    },
    {
     "name": "stdout",
     "output_type": "stream",
     "text": [
      "------------------------------------------------------\n",
      "Inferred types from first 100 line(s) of file as \n",
      "column_type_hints=[int,int,int,str,str,int,int,str,str,int,array,float,int]\n",
      "If parsing fails due to incorrect types, you can correct\n",
      "the inferred type list above and pass it to read_csv in\n",
      "the column_type_hints argument\n",
      "------------------------------------------------------\n"
     ]
    },
    {
     "data": {
      "text/html": [
       "<pre>Finished parsing file /Users/mcp/Desktop/spatio_temporal_information_processing/RSVP_visual_now/data/Expt_VI/22_07Dec2018_18-41.csv</pre>"
      ],
      "text/plain": [
       "Finished parsing file /Users/mcp/Desktop/spatio_temporal_information_processing/RSVP_visual_now/data/Expt_VI/22_07Dec2018_18-41.csv"
      ]
     },
     "metadata": {},
     "output_type": "display_data"
    },
    {
     "data": {
      "text/html": [
       "<pre>Parsing completed. Parsed 360 lines in 0.009481 secs.</pre>"
      ],
      "text/plain": [
       "Parsing completed. Parsed 360 lines in 0.009481 secs."
      ]
     },
     "metadata": {},
     "output_type": "display_data"
    },
    {
     "name": "stdout",
     "output_type": "stream",
     "text": [
      "360\n"
     ]
    },
    {
     "data": {
      "text/html": [
       "<pre>Finished parsing file /Users/mcp/Desktop/spatio_temporal_information_processing/RSVP_visual_now/data/Expt_VI/17_07Dec2018_17-26.csv</pre>"
      ],
      "text/plain": [
       "Finished parsing file /Users/mcp/Desktop/spatio_temporal_information_processing/RSVP_visual_now/data/Expt_VI/17_07Dec2018_17-26.csv"
      ]
     },
     "metadata": {},
     "output_type": "display_data"
    },
    {
     "data": {
      "text/html": [
       "<pre>Parsing completed. Parsed 100 lines in 0.011441 secs.</pre>"
      ],
      "text/plain": [
       "Parsing completed. Parsed 100 lines in 0.011441 secs."
      ]
     },
     "metadata": {},
     "output_type": "display_data"
    },
    {
     "name": "stdout",
     "output_type": "stream",
     "text": [
      "------------------------------------------------------\n",
      "Inferred types from first 100 line(s) of file as \n",
      "column_type_hints=[int,int,int,str,str,int,int,str,str,int,array,float,int]\n",
      "If parsing fails due to incorrect types, you can correct\n",
      "the inferred type list above and pass it to read_csv in\n",
      "the column_type_hints argument\n",
      "------------------------------------------------------\n"
     ]
    },
    {
     "data": {
      "text/html": [
       "<pre>Finished parsing file /Users/mcp/Desktop/spatio_temporal_information_processing/RSVP_visual_now/data/Expt_VI/17_07Dec2018_17-26.csv</pre>"
      ],
      "text/plain": [
       "Finished parsing file /Users/mcp/Desktop/spatio_temporal_information_processing/RSVP_visual_now/data/Expt_VI/17_07Dec2018_17-26.csv"
      ]
     },
     "metadata": {},
     "output_type": "display_data"
    },
    {
     "data": {
      "text/html": [
       "<pre>Parsing completed. Parsed 360 lines in 0.009785 secs.</pre>"
      ],
      "text/plain": [
       "Parsing completed. Parsed 360 lines in 0.009785 secs."
      ]
     },
     "metadata": {},
     "output_type": "display_data"
    },
    {
     "name": "stdout",
     "output_type": "stream",
     "text": [
      "360\n"
     ]
    },
    {
     "data": {
      "text/html": [
       "<pre>Finished parsing file /Users/mcp/Desktop/spatio_temporal_information_processing/RSVP_visual_now/data/Expt_VI/9_07Dec2018_15-56.csv</pre>"
      ],
      "text/plain": [
       "Finished parsing file /Users/mcp/Desktop/spatio_temporal_information_processing/RSVP_visual_now/data/Expt_VI/9_07Dec2018_15-56.csv"
      ]
     },
     "metadata": {},
     "output_type": "display_data"
    },
    {
     "data": {
      "text/html": [
       "<pre>Parsing completed. Parsed 100 lines in 0.010909 secs.</pre>"
      ],
      "text/plain": [
       "Parsing completed. Parsed 100 lines in 0.010909 secs."
      ]
     },
     "metadata": {},
     "output_type": "display_data"
    },
    {
     "name": "stdout",
     "output_type": "stream",
     "text": [
      "------------------------------------------------------\n",
      "Inferred types from first 100 line(s) of file as \n",
      "column_type_hints=[int,int,int,str,str,int,int,str,str,int,array,float,int]\n",
      "If parsing fails due to incorrect types, you can correct\n",
      "the inferred type list above and pass it to read_csv in\n",
      "the column_type_hints argument\n",
      "------------------------------------------------------\n"
     ]
    },
    {
     "data": {
      "text/html": [
       "<pre>Finished parsing file /Users/mcp/Desktop/spatio_temporal_information_processing/RSVP_visual_now/data/Expt_VI/9_07Dec2018_15-56.csv</pre>"
      ],
      "text/plain": [
       "Finished parsing file /Users/mcp/Desktop/spatio_temporal_information_processing/RSVP_visual_now/data/Expt_VI/9_07Dec2018_15-56.csv"
      ]
     },
     "metadata": {},
     "output_type": "display_data"
    },
    {
     "data": {
      "text/html": [
       "<pre>Parsing completed. Parsed 360 lines in 0.010879 secs.</pre>"
      ],
      "text/plain": [
       "Parsing completed. Parsed 360 lines in 0.010879 secs."
      ]
     },
     "metadata": {},
     "output_type": "display_data"
    },
    {
     "name": "stdout",
     "output_type": "stream",
     "text": [
      "360\n"
     ]
    },
    {
     "data": {
      "text/html": [
       "<pre>Finished parsing file /Users/mcp/Desktop/spatio_temporal_information_processing/RSVP_visual_now/data/Expt_VI/19_07Dec2018_17-55.csv</pre>"
      ],
      "text/plain": [
       "Finished parsing file /Users/mcp/Desktop/spatio_temporal_information_processing/RSVP_visual_now/data/Expt_VI/19_07Dec2018_17-55.csv"
      ]
     },
     "metadata": {},
     "output_type": "display_data"
    },
    {
     "data": {
      "text/html": [
       "<pre>Parsing completed. Parsed 100 lines in 0.009766 secs.</pre>"
      ],
      "text/plain": [
       "Parsing completed. Parsed 100 lines in 0.009766 secs."
      ]
     },
     "metadata": {},
     "output_type": "display_data"
    },
    {
     "name": "stdout",
     "output_type": "stream",
     "text": [
      "------------------------------------------------------\n",
      "Inferred types from first 100 line(s) of file as \n",
      "column_type_hints=[int,int,int,str,str,int,int,str,str,int,array,float,int]\n",
      "If parsing fails due to incorrect types, you can correct\n",
      "the inferred type list above and pass it to read_csv in\n",
      "the column_type_hints argument\n",
      "------------------------------------------------------\n"
     ]
    },
    {
     "data": {
      "text/html": [
       "<pre>Finished parsing file /Users/mcp/Desktop/spatio_temporal_information_processing/RSVP_visual_now/data/Expt_VI/19_07Dec2018_17-55.csv</pre>"
      ],
      "text/plain": [
       "Finished parsing file /Users/mcp/Desktop/spatio_temporal_information_processing/RSVP_visual_now/data/Expt_VI/19_07Dec2018_17-55.csv"
      ]
     },
     "metadata": {},
     "output_type": "display_data"
    },
    {
     "data": {
      "text/html": [
       "<pre>Parsing completed. Parsed 360 lines in 0.012665 secs.</pre>"
      ],
      "text/plain": [
       "Parsing completed. Parsed 360 lines in 0.012665 secs."
      ]
     },
     "metadata": {},
     "output_type": "display_data"
    },
    {
     "name": "stdout",
     "output_type": "stream",
     "text": [
      "360\n"
     ]
    },
    {
     "data": {
      "text/html": [
       "<pre>Finished parsing file /Users/mcp/Desktop/spatio_temporal_information_processing/RSVP_visual_now/data/Expt_VI/7_07Dec2018_15-30.csv</pre>"
      ],
      "text/plain": [
       "Finished parsing file /Users/mcp/Desktop/spatio_temporal_information_processing/RSVP_visual_now/data/Expt_VI/7_07Dec2018_15-30.csv"
      ]
     },
     "metadata": {},
     "output_type": "display_data"
    },
    {
     "data": {
      "text/html": [
       "<pre>Parsing completed. Parsed 100 lines in 0.010571 secs.</pre>"
      ],
      "text/plain": [
       "Parsing completed. Parsed 100 lines in 0.010571 secs."
      ]
     },
     "metadata": {},
     "output_type": "display_data"
    },
    {
     "name": "stdout",
     "output_type": "stream",
     "text": [
      "------------------------------------------------------\n",
      "Inferred types from first 100 line(s) of file as \n",
      "column_type_hints=[int,int,int,str,str,int,int,str,str,int,array,float,int]\n",
      "If parsing fails due to incorrect types, you can correct\n",
      "the inferred type list above and pass it to read_csv in\n",
      "the column_type_hints argument\n",
      "------------------------------------------------------\n"
     ]
    },
    {
     "data": {
      "text/html": [
       "<pre>Finished parsing file /Users/mcp/Desktop/spatio_temporal_information_processing/RSVP_visual_now/data/Expt_VI/7_07Dec2018_15-30.csv</pre>"
      ],
      "text/plain": [
       "Finished parsing file /Users/mcp/Desktop/spatio_temporal_information_processing/RSVP_visual_now/data/Expt_VI/7_07Dec2018_15-30.csv"
      ]
     },
     "metadata": {},
     "output_type": "display_data"
    },
    {
     "data": {
      "text/html": [
       "<pre>Parsing completed. Parsed 360 lines in 0.010565 secs.</pre>"
      ],
      "text/plain": [
       "Parsing completed. Parsed 360 lines in 0.010565 secs."
      ]
     },
     "metadata": {},
     "output_type": "display_data"
    },
    {
     "name": "stdout",
     "output_type": "stream",
     "text": [
      "360\n"
     ]
    },
    {
     "data": {
      "text/html": [
       "<pre>Finished parsing file /Users/mcp/Desktop/spatio_temporal_information_processing/RSVP_visual_now/data/Expt_VI/18_07Dec2018_17-50.csv</pre>"
      ],
      "text/plain": [
       "Finished parsing file /Users/mcp/Desktop/spatio_temporal_information_processing/RSVP_visual_now/data/Expt_VI/18_07Dec2018_17-50.csv"
      ]
     },
     "metadata": {},
     "output_type": "display_data"
    },
    {
     "data": {
      "text/html": [
       "<pre>Parsing completed. Parsed 100 lines in 0.011892 secs.</pre>"
      ],
      "text/plain": [
       "Parsing completed. Parsed 100 lines in 0.011892 secs."
      ]
     },
     "metadata": {},
     "output_type": "display_data"
    },
    {
     "name": "stdout",
     "output_type": "stream",
     "text": [
      "------------------------------------------------------\n",
      "Inferred types from first 100 line(s) of file as \n",
      "column_type_hints=[int,int,int,str,str,int,int,str,str,int,array,float,int]\n",
      "If parsing fails due to incorrect types, you can correct\n",
      "the inferred type list above and pass it to read_csv in\n",
      "the column_type_hints argument\n",
      "------------------------------------------------------\n"
     ]
    },
    {
     "data": {
      "text/html": [
       "<pre>Finished parsing file /Users/mcp/Desktop/spatio_temporal_information_processing/RSVP_visual_now/data/Expt_VI/18_07Dec2018_17-50.csv</pre>"
      ],
      "text/plain": [
       "Finished parsing file /Users/mcp/Desktop/spatio_temporal_information_processing/RSVP_visual_now/data/Expt_VI/18_07Dec2018_17-50.csv"
      ]
     },
     "metadata": {},
     "output_type": "display_data"
    },
    {
     "data": {
      "text/html": [
       "<pre>Parsing completed. Parsed 360 lines in 0.01091 secs.</pre>"
      ],
      "text/plain": [
       "Parsing completed. Parsed 360 lines in 0.01091 secs."
      ]
     },
     "metadata": {},
     "output_type": "display_data"
    },
    {
     "name": "stdout",
     "output_type": "stream",
     "text": [
      "360\n"
     ]
    },
    {
     "data": {
      "text/html": [
       "<pre>Finished parsing file /Users/mcp/Desktop/spatio_temporal_information_processing/RSVP_visual_now/data/Expt_VI/15_07Dec2018_17-21.csv</pre>"
      ],
      "text/plain": [
       "Finished parsing file /Users/mcp/Desktop/spatio_temporal_information_processing/RSVP_visual_now/data/Expt_VI/15_07Dec2018_17-21.csv"
      ]
     },
     "metadata": {},
     "output_type": "display_data"
    },
    {
     "data": {
      "text/html": [
       "<pre>Parsing completed. Parsed 100 lines in 0.010621 secs.</pre>"
      ],
      "text/plain": [
       "Parsing completed. Parsed 100 lines in 0.010621 secs."
      ]
     },
     "metadata": {},
     "output_type": "display_data"
    },
    {
     "name": "stdout",
     "output_type": "stream",
     "text": [
      "------------------------------------------------------\n",
      "Inferred types from first 100 line(s) of file as \n",
      "column_type_hints=[int,int,int,str,str,int,int,str,str,int,array,float,int]\n",
      "If parsing fails due to incorrect types, you can correct\n",
      "the inferred type list above and pass it to read_csv in\n",
      "the column_type_hints argument\n",
      "------------------------------------------------------\n"
     ]
    },
    {
     "data": {
      "text/html": [
       "<pre>Finished parsing file /Users/mcp/Desktop/spatio_temporal_information_processing/RSVP_visual_now/data/Expt_VI/15_07Dec2018_17-21.csv</pre>"
      ],
      "text/plain": [
       "Finished parsing file /Users/mcp/Desktop/spatio_temporal_information_processing/RSVP_visual_now/data/Expt_VI/15_07Dec2018_17-21.csv"
      ]
     },
     "metadata": {},
     "output_type": "display_data"
    },
    {
     "data": {
      "text/html": [
       "<pre>Parsing completed. Parsed 360 lines in 0.01071 secs.</pre>"
      ],
      "text/plain": [
       "Parsing completed. Parsed 360 lines in 0.01071 secs."
      ]
     },
     "metadata": {},
     "output_type": "display_data"
    },
    {
     "name": "stdout",
     "output_type": "stream",
     "text": [
      "360\n"
     ]
    },
    {
     "data": {
      "text/html": [
       "<pre>Finished parsing file /Users/mcp/Desktop/spatio_temporal_information_processing/RSVP_visual_now/data/Expt_VI/16_07Dec2018_17-23.csv</pre>"
      ],
      "text/plain": [
       "Finished parsing file /Users/mcp/Desktop/spatio_temporal_information_processing/RSVP_visual_now/data/Expt_VI/16_07Dec2018_17-23.csv"
      ]
     },
     "metadata": {},
     "output_type": "display_data"
    },
    {
     "data": {
      "text/html": [
       "<pre>Parsing completed. Parsed 100 lines in 0.010977 secs.</pre>"
      ],
      "text/plain": [
       "Parsing completed. Parsed 100 lines in 0.010977 secs."
      ]
     },
     "metadata": {},
     "output_type": "display_data"
    },
    {
     "name": "stdout",
     "output_type": "stream",
     "text": [
      "------------------------------------------------------\n",
      "Inferred types from first 100 line(s) of file as \n",
      "column_type_hints=[int,int,int,str,str,int,int,str,str,int,array,float,int]\n",
      "If parsing fails due to incorrect types, you can correct\n",
      "the inferred type list above and pass it to read_csv in\n",
      "the column_type_hints argument\n",
      "------------------------------------------------------\n"
     ]
    },
    {
     "data": {
      "text/html": [
       "<pre>Finished parsing file /Users/mcp/Desktop/spatio_temporal_information_processing/RSVP_visual_now/data/Expt_VI/16_07Dec2018_17-23.csv</pre>"
      ],
      "text/plain": [
       "Finished parsing file /Users/mcp/Desktop/spatio_temporal_information_processing/RSVP_visual_now/data/Expt_VI/16_07Dec2018_17-23.csv"
      ]
     },
     "metadata": {},
     "output_type": "display_data"
    },
    {
     "data": {
      "text/html": [
       "<pre>Parsing completed. Parsed 360 lines in 0.009851 secs.</pre>"
      ],
      "text/plain": [
       "Parsing completed. Parsed 360 lines in 0.009851 secs."
      ]
     },
     "metadata": {},
     "output_type": "display_data"
    },
    {
     "name": "stdout",
     "output_type": "stream",
     "text": [
      "360\n"
     ]
    },
    {
     "data": {
      "text/html": [
       "<pre>Finished parsing file /Users/mcp/Desktop/spatio_temporal_information_processing/RSVP_visual_now/data/Expt_VI/5_07Dec2018_14-48.csv</pre>"
      ],
      "text/plain": [
       "Finished parsing file /Users/mcp/Desktop/spatio_temporal_information_processing/RSVP_visual_now/data/Expt_VI/5_07Dec2018_14-48.csv"
      ]
     },
     "metadata": {},
     "output_type": "display_data"
    },
    {
     "data": {
      "text/html": [
       "<pre>Parsing completed. Parsed 100 lines in 0.011508 secs.</pre>"
      ],
      "text/plain": [
       "Parsing completed. Parsed 100 lines in 0.011508 secs."
      ]
     },
     "metadata": {},
     "output_type": "display_data"
    },
    {
     "name": "stdout",
     "output_type": "stream",
     "text": [
      "------------------------------------------------------\n",
      "Inferred types from first 100 line(s) of file as \n",
      "column_type_hints=[int,int,int,str,str,int,int,str,str,int,array,float,int]\n",
      "If parsing fails due to incorrect types, you can correct\n",
      "the inferred type list above and pass it to read_csv in\n",
      "the column_type_hints argument\n",
      "------------------------------------------------------\n"
     ]
    },
    {
     "data": {
      "text/html": [
       "<pre>Finished parsing file /Users/mcp/Desktop/spatio_temporal_information_processing/RSVP_visual_now/data/Expt_VI/5_07Dec2018_14-48.csv</pre>"
      ],
      "text/plain": [
       "Finished parsing file /Users/mcp/Desktop/spatio_temporal_information_processing/RSVP_visual_now/data/Expt_VI/5_07Dec2018_14-48.csv"
      ]
     },
     "metadata": {},
     "output_type": "display_data"
    },
    {
     "data": {
      "text/html": [
       "<pre>Parsing completed. Parsed 360 lines in 0.010423 secs.</pre>"
      ],
      "text/plain": [
       "Parsing completed. Parsed 360 lines in 0.010423 secs."
      ]
     },
     "metadata": {},
     "output_type": "display_data"
    },
    {
     "name": "stdout",
     "output_type": "stream",
     "text": [
      "360\n"
     ]
    },
    {
     "data": {
      "text/html": [
       "<pre>Finished parsing file /Users/mcp/Desktop/spatio_temporal_information_processing/RSVP_visual_now/data/Expt_VI/11_07Dec2018_16-06.csv</pre>"
      ],
      "text/plain": [
       "Finished parsing file /Users/mcp/Desktop/spatio_temporal_information_processing/RSVP_visual_now/data/Expt_VI/11_07Dec2018_16-06.csv"
      ]
     },
     "metadata": {},
     "output_type": "display_data"
    },
    {
     "data": {
      "text/html": [
       "<pre>Parsing completed. Parsed 100 lines in 0.012145 secs.</pre>"
      ],
      "text/plain": [
       "Parsing completed. Parsed 100 lines in 0.012145 secs."
      ]
     },
     "metadata": {},
     "output_type": "display_data"
    },
    {
     "name": "stdout",
     "output_type": "stream",
     "text": [
      "------------------------------------------------------\n",
      "Inferred types from first 100 line(s) of file as \n",
      "column_type_hints=[int,int,int,str,str,int,int,str,str,int,array,float,int]\n",
      "If parsing fails due to incorrect types, you can correct\n",
      "the inferred type list above and pass it to read_csv in\n",
      "the column_type_hints argument\n",
      "------------------------------------------------------\n"
     ]
    },
    {
     "data": {
      "text/html": [
       "<pre>Finished parsing file /Users/mcp/Desktop/spatio_temporal_information_processing/RSVP_visual_now/data/Expt_VI/11_07Dec2018_16-06.csv</pre>"
      ],
      "text/plain": [
       "Finished parsing file /Users/mcp/Desktop/spatio_temporal_information_processing/RSVP_visual_now/data/Expt_VI/11_07Dec2018_16-06.csv"
      ]
     },
     "metadata": {},
     "output_type": "display_data"
    },
    {
     "data": {
      "text/html": [
       "<pre>Parsing completed. Parsed 360 lines in 0.010888 secs.</pre>"
      ],
      "text/plain": [
       "Parsing completed. Parsed 360 lines in 0.010888 secs."
      ]
     },
     "metadata": {},
     "output_type": "display_data"
    },
    {
     "name": "stdout",
     "output_type": "stream",
     "text": [
      "360\n"
     ]
    },
    {
     "data": {
      "text/html": [
       "<pre>Finished parsing file /Users/mcp/Desktop/spatio_temporal_information_processing/RSVP_visual_now/data/Expt_VI/2_07Dec2018_14-10.csv</pre>"
      ],
      "text/plain": [
       "Finished parsing file /Users/mcp/Desktop/spatio_temporal_information_processing/RSVP_visual_now/data/Expt_VI/2_07Dec2018_14-10.csv"
      ]
     },
     "metadata": {},
     "output_type": "display_data"
    },
    {
     "data": {
      "text/html": [
       "<pre>Parsing completed. Parsed 100 lines in 0.011278 secs.</pre>"
      ],
      "text/plain": [
       "Parsing completed. Parsed 100 lines in 0.011278 secs."
      ]
     },
     "metadata": {},
     "output_type": "display_data"
    },
    {
     "name": "stdout",
     "output_type": "stream",
     "text": [
      "------------------------------------------------------\n",
      "Inferred types from first 100 line(s) of file as \n",
      "column_type_hints=[int,int,int,str,str,int,int,str,str,int,array,float,int]\n",
      "If parsing fails due to incorrect types, you can correct\n",
      "the inferred type list above and pass it to read_csv in\n",
      "the column_type_hints argument\n",
      "------------------------------------------------------\n"
     ]
    },
    {
     "data": {
      "text/html": [
       "<pre>Finished parsing file /Users/mcp/Desktop/spatio_temporal_information_processing/RSVP_visual_now/data/Expt_VI/2_07Dec2018_14-10.csv</pre>"
      ],
      "text/plain": [
       "Finished parsing file /Users/mcp/Desktop/spatio_temporal_information_processing/RSVP_visual_now/data/Expt_VI/2_07Dec2018_14-10.csv"
      ]
     },
     "metadata": {},
     "output_type": "display_data"
    },
    {
     "data": {
      "text/html": [
       "<pre>Parsing completed. Parsed 360 lines in 0.009969 secs.</pre>"
      ],
      "text/plain": [
       "Parsing completed. Parsed 360 lines in 0.009969 secs."
      ]
     },
     "metadata": {},
     "output_type": "display_data"
    },
    {
     "name": "stdout",
     "output_type": "stream",
     "text": [
      "360\n"
     ]
    },
    {
     "data": {
      "text/html": [
       "<pre>Finished parsing file /Users/mcp/Desktop/spatio_temporal_information_processing/RSVP_visual_now/data/Expt_VI/21_07Dec2018_18-24.csv</pre>"
      ],
      "text/plain": [
       "Finished parsing file /Users/mcp/Desktop/spatio_temporal_information_processing/RSVP_visual_now/data/Expt_VI/21_07Dec2018_18-24.csv"
      ]
     },
     "metadata": {},
     "output_type": "display_data"
    },
    {
     "data": {
      "text/html": [
       "<pre>Parsing completed. Parsed 100 lines in 0.010712 secs.</pre>"
      ],
      "text/plain": [
       "Parsing completed. Parsed 100 lines in 0.010712 secs."
      ]
     },
     "metadata": {},
     "output_type": "display_data"
    },
    {
     "name": "stdout",
     "output_type": "stream",
     "text": [
      "------------------------------------------------------\n",
      "Inferred types from first 100 line(s) of file as \n",
      "column_type_hints=[int,int,int,str,str,int,int,str,str,int,array,float,int]\n",
      "If parsing fails due to incorrect types, you can correct\n",
      "the inferred type list above and pass it to read_csv in\n",
      "the column_type_hints argument\n",
      "------------------------------------------------------\n"
     ]
    },
    {
     "data": {
      "text/html": [
       "<pre>Finished parsing file /Users/mcp/Desktop/spatio_temporal_information_processing/RSVP_visual_now/data/Expt_VI/21_07Dec2018_18-24.csv</pre>"
      ],
      "text/plain": [
       "Finished parsing file /Users/mcp/Desktop/spatio_temporal_information_processing/RSVP_visual_now/data/Expt_VI/21_07Dec2018_18-24.csv"
      ]
     },
     "metadata": {},
     "output_type": "display_data"
    },
    {
     "data": {
      "text/html": [
       "<pre>Parsing completed. Parsed 360 lines in 0.010775 secs.</pre>"
      ],
      "text/plain": [
       "Parsing completed. Parsed 360 lines in 0.010775 secs."
      ]
     },
     "metadata": {},
     "output_type": "display_data"
    },
    {
     "name": "stdout",
     "output_type": "stream",
     "text": [
      "360\n"
     ]
    },
    {
     "data": {
      "text/plain": [
       "8280"
      ]
     },
     "execution_count": 3,
     "metadata": {},
     "output_type": "execute_result"
    }
   ],
   "source": [
    "data = tc.SFrame.read_csv(file_list[0])\n",
    "print(len(data))\n",
    "temp = data\n",
    "for i in range(1,len(file_list)):\n",
    "    temp = tc.SFrame.read_csv(file_list[i])\n",
    "    print(len(temp))\n",
    "    data = data.append(temp)\n",
    "len(data)"
   ]
  },
  {
   "cell_type": "code",
   "execution_count": 4,
   "metadata": {},
   "outputs": [
    {
     "data": {
      "text/plain": [
       "23.0"
      ]
     },
     "execution_count": 4,
     "metadata": {},
     "output_type": "execute_result"
    }
   ],
   "source": [
    "len(data)/360."
   ]
  },
  {
   "cell_type": "code",
   "execution_count": 5,
   "metadata": {},
   "outputs": [],
   "source": [
    "data['freq1'] = data.apply(lambda x: 1 if x['response0']=='B' else 0)\n",
    "data['freq2'] = data.apply(lambda x: 1 if x['response0']=='G' else 0)"
   ]
  },
  {
   "cell_type": "code",
   "execution_count": 12,
   "metadata": {},
   "outputs": [
    {
     "data": {
      "text/html": [
       "<pre>Materializing SFrame</pre>"
      ],
      "text/plain": [
       "Materializing SFrame"
      ]
     },
     "metadata": {},
     "output_type": "display_data"
    },
    {
     "data": {
      "text/html": [
       "<pre>Materializing SFrame</pre>"
      ],
      "text/plain": [
       "Materializing SFrame"
      ]
     },
     "metadata": {},
     "output_type": "display_data"
    }
   ],
   "source": [
    "import turicreate.aggregate as agg\n",
    "data['lag'] = data['answerPos1']-data['answerPos0']\n",
    "data.explore()\n",
    "pcfData = data.groupby(['lag','cueEccentricity'],operations = {'p1':agg.MEAN('freq1'), 'p2':agg.MEAN('freq2')})\n",
    "pcfData.explore()"
   ]
  },
  {
   "cell_type": "code",
   "execution_count": 13,
   "metadata": {},
   "outputs": [
    {
     "data": {
      "text/plain": [
       "dtype: float\n",
       "Rows: 4\n",
       "[6.5, 9.0, 3.0, 1.5]"
      ]
     },
     "execution_count": 13,
     "metadata": {},
     "output_type": "execute_result"
    }
   ],
   "source": [
    "pcfData['cueEccentricity'].unique()"
   ]
  },
  {
   "cell_type": "code",
   "execution_count": 14,
   "metadata": {},
   "outputs": [],
   "source": [
    "pcfData_1 = pcfData.filter_by([3.0,9.0],'cueEccentricity')\n",
    "pcfData_2 = pcfData.filter_by([1.5,6.5],'cueEccentricity')"
   ]
  },
  {
   "cell_type": "code",
   "execution_count": 15,
   "metadata": {},
   "outputs": [
    {
     "name": "stdout",
     "output_type": "stream",
     "text": [
      "This is the format of your plot grid:\n",
      "[ (1,1) x1,y1 ]\n",
      "\n"
     ]
    },
    {
     "data": {
      "text/html": [
       "<iframe id=\"igraph\" scrolling=\"no\" style=\"border:none;\" seamless=\"seamless\" src=\"https://plot.ly/~adiboy_123/945.embed\" height=\"525px\" width=\"100%\"></iframe>"
      ],
      "text/plain": [
       "<plotly.tools.PlotlyDisplay object>"
      ]
     },
     "execution_count": 15,
     "metadata": {},
     "output_type": "execute_result"
    }
   ],
   "source": [
    "import plotly\n",
    "plotly.tools.set_credentials_file(username='adiboy_123', api_key='Nt7os1ZWrofWC47r5xLG')\n",
    "pcfData_1 = pcfData_1.sort(['cueEccentricity','lag'])\n",
    "trace_data = []\n",
    "line_data = []\n",
    "import colorlover as cl\n",
    "from plotly import tools\n",
    "colors = cl.scales['3']['seq']['YlOrRd']\n",
    "for j,ecc in enumerate(pcfData_1['cueEccentricity'].unique().sort()):\n",
    "        ecc_data = pcfData_1[pcfData_1['cueEccentricity']==ecc]\n",
    "        ecc_data = ecc_data.sort('lag')\n",
    "        trace_data.append(go.Scatter(x = ecc_data['lag'].to_numpy(), \n",
    "                                  y = 1-ecc_data['p2'].to_numpy(),name = str(ecc) + 'deg', \n",
    "                                     opacity = 1, marker = dict(color = colors[j]), mode='markers+lines',line = dict(width = 3)))\n",
    "\n",
    "line_data.append(go.Scatter(x = np.linspace(0.5,3.5,100),\n",
    "                           y = np.ones(100)*0.5, mode='lines', line=dict(width = 2, color = 'gray'), opacity = 0.5))\n",
    "fig = tools.make_subplots(rows=1, cols=1)\n",
    "fig['layout'].update(barmode='group', title = 'psychometric curve - '+str(len(data)/360)+' participants. One dot always in the fixation')\n",
    "fig['layout']['xaxis1'].update(title='positional lag of green wrt blue')\n",
    "fig['layout']['yaxis1'].update(title='Prob. green flashed later')\n",
    "for i in range(2):\n",
    "    fig.add_trace(trace_data[i], 1, 1)\n",
    "fig.append_trace(line_data[0], 1, 1)\n",
    "py.iplot(fig, filename='pcf_visual_now_one_dot_fixation')"
   ]
  },
  {
   "cell_type": "code",
   "execution_count": 16,
   "metadata": {},
   "outputs": [
    {
     "name": "stdout",
     "output_type": "stream",
     "text": [
      "This is the format of your plot grid:\n",
      "[ (1,1) x1,y1 ]\n",
      "\n"
     ]
    },
    {
     "data": {
      "text/html": [
       "<iframe id=\"igraph\" scrolling=\"no\" style=\"border:none;\" seamless=\"seamless\" src=\"https://plot.ly/~adiboy_123/943.embed\" height=\"525px\" width=\"100%\"></iframe>"
      ],
      "text/plain": [
       "<plotly.tools.PlotlyDisplay object>"
      ]
     },
     "execution_count": 16,
     "metadata": {},
     "output_type": "execute_result"
    }
   ],
   "source": [
    "pcfData_2 = pcfData_2.sort(['cueEccentricity','lag'])\n",
    "trace_data = []\n",
    "line_data = []\n",
    "import colorlover as cl\n",
    "from plotly import tools\n",
    "colors = cl.scales['3']['seq']['YlOrRd']\n",
    "for j,ecc in enumerate(pcfData_2['cueEccentricity'].unique().sort()):\n",
    "        ecc_data = pcfData_2[pcfData_2['cueEccentricity']==ecc]\n",
    "        trace_data.append(go.Scatter(x = ecc_data['lag'].to_numpy(), \n",
    "                                  y = 1-ecc_data['p2'].to_numpy(),name = str(ecc) + ' * 2 deg', \n",
    "                                     opacity = 1, marker = dict(color = colors[j]), mode='markers+lines',\n",
    "                                    line = dict(width = 3)))\n",
    "line_data.append(go.Scatter(x = np.linspace(0.5,3.5,100),\n",
    "                           y = np.ones(100)*0.5, mode='lines', line=dict(width = 2, color = 'gray'), opacity = 0.5))        \n",
    "fig = tools.make_subplots(rows=1, cols=1)\n",
    "fig['layout'].update(barmode='group', title = 'psychometric curve - '+str(len(data)/360)+' participants. Both dots are equidistant from fixation point.')\n",
    "fig['layout']['xaxis1'].update(title='positional lag of green wrt blue')\n",
    "fig['layout']['yaxis1'].update(title='Prob. green flashed later')\n",
    "for i in range(2):\n",
    "    fig.append_trace(trace_data[i], 1, 1)\n",
    "fig.append_trace(line_data[0], 1, 1)\n",
    "py.iplot(fig, filename='pcf_visual_now')"
   ]
  },
  {
   "cell_type": "code",
   "execution_count": 19,
   "metadata": {},
   "outputs": [
    {
     "data": {
      "text/plain": [
       "\n",
       "+--------------------+---------------------+----------+\n",
       "|        item        |        value        | is exact |\n",
       "+--------------------+---------------------+----------+\n",
       "|       Length       |          18         |   Yes    |\n",
       "|        Min         |  0.1260869565217391 |   Yes    |\n",
       "|        Max         |  0.9086956521739128 |   Yes    |\n",
       "|        Mean        |  0.6413043478260869 |   Yes    |\n",
       "|        Sum         |  11.543478260869565 |   Yes    |\n",
       "|      Variance      | 0.06117044738500315 |   Yes    |\n",
       "| Standard Deviation |  0.2473266006417489 |   Yes    |\n",
       "|  # Missing Values  |          0          |   Yes    |\n",
       "|  # unique values   |          18         |    No    |\n",
       "+--------------------+---------------------+----------+\n",
       "\n",
       "Most frequent items:\n",
       "+---------------------+-------+\n",
       "|        value        | count |\n",
       "+---------------------+-------+\n",
       "|  0.2695652173913043 |   1   |\n",
       "|  0.8782608695652171 |   1   |\n",
       "|  0.7347826086956519 |   1   |\n",
       "|  0.9000000000000001 |   1   |\n",
       "|  0.1260869565217391 |   1   |\n",
       "|  0.830434782608696  |   1   |\n",
       "| 0.17391304347826092 |   1   |\n",
       "|  0.9086956521739128 |   1   |\n",
       "|  0.5043478260869566 |   1   |\n",
       "|  0.8608695652173914 |   1   |\n",
       "+---------------------+-------+\n",
       "\n",
       "Quantiles: \n",
       "+--------------------+--------------------+--------------------+\n",
       "|         0%         |         1%         |         5%         |\n",
       "+--------------------+--------------------+--------------------+\n",
       "| 0.1260869565217391 | 0.1260869565217391 | 0.1260869565217391 |\n",
       "+--------------------+--------------------+--------------------+\n",
       "+--------------------+--------------------+--------------------+\n",
       "|        25%         |        50%         |        75%         |\n",
       "+--------------------+--------------------+--------------------+\n",
       "| 0.5043478260869566 | 0.7347826086956519 | 0.8521739130434788 |\n",
       "+--------------------+--------------------+--------------------+\n",
       "+--------------------+--------------------+--------------------+\n",
       "|        95%         |        99%         |        100%        |\n",
       "+--------------------+--------------------+--------------------+\n",
       "| 0.9086956521739128 | 0.9086956521739128 | 0.9086956521739128 |\n",
       "+--------------------+--------------------+--------------------+"
      ]
     },
     "execution_count": 19,
     "metadata": {},
     "output_type": "execute_result"
    }
   ],
   "source": [
    "tc.Sketch(pcfData_1['p2'])"
   ]
  },
  {
   "cell_type": "code",
   "execution_count": 6,
   "metadata": {},
   "outputs": [],
   "source": [
    "from sklearn.neighbors import KernelDensity\n",
    "from scipy.stats import gaussian_kde"
   ]
  },
  {
   "cell_type": "code",
   "execution_count": 54,
   "metadata": {},
   "outputs": [
    {
     "ename": "NameError",
     "evalue": "name 'cuePosdata' is not defined",
     "output_type": "error",
     "traceback": [
      "\u001b[0;31m---------------------------------------------------------------------------\u001b[0m",
      "\u001b[0;31mNameError\u001b[0m                                 Traceback (most recent call last)",
      "\u001b[0;32m<ipython-input-54-742c79289ec0>\u001b[0m in \u001b[0;36m<module>\u001b[0;34m()\u001b[0m\n\u001b[1;32m      3\u001b[0m \u001b[0mdistributions\u001b[0m \u001b[0;34m=\u001b[0m \u001b[0;34m[\u001b[0m\u001b[0;34m]\u001b[0m\u001b[0;34m\u001b[0m\u001b[0m\n\u001b[1;32m      4\u001b[0m \u001b[0mfill_colors\u001b[0m \u001b[0;34m=\u001b[0m \u001b[0;34m[\u001b[0m\u001b[0;34m'rgba(255,237,160,0.2)'\u001b[0m\u001b[0;34m,\u001b[0m \u001b[0;34m'rgba(254,178,76,0.2)'\u001b[0m\u001b[0;34m,\u001b[0m \u001b[0;34m'rgba(240,59,32,0.2)'\u001b[0m\u001b[0;34m]\u001b[0m\u001b[0;34m\u001b[0m\u001b[0m\n\u001b[0;32m----> 5\u001b[0;31m \u001b[0;32mfor\u001b[0m \u001b[0mj\u001b[0m\u001b[0;34m,\u001b[0m\u001b[0mecc\u001b[0m \u001b[0;32min\u001b[0m \u001b[0menumerate\u001b[0m\u001b[0;34m(\u001b[0m\u001b[0mcuePosdata\u001b[0m\u001b[0;34m[\u001b[0m\u001b[0;34m'cueEccentricity1'\u001b[0m\u001b[0;34m]\u001b[0m\u001b[0;34m.\u001b[0m\u001b[0munique\u001b[0m\u001b[0;34m(\u001b[0m\u001b[0;34m)\u001b[0m\u001b[0;34m.\u001b[0m\u001b[0msort\u001b[0m\u001b[0;34m(\u001b[0m\u001b[0;34m)\u001b[0m\u001b[0;34m)\u001b[0m\u001b[0;34m:\u001b[0m\u001b[0;34m\u001b[0m\u001b[0m\n\u001b[0m\u001b[1;32m      6\u001b[0m         \u001b[0mecc_data\u001b[0m \u001b[0;34m=\u001b[0m \u001b[0mcuePosdata\u001b[0m\u001b[0;34m[\u001b[0m\u001b[0mcuePosdata\u001b[0m\u001b[0;34m[\u001b[0m\u001b[0;34m'cueEccentricity1'\u001b[0m\u001b[0;34m]\u001b[0m\u001b[0;34m==\u001b[0m\u001b[0mecc\u001b[0m\u001b[0;34m]\u001b[0m\u001b[0;34m\u001b[0m\u001b[0m\n\u001b[1;32m      7\u001b[0m         \u001b[0mX\u001b[0m \u001b[0;34m=\u001b[0m \u001b[0mecc_data\u001b[0m\u001b[0;34m[\u001b[0m\u001b[0;34m'responsePosRelative0'\u001b[0m\u001b[0;34m]\u001b[0m\u001b[0;34m.\u001b[0m\u001b[0mto_numpy\u001b[0m\u001b[0;34m(\u001b[0m\u001b[0;34m)\u001b[0m\u001b[0;34m\u001b[0m\u001b[0m\n",
      "\u001b[0;31mNameError\u001b[0m: name 'cuePosdata' is not defined"
     ]
    }
   ],
   "source": [
    "X_plot = np.linspace(-10, 10, 10000)\n",
    "trace_data = []\n",
    "distributions = []\n",
    "fill_colors = ['rgba(255,237,160,0.2)', 'rgba(254,178,76,0.2)', 'rgba(240,59,32,0.2)']\n",
    "for j,ecc in enumerate(cuePosdata['cueEccentricity1'].unique().sort()):\n",
    "        ecc_data = cuePosdata[cuePosdata['cueEccentricity1']==ecc]\n",
    "        X = ecc_data['responsePosRelative0'].to_numpy()\n",
    "        # Gaussian KDE\n",
    "        #kde = KernelDensity(kernel='gaussian').fit(X)\n",
    "        kde = gaussian_kde(X)\n",
    "        log_dens = kde(X_plot)\n",
    "        distributions.append({'ecc' : ecc, 'dist' : X, 'dens': log_dens})\n",
    "        trace_data.append(go.Scatter(x = X_plot, y = log_dens,\n",
    "                                  mode='lines', fill = 'tozeroy', fillcolor = fill_colors[j], name = str(ecc) + 'deg', line = dict(color = colors[j], width = 2) ))\n",
    "        \n",
    "fig = tools.make_subplots(rows=1, cols=1)\n",
    "fig['layout'].update(barmode='group', title = 'performance in RSVP visual now task for different cue positions - '+str(len(data)/280)+' participants - ISI (73 msec)')\n",
    "fig['layout']['xaxis1'].update(title='position of reported item relative to the true item')\n",
    "fig['layout']['yaxis1'].update(title='Probability', range = [0,0.8])\n",
    "for i in range(2):\n",
    "    fig.append_trace(trace_data[i], 1, 1)\n",
    "py.iplot(fig, filename='RSVP_visual_now_grouped')\n"
   ]
  },
  {
   "cell_type": "code",
   "execution_count": 8,
   "metadata": {},
   "outputs": [
    {
     "name": "stdout",
     "output_type": "stream",
     "text": [
      "Eccentricity: 2\n",
      "excess kurtosis of normal distribution (should be 0): 5.32638655219\n",
      "skewness of normal distribution (should be 0): 2.53956852051\n",
      "\n",
      "\n",
      "Eccentricity: 6\n",
      "excess kurtosis of normal distribution (should be 0): 3.05048991029\n",
      "skewness of normal distribution (should be 0): 2.09537904708\n",
      "\n",
      "\n",
      "Eccentricity: 10\n",
      "excess kurtosis of normal distribution (should be 0): 2.69692016\n",
      "skewness of normal distribution (should be 0): 2.0113438325\n",
      "\n",
      "\n"
     ]
    }
   ],
   "source": [
    "import numpy as np\n",
    "from scipy.stats import kurtosis, skew\n",
    "\n",
    "for x in distributions:\n",
    "    print( 'Eccentricity: {}'.format( x['ecc']))\n",
    "    print( 'excess kurtosis of normal distribution (should be 0): {}'.format( kurtosis(x['dens']) ))\n",
    "    print( 'skewness of normal distribution (should be 0): {}'.format( skew(x['dens']) ))\n",
    "    print( '\\n')"
   ]
  },
  {
   "cell_type": "code",
   "execution_count": 9,
   "metadata": {},
   "outputs": [
    {
     "name": "stdout",
     "output_type": "stream",
     "text": [
      "                           sum_sq      df         F    PR(>F)\n",
      "C(cueEccentricity1)    110.326667     2.0  7.398213  0.000618\n",
      "Residual             46952.351905  6297.0       NaN       NaN\n"
     ]
    }
   ],
   "source": [
    "import statsmodels.api as sm\n",
    "from statsmodels.formula.api import ols\n",
    "\n",
    "hsb = data.to_dataframe()\n",
    "mod = ols('responsePosRelative0 ~ C(cueEccentricity1)',\n",
    "                data=hsb).fit()\n",
    "                \n",
    "aov_table = sm.stats.anova_lm(mod, typ=2)\n",
    "print aov_table"
   ]
  },
  {
   "cell_type": "code",
   "execution_count": 10,
   "metadata": {},
   "outputs": [
    {
     "name": "stdout",
     "output_type": "stream",
     "text": [
      "Ecc:2 vs.Ecc:6\n"
     ]
    },
    {
     "data": {
      "text/plain": [
       "Ttest_indResult(statistic=2.524027281944094, pvalue=0.011675146021107764)"
      ]
     },
     "execution_count": 10,
     "metadata": {},
     "output_type": "execute_result"
    }
   ],
   "source": [
    "print('Ecc:{}'.format(distributions[0]['ecc'])+' vs.'+ 'Ecc:{}'.format(distributions[1]['ecc']))\n",
    "scipy.stats.ttest_ind(distributions[0]['dist'], distributions[1]['dist'],axis =0, equal_var=True)"
   ]
  },
  {
   "cell_type": "code",
   "execution_count": 11,
   "metadata": {},
   "outputs": [
    {
     "name": "stdout",
     "output_type": "stream",
     "text": [
      "Ecc:2 vs.Ecc:10\n"
     ]
    },
    {
     "data": {
      "text/plain": [
       "Ttest_indResult(statistic=2.6030503500762427, pvalue=0.009304938329588968)"
      ]
     },
     "execution_count": 11,
     "metadata": {},
     "output_type": "execute_result"
    }
   ],
   "source": [
    "print('Ecc:{}'.format(distributions[0]['ecc'])+' vs.'+ 'Ecc:{}'.format(distributions[2]['ecc']))\n",
    "scipy.stats.ttest_ind(distributions[0]['dist'], distributions[2]['dist'], axis =0,equal_var=True)"
   ]
  },
  {
   "cell_type": "code",
   "execution_count": 12,
   "metadata": {},
   "outputs": [
    {
     "name": "stdout",
     "output_type": "stream",
     "text": [
      "Ecc:6 vs.Ecc:10\n"
     ]
    },
    {
     "data": {
      "text/plain": [
       "Ttest_indResult(statistic=0.06890226872235523, pvalue=0.9450739787442742)"
      ]
     },
     "execution_count": 12,
     "metadata": {},
     "output_type": "execute_result"
    }
   ],
   "source": [
    "print('Ecc:{}'.format(distributions[1]['ecc'])+' vs.'+ 'Ecc:{}'.format(distributions[2]['ecc']))\n",
    "scipy.stats.ttest_ind(distributions[1]['dist'], distributions[2]['dist'], axis =0,equal_var=True)"
   ]
  },
  {
   "cell_type": "code",
   "execution_count": 13,
   "metadata": {},
   "outputs": [
    {
     "name": "stdout",
     "output_type": "stream",
     "text": [
      "Canvas is accessible via web browser at the URL: http://localhost:52995/index.html\n",
      "Opening Canvas in default web browser.\n"
     ]
    }
   ],
   "source": [
    "import graphlab.aggregate as agg\n",
    "sub_data = data.groupby(['subject','cueEccentricity1'],operations = {'avg_lag':agg.AVG('responsePosRelative0')})\n",
    "sub_data = sub_data.sort(['subject','cueEccentricity1'])\n",
    "skewness = []\n",
    "kurtosissy = []\n",
    "for sub in data['subject'].unique().sort():\n",
    "    subd = data[data['subject']==sub]\n",
    "    for ecc in subd['cueEccentricity1'].unique().sort():\n",
    "        eccd = subd[subd['cueEccentricity1']==ecc]\n",
    "        X = eccd['responsePosRelative0'].to_numpy()\n",
    "        kde = gaussian_kde(X)\n",
    "        log_dens = kde(X_plot)\n",
    "        skewness.append(skew(log_dens))\n",
    "        kurtosissy.append(kurtosis(log_dens))\n",
    "\n",
    "sub_data['skew'] = skewness\n",
    "sub_data['kurtosis'] = kurtosissy\n",
    "sub_data.show()"
   ]
  },
  {
   "cell_type": "code",
   "execution_count": 14,
   "metadata": {},
   "outputs": [
    {
     "data": {
      "text/html": [
       "<div>\n",
       "<table border=\"1\" class=\"dataframe\">\n",
       "  <thead>\n",
       "    <tr style=\"text-align: right;\">\n",
       "      <th></th>\n",
       "      <th>df</th>\n",
       "      <th>sum_sq</th>\n",
       "      <th>mean_sq</th>\n",
       "      <th>F</th>\n",
       "      <th>PR(&gt;F)</th>\n",
       "    </tr>\n",
       "  </thead>\n",
       "  <tbody>\n",
       "    <tr>\n",
       "      <th>C(cueEccentricity1)</th>\n",
       "      <td>2.0</td>\n",
       "      <td>2.960804</td>\n",
       "      <td>1.480402</td>\n",
       "      <td>4.031208</td>\n",
       "      <td>0.025032</td>\n",
       "    </tr>\n",
       "    <tr>\n",
       "      <th>Residual</th>\n",
       "      <td>42.0</td>\n",
       "      <td>15.423883</td>\n",
       "      <td>0.367235</td>\n",
       "      <td>NaN</td>\n",
       "      <td>NaN</td>\n",
       "    </tr>\n",
       "  </tbody>\n",
       "</table>\n",
       "</div>"
      ],
      "text/plain": [
       "                       df     sum_sq   mean_sq         F    PR(>F)\n",
       "C(cueEccentricity1)   2.0   2.960804  1.480402  4.031208  0.025032\n",
       "Residual             42.0  15.423883  0.367235       NaN       NaN"
      ]
     },
     "execution_count": 14,
     "metadata": {},
     "output_type": "execute_result"
    }
   ],
   "source": [
    "sub_hsb = sub_data.to_dataframe()\n",
    "#sub_hsb = hsb.groupby(['subject','cueEccentricity1']).apply(skew('responseRelative0'))\n",
    "mod = ols('skew ~ C(cueEccentricity1)',\n",
    "                data=sub_hsb).fit()\n",
    "                \n",
    "aov_table = sm.stats.anova_lm(mod)\n",
    "aov_table"
   ]
  },
  {
   "cell_type": "code",
   "execution_count": 15,
   "metadata": {},
   "outputs": [
    {
     "data": {
      "text/html": [
       "<div>\n",
       "<table border=\"1\" class=\"dataframe\">\n",
       "  <thead>\n",
       "    <tr style=\"text-align: right;\">\n",
       "      <th></th>\n",
       "      <th>df</th>\n",
       "      <th>sum_sq</th>\n",
       "      <th>mean_sq</th>\n",
       "      <th>F</th>\n",
       "      <th>PR(&gt;F)</th>\n",
       "    </tr>\n",
       "  </thead>\n",
       "  <tbody>\n",
       "    <tr>\n",
       "      <th>C(cueEccentricity1)</th>\n",
       "      <td>2.0</td>\n",
       "      <td>83.174483</td>\n",
       "      <td>41.587241</td>\n",
       "      <td>3.282586</td>\n",
       "      <td>0.04736</td>\n",
       "    </tr>\n",
       "    <tr>\n",
       "      <th>Residual</th>\n",
       "      <td>42.0</td>\n",
       "      <td>532.100097</td>\n",
       "      <td>12.669050</td>\n",
       "      <td>NaN</td>\n",
       "      <td>NaN</td>\n",
       "    </tr>\n",
       "  </tbody>\n",
       "</table>\n",
       "</div>"
      ],
      "text/plain": [
       "                       df      sum_sq    mean_sq         F   PR(>F)\n",
       "C(cueEccentricity1)   2.0   83.174483  41.587241  3.282586  0.04736\n",
       "Residual             42.0  532.100097  12.669050       NaN      NaN"
      ]
     },
     "execution_count": 15,
     "metadata": {},
     "output_type": "execute_result"
    }
   ],
   "source": [
    "mod1 = ols('kurtosis ~ C(cueEccentricity1)',\n",
    "                data=sub_hsb).fit()\n",
    "                \n",
    "aov_table1 = sm.stats.anova_lm(mod1)\n",
    "aov_table1"
   ]
  },
  {
   "cell_type": "code",
   "execution_count": 19,
   "metadata": {},
   "outputs": [],
   "source": [
    "deg2_data = sub_data[sub_data['cueEccentricity1']==2]\n",
    "deg2_data = deg2_data.sort('subject')\n",
    "deg6_data = sub_data[sub_data['cueEccentricity1']==6]\n",
    "deg6_data = deg6_data.sort('subject')\n",
    "deg10_data = sub_data[sub_data['cueEccentricity1']==10]\n",
    "deg10_data = deg10_data.sort('subject')\n",
    "\n",
    "deg2 = deg2_data['avg_lag'].to_numpy()\n",
    "deg6 = deg6_data['avg_lag'].to_numpy()\n",
    "deg10 = deg10_data['avg_lag'].to_numpy()"
   ]
  },
  {
   "cell_type": "code",
   "execution_count": 29,
   "metadata": {},
   "outputs": [
    {
     "name": "stdout",
     "output_type": "stream",
     "text": [
      "Ecc:2 vs. zero mean\n"
     ]
    },
    {
     "data": {
      "text/plain": [
       "Ttest_1sampResult(statistic=0.8138153019881289, pvalue=0.42937571812425135)"
      ]
     },
     "execution_count": 29,
     "metadata": {},
     "output_type": "execute_result"
    }
   ],
   "source": [
    "print('Ecc:{}'.format(distributions[0]['ecc'])+' vs. zero mean')\n",
    "scipy.stats.ttest_1samp(deg2,0.0)"
   ]
  },
  {
   "cell_type": "code",
   "execution_count": 20,
   "metadata": {},
   "outputs": [
    {
     "name": "stdout",
     "output_type": "stream",
     "text": [
      "Ecc:2 vs.Ecc:6\n"
     ]
    },
    {
     "data": {
      "text/plain": [
       "Ttest_relResult(statistic=2.8188513016111236, pvalue=0.013663614653794929)"
      ]
     },
     "execution_count": 20,
     "metadata": {},
     "output_type": "execute_result"
    }
   ],
   "source": [
    "print('Ecc:{}'.format(distributions[0]['ecc'])+' vs.'+ 'Ecc:{}'.format(distributions[1]['ecc']))\n",
    "scipy.stats.ttest_rel(deg2, deg6)"
   ]
  },
  {
   "cell_type": "code",
   "execution_count": 21,
   "metadata": {},
   "outputs": [
    {
     "name": "stdout",
     "output_type": "stream",
     "text": [
      "Ecc:2 vs.Ecc:10\n"
     ]
    },
    {
     "data": {
      "text/plain": [
       "Ttest_relResult(statistic=3.0273766413290124, pvalue=0.009046867282079252)"
      ]
     },
     "execution_count": 21,
     "metadata": {},
     "output_type": "execute_result"
    }
   ],
   "source": [
    "print('Ecc:{}'.format(distributions[0]['ecc'])+' vs.'+ 'Ecc:{}'.format(distributions[2]['ecc']))\n",
    "scipy.stats.ttest_rel(deg2,deg10)"
   ]
  },
  {
   "cell_type": "code",
   "execution_count": 22,
   "metadata": {},
   "outputs": [
    {
     "name": "stdout",
     "output_type": "stream",
     "text": [
      "Ecc:6 vs.Ecc:10\n"
     ]
    },
    {
     "data": {
      "text/plain": [
       "Ttest_relResult(statistic=-0.029464244105734106, pvalue=0.97691024416633)"
      ]
     },
     "execution_count": 22,
     "metadata": {},
     "output_type": "execute_result"
    }
   ],
   "source": [
    "print('Ecc:{}'.format(distributions[1]['ecc'])+' vs.'+ 'Ecc:{}'.format(distributions[2]['ecc']))\n",
    "scipy.stats.ttest_rel(deg6,deg10)"
   ]
  },
  {
   "cell_type": "code",
   "execution_count": 20,
   "metadata": {},
   "outputs": [
    {
     "ename": "RuntimeError",
     "evalue": "Runtime Exception. Column \"avg_lag_2deg\" has different size than current columns!",
     "output_type": "error",
     "traceback": [
      "\u001b[0;31m---------------------------------------------------------------------------\u001b[0m",
      "\u001b[0;31mRuntimeError\u001b[0m                              Traceback (most recent call last)",
      "\u001b[0;32m<ipython-input-20-dc2f709dd507>\u001b[0m in \u001b[0;36m<module>\u001b[0;34m()\u001b[0m\n\u001b[1;32m      1\u001b[0m \u001b[0moutput\u001b[0m \u001b[0;34m=\u001b[0m \u001b[0mgraphlab\u001b[0m\u001b[0;34m.\u001b[0m\u001b[0mSFrame\u001b[0m\u001b[0;34m(\u001b[0m\u001b[0;34m)\u001b[0m\u001b[0;34m\u001b[0m\u001b[0m\n\u001b[1;32m      2\u001b[0m \u001b[0moutput\u001b[0m\u001b[0;34m[\u001b[0m\u001b[0;34m'subject'\u001b[0m\u001b[0;34m]\u001b[0m \u001b[0;34m=\u001b[0m \u001b[0mnp\u001b[0m\u001b[0;34m.\u001b[0m\u001b[0marange\u001b[0m\u001b[0;34m(\u001b[0m\u001b[0;36m1\u001b[0m\u001b[0;34m,\u001b[0m\u001b[0;36m16\u001b[0m\u001b[0;34m)\u001b[0m\u001b[0;34m\u001b[0m\u001b[0m\n\u001b[0;32m----> 3\u001b[0;31m \u001b[0moutput\u001b[0m\u001b[0;34m[\u001b[0m\u001b[0;34m'avg_lag_2deg'\u001b[0m\u001b[0;34m]\u001b[0m \u001b[0;34m=\u001b[0m \u001b[0mdeg2\u001b[0m\u001b[0;34m\u001b[0m\u001b[0m\n\u001b[0m\u001b[1;32m      4\u001b[0m \u001b[0moutput\u001b[0m\u001b[0;34m[\u001b[0m\u001b[0;34m'avg_lag_6deg'\u001b[0m\u001b[0;34m]\u001b[0m \u001b[0;34m=\u001b[0m \u001b[0mdeg6\u001b[0m\u001b[0;34m\u001b[0m\u001b[0m\n\u001b[1;32m      5\u001b[0m \u001b[0moutput\u001b[0m\u001b[0;34m[\u001b[0m\u001b[0;34m'avg_lag_10deg'\u001b[0m\u001b[0;34m]\u001b[0m \u001b[0;34m=\u001b[0m \u001b[0mdeg10\u001b[0m\u001b[0;34m\u001b[0m\u001b[0m\n",
      "\u001b[0;32m/Users/supadhy6/anaconda/envs/gl-env/lib/python2.7/site-packages/graphlab/data_structures/sframe.pyc\u001b[0m in \u001b[0;36m__setitem__\u001b[0;34m(self, key, value)\u001b[0m\n\u001b[1;32m   4082\u001b[0m             \u001b[0;32mif\u001b[0m \u001b[0;32mnot\u001b[0m \u001b[0mkey\u001b[0m \u001b[0;32min\u001b[0m \u001b[0mself\u001b[0m\u001b[0;34m.\u001b[0m\u001b[0mcolumn_names\u001b[0m\u001b[0;34m(\u001b[0m\u001b[0;34m)\u001b[0m\u001b[0;34m:\u001b[0m\u001b[0;34m\u001b[0m\u001b[0m\n\u001b[1;32m   4083\u001b[0m                 \u001b[0;32mwith\u001b[0m \u001b[0mcython_context\u001b[0m\u001b[0;34m(\u001b[0m\u001b[0;34m)\u001b[0m\u001b[0;34m:\u001b[0m\u001b[0;34m\u001b[0m\u001b[0m\n\u001b[0;32m-> 4084\u001b[0;31m                     \u001b[0mself\u001b[0m\u001b[0;34m.\u001b[0m\u001b[0madd_column\u001b[0m\u001b[0;34m(\u001b[0m\u001b[0msa_value\u001b[0m\u001b[0;34m,\u001b[0m \u001b[0mkey\u001b[0m\u001b[0;34m)\u001b[0m\u001b[0;34m\u001b[0m\u001b[0m\n\u001b[0m\u001b[1;32m   4085\u001b[0m             \u001b[0;32melse\u001b[0m\u001b[0;34m:\u001b[0m\u001b[0;34m\u001b[0m\u001b[0m\n\u001b[1;32m   4086\u001b[0m                 \u001b[0;31m# special case if replacing the only column.\u001b[0m\u001b[0;34m\u001b[0m\u001b[0;34m\u001b[0m\u001b[0m\n",
      "\u001b[0;32m/Users/supadhy6/anaconda/envs/gl-env/lib/python2.7/site-packages/graphlab/cython/context.pyc\u001b[0m in \u001b[0;36m__exit__\u001b[0;34m(self, exc_type, exc_value, traceback)\u001b[0m\n\u001b[1;32m     47\u001b[0m             \u001b[0;32mif\u001b[0m \u001b[0;32mnot\u001b[0m \u001b[0mself\u001b[0m\u001b[0;34m.\u001b[0m\u001b[0mshow_cython_trace\u001b[0m\u001b[0;34m:\u001b[0m\u001b[0;34m\u001b[0m\u001b[0m\n\u001b[1;32m     48\u001b[0m                 \u001b[0;31m# To hide cython trace, we re-raise from here\u001b[0m\u001b[0;34m\u001b[0m\u001b[0;34m\u001b[0m\u001b[0m\n\u001b[0;32m---> 49\u001b[0;31m                 \u001b[0;32mraise\u001b[0m \u001b[0mexc_type\u001b[0m\u001b[0;34m(\u001b[0m\u001b[0mexc_value\u001b[0m\u001b[0;34m)\u001b[0m\u001b[0;34m\u001b[0m\u001b[0m\n\u001b[0m\u001b[1;32m     50\u001b[0m             \u001b[0;32melse\u001b[0m\u001b[0;34m:\u001b[0m\u001b[0;34m\u001b[0m\u001b[0m\n\u001b[1;32m     51\u001b[0m                 \u001b[0;31m# To show the full trace, we do nothing and let exception propagate\u001b[0m\u001b[0;34m\u001b[0m\u001b[0;34m\u001b[0m\u001b[0m\n",
      "\u001b[0;31mRuntimeError\u001b[0m: Runtime Exception. Column \"avg_lag_2deg\" has different size than current columns!"
     ]
    }
   ],
   "source": [
    "output = graphlab.SFrame()\n",
    "output['subject'] = np.arange(1,16)\n",
    "output['avg_lag_2deg'] = deg2\n",
    "output['avg_lag_6deg'] = deg6\n",
    "output['avg_lag_10deg'] = deg10"
   ]
  },
  {
   "cell_type": "code",
   "execution_count": null,
   "metadata": {},
   "outputs": [],
   "source": [
    "output"
   ]
  },
  {
   "cell_type": "code",
   "execution_count": null,
   "metadata": {},
   "outputs": [],
   "source": [
    "#output.export_csv('Expt_1_subject_wise_averaged_data.csv')"
   ]
  },
  {
   "cell_type": "code",
   "execution_count": null,
   "metadata": {},
   "outputs": [],
   "source": [
    "data = data.sort(['subject','trialnum'])\n",
    "data.show()"
   ]
  },
  {
   "cell_type": "code",
   "execution_count": null,
   "metadata": {
    "collapsed": true
   },
   "outputs": [],
   "source": [
    "raw_deg2_data = data[data['cueEccentricity1']==2]\n",
    "raw_deg2_data = raw_deg2_data.sort('subject')\n",
    "raw_deg6_data = data[data['cueEccentricity1']==6]\n",
    "raw_deg6_data = raw_deg6_data.sort('subject')\n",
    "raw_deg10_data = data[data['cueEccentricity1']==10]\n",
    "raw_deg10_data = raw_deg10_data.sort('subject')\n",
    "\n",
    "raw_deg2 = raw_deg2_data['responsePosRelative0'].to_numpy()\n",
    "raw_deg6 = raw_deg6_data['responsePosRelative0'].to_numpy()\n",
    "raw_deg10 = raw_deg10_data['responsePosRelative0'].to_numpy()"
   ]
  },
  {
   "cell_type": "code",
   "execution_count": null,
   "metadata": {},
   "outputs": [],
   "source": [
    "len(raw_deg2)/14"
   ]
  },
  {
   "cell_type": "code",
   "execution_count": null,
   "metadata": {},
   "outputs": [],
   "source": [
    "raw_output = graphlab.SFrame()\n",
    "raw_output['subject'] = np.repeat(np.arange(1,16),140)\n",
    "raw_output['lag_2deg'] = raw_deg2\n",
    "raw_output['lag_6deg'] = raw_deg6\n",
    "raw_output['lag_10deg'] = raw_deg10"
   ]
  },
  {
   "cell_type": "code",
   "execution_count": null,
   "metadata": {},
   "outputs": [],
   "source": [
    "raw_output.show()"
   ]
  },
  {
   "cell_type": "code",
   "execution_count": null,
   "metadata": {
    "collapsed": true
   },
   "outputs": [],
   "source": [
    "#raw_output.export_csv('Expt_1_raw_data.csv')"
   ]
  },
  {
   "cell_type": "code",
   "execution_count": null,
   "metadata": {},
   "outputs": [],
   "source": [
    "len(data['subject'])"
   ]
  },
  {
   "cell_type": "code",
   "execution_count": null,
   "metadata": {
    "collapsed": true
   },
   "outputs": [],
   "source": []
  }
 ],
 "metadata": {
  "anaconda-cloud": {},
  "kernelspec": {
   "display_name": "Python (gl-env3)",
   "language": "python",
   "name": "gl-env3"
  },
  "language_info": {
   "codemirror_mode": {
    "name": "ipython",
    "version": 3
   },
   "file_extension": ".py",
   "mimetype": "text/x-python",
   "name": "python",
   "nbconvert_exporter": "python",
   "pygments_lexer": "ipython3",
   "version": "3.5.6"
  },
  "toc": {
   "base_numbering": 1,
   "nav_menu": {},
   "number_sections": true,
   "sideBar": true,
   "skip_h1_title": false,
   "title_cell": "Table of Contents",
   "title_sidebar": "Contents",
   "toc_cell": false,
   "toc_position": {},
   "toc_section_display": true,
   "toc_window_display": false
  }
 },
 "nbformat": 4,
 "nbformat_minor": 1
}
