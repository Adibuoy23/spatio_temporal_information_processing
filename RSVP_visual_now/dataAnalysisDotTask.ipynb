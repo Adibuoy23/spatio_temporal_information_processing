{
 "cells": [
  {
   "cell_type": "code",
   "execution_count": 33,
   "metadata": {},
   "outputs": [
    {
     "name": "stdout",
     "output_type": "stream",
     "text": [
      "['8_07Dec2018_15-28.csv', '19_07Dec2018_17-55.txt', '7_07Dec2018_15-30.txt', '12_07Dec2018_16-36.csv', '22_07Dec2018_18-41.txt', '17_07Dec2018_17-26.txt', '9_07Dec2018_15-56.txt', '15_07Dec2018_17-21.txt', '3_07Dec2018_14-25.csv', '4_07Dec2018_14-34.csv', '16_07Dec2018_17-23.txt', '5_07Dec2018_14-48.txt', '.DS_Store', '20_07Dec2018_18-05.csv', '18_07Dec2018_17-50.txt', '4_07Dec2018_14-45.csv', '23_07Dec2018_18-48.csv', '13_07Dec2018_16-40.csv', '6_07Dec2018_14-51.csv', '1_07Dec2018_13-59.csv', '14_07Dec2018_16-43.csv', '21_07Dec2018_18-24.txt', '11_07Dec2018_16-06.txt', '2_07Dec2018_14-10.txt', '22_07Dec2018_18-41.csv', '17_07Dec2018_17-26.csv', '9_07Dec2018_15-56.csv', '8_07Dec2018_15-28.txt', '19_07Dec2018_17-55.csv', '7_07Dec2018_15-30.csv', '12_07Dec2018_16-36.txt', '20_07Dec2018_18-05.txt', '18_07Dec2018_17-50.csv', '3_07Dec2018_14-25.txt', '4_07Dec2018_14-34.txt', '15_07Dec2018_17-21.csv', '16_07Dec2018_17-23.csv', '5_07Dec2018_14-48.csv', '6_07Dec2018_14-51.txt', '4_07Dec2018_14-45.txt', '23_07Dec2018_18-48.txt', '13_07Dec2018_16-40.txt', '11_07Dec2018_16-06.csv', '2_07Dec2018_14-10.csv', '1_07Dec2018_13-59.txt', '21_07Dec2018_18-24.csv', '14_07Dec2018_16-43.txt']\n"
     ]
    }
   ],
   "source": [
    "# clear all the variables\n",
    "%reset -f\n",
    "import numpy as np\n",
    "import pandas as pd\n",
    "import sys\n",
    "import turicreate as tc\n",
    "import os\n",
    "from os import walk\n",
    "import scipy.io\n",
    "import xlrd, os, fnmatch\n",
    "import pandas as pd\n",
    "#import tensorflow as tf\n",
    "import plotly.plotly as py\n",
    "import plotly.graph_objs as go\n",
    "from scipy.spatial.distance import cdist\n",
    "# Path variable (where the data is located)\n",
    "myPath = './data/Expt_VI/' \n",
    "# Append the path variable to existing search path\n",
    "sys.path.append(myPath)\n",
    "# Get the file information in the directory\n",
    "file_list = []\n",
    "ignore_list = ['pilot','Expt_I','Expt_II','Expt_III','Expt_IV','Expt_V']\n",
    "for root, dirs, files in os.walk(myPath):\n",
    "    print(files)\n",
    "    for ig in ignore_list:\n",
    "        if ig in dirs:\n",
    "            dirs[:]=[]\n",
    "    for filename in files:\n",
    "        if fnmatch.fnmatch(filename.lower(), \"*csv\"):\n",
    "            file_list.append(os.path.join(root, filename))"
   ]
  },
  {
   "cell_type": "code",
   "execution_count": 34,
   "metadata": {},
   "outputs": [
    {
     "data": {
      "text/plain": [
       "['./data/Expt_VI/8_07Dec2018_15-28.csv',\n",
       " './data/Expt_VI/12_07Dec2018_16-36.csv',\n",
       " './data/Expt_VI/3_07Dec2018_14-25.csv',\n",
       " './data/Expt_VI/4_07Dec2018_14-34.csv',\n",
       " './data/Expt_VI/20_07Dec2018_18-05.csv',\n",
       " './data/Expt_VI/4_07Dec2018_14-45.csv',\n",
       " './data/Expt_VI/23_07Dec2018_18-48.csv',\n",
       " './data/Expt_VI/13_07Dec2018_16-40.csv',\n",
       " './data/Expt_VI/6_07Dec2018_14-51.csv',\n",
       " './data/Expt_VI/1_07Dec2018_13-59.csv',\n",
       " './data/Expt_VI/14_07Dec2018_16-43.csv',\n",
       " './data/Expt_VI/22_07Dec2018_18-41.csv',\n",
       " './data/Expt_VI/17_07Dec2018_17-26.csv',\n",
       " './data/Expt_VI/9_07Dec2018_15-56.csv',\n",
       " './data/Expt_VI/19_07Dec2018_17-55.csv',\n",
       " './data/Expt_VI/7_07Dec2018_15-30.csv',\n",
       " './data/Expt_VI/18_07Dec2018_17-50.csv',\n",
       " './data/Expt_VI/15_07Dec2018_17-21.csv',\n",
       " './data/Expt_VI/16_07Dec2018_17-23.csv',\n",
       " './data/Expt_VI/5_07Dec2018_14-48.csv',\n",
       " './data/Expt_VI/11_07Dec2018_16-06.csv',\n",
       " './data/Expt_VI/2_07Dec2018_14-10.csv',\n",
       " './data/Expt_VI/21_07Dec2018_18-24.csv']"
      ]
     },
     "execution_count": 34,
     "metadata": {},
     "output_type": "execute_result"
    }
   ],
   "source": [
    "file_list"
   ]
  },
  {
   "cell_type": "code",
   "execution_count": 148,
   "metadata": {},
   "outputs": [
    {
     "data": {
      "text/html": [
       "<pre>Finished parsing file /Users/supadhy6/Documents/GitHub/spatio_temporal_information_processing/RSVP_visual_now/data/Expt_VI/8_07Dec2018_15-28.csv</pre>"
      ],
      "text/plain": [
       "Finished parsing file /Users/supadhy6/Documents/GitHub/spatio_temporal_information_processing/RSVP_visual_now/data/Expt_VI/8_07Dec2018_15-28.csv"
      ]
     },
     "metadata": {},
     "output_type": "display_data"
    },
    {
     "data": {
      "text/html": [
       "<pre>Parsing completed. Parsed 100 lines in 0.04406 secs.</pre>"
      ],
      "text/plain": [
       "Parsing completed. Parsed 100 lines in 0.04406 secs."
      ]
     },
     "metadata": {},
     "output_type": "display_data"
    },
    {
     "name": "stdout",
     "output_type": "stream",
     "text": [
      "------------------------------------------------------\n",
      "Inferred types from first 100 line(s) of file as \n",
      "column_type_hints=[int,int,int,str,str,int,int,str,str,int,array,float,int]\n",
      "If parsing fails due to incorrect types, you can correct\n",
      "the inferred type list above and pass it to read_csv in\n",
      "the column_type_hints argument\n",
      "------------------------------------------------------\n"
     ]
    },
    {
     "data": {
      "text/html": [
       "<pre>Finished parsing file /Users/supadhy6/Documents/GitHub/spatio_temporal_information_processing/RSVP_visual_now/data/Expt_VI/8_07Dec2018_15-28.csv</pre>"
      ],
      "text/plain": [
       "Finished parsing file /Users/supadhy6/Documents/GitHub/spatio_temporal_information_processing/RSVP_visual_now/data/Expt_VI/8_07Dec2018_15-28.csv"
      ]
     },
     "metadata": {},
     "output_type": "display_data"
    },
    {
     "data": {
      "text/html": [
       "<pre>Parsing completed. Parsed 360 lines in 0.015062 secs.</pre>"
      ],
      "text/plain": [
       "Parsing completed. Parsed 360 lines in 0.015062 secs."
      ]
     },
     "metadata": {},
     "output_type": "display_data"
    },
    {
     "name": "stdout",
     "output_type": "stream",
     "text": [
      "360\n"
     ]
    },
    {
     "data": {
      "text/html": [
       "<pre>Finished parsing file /Users/supadhy6/Documents/GitHub/spatio_temporal_information_processing/RSVP_visual_now/data/Expt_VI/12_07Dec2018_16-36.csv</pre>"
      ],
      "text/plain": [
       "Finished parsing file /Users/supadhy6/Documents/GitHub/spatio_temporal_information_processing/RSVP_visual_now/data/Expt_VI/12_07Dec2018_16-36.csv"
      ]
     },
     "metadata": {},
     "output_type": "display_data"
    },
    {
     "data": {
      "text/html": [
       "<pre>Parsing completed. Parsed 100 lines in 0.01245 secs.</pre>"
      ],
      "text/plain": [
       "Parsing completed. Parsed 100 lines in 0.01245 secs."
      ]
     },
     "metadata": {},
     "output_type": "display_data"
    },
    {
     "name": "stdout",
     "output_type": "stream",
     "text": [
      "------------------------------------------------------\n",
      "Inferred types from first 100 line(s) of file as \n",
      "column_type_hints=[int,int,int,str,str,int,int,str,str,int,array,float,int]\n",
      "If parsing fails due to incorrect types, you can correct\n",
      "the inferred type list above and pass it to read_csv in\n",
      "the column_type_hints argument\n",
      "------------------------------------------------------\n"
     ]
    },
    {
     "data": {
      "text/html": [
       "<pre>Finished parsing file /Users/supadhy6/Documents/GitHub/spatio_temporal_information_processing/RSVP_visual_now/data/Expt_VI/12_07Dec2018_16-36.csv</pre>"
      ],
      "text/plain": [
       "Finished parsing file /Users/supadhy6/Documents/GitHub/spatio_temporal_information_processing/RSVP_visual_now/data/Expt_VI/12_07Dec2018_16-36.csv"
      ]
     },
     "metadata": {},
     "output_type": "display_data"
    },
    {
     "data": {
      "text/html": [
       "<pre>Parsing completed. Parsed 360 lines in 0.013971 secs.</pre>"
      ],
      "text/plain": [
       "Parsing completed. Parsed 360 lines in 0.013971 secs."
      ]
     },
     "metadata": {},
     "output_type": "display_data"
    },
    {
     "name": "stdout",
     "output_type": "stream",
     "text": [
      "360\n"
     ]
    },
    {
     "data": {
      "text/html": [
       "<pre>Finished parsing file /Users/supadhy6/Documents/GitHub/spatio_temporal_information_processing/RSVP_visual_now/data/Expt_VI/3_07Dec2018_14-25.csv</pre>"
      ],
      "text/plain": [
       "Finished parsing file /Users/supadhy6/Documents/GitHub/spatio_temporal_information_processing/RSVP_visual_now/data/Expt_VI/3_07Dec2018_14-25.csv"
      ]
     },
     "metadata": {},
     "output_type": "display_data"
    },
    {
     "data": {
      "text/html": [
       "<pre>Parsing completed. Parsed 100 lines in 0.028821 secs.</pre>"
      ],
      "text/plain": [
       "Parsing completed. Parsed 100 lines in 0.028821 secs."
      ]
     },
     "metadata": {},
     "output_type": "display_data"
    },
    {
     "name": "stdout",
     "output_type": "stream",
     "text": [
      "------------------------------------------------------\n",
      "Inferred types from first 100 line(s) of file as \n",
      "column_type_hints=[int,int,int,str,str,int,int,str,str,int,array,float,int]\n",
      "If parsing fails due to incorrect types, you can correct\n",
      "the inferred type list above and pass it to read_csv in\n",
      "the column_type_hints argument\n",
      "------------------------------------------------------\n"
     ]
    },
    {
     "data": {
      "text/html": [
       "<pre>Finished parsing file /Users/supadhy6/Documents/GitHub/spatio_temporal_information_processing/RSVP_visual_now/data/Expt_VI/3_07Dec2018_14-25.csv</pre>"
      ],
      "text/plain": [
       "Finished parsing file /Users/supadhy6/Documents/GitHub/spatio_temporal_information_processing/RSVP_visual_now/data/Expt_VI/3_07Dec2018_14-25.csv"
      ]
     },
     "metadata": {},
     "output_type": "display_data"
    },
    {
     "data": {
      "text/html": [
       "<pre>Parsing completed. Parsed 360 lines in 0.019218 secs.</pre>"
      ],
      "text/plain": [
       "Parsing completed. Parsed 360 lines in 0.019218 secs."
      ]
     },
     "metadata": {},
     "output_type": "display_data"
    },
    {
     "name": "stdout",
     "output_type": "stream",
     "text": [
      "360\n"
     ]
    },
    {
     "data": {
      "text/html": [
       "<pre>Finished parsing file /Users/supadhy6/Documents/GitHub/spatio_temporal_information_processing/RSVP_visual_now/data/Expt_VI/4_07Dec2018_14-34.csv</pre>"
      ],
      "text/plain": [
       "Finished parsing file /Users/supadhy6/Documents/GitHub/spatio_temporal_information_processing/RSVP_visual_now/data/Expt_VI/4_07Dec2018_14-34.csv"
      ]
     },
     "metadata": {},
     "output_type": "display_data"
    },
    {
     "data": {
      "text/html": [
       "<pre>Parsing completed. Parsed 100 lines in 0.012229 secs.</pre>"
      ],
      "text/plain": [
       "Parsing completed. Parsed 100 lines in 0.012229 secs."
      ]
     },
     "metadata": {},
     "output_type": "display_data"
    },
    {
     "name": "stdout",
     "output_type": "stream",
     "text": [
      "------------------------------------------------------\n",
      "Inferred types from first 100 line(s) of file as \n",
      "column_type_hints=[int,int,int,str,str,int,int,str,str,int,array,float,int]\n",
      "If parsing fails due to incorrect types, you can correct\n",
      "the inferred type list above and pass it to read_csv in\n",
      "the column_type_hints argument\n",
      "------------------------------------------------------\n"
     ]
    },
    {
     "data": {
      "text/html": [
       "<pre>Finished parsing file /Users/supadhy6/Documents/GitHub/spatio_temporal_information_processing/RSVP_visual_now/data/Expt_VI/4_07Dec2018_14-34.csv</pre>"
      ],
      "text/plain": [
       "Finished parsing file /Users/supadhy6/Documents/GitHub/spatio_temporal_information_processing/RSVP_visual_now/data/Expt_VI/4_07Dec2018_14-34.csv"
      ]
     },
     "metadata": {},
     "output_type": "display_data"
    },
    {
     "data": {
      "text/html": [
       "<pre>Parsing completed. Parsed 360 lines in 0.011948 secs.</pre>"
      ],
      "text/plain": [
       "Parsing completed. Parsed 360 lines in 0.011948 secs."
      ]
     },
     "metadata": {},
     "output_type": "display_data"
    },
    {
     "name": "stdout",
     "output_type": "stream",
     "text": [
      "360\n"
     ]
    },
    {
     "data": {
      "text/html": [
       "<pre>Finished parsing file /Users/supadhy6/Documents/GitHub/spatio_temporal_information_processing/RSVP_visual_now/data/Expt_VI/20_07Dec2018_18-05.csv</pre>"
      ],
      "text/plain": [
       "Finished parsing file /Users/supadhy6/Documents/GitHub/spatio_temporal_information_processing/RSVP_visual_now/data/Expt_VI/20_07Dec2018_18-05.csv"
      ]
     },
     "metadata": {},
     "output_type": "display_data"
    },
    {
     "data": {
      "text/html": [
       "<pre>Parsing completed. Parsed 100 lines in 0.01356 secs.</pre>"
      ],
      "text/plain": [
       "Parsing completed. Parsed 100 lines in 0.01356 secs."
      ]
     },
     "metadata": {},
     "output_type": "display_data"
    },
    {
     "name": "stdout",
     "output_type": "stream",
     "text": [
      "------------------------------------------------------\n",
      "Inferred types from first 100 line(s) of file as \n",
      "column_type_hints=[int,int,int,str,str,int,int,str,str,int,array,float,int]\n",
      "If parsing fails due to incorrect types, you can correct\n",
      "the inferred type list above and pass it to read_csv in\n",
      "the column_type_hints argument\n",
      "------------------------------------------------------\n"
     ]
    },
    {
     "data": {
      "text/html": [
       "<pre>Finished parsing file /Users/supadhy6/Documents/GitHub/spatio_temporal_information_processing/RSVP_visual_now/data/Expt_VI/20_07Dec2018_18-05.csv</pre>"
      ],
      "text/plain": [
       "Finished parsing file /Users/supadhy6/Documents/GitHub/spatio_temporal_information_processing/RSVP_visual_now/data/Expt_VI/20_07Dec2018_18-05.csv"
      ]
     },
     "metadata": {},
     "output_type": "display_data"
    },
    {
     "data": {
      "text/html": [
       "<pre>Parsing completed. Parsed 360 lines in 0.009491 secs.</pre>"
      ],
      "text/plain": [
       "Parsing completed. Parsed 360 lines in 0.009491 secs."
      ]
     },
     "metadata": {},
     "output_type": "display_data"
    },
    {
     "name": "stdout",
     "output_type": "stream",
     "text": [
      "360\n"
     ]
    },
    {
     "data": {
      "text/html": [
       "<pre>Finished parsing file /Users/supadhy6/Documents/GitHub/spatio_temporal_information_processing/RSVP_visual_now/data/Expt_VI/4_07Dec2018_14-45.csv</pre>"
      ],
      "text/plain": [
       "Finished parsing file /Users/supadhy6/Documents/GitHub/spatio_temporal_information_processing/RSVP_visual_now/data/Expt_VI/4_07Dec2018_14-45.csv"
      ]
     },
     "metadata": {},
     "output_type": "display_data"
    },
    {
     "data": {
      "text/html": [
       "<pre>Parsing completed. Parsed 100 lines in 0.010568 secs.</pre>"
      ],
      "text/plain": [
       "Parsing completed. Parsed 100 lines in 0.010568 secs."
      ]
     },
     "metadata": {},
     "output_type": "display_data"
    },
    {
     "name": "stdout",
     "output_type": "stream",
     "text": [
      "------------------------------------------------------\n",
      "Inferred types from first 100 line(s) of file as \n",
      "column_type_hints=[int,int,int,str,str,int,int,str,str,int,array,float,int]\n",
      "If parsing fails due to incorrect types, you can correct\n",
      "the inferred type list above and pass it to read_csv in\n",
      "the column_type_hints argument\n",
      "------------------------------------------------------\n"
     ]
    },
    {
     "data": {
      "text/html": [
       "<pre>Finished parsing file /Users/supadhy6/Documents/GitHub/spatio_temporal_information_processing/RSVP_visual_now/data/Expt_VI/4_07Dec2018_14-45.csv</pre>"
      ],
      "text/plain": [
       "Finished parsing file /Users/supadhy6/Documents/GitHub/spatio_temporal_information_processing/RSVP_visual_now/data/Expt_VI/4_07Dec2018_14-45.csv"
      ]
     },
     "metadata": {},
     "output_type": "display_data"
    },
    {
     "data": {
      "text/html": [
       "<pre>Parsing completed. Parsed 360 lines in 0.013151 secs.</pre>"
      ],
      "text/plain": [
       "Parsing completed. Parsed 360 lines in 0.013151 secs."
      ]
     },
     "metadata": {},
     "output_type": "display_data"
    },
    {
     "name": "stdout",
     "output_type": "stream",
     "text": [
      "360\n"
     ]
    },
    {
     "data": {
      "text/html": [
       "<pre>Finished parsing file /Users/supadhy6/Documents/GitHub/spatio_temporal_information_processing/RSVP_visual_now/data/Expt_VI/23_07Dec2018_18-48.csv</pre>"
      ],
      "text/plain": [
       "Finished parsing file /Users/supadhy6/Documents/GitHub/spatio_temporal_information_processing/RSVP_visual_now/data/Expt_VI/23_07Dec2018_18-48.csv"
      ]
     },
     "metadata": {},
     "output_type": "display_data"
    },
    {
     "data": {
      "text/html": [
       "<pre>Parsing completed. Parsed 100 lines in 0.007722 secs.</pre>"
      ],
      "text/plain": [
       "Parsing completed. Parsed 100 lines in 0.007722 secs."
      ]
     },
     "metadata": {},
     "output_type": "display_data"
    },
    {
     "name": "stdout",
     "output_type": "stream",
     "text": [
      "------------------------------------------------------\n",
      "Inferred types from first 100 line(s) of file as \n",
      "column_type_hints=[int,int,int,str,str,int,int,str,str,int,array,float,int]\n",
      "If parsing fails due to incorrect types, you can correct\n",
      "the inferred type list above and pass it to read_csv in\n",
      "the column_type_hints argument\n",
      "------------------------------------------------------\n"
     ]
    },
    {
     "data": {
      "text/html": [
       "<pre>Finished parsing file /Users/supadhy6/Documents/GitHub/spatio_temporal_information_processing/RSVP_visual_now/data/Expt_VI/23_07Dec2018_18-48.csv</pre>"
      ],
      "text/plain": [
       "Finished parsing file /Users/supadhy6/Documents/GitHub/spatio_temporal_information_processing/RSVP_visual_now/data/Expt_VI/23_07Dec2018_18-48.csv"
      ]
     },
     "metadata": {},
     "output_type": "display_data"
    },
    {
     "data": {
      "text/html": [
       "<pre>Parsing completed. Parsed 360 lines in 0.011322 secs.</pre>"
      ],
      "text/plain": [
       "Parsing completed. Parsed 360 lines in 0.011322 secs."
      ]
     },
     "metadata": {},
     "output_type": "display_data"
    },
    {
     "name": "stdout",
     "output_type": "stream",
     "text": [
      "360\n"
     ]
    },
    {
     "data": {
      "text/html": [
       "<pre>Finished parsing file /Users/supadhy6/Documents/GitHub/spatio_temporal_information_processing/RSVP_visual_now/data/Expt_VI/13_07Dec2018_16-40.csv</pre>"
      ],
      "text/plain": [
       "Finished parsing file /Users/supadhy6/Documents/GitHub/spatio_temporal_information_processing/RSVP_visual_now/data/Expt_VI/13_07Dec2018_16-40.csv"
      ]
     },
     "metadata": {},
     "output_type": "display_data"
    },
    {
     "data": {
      "text/html": [
       "<pre>Parsing completed. Parsed 100 lines in 0.012828 secs.</pre>"
      ],
      "text/plain": [
       "Parsing completed. Parsed 100 lines in 0.012828 secs."
      ]
     },
     "metadata": {},
     "output_type": "display_data"
    },
    {
     "name": "stdout",
     "output_type": "stream",
     "text": [
      "------------------------------------------------------\n",
      "Inferred types from first 100 line(s) of file as \n",
      "column_type_hints=[int,int,int,str,str,int,int,str,str,int,array,float,int]\n",
      "If parsing fails due to incorrect types, you can correct\n",
      "the inferred type list above and pass it to read_csv in\n",
      "the column_type_hints argument\n",
      "------------------------------------------------------\n"
     ]
    },
    {
     "data": {
      "text/html": [
       "<pre>Finished parsing file /Users/supadhy6/Documents/GitHub/spatio_temporal_information_processing/RSVP_visual_now/data/Expt_VI/13_07Dec2018_16-40.csv</pre>"
      ],
      "text/plain": [
       "Finished parsing file /Users/supadhy6/Documents/GitHub/spatio_temporal_information_processing/RSVP_visual_now/data/Expt_VI/13_07Dec2018_16-40.csv"
      ]
     },
     "metadata": {},
     "output_type": "display_data"
    },
    {
     "data": {
      "text/html": [
       "<pre>Parsing completed. Parsed 360 lines in 0.00726 secs.</pre>"
      ],
      "text/plain": [
       "Parsing completed. Parsed 360 lines in 0.00726 secs."
      ]
     },
     "metadata": {},
     "output_type": "display_data"
    },
    {
     "name": "stdout",
     "output_type": "stream",
     "text": [
      "360\n"
     ]
    },
    {
     "data": {
      "text/html": [
       "<pre>Finished parsing file /Users/supadhy6/Documents/GitHub/spatio_temporal_information_processing/RSVP_visual_now/data/Expt_VI/6_07Dec2018_14-51.csv</pre>"
      ],
      "text/plain": [
       "Finished parsing file /Users/supadhy6/Documents/GitHub/spatio_temporal_information_processing/RSVP_visual_now/data/Expt_VI/6_07Dec2018_14-51.csv"
      ]
     },
     "metadata": {},
     "output_type": "display_data"
    },
    {
     "data": {
      "text/html": [
       "<pre>Parsing completed. Parsed 100 lines in 0.009363 secs.</pre>"
      ],
      "text/plain": [
       "Parsing completed. Parsed 100 lines in 0.009363 secs."
      ]
     },
     "metadata": {},
     "output_type": "display_data"
    },
    {
     "name": "stdout",
     "output_type": "stream",
     "text": [
      "------------------------------------------------------\n",
      "Inferred types from first 100 line(s) of file as \n",
      "column_type_hints=[int,int,int,str,str,int,int,str,str,int,array,float,int]\n",
      "If parsing fails due to incorrect types, you can correct\n",
      "the inferred type list above and pass it to read_csv in\n",
      "the column_type_hints argument\n",
      "------------------------------------------------------\n"
     ]
    },
    {
     "data": {
      "text/html": [
       "<pre>Finished parsing file /Users/supadhy6/Documents/GitHub/spatio_temporal_information_processing/RSVP_visual_now/data/Expt_VI/6_07Dec2018_14-51.csv</pre>"
      ],
      "text/plain": [
       "Finished parsing file /Users/supadhy6/Documents/GitHub/spatio_temporal_information_processing/RSVP_visual_now/data/Expt_VI/6_07Dec2018_14-51.csv"
      ]
     },
     "metadata": {},
     "output_type": "display_data"
    },
    {
     "data": {
      "text/html": [
       "<pre>Parsing completed. Parsed 360 lines in 0.00914 secs.</pre>"
      ],
      "text/plain": [
       "Parsing completed. Parsed 360 lines in 0.00914 secs."
      ]
     },
     "metadata": {},
     "output_type": "display_data"
    },
    {
     "name": "stdout",
     "output_type": "stream",
     "text": [
      "360\n"
     ]
    },
    {
     "data": {
      "text/html": [
       "<pre>Finished parsing file /Users/supadhy6/Documents/GitHub/spatio_temporal_information_processing/RSVP_visual_now/data/Expt_VI/1_07Dec2018_13-59.csv</pre>"
      ],
      "text/plain": [
       "Finished parsing file /Users/supadhy6/Documents/GitHub/spatio_temporal_information_processing/RSVP_visual_now/data/Expt_VI/1_07Dec2018_13-59.csv"
      ]
     },
     "metadata": {},
     "output_type": "display_data"
    },
    {
     "data": {
      "text/html": [
       "<pre>Parsing completed. Parsed 100 lines in 0.009429 secs.</pre>"
      ],
      "text/plain": [
       "Parsing completed. Parsed 100 lines in 0.009429 secs."
      ]
     },
     "metadata": {},
     "output_type": "display_data"
    },
    {
     "name": "stdout",
     "output_type": "stream",
     "text": [
      "------------------------------------------------------\n",
      "Inferred types from first 100 line(s) of file as \n",
      "column_type_hints=[int,int,int,str,str,int,int,str,str,int,array,float,int]\n",
      "If parsing fails due to incorrect types, you can correct\n",
      "the inferred type list above and pass it to read_csv in\n",
      "the column_type_hints argument\n",
      "------------------------------------------------------\n"
     ]
    },
    {
     "data": {
      "text/html": [
       "<pre>Finished parsing file /Users/supadhy6/Documents/GitHub/spatio_temporal_information_processing/RSVP_visual_now/data/Expt_VI/1_07Dec2018_13-59.csv</pre>"
      ],
      "text/plain": [
       "Finished parsing file /Users/supadhy6/Documents/GitHub/spatio_temporal_information_processing/RSVP_visual_now/data/Expt_VI/1_07Dec2018_13-59.csv"
      ]
     },
     "metadata": {},
     "output_type": "display_data"
    },
    {
     "data": {
      "text/html": [
       "<pre>Parsing completed. Parsed 360 lines in 0.008611 secs.</pre>"
      ],
      "text/plain": [
       "Parsing completed. Parsed 360 lines in 0.008611 secs."
      ]
     },
     "metadata": {},
     "output_type": "display_data"
    },
    {
     "name": "stdout",
     "output_type": "stream",
     "text": [
      "360\n"
     ]
    },
    {
     "data": {
      "text/html": [
       "<pre>Finished parsing file /Users/supadhy6/Documents/GitHub/spatio_temporal_information_processing/RSVP_visual_now/data/Expt_VI/14_07Dec2018_16-43.csv</pre>"
      ],
      "text/plain": [
       "Finished parsing file /Users/supadhy6/Documents/GitHub/spatio_temporal_information_processing/RSVP_visual_now/data/Expt_VI/14_07Dec2018_16-43.csv"
      ]
     },
     "metadata": {},
     "output_type": "display_data"
    },
    {
     "data": {
      "text/html": [
       "<pre>Parsing completed. Parsed 100 lines in 0.011504 secs.</pre>"
      ],
      "text/plain": [
       "Parsing completed. Parsed 100 lines in 0.011504 secs."
      ]
     },
     "metadata": {},
     "output_type": "display_data"
    },
    {
     "name": "stdout",
     "output_type": "stream",
     "text": [
      "------------------------------------------------------\n",
      "Inferred types from first 100 line(s) of file as \n",
      "column_type_hints=[int,int,int,str,str,int,int,str,str,int,array,float,int]\n",
      "If parsing fails due to incorrect types, you can correct\n",
      "the inferred type list above and pass it to read_csv in\n",
      "the column_type_hints argument\n",
      "------------------------------------------------------\n"
     ]
    },
    {
     "data": {
      "text/html": [
       "<pre>Finished parsing file /Users/supadhy6/Documents/GitHub/spatio_temporal_information_processing/RSVP_visual_now/data/Expt_VI/14_07Dec2018_16-43.csv</pre>"
      ],
      "text/plain": [
       "Finished parsing file /Users/supadhy6/Documents/GitHub/spatio_temporal_information_processing/RSVP_visual_now/data/Expt_VI/14_07Dec2018_16-43.csv"
      ]
     },
     "metadata": {},
     "output_type": "display_data"
    },
    {
     "data": {
      "text/html": [
       "<pre>Parsing completed. Parsed 360 lines in 0.008204 secs.</pre>"
      ],
      "text/plain": [
       "Parsing completed. Parsed 360 lines in 0.008204 secs."
      ]
     },
     "metadata": {},
     "output_type": "display_data"
    },
    {
     "name": "stdout",
     "output_type": "stream",
     "text": [
      "360\n"
     ]
    },
    {
     "data": {
      "text/html": [
       "<pre>Finished parsing file /Users/supadhy6/Documents/GitHub/spatio_temporal_information_processing/RSVP_visual_now/data/Expt_VI/22_07Dec2018_18-41.csv</pre>"
      ],
      "text/plain": [
       "Finished parsing file /Users/supadhy6/Documents/GitHub/spatio_temporal_information_processing/RSVP_visual_now/data/Expt_VI/22_07Dec2018_18-41.csv"
      ]
     },
     "metadata": {},
     "output_type": "display_data"
    },
    {
     "data": {
      "text/html": [
       "<pre>Parsing completed. Parsed 100 lines in 0.008176 secs.</pre>"
      ],
      "text/plain": [
       "Parsing completed. Parsed 100 lines in 0.008176 secs."
      ]
     },
     "metadata": {},
     "output_type": "display_data"
    },
    {
     "name": "stdout",
     "output_type": "stream",
     "text": [
      "------------------------------------------------------\n",
      "Inferred types from first 100 line(s) of file as \n",
      "column_type_hints=[int,int,int,str,str,int,int,str,str,int,array,float,int]\n",
      "If parsing fails due to incorrect types, you can correct\n",
      "the inferred type list above and pass it to read_csv in\n",
      "the column_type_hints argument\n",
      "------------------------------------------------------\n"
     ]
    },
    {
     "data": {
      "text/html": [
       "<pre>Finished parsing file /Users/supadhy6/Documents/GitHub/spatio_temporal_information_processing/RSVP_visual_now/data/Expt_VI/22_07Dec2018_18-41.csv</pre>"
      ],
      "text/plain": [
       "Finished parsing file /Users/supadhy6/Documents/GitHub/spatio_temporal_information_processing/RSVP_visual_now/data/Expt_VI/22_07Dec2018_18-41.csv"
      ]
     },
     "metadata": {},
     "output_type": "display_data"
    },
    {
     "data": {
      "text/html": [
       "<pre>Parsing completed. Parsed 360 lines in 0.007206 secs.</pre>"
      ],
      "text/plain": [
       "Parsing completed. Parsed 360 lines in 0.007206 secs."
      ]
     },
     "metadata": {},
     "output_type": "display_data"
    },
    {
     "name": "stdout",
     "output_type": "stream",
     "text": [
      "360\n"
     ]
    },
    {
     "data": {
      "text/html": [
       "<pre>Finished parsing file /Users/supadhy6/Documents/GitHub/spatio_temporal_information_processing/RSVP_visual_now/data/Expt_VI/17_07Dec2018_17-26.csv</pre>"
      ],
      "text/plain": [
       "Finished parsing file /Users/supadhy6/Documents/GitHub/spatio_temporal_information_processing/RSVP_visual_now/data/Expt_VI/17_07Dec2018_17-26.csv"
      ]
     },
     "metadata": {},
     "output_type": "display_data"
    },
    {
     "data": {
      "text/html": [
       "<pre>Parsing completed. Parsed 100 lines in 0.00828 secs.</pre>"
      ],
      "text/plain": [
       "Parsing completed. Parsed 100 lines in 0.00828 secs."
      ]
     },
     "metadata": {},
     "output_type": "display_data"
    },
    {
     "name": "stdout",
     "output_type": "stream",
     "text": [
      "------------------------------------------------------\n",
      "Inferred types from first 100 line(s) of file as \n",
      "column_type_hints=[int,int,int,str,str,int,int,str,str,int,array,float,int]\n",
      "If parsing fails due to incorrect types, you can correct\n",
      "the inferred type list above and pass it to read_csv in\n",
      "the column_type_hints argument\n",
      "------------------------------------------------------\n"
     ]
    },
    {
     "data": {
      "text/html": [
       "<pre>Finished parsing file /Users/supadhy6/Documents/GitHub/spatio_temporal_information_processing/RSVP_visual_now/data/Expt_VI/17_07Dec2018_17-26.csv</pre>"
      ],
      "text/plain": [
       "Finished parsing file /Users/supadhy6/Documents/GitHub/spatio_temporal_information_processing/RSVP_visual_now/data/Expt_VI/17_07Dec2018_17-26.csv"
      ]
     },
     "metadata": {},
     "output_type": "display_data"
    },
    {
     "data": {
      "text/html": [
       "<pre>Parsing completed. Parsed 360 lines in 0.010496 secs.</pre>"
      ],
      "text/plain": [
       "Parsing completed. Parsed 360 lines in 0.010496 secs."
      ]
     },
     "metadata": {},
     "output_type": "display_data"
    },
    {
     "name": "stdout",
     "output_type": "stream",
     "text": [
      "360\n"
     ]
    },
    {
     "data": {
      "text/html": [
       "<pre>Finished parsing file /Users/supadhy6/Documents/GitHub/spatio_temporal_information_processing/RSVP_visual_now/data/Expt_VI/9_07Dec2018_15-56.csv</pre>"
      ],
      "text/plain": [
       "Finished parsing file /Users/supadhy6/Documents/GitHub/spatio_temporal_information_processing/RSVP_visual_now/data/Expt_VI/9_07Dec2018_15-56.csv"
      ]
     },
     "metadata": {},
     "output_type": "display_data"
    },
    {
     "data": {
      "text/html": [
       "<pre>Parsing completed. Parsed 100 lines in 0.009266 secs.</pre>"
      ],
      "text/plain": [
       "Parsing completed. Parsed 100 lines in 0.009266 secs."
      ]
     },
     "metadata": {},
     "output_type": "display_data"
    },
    {
     "name": "stdout",
     "output_type": "stream",
     "text": [
      "------------------------------------------------------\n",
      "Inferred types from first 100 line(s) of file as \n",
      "column_type_hints=[int,int,int,str,str,int,int,str,str,int,array,float,int]\n",
      "If parsing fails due to incorrect types, you can correct\n",
      "the inferred type list above and pass it to read_csv in\n",
      "the column_type_hints argument\n",
      "------------------------------------------------------\n"
     ]
    },
    {
     "data": {
      "text/html": [
       "<pre>Finished parsing file /Users/supadhy6/Documents/GitHub/spatio_temporal_information_processing/RSVP_visual_now/data/Expt_VI/9_07Dec2018_15-56.csv</pre>"
      ],
      "text/plain": [
       "Finished parsing file /Users/supadhy6/Documents/GitHub/spatio_temporal_information_processing/RSVP_visual_now/data/Expt_VI/9_07Dec2018_15-56.csv"
      ]
     },
     "metadata": {},
     "output_type": "display_data"
    },
    {
     "data": {
      "text/html": [
       "<pre>Parsing completed. Parsed 360 lines in 0.008589 secs.</pre>"
      ],
      "text/plain": [
       "Parsing completed. Parsed 360 lines in 0.008589 secs."
      ]
     },
     "metadata": {},
     "output_type": "display_data"
    },
    {
     "name": "stdout",
     "output_type": "stream",
     "text": [
      "360\n"
     ]
    },
    {
     "data": {
      "text/html": [
       "<pre>Finished parsing file /Users/supadhy6/Documents/GitHub/spatio_temporal_information_processing/RSVP_visual_now/data/Expt_VI/19_07Dec2018_17-55.csv</pre>"
      ],
      "text/plain": [
       "Finished parsing file /Users/supadhy6/Documents/GitHub/spatio_temporal_information_processing/RSVP_visual_now/data/Expt_VI/19_07Dec2018_17-55.csv"
      ]
     },
     "metadata": {},
     "output_type": "display_data"
    },
    {
     "data": {
      "text/html": [
       "<pre>Parsing completed. Parsed 100 lines in 0.011183 secs.</pre>"
      ],
      "text/plain": [
       "Parsing completed. Parsed 100 lines in 0.011183 secs."
      ]
     },
     "metadata": {},
     "output_type": "display_data"
    },
    {
     "name": "stdout",
     "output_type": "stream",
     "text": [
      "------------------------------------------------------\n",
      "Inferred types from first 100 line(s) of file as \n",
      "column_type_hints=[int,int,int,str,str,int,int,str,str,int,array,float,int]\n",
      "If parsing fails due to incorrect types, you can correct\n",
      "the inferred type list above and pass it to read_csv in\n",
      "the column_type_hints argument\n",
      "------------------------------------------------------\n"
     ]
    },
    {
     "data": {
      "text/html": [
       "<pre>Finished parsing file /Users/supadhy6/Documents/GitHub/spatio_temporal_information_processing/RSVP_visual_now/data/Expt_VI/19_07Dec2018_17-55.csv</pre>"
      ],
      "text/plain": [
       "Finished parsing file /Users/supadhy6/Documents/GitHub/spatio_temporal_information_processing/RSVP_visual_now/data/Expt_VI/19_07Dec2018_17-55.csv"
      ]
     },
     "metadata": {},
     "output_type": "display_data"
    },
    {
     "data": {
      "text/html": [
       "<pre>Parsing completed. Parsed 360 lines in 0.008994 secs.</pre>"
      ],
      "text/plain": [
       "Parsing completed. Parsed 360 lines in 0.008994 secs."
      ]
     },
     "metadata": {},
     "output_type": "display_data"
    },
    {
     "name": "stdout",
     "output_type": "stream",
     "text": [
      "360\n"
     ]
    },
    {
     "data": {
      "text/html": [
       "<pre>Read 100 lines. Lines per second: 9737.1</pre>"
      ],
      "text/plain": [
       "Read 100 lines. Lines per second: 9737.1"
      ]
     },
     "metadata": {},
     "output_type": "display_data"
    },
    {
     "data": {
      "text/html": [
       "<pre>Finished parsing file /Users/supadhy6/Documents/GitHub/spatio_temporal_information_processing/RSVP_visual_now/data/Expt_VI/7_07Dec2018_15-30.csv</pre>"
      ],
      "text/plain": [
       "Finished parsing file /Users/supadhy6/Documents/GitHub/spatio_temporal_information_processing/RSVP_visual_now/data/Expt_VI/7_07Dec2018_15-30.csv"
      ]
     },
     "metadata": {},
     "output_type": "display_data"
    },
    {
     "data": {
      "text/html": [
       "<pre>Parsing completed. Parsed 100 lines in 0.010803 secs.</pre>"
      ],
      "text/plain": [
       "Parsing completed. Parsed 100 lines in 0.010803 secs."
      ]
     },
     "metadata": {},
     "output_type": "display_data"
    },
    {
     "name": "stdout",
     "output_type": "stream",
     "text": [
      "------------------------------------------------------\n",
      "Inferred types from first 100 line(s) of file as \n",
      "column_type_hints=[int,int,int,str,str,int,int,str,str,int,array,float,int]\n",
      "If parsing fails due to incorrect types, you can correct\n",
      "the inferred type list above and pass it to read_csv in\n",
      "the column_type_hints argument\n",
      "------------------------------------------------------\n"
     ]
    },
    {
     "data": {
      "text/html": [
       "<pre>Finished parsing file /Users/supadhy6/Documents/GitHub/spatio_temporal_information_processing/RSVP_visual_now/data/Expt_VI/7_07Dec2018_15-30.csv</pre>"
      ],
      "text/plain": [
       "Finished parsing file /Users/supadhy6/Documents/GitHub/spatio_temporal_information_processing/RSVP_visual_now/data/Expt_VI/7_07Dec2018_15-30.csv"
      ]
     },
     "metadata": {},
     "output_type": "display_data"
    },
    {
     "data": {
      "text/html": [
       "<pre>Parsing completed. Parsed 360 lines in 0.010023 secs.</pre>"
      ],
      "text/plain": [
       "Parsing completed. Parsed 360 lines in 0.010023 secs."
      ]
     },
     "metadata": {},
     "output_type": "display_data"
    },
    {
     "name": "stdout",
     "output_type": "stream",
     "text": [
      "360\n"
     ]
    },
    {
     "data": {
      "text/html": [
       "<pre>Finished parsing file /Users/supadhy6/Documents/GitHub/spatio_temporal_information_processing/RSVP_visual_now/data/Expt_VI/18_07Dec2018_17-50.csv</pre>"
      ],
      "text/plain": [
       "Finished parsing file /Users/supadhy6/Documents/GitHub/spatio_temporal_information_processing/RSVP_visual_now/data/Expt_VI/18_07Dec2018_17-50.csv"
      ]
     },
     "metadata": {},
     "output_type": "display_data"
    },
    {
     "data": {
      "text/html": [
       "<pre>Parsing completed. Parsed 100 lines in 0.009783 secs.</pre>"
      ],
      "text/plain": [
       "Parsing completed. Parsed 100 lines in 0.009783 secs."
      ]
     },
     "metadata": {},
     "output_type": "display_data"
    },
    {
     "name": "stdout",
     "output_type": "stream",
     "text": [
      "------------------------------------------------------\n",
      "Inferred types from first 100 line(s) of file as \n",
      "column_type_hints=[int,int,int,str,str,int,int,str,str,int,array,float,int]\n",
      "If parsing fails due to incorrect types, you can correct\n",
      "the inferred type list above and pass it to read_csv in\n",
      "the column_type_hints argument\n",
      "------------------------------------------------------\n"
     ]
    },
    {
     "data": {
      "text/html": [
       "<pre>Finished parsing file /Users/supadhy6/Documents/GitHub/spatio_temporal_information_processing/RSVP_visual_now/data/Expt_VI/18_07Dec2018_17-50.csv</pre>"
      ],
      "text/plain": [
       "Finished parsing file /Users/supadhy6/Documents/GitHub/spatio_temporal_information_processing/RSVP_visual_now/data/Expt_VI/18_07Dec2018_17-50.csv"
      ]
     },
     "metadata": {},
     "output_type": "display_data"
    },
    {
     "data": {
      "text/html": [
       "<pre>Parsing completed. Parsed 360 lines in 0.007765 secs.</pre>"
      ],
      "text/plain": [
       "Parsing completed. Parsed 360 lines in 0.007765 secs."
      ]
     },
     "metadata": {},
     "output_type": "display_data"
    },
    {
     "name": "stdout",
     "output_type": "stream",
     "text": [
      "360\n"
     ]
    },
    {
     "data": {
      "text/html": [
       "<pre>Finished parsing file /Users/supadhy6/Documents/GitHub/spatio_temporal_information_processing/RSVP_visual_now/data/Expt_VI/15_07Dec2018_17-21.csv</pre>"
      ],
      "text/plain": [
       "Finished parsing file /Users/supadhy6/Documents/GitHub/spatio_temporal_information_processing/RSVP_visual_now/data/Expt_VI/15_07Dec2018_17-21.csv"
      ]
     },
     "metadata": {},
     "output_type": "display_data"
    },
    {
     "data": {
      "text/html": [
       "<pre>Parsing completed. Parsed 100 lines in 0.014875 secs.</pre>"
      ],
      "text/plain": [
       "Parsing completed. Parsed 100 lines in 0.014875 secs."
      ]
     },
     "metadata": {},
     "output_type": "display_data"
    },
    {
     "name": "stdout",
     "output_type": "stream",
     "text": [
      "------------------------------------------------------\n",
      "Inferred types from first 100 line(s) of file as \n",
      "column_type_hints=[int,int,int,str,str,int,int,str,str,int,array,float,int]\n",
      "If parsing fails due to incorrect types, you can correct\n",
      "the inferred type list above and pass it to read_csv in\n",
      "the column_type_hints argument\n",
      "------------------------------------------------------\n"
     ]
    },
    {
     "data": {
      "text/html": [
       "<pre>Finished parsing file /Users/supadhy6/Documents/GitHub/spatio_temporal_information_processing/RSVP_visual_now/data/Expt_VI/15_07Dec2018_17-21.csv</pre>"
      ],
      "text/plain": [
       "Finished parsing file /Users/supadhy6/Documents/GitHub/spatio_temporal_information_processing/RSVP_visual_now/data/Expt_VI/15_07Dec2018_17-21.csv"
      ]
     },
     "metadata": {},
     "output_type": "display_data"
    },
    {
     "data": {
      "text/html": [
       "<pre>Parsing completed. Parsed 360 lines in 0.009479 secs.</pre>"
      ],
      "text/plain": [
       "Parsing completed. Parsed 360 lines in 0.009479 secs."
      ]
     },
     "metadata": {},
     "output_type": "display_data"
    },
    {
     "name": "stdout",
     "output_type": "stream",
     "text": [
      "360\n"
     ]
    },
    {
     "data": {
      "text/html": [
       "<pre>Finished parsing file /Users/supadhy6/Documents/GitHub/spatio_temporal_information_processing/RSVP_visual_now/data/Expt_VI/16_07Dec2018_17-23.csv</pre>"
      ],
      "text/plain": [
       "Finished parsing file /Users/supadhy6/Documents/GitHub/spatio_temporal_information_processing/RSVP_visual_now/data/Expt_VI/16_07Dec2018_17-23.csv"
      ]
     },
     "metadata": {},
     "output_type": "display_data"
    },
    {
     "data": {
      "text/html": [
       "<pre>Parsing completed. Parsed 100 lines in 0.010306 secs.</pre>"
      ],
      "text/plain": [
       "Parsing completed. Parsed 100 lines in 0.010306 secs."
      ]
     },
     "metadata": {},
     "output_type": "display_data"
    },
    {
     "name": "stdout",
     "output_type": "stream",
     "text": [
      "------------------------------------------------------\n",
      "Inferred types from first 100 line(s) of file as \n",
      "column_type_hints=[int,int,int,str,str,int,int,str,str,int,array,float,int]\n",
      "If parsing fails due to incorrect types, you can correct\n",
      "the inferred type list above and pass it to read_csv in\n",
      "the column_type_hints argument\n",
      "------------------------------------------------------\n"
     ]
    },
    {
     "data": {
      "text/html": [
       "<pre>Finished parsing file /Users/supadhy6/Documents/GitHub/spatio_temporal_information_processing/RSVP_visual_now/data/Expt_VI/16_07Dec2018_17-23.csv</pre>"
      ],
      "text/plain": [
       "Finished parsing file /Users/supadhy6/Documents/GitHub/spatio_temporal_information_processing/RSVP_visual_now/data/Expt_VI/16_07Dec2018_17-23.csv"
      ]
     },
     "metadata": {},
     "output_type": "display_data"
    },
    {
     "data": {
      "text/html": [
       "<pre>Parsing completed. Parsed 360 lines in 0.010055 secs.</pre>"
      ],
      "text/plain": [
       "Parsing completed. Parsed 360 lines in 0.010055 secs."
      ]
     },
     "metadata": {},
     "output_type": "display_data"
    },
    {
     "name": "stdout",
     "output_type": "stream",
     "text": [
      "360\n"
     ]
    },
    {
     "data": {
      "text/html": [
       "<pre>Finished parsing file /Users/supadhy6/Documents/GitHub/spatio_temporal_information_processing/RSVP_visual_now/data/Expt_VI/5_07Dec2018_14-48.csv</pre>"
      ],
      "text/plain": [
       "Finished parsing file /Users/supadhy6/Documents/GitHub/spatio_temporal_information_processing/RSVP_visual_now/data/Expt_VI/5_07Dec2018_14-48.csv"
      ]
     },
     "metadata": {},
     "output_type": "display_data"
    },
    {
     "data": {
      "text/html": [
       "<pre>Parsing completed. Parsed 100 lines in 0.009473 secs.</pre>"
      ],
      "text/plain": [
       "Parsing completed. Parsed 100 lines in 0.009473 secs."
      ]
     },
     "metadata": {},
     "output_type": "display_data"
    },
    {
     "name": "stdout",
     "output_type": "stream",
     "text": [
      "------------------------------------------------------\n",
      "Inferred types from first 100 line(s) of file as \n",
      "column_type_hints=[int,int,int,str,str,int,int,str,str,int,array,float,int]\n",
      "If parsing fails due to incorrect types, you can correct\n",
      "the inferred type list above and pass it to read_csv in\n",
      "the column_type_hints argument\n",
      "------------------------------------------------------\n"
     ]
    },
    {
     "data": {
      "text/html": [
       "<pre>Finished parsing file /Users/supadhy6/Documents/GitHub/spatio_temporal_information_processing/RSVP_visual_now/data/Expt_VI/5_07Dec2018_14-48.csv</pre>"
      ],
      "text/plain": [
       "Finished parsing file /Users/supadhy6/Documents/GitHub/spatio_temporal_information_processing/RSVP_visual_now/data/Expt_VI/5_07Dec2018_14-48.csv"
      ]
     },
     "metadata": {},
     "output_type": "display_data"
    },
    {
     "data": {
      "text/html": [
       "<pre>Parsing completed. Parsed 360 lines in 0.007482 secs.</pre>"
      ],
      "text/plain": [
       "Parsing completed. Parsed 360 lines in 0.007482 secs."
      ]
     },
     "metadata": {},
     "output_type": "display_data"
    },
    {
     "name": "stdout",
     "output_type": "stream",
     "text": [
      "360\n"
     ]
    },
    {
     "data": {
      "text/html": [
       "<pre>Finished parsing file /Users/supadhy6/Documents/GitHub/spatio_temporal_information_processing/RSVP_visual_now/data/Expt_VI/11_07Dec2018_16-06.csv</pre>"
      ],
      "text/plain": [
       "Finished parsing file /Users/supadhy6/Documents/GitHub/spatio_temporal_information_processing/RSVP_visual_now/data/Expt_VI/11_07Dec2018_16-06.csv"
      ]
     },
     "metadata": {},
     "output_type": "display_data"
    },
    {
     "data": {
      "text/html": [
       "<pre>Parsing completed. Parsed 100 lines in 0.008652 secs.</pre>"
      ],
      "text/plain": [
       "Parsing completed. Parsed 100 lines in 0.008652 secs."
      ]
     },
     "metadata": {},
     "output_type": "display_data"
    },
    {
     "name": "stdout",
     "output_type": "stream",
     "text": [
      "------------------------------------------------------\n",
      "Inferred types from first 100 line(s) of file as \n",
      "column_type_hints=[int,int,int,str,str,int,int,str,str,int,array,float,int]\n",
      "If parsing fails due to incorrect types, you can correct\n",
      "the inferred type list above and pass it to read_csv in\n",
      "the column_type_hints argument\n",
      "------------------------------------------------------\n"
     ]
    },
    {
     "data": {
      "text/html": [
       "<pre>Finished parsing file /Users/supadhy6/Documents/GitHub/spatio_temporal_information_processing/RSVP_visual_now/data/Expt_VI/11_07Dec2018_16-06.csv</pre>"
      ],
      "text/plain": [
       "Finished parsing file /Users/supadhy6/Documents/GitHub/spatio_temporal_information_processing/RSVP_visual_now/data/Expt_VI/11_07Dec2018_16-06.csv"
      ]
     },
     "metadata": {},
     "output_type": "display_data"
    },
    {
     "data": {
      "text/html": [
       "<pre>Parsing completed. Parsed 360 lines in 0.007319 secs.</pre>"
      ],
      "text/plain": [
       "Parsing completed. Parsed 360 lines in 0.007319 secs."
      ]
     },
     "metadata": {},
     "output_type": "display_data"
    },
    {
     "name": "stdout",
     "output_type": "stream",
     "text": [
      "360\n"
     ]
    },
    {
     "data": {
      "text/html": [
       "<pre>Finished parsing file /Users/supadhy6/Documents/GitHub/spatio_temporal_information_processing/RSVP_visual_now/data/Expt_VI/2_07Dec2018_14-10.csv</pre>"
      ],
      "text/plain": [
       "Finished parsing file /Users/supadhy6/Documents/GitHub/spatio_temporal_information_processing/RSVP_visual_now/data/Expt_VI/2_07Dec2018_14-10.csv"
      ]
     },
     "metadata": {},
     "output_type": "display_data"
    },
    {
     "data": {
      "text/html": [
       "<pre>Parsing completed. Parsed 100 lines in 0.009087 secs.</pre>"
      ],
      "text/plain": [
       "Parsing completed. Parsed 100 lines in 0.009087 secs."
      ]
     },
     "metadata": {},
     "output_type": "display_data"
    },
    {
     "name": "stdout",
     "output_type": "stream",
     "text": [
      "------------------------------------------------------\n",
      "Inferred types from first 100 line(s) of file as \n",
      "column_type_hints=[int,int,int,str,str,int,int,str,str,int,array,float,int]\n",
      "If parsing fails due to incorrect types, you can correct\n",
      "the inferred type list above and pass it to read_csv in\n",
      "the column_type_hints argument\n",
      "------------------------------------------------------\n"
     ]
    },
    {
     "data": {
      "text/html": [
       "<pre>Finished parsing file /Users/supadhy6/Documents/GitHub/spatio_temporal_information_processing/RSVP_visual_now/data/Expt_VI/2_07Dec2018_14-10.csv</pre>"
      ],
      "text/plain": [
       "Finished parsing file /Users/supadhy6/Documents/GitHub/spatio_temporal_information_processing/RSVP_visual_now/data/Expt_VI/2_07Dec2018_14-10.csv"
      ]
     },
     "metadata": {},
     "output_type": "display_data"
    },
    {
     "data": {
      "text/html": [
       "<pre>Parsing completed. Parsed 360 lines in 0.010194 secs.</pre>"
      ],
      "text/plain": [
       "Parsing completed. Parsed 360 lines in 0.010194 secs."
      ]
     },
     "metadata": {},
     "output_type": "display_data"
    },
    {
     "name": "stdout",
     "output_type": "stream",
     "text": [
      "360\n"
     ]
    },
    {
     "data": {
      "text/html": [
       "<pre>Finished parsing file /Users/supadhy6/Documents/GitHub/spatio_temporal_information_processing/RSVP_visual_now/data/Expt_VI/21_07Dec2018_18-24.csv</pre>"
      ],
      "text/plain": [
       "Finished parsing file /Users/supadhy6/Documents/GitHub/spatio_temporal_information_processing/RSVP_visual_now/data/Expt_VI/21_07Dec2018_18-24.csv"
      ]
     },
     "metadata": {},
     "output_type": "display_data"
    },
    {
     "data": {
      "text/html": [
       "<pre>Parsing completed. Parsed 100 lines in 0.008684 secs.</pre>"
      ],
      "text/plain": [
       "Parsing completed. Parsed 100 lines in 0.008684 secs."
      ]
     },
     "metadata": {},
     "output_type": "display_data"
    },
    {
     "name": "stdout",
     "output_type": "stream",
     "text": [
      "------------------------------------------------------\n",
      "Inferred types from first 100 line(s) of file as \n",
      "column_type_hints=[int,int,int,str,str,int,int,str,str,int,array,float,int]\n",
      "If parsing fails due to incorrect types, you can correct\n",
      "the inferred type list above and pass it to read_csv in\n",
      "the column_type_hints argument\n",
      "------------------------------------------------------\n"
     ]
    },
    {
     "data": {
      "text/html": [
       "<pre>Finished parsing file /Users/supadhy6/Documents/GitHub/spatio_temporal_information_processing/RSVP_visual_now/data/Expt_VI/21_07Dec2018_18-24.csv</pre>"
      ],
      "text/plain": [
       "Finished parsing file /Users/supadhy6/Documents/GitHub/spatio_temporal_information_processing/RSVP_visual_now/data/Expt_VI/21_07Dec2018_18-24.csv"
      ]
     },
     "metadata": {},
     "output_type": "display_data"
    },
    {
     "data": {
      "text/html": [
       "<pre>Parsing completed. Parsed 360 lines in 0.008928 secs.</pre>"
      ],
      "text/plain": [
       "Parsing completed. Parsed 360 lines in 0.008928 secs."
      ]
     },
     "metadata": {},
     "output_type": "display_data"
    },
    {
     "name": "stdout",
     "output_type": "stream",
     "text": [
      "360\n"
     ]
    },
    {
     "data": {
      "text/plain": [
       "8280"
      ]
     },
     "execution_count": 148,
     "metadata": {},
     "output_type": "execute_result"
    }
   ],
   "source": [
    "data = tc.SFrame.read_csv(file_list[0])\n",
    "print(len(data))\n",
    "temp = data\n",
    "for i in range(1,len(file_list)):\n",
    "    temp = tc.SFrame.read_csv(file_list[i])\n",
    "    print(len(temp))\n",
    "    data = data.append(temp)\n",
    "len(data)"
   ]
  },
  {
   "cell_type": "code",
   "execution_count": 149,
   "metadata": {},
   "outputs": [
    {
     "data": {
      "text/plain": [
       "23.0"
      ]
     },
     "execution_count": 149,
     "metadata": {},
     "output_type": "execute_result"
    }
   ],
   "source": [
    "num_subjects = len(data)/360\n",
    "num_subjects"
   ]
  },
  {
   "cell_type": "code",
   "execution_count": 150,
   "metadata": {},
   "outputs": [],
   "source": [
    "# data['freq1'] = data.apply(lambda x: 1 if x['response0']=='B' else 0)\n",
    "# data['freq2'] = data.apply(lambda x: 1 if x['response0']=='G' else 0)\n",
    "def score(x):\n",
    "    if x['answerPos1'] - x['answerPos0']>=0:\n",
    "        if x['response0'] == x['answer0']:\n",
    "            correct = 1\n",
    "        else:\n",
    "            correct = 0\n",
    "    else:\n",
    "        if x['response0'] == x['answer0']:\n",
    "            correct = 0\n",
    "        else:\n",
    "            correct = 1\n",
    "    return correct"
   ]
  },
  {
   "cell_type": "code",
   "execution_count": 153,
   "metadata": {},
   "outputs": [
    {
     "data": {
      "text/html": [
       "<pre>Materializing SFrame</pre>"
      ],
      "text/plain": [
       "Materializing SFrame"
      ]
     },
     "metadata": {},
     "output_type": "display_data"
    },
    {
     "data": {
      "text/html": [
       "<pre>Materializing SFrame</pre>"
      ],
      "text/plain": [
       "Materializing SFrame"
      ]
     },
     "metadata": {},
     "output_type": "display_data"
    }
   ],
   "source": [
    "import turicreate.aggregate as agg\n",
    "data['lag'] = data['answerPos1']-data['answerPos0']\n",
    "data['correct'] = data.apply(lambda x: score(x))\n",
    "data.explore()\n",
    "temp = data.filter_by([3.0,9.0],'cueEccentricity')\n",
    "temp.explore()"
   ]
  },
  {
   "cell_type": "code",
   "execution_count": 141,
   "metadata": {},
   "outputs": [
    {
     "data": {
      "text/html": [
       "<pre>Materializing SFrame</pre>"
      ],
      "text/plain": [
       "Materializing SFrame"
      ]
     },
     "metadata": {},
     "output_type": "display_data"
    }
   ],
   "source": [
    "pcfData = data.groupby(['lag','cueEccentricity','cueSpatialPos'],operations = {'p1':agg.SUM('correct'), 'count':agg.COUNT('correct')})\n",
    "pcfData.explore()"
   ]
  },
  {
   "cell_type": "code",
   "execution_count": 142,
   "metadata": {},
   "outputs": [],
   "source": [
    "pcfData_1 = pcfData.filter_by([3.0,9.0],'cueEccentricity')\n",
    "pcfData_11 = pcfData_1[pcfData_1['cueSpatialPos']==[-1.0,0.0]]\n",
    "pcfData_12 = pcfData_1[pcfData_1['cueSpatialPos']==[1.0,0.0]]\n",
    "pcfData_2 = pcfData.filter_by([1.5,6.5],'cueEccentricity')\n",
    "pcfData_21 = pcfData_2[pcfData_2['cueSpatialPos']==[-1.0,0.0]]\n",
    "pcfData_22 = pcfData_2[pcfData_2['cueSpatialPos']==[1.0,0.0]]"
   ]
  },
  {
   "cell_type": "code",
   "execution_count": 143,
   "metadata": {},
   "outputs": [
    {
     "name": "stdout",
     "output_type": "stream",
     "text": [
      "(array([], dtype=int64),)\n",
      "(array([], dtype=int64),)\n",
      "This is the format of your plot grid:\n",
      "[ (1,1) x1,y1 ]\n",
      "\n"
     ]
    },
    {
     "name": "stderr",
     "output_type": "stream",
     "text": [
      "/Users/supadhy6/miniconda3/envs/adiLab/lib/python3.6/site-packages/IPython/core/display.py:689: UserWarning:\n",
      "\n",
      "Consider using IPython.display.IFrame instead\n",
      "\n"
     ]
    },
    {
     "data": {
      "text/html": [
       "<iframe id=\"igraph\" scrolling=\"no\" style=\"border:none;\" seamless=\"seamless\" src=\"https://plot.ly/~adiboy_123/945.embed\" height=\"600px\" width=\"750px\"></iframe>"
      ],
      "text/plain": [
       "<plotly.tools.PlotlyDisplay object>"
      ]
     },
     "execution_count": 143,
     "metadata": {},
     "output_type": "execute_result"
    }
   ],
   "source": [
    "import plotly\n",
    "import psignifit as ps\n",
    "plotly.tools.set_credentials_file(username='adiboy_123', api_key='Nt7os1ZWrofWC47r5xLG')\n",
    "pcfData_1 = pcfData_1.sort(['cueEccentricity','lag'])\n",
    "trace_data = []\n",
    "line_data = []\n",
    "import colorlover as cl\n",
    "from plotly import tools\n",
    "colors = cl.scales['3']['seq']['YlOrRd']\n",
    "for j,ecc in enumerate(pcfData_11['cueEccentricity'].unique().sort()):\n",
    "        ecc_data = pcfData_11[pcfData_11['cueEccentricity']==ecc]\n",
    "        ecc_data = ecc_data.sort('lag')\n",
    "        \n",
    "\n",
    "        # Fit the psychometric curve function using psignifit\n",
    "        psignifit_data = ecc_data['lag','p1','count'].to_numpy()\n",
    "        options = dict();   # initialize as an empty dictionary\n",
    "        options['sigmoidName'] = 'norm';   # choose a cumulative Gauss as the sigmoid  \n",
    "        ecc_result = []\n",
    "        ecc_result = ps.psignifit(psignifit_data,options)\n",
    "        \n",
    "        fit = ecc_result['Fit']\n",
    "        data = ecc_result['data']\n",
    "        options = ecc_result['options']\n",
    "        xData = data[:,0]\n",
    "        yData = data[:,1] / data[:,2]\n",
    "        xMin = min(xData)\n",
    "        xMax = max(xData)\n",
    "        xLength = xMax - xMin\n",
    "        x       = np.linspace(xMin, xMax, num=1000)\n",
    "        extrapolLength = 0.2\n",
    "        ymin = 0\n",
    "        xLow    = np.linspace(xMin - extrapolLength*xLength, xMin, num=100)\n",
    "        xHigh   = np.linspace(xMax, xMax + extrapolLength*xLength, num=100)\n",
    "    \n",
    "        fitValuesLow  = (1 - fit[2] - fit[3]) * options['sigmoidHandle'](xLow,  fit[0], fit[1]) + fit[3]\n",
    "        fitValuesHigh = (1 - fit[2] - fit[3]) * options['sigmoidHandle'](xHigh, fit[0], fit[1]) + fit[3]\n",
    "        fitValues     = (1 - fit[2] - fit[3]) * options['sigmoidHandle'](x,     fit[0], fit[1]) + fit[3]\n",
    "        \n",
    "        y_temp = ecc_data['p1']/ecc_data['count']\n",
    "        trace_data.append(go.Scatter(x = ecc_data['lag'].to_numpy(), \n",
    "                                  y = y_temp.to_numpy(),name = str(ecc) + 'deg', \n",
    "                                     opacity = 0.75, marker = dict(color = colors[j], size = 12, line = dict(width = 2, color='black')), mode='markers' ))\n",
    "        trace_data.append(go.Scatter(x = x, \n",
    "                                  y = fitValues,name = str(ecc) + 'deg fit', showlegend=False, \n",
    "                                     opacity = 1, marker = dict(color = colors[j], size = 5), mode='lines', line=dict(width = 5, color = colors[j])))\n",
    "        trace_data.append(go.Scatter(x = xLow, \n",
    "                                  y = fitValuesLow,name = str(ecc) + 'deg low values', showlegend=False,\n",
    "                                     opacity = 0.75, marker = dict(color = colors[j], size = 5), mode='lines', line = dict(width = 2, color = 'gray',dash = 'dash')))\n",
    "        trace_data.append(go.Scatter(x = xHigh, \n",
    "                                  y = fitValuesHigh,name = str(ecc) + 'deg high values', showlegend=False,\n",
    "                                     opacity = 0.75, marker = dict(color = colors[j], size = 5), mode='lines', line = dict(width = 2, color = 'gray', dash = 'dash')))\n",
    "        trace_data.append(go.Scatter(x = [fit[0], fit[0]], \n",
    "                                  y = [ymin, fit[3] + (1 - fit[2] - fit[3]) * options['threshPC']],name = str(ecc) + 'deg thresh', showlegend=False,\n",
    "                                     opacity = 0.75, marker = dict(color = colors[j], size = 5), mode='lines', line = dict(width = 2, color = 'black')))\n",
    "        trace_data.append(go.Scatter(x = [min(xLow), max(xHigh)], \n",
    "                                  y = [1-fit[2], 1-fit[2]],name = str(ecc) + 'deg low asymptote', showlegend=False,\n",
    "                                     opacity = 0.75, marker = dict(color = colors[j], size = 5), mode='lines', line = dict(width = 2, color = 'gray', dash = 'dot')))\n",
    "        trace_data.append(go.Scatter(x = [min(xLow), max(xHigh)], \n",
    "                                  y = [fit[3], fit[3]],name = str(ecc) + 'deg high asymptote', showlegend=False,\n",
    "                                     opacity = 0.75, marker = dict(color = colors[j], size = 5), mode='lines', line = dict(width = 2, color = 'gray', dash = 'dot')))\n",
    "        CIs = ecc_result['conf_Intervals']\n",
    "        CI_y = np.array([fit[3] + .5*(1 - fit[2] - fit[3]) for i in range(2)])\n",
    "        \n",
    "        trace_data.append(go.Scatter(x = CIs[0,:,0], \n",
    "                                  y = CI_y,name = str(ecc) + 'deg CI', showlegend=False,\n",
    "                                     opacity = 0.75, marker = dict(color = colors[j], size = 5), mode='lines', line = dict(width = 2, color = 'black')))\n",
    "        \n",
    "        trace_data.append(go.Scatter(x = [CIs[0,0,0], CIs[0,0,0]], \n",
    "                                  y = CI_y + [-.01, .01], showlegend=False,\n",
    "                                     opacity = 0.75, marker = dict(color = colors[j], size = 5), mode='lines', line = dict(width = 2, color = 'black')))\n",
    "        \n",
    "        trace_data.append(go.Scatter(x = [CIs[0,1,0], CIs[0,1,0]], \n",
    "                                  y = CI_y + [-.01, .01], showlegend=False,\n",
    "                                     opacity = 0.75, marker = dict(color = colors[j], size = 5), mode='lines', line = dict(width = 2, color = 'black')))\n",
    "      \n",
    "\n",
    "\n",
    "fig = tools.make_subplots(rows=1, cols=1)\n",
    "fig['layout'].update(barmode='group', title = 'psychometric curve - '+str(num_subjects)+' participants. Blue dot always in the fixation. Green to the left', width = 750, height = 600)\n",
    "fig['layout']['xaxis1'].update(title='positional lag of blue wrt green')\n",
    "fig['layout']['yaxis1'].update(title='Prob. green flashed later')\n",
    "for i in range(len(trace_data)):\n",
    "    fig.add_trace(trace_data[i], 1, 1)\n",
    "py.iplot(fig, filename='pcf_visual_now_one_dot_fixation')"
   ]
  },
  {
   "cell_type": "code",
   "execution_count": 144,
   "metadata": {},
   "outputs": [
    {
     "name": "stdout",
     "output_type": "stream",
     "text": [
      "(array([], dtype=int64),)\n",
      "(array([], dtype=int64),)\n",
      "This is the format of your plot grid:\n",
      "[ (1,1) x1,y1 ]\n",
      "\n"
     ]
    },
    {
     "data": {
      "text/html": [
       "<iframe id=\"igraph\" scrolling=\"no\" style=\"border:none;\" seamless=\"seamless\" src=\"https://plot.ly/~adiboy_123/963.embed\" height=\"600px\" width=\"750px\"></iframe>"
      ],
      "text/plain": [
       "<plotly.tools.PlotlyDisplay object>"
      ]
     },
     "execution_count": 144,
     "metadata": {},
     "output_type": "execute_result"
    }
   ],
   "source": [
    "import plotly\n",
    "import psignifit as ps\n",
    "plotly.tools.set_credentials_file(username='adiboy_123', api_key='Nt7os1ZWrofWC47r5xLG')\n",
    "pcfData_1 = pcfData_1.sort(['cueEccentricity','lag'])\n",
    "trace_data = []\n",
    "line_data = []\n",
    "import colorlover as cl\n",
    "from plotly import tools\n",
    "colors = cl.scales['3']['seq']['YlOrRd']\n",
    "for j,ecc in enumerate(pcfData_12['cueEccentricity'].unique().sort()):\n",
    "        ecc_data = pcfData_12[pcfData_12['cueEccentricity']==ecc]\n",
    "        ecc_data = ecc_data.sort('lag')\n",
    "        \n",
    "\n",
    "        # Fit the psychometric curve function using psignifit\n",
    "        psignifit_data = ecc_data['lag','p1','count'].to_numpy()\n",
    "        options = dict();   # initialize as an empty dictionary\n",
    "        options['sigmoidName'] = 'norm';   # choose a cumulative Gauss as the sigmoid  \n",
    "        ecc_result = []\n",
    "        ecc_result = ps.psignifit(psignifit_data,options)\n",
    "        \n",
    "        fit = ecc_result['Fit']\n",
    "        data = ecc_result['data']\n",
    "        options = ecc_result['options']\n",
    "        xData = data[:,0]\n",
    "        yData = data[:,1] / data[:,2]\n",
    "        xMin = min(xData)\n",
    "        xMax = max(xData)\n",
    "        xLength = xMax - xMin\n",
    "        x       = np.linspace(xMin, xMax, num=1000)\n",
    "        extrapolLength = 0.2\n",
    "        ymin = 0\n",
    "        xLow    = np.linspace(xMin - extrapolLength*xLength, xMin, num=100)\n",
    "        xHigh   = np.linspace(xMax, xMax + extrapolLength*xLength, num=100)\n",
    "    \n",
    "        fitValuesLow  = (1 - fit[2] - fit[3]) * options['sigmoidHandle'](xLow,  fit[0], fit[1]) + fit[3]\n",
    "        fitValuesHigh = (1 - fit[2] - fit[3]) * options['sigmoidHandle'](xHigh, fit[0], fit[1]) + fit[3]\n",
    "        fitValues     = (1 - fit[2] - fit[3]) * options['sigmoidHandle'](x,     fit[0], fit[1]) + fit[3]\n",
    "        \n",
    "        y_temp = ecc_data['p1']/ecc_data['count']\n",
    "        trace_data.append(go.Scatter(x = ecc_data['lag'].to_numpy(), \n",
    "                                  y = y_temp.to_numpy(),name = str(ecc) + 'deg', \n",
    "                                     opacity = 0.75, marker = dict(color = colors[j], size = 12, line = dict(width = 2, color='black')), mode='markers' ))\n",
    "        trace_data.append(go.Scatter(x = x, \n",
    "                                  y = fitValues,name = str(ecc) + 'deg fit', showlegend=False, \n",
    "                                     opacity = 1, marker = dict(color = colors[j], size = 5), mode='lines', line=dict(width = 5, color = colors[j])))\n",
    "        trace_data.append(go.Scatter(x = xLow, \n",
    "                                  y = fitValuesLow,name = str(ecc) + 'deg low values', showlegend=False,\n",
    "                                     opacity = 0.75, marker = dict(color = colors[j], size = 5), mode='lines', line = dict(width = 2, color = 'gray',dash = 'dash')))\n",
    "        trace_data.append(go.Scatter(x = xHigh, \n",
    "                                  y = fitValuesHigh,name = str(ecc) + 'deg high values', showlegend=False,\n",
    "                                     opacity = 0.75, marker = dict(color = colors[j], size = 5), mode='lines', line = dict(width = 2, color = 'gray', dash = 'dash')))\n",
    "        trace_data.append(go.Scatter(x = [fit[0], fit[0]], \n",
    "                                  y = [ymin, fit[3] + (1 - fit[2] - fit[3]) * options['threshPC']],name = str(ecc) + 'deg thresh', showlegend=False,\n",
    "                                     opacity = 0.75, marker = dict(color = colors[j], size = 5), mode='lines', line = dict(width = 2, color = 'black')))\n",
    "        trace_data.append(go.Scatter(x = [min(xLow), max(xHigh)], \n",
    "                                  y = [1-fit[2], 1-fit[2]],name = str(ecc) + 'deg low asymptote', showlegend=False,\n",
    "                                     opacity = 0.75, marker = dict(color = colors[j], size = 5), mode='lines', line = dict(width = 2, color = 'gray', dash = 'dot')))\n",
    "        trace_data.append(go.Scatter(x = [min(xLow), max(xHigh)], \n",
    "                                  y = [fit[3], fit[3]],name = str(ecc) + 'deg high asymptote', showlegend=False,\n",
    "                                     opacity = 0.75, marker = dict(color = colors[j], size = 5), mode='lines', line = dict(width = 2, color = 'gray', dash = 'dot')))\n",
    "        CIs = ecc_result['conf_Intervals']\n",
    "        CI_y = np.array([fit[3] + .5*(1 - fit[2] - fit[3]) for i in range(2)])\n",
    "        \n",
    "        trace_data.append(go.Scatter(x = CIs[0,:,0], \n",
    "                                  y = CI_y,name = str(ecc) + 'deg CI', showlegend=False,\n",
    "                                     opacity = 0.75, marker = dict(color = colors[j], size = 5), mode='lines', line = dict(width = 2, color = 'black')))\n",
    "        \n",
    "        trace_data.append(go.Scatter(x = [CIs[0,0,0], CIs[0,0,0]], \n",
    "                                  y = CI_y + [-.01, .01], showlegend=False,\n",
    "                                     opacity = 0.75, marker = dict(color = colors[j], size = 5), mode='lines', line = dict(width = 2, color = 'black')))\n",
    "        \n",
    "        trace_data.append(go.Scatter(x = [CIs[0,1,0], CIs[0,1,0]], \n",
    "                                  y = CI_y + [-.01, .01], showlegend=False,\n",
    "                                     opacity = 0.75, marker = dict(color = colors[j], size = 5), mode='lines', line = dict(width = 2, color = 'black')))\n",
    "      \n",
    "\n",
    "\n",
    "fig = tools.make_subplots(rows=1, cols=1)\n",
    "fig['layout'].update(barmode='group', title = 'psychometric curve - '+str(num_subjects)+' participants. Blue dot always in the fixation. Green to the right', width = 750, height = 600)\n",
    "fig['layout']['xaxis1'].update(title='positional lag of blue wrt green')\n",
    "fig['layout']['yaxis1'].update(title='Prob. green flashed later')\n",
    "for i in range(len(trace_data)):\n",
    "    fig.add_trace(trace_data[i], 1, 1)\n",
    "py.iplot(fig, filename='pcf_visual_now_one_dot_fixation_2')"
   ]
  },
  {
   "cell_type": "code",
   "execution_count": 145,
   "metadata": {},
   "outputs": [
    {
     "name": "stdout",
     "output_type": "stream",
     "text": [
      "(array([], dtype=int64),)\n",
      "(array([], dtype=int64),)\n",
      "This is the format of your plot grid:\n",
      "[ (1,1) x1,y1 ]\n",
      "\n"
     ]
    },
    {
     "data": {
      "text/html": [
       "<iframe id=\"igraph\" scrolling=\"no\" style=\"border:none;\" seamless=\"seamless\" src=\"https://plot.ly/~adiboy_123/961.embed\" height=\"600px\" width=\"750px\"></iframe>"
      ],
      "text/plain": [
       "<plotly.tools.PlotlyDisplay object>"
      ]
     },
     "execution_count": 145,
     "metadata": {},
     "output_type": "execute_result"
    }
   ],
   "source": [
    "import plotly\n",
    "plotly.tools.set_credentials_file(username='adiboy_123', api_key='Nt7os1ZWrofWC47r5xLG')\n",
    "pcfData_21 = pcfData_21.sort(['cueEccentricity','lag'])\n",
    "trace_data = []\n",
    "line_data = []\n",
    "import colorlover as cl\n",
    "from plotly import tools\n",
    "colors = cl.scales['3']['seq']['YlOrRd']\n",
    "for j,ecc in enumerate(pcfData_21['cueEccentricity'].unique().sort()):\n",
    "        ecc_data = pcfData_21[pcfData_21['cueEccentricity']==ecc]\n",
    "        ecc_data = ecc_data.sort('lag')\n",
    "        \n",
    "\n",
    "        # Fit the psychometric curve function using psignifit\n",
    "        psignifit_data = ecc_data['lag','p1','count'].to_numpy()\n",
    "        options = dict();   # initialize as an empty dictionary\n",
    "        options['sigmoidName'] = 'norm';   # choose a cumulative Gauss as the sigmoid  \n",
    "        ecc_result = []\n",
    "        ecc_result = ps.psignifit(psignifit_data,options)\n",
    "        \n",
    "        fit = ecc_result['Fit']\n",
    "        data = ecc_result['data']\n",
    "        options = ecc_result['options']\n",
    "        xData = data[:,0]\n",
    "        yData = data[:,1] / data[:,2]\n",
    "        xMin = min(xData)\n",
    "        xMax = max(xData)\n",
    "        xLength = xMax - xMin\n",
    "        x       = np.linspace(xMin, xMax, num=1000)\n",
    "        extrapolLength = 0.2\n",
    "        ymin = 0\n",
    "        xLow    = np.linspace(xMin - extrapolLength*xLength, xMin, num=100)\n",
    "        xHigh   = np.linspace(xMax, xMax + extrapolLength*xLength, num=100)\n",
    "    \n",
    "        fitValuesLow  = (1 - fit[2] - fit[3]) * options['sigmoidHandle'](xLow,  fit[0], fit[1]) + fit[3]\n",
    "        fitValuesHigh = (1 - fit[2] - fit[3]) * options['sigmoidHandle'](xHigh, fit[0], fit[1]) + fit[3]\n",
    "        fitValues     = (1 - fit[2] - fit[3]) * options['sigmoidHandle'](x,     fit[0], fit[1]) + fit[3]\n",
    "        \n",
    "        y_temp = ecc_data['p1']/ecc_data['count']\n",
    "        trace_data.append(go.Scatter(x = ecc_data['lag'].to_numpy(), \n",
    "                                  y = y_temp.to_numpy(),name = str(ecc) + 'deg', \n",
    "                                     opacity = 0.75, marker = dict(color = colors[j], size = 12, line = dict(width = 2, color='black')), mode='markers' ))\n",
    "        trace_data.append(go.Scatter(x = x, \n",
    "                                  y = fitValues,name = str(ecc) + 'deg fit', showlegend=False, \n",
    "                                     opacity = 1, marker = dict(color = colors[j], size = 5), mode='lines', line=dict(width = 5, color = colors[j])))\n",
    "        trace_data.append(go.Scatter(x = xLow, \n",
    "                                  y = fitValuesLow,name = str(ecc) + 'deg low values', showlegend=False,\n",
    "                                     opacity = 0.75, marker = dict(color = colors[j], size = 5), mode='lines', line = dict(width = 2, color = 'gray',dash = 'dash')))\n",
    "        trace_data.append(go.Scatter(x = xHigh, \n",
    "                                  y = fitValuesHigh,name = str(ecc) + 'deg high values', showlegend=False,\n",
    "                                     opacity = 0.75, marker = dict(color = colors[j], size = 5), mode='lines', line = dict(width = 2, color = 'gray', dash = 'dash')))\n",
    "        trace_data.append(go.Scatter(x = [fit[0], fit[0]], \n",
    "                                  y = [ymin, fit[3] + (1 - fit[2] - fit[3]) * options['threshPC']],name = str(ecc) + 'deg thresh', showlegend=False,\n",
    "                                     opacity = 0.75, marker = dict(color = colors[j], size = 5), mode='lines', line = dict(width = 2, color = 'black')))\n",
    "        trace_data.append(go.Scatter(x = [min(xLow), max(xHigh)], \n",
    "                                  y = [1-fit[2], 1-fit[2]],name = str(ecc) + 'deg low asymptote', showlegend=False,\n",
    "                                     opacity = 0.75, marker = dict(color = colors[j], size = 5), mode='lines', line = dict(width = 2, color = 'gray', dash = 'dot')))\n",
    "        trace_data.append(go.Scatter(x = [min(xLow), max(xHigh)], \n",
    "                                  y = [fit[3], fit[3]],name = str(ecc) + 'deg high asymptote', showlegend=False,\n",
    "                                     opacity = 0.75, marker = dict(color = colors[j], size = 5), mode='lines', line = dict(width = 2, color = 'gray', dash = 'dot')))\n",
    "        CIs = ecc_result['conf_Intervals']\n",
    "        CI_y = np.array([fit[3] + .5*(1 - fit[2] - fit[3]) for i in range(2)])\n",
    "        \n",
    "        trace_data.append(go.Scatter(x = CIs[0,:,0], \n",
    "                                  y = CI_y,name = str(ecc) + 'deg CI', showlegend=False,\n",
    "                                     opacity = 0.75, marker = dict(color = colors[j], size = 5), mode='lines', line = dict(width = 2, color = 'black')))\n",
    "        \n",
    "        trace_data.append(go.Scatter(x = [CIs[0,0,0], CIs[0,0,0]], \n",
    "                                  y = CI_y + [-.01, .01], showlegend=False,\n",
    "                                     opacity = 0.75, marker = dict(color = colors[j], size = 5), mode='lines', line = dict(width = 2, color = 'black')))\n",
    "        \n",
    "        trace_data.append(go.Scatter(x = [CIs[0,1,0], CIs[0,1,0]], \n",
    "                                  y = CI_y + [-.01, .01], showlegend=False,\n",
    "                                     opacity = 0.75, marker = dict(color = colors[j], size = 5), mode='lines', line = dict(width = 2, color = 'black')))\n",
    "      \n",
    "\n",
    "\n",
    "fig = tools.make_subplots(rows=1, cols=1)\n",
    "fig['layout'].update(barmode='group', title = 'psychometric curve - '+str(num_subjects)+' participants. Both dots are equidistant from fixation. Blue to the right', width = 750, height = 600)\n",
    "fig['layout']['xaxis1'].update(title='positional lag of green wrt blue')\n",
    "fig['layout']['yaxis1'].update(title='Prob. green flashed later')\n",
    "for i in range(len(trace_data)):\n",
    "    fig.add_trace(trace_data[i], 1, 1)\n",
    "py.iplot(fig, filename='pcf_visual_now_both_equidistant')"
   ]
  },
  {
   "cell_type": "code",
   "execution_count": 146,
   "metadata": {},
   "outputs": [
    {
     "name": "stdout",
     "output_type": "stream",
     "text": [
      "(array([], dtype=int64),)\n",
      "(array([], dtype=int64),)\n",
      "This is the format of your plot grid:\n",
      "[ (1,1) x1,y1 ]\n",
      "\n"
     ]
    },
    {
     "data": {
      "text/html": [
       "<iframe id=\"igraph\" scrolling=\"no\" style=\"border:none;\" seamless=\"seamless\" src=\"https://plot.ly/~adiboy_123/961.embed\" height=\"600px\" width=\"750px\"></iframe>"
      ],
      "text/plain": [
       "<plotly.tools.PlotlyDisplay object>"
      ]
     },
     "execution_count": 146,
     "metadata": {},
     "output_type": "execute_result"
    }
   ],
   "source": [
    "import plotly\n",
    "plotly.tools.set_credentials_file(username='adiboy_123', api_key='Nt7os1ZWrofWC47r5xLG')\n",
    "pcfData_22 = pcfData_22.sort(['cueEccentricity','lag'])\n",
    "trace_data = []\n",
    "line_data = []\n",
    "import colorlover as cl\n",
    "from plotly import tools\n",
    "colors = cl.scales['3']['seq']['YlOrRd']\n",
    "for j,ecc in enumerate(pcfData_22['cueEccentricity'].unique().sort()):\n",
    "        ecc_data = pcfData_22[pcfData_22['cueEccentricity']==ecc]\n",
    "        ecc_data = ecc_data.sort('lag')\n",
    "        \n",
    "\n",
    "        # Fit the psychometric curve function using psignifit\n",
    "        psignifit_data = ecc_data['lag','p1','count'].to_numpy()\n",
    "        options = dict();   # initialize as an empty dictionary\n",
    "        options['sigmoidName'] = 'norm';   # choose a cumulative Gauss as the sigmoid  \n",
    "        ecc_result = []\n",
    "        ecc_result = ps.psignifit(psignifit_data,options)\n",
    "        \n",
    "        fit = ecc_result['Fit']\n",
    "        data = ecc_result['data']\n",
    "        options = ecc_result['options']\n",
    "        xData = data[:,0]\n",
    "        yData = data[:,1] / data[:,2]\n",
    "        xMin = min(xData)\n",
    "        xMax = max(xData)\n",
    "        xLength = xMax - xMin\n",
    "        x       = np.linspace(xMin, xMax, num=1000)\n",
    "        extrapolLength = 0.2\n",
    "        ymin = 0\n",
    "        xLow    = np.linspace(xMin - extrapolLength*xLength, xMin, num=100)\n",
    "        xHigh   = np.linspace(xMax, xMax + extrapolLength*xLength, num=100)\n",
    "    \n",
    "        fitValuesLow  = (1 - fit[2] - fit[3]) * options['sigmoidHandle'](xLow,  fit[0], fit[1]) + fit[3]\n",
    "        fitValuesHigh = (1 - fit[2] - fit[3]) * options['sigmoidHandle'](xHigh, fit[0], fit[1]) + fit[3]\n",
    "        fitValues     = (1 - fit[2] - fit[3]) * options['sigmoidHandle'](x,     fit[0], fit[1]) + fit[3]\n",
    "        \n",
    "        y_temp = ecc_data['p1']/ecc_data['count']\n",
    "        trace_data.append(go.Scatter(x = ecc_data['lag'].to_numpy(), \n",
    "                                  y = y_temp.to_numpy(),name = str(ecc) + 'deg', \n",
    "                                     opacity = 0.75, marker = dict(color = colors[j], size = 12, line = dict(width = 2, color='black')), mode='markers' ))\n",
    "        trace_data.append(go.Scatter(x = x, \n",
    "                                  y = fitValues,name = str(ecc) + 'deg fit', showlegend=False, \n",
    "                                     opacity = 1, marker = dict(color = colors[j], size = 5), mode='lines', line=dict(width = 5, color = colors[j])))\n",
    "        trace_data.append(go.Scatter(x = xLow, \n",
    "                                  y = fitValuesLow,name = str(ecc) + 'deg low values', showlegend=False,\n",
    "                                     opacity = 0.75, marker = dict(color = colors[j], size = 5), mode='lines', line = dict(width = 2, color = 'gray',dash = 'dash')))\n",
    "        trace_data.append(go.Scatter(x = xHigh, \n",
    "                                  y = fitValuesHigh,name = str(ecc) + 'deg high values', showlegend=False,\n",
    "                                     opacity = 0.75, marker = dict(color = colors[j], size = 5), mode='lines', line = dict(width = 2, color = 'gray', dash = 'dash')))\n",
    "        trace_data.append(go.Scatter(x = [fit[0], fit[0]], \n",
    "                                  y = [ymin, fit[3] + (1 - fit[2] - fit[3]) * options['threshPC']],name = str(ecc) + 'deg thresh', showlegend=False,\n",
    "                                     opacity = 0.75, marker = dict(color = colors[j], size = 5), mode='lines', line = dict(width = 2, color = 'black')))\n",
    "        trace_data.append(go.Scatter(x = [min(xLow), max(xHigh)], \n",
    "                                  y = [1-fit[2], 1-fit[2]],name = str(ecc) + 'deg low asymptote', showlegend=False,\n",
    "                                     opacity = 0.75, marker = dict(color = colors[j], size = 5), mode='lines', line = dict(width = 2, color = 'gray', dash = 'dot')))\n",
    "        trace_data.append(go.Scatter(x = [min(xLow), max(xHigh)], \n",
    "                                  y = [fit[3], fit[3]],name = str(ecc) + 'deg high asymptote', showlegend=False,\n",
    "                                     opacity = 0.75, marker = dict(color = colors[j], size = 5), mode='lines', line = dict(width = 2, color = 'gray', dash = 'dot')))\n",
    "        CIs = ecc_result['conf_Intervals']\n",
    "        CI_y = np.array([fit[3] + .5*(1 - fit[2] - fit[3]) for i in range(2)])\n",
    "        \n",
    "        trace_data.append(go.Scatter(x = CIs[0,:,0], \n",
    "                                  y = CI_y,name = str(ecc) + 'deg CI', showlegend=False,\n",
    "                                     opacity = 0.75, marker = dict(color = colors[j], size = 5), mode='lines', line = dict(width = 2, color = 'black')))\n",
    "        \n",
    "        trace_data.append(go.Scatter(x = [CIs[0,0,0], CIs[0,0,0]], \n",
    "                                  y = CI_y + [-.01, .01], showlegend=False,\n",
    "                                     opacity = 0.75, marker = dict(color = colors[j], size = 5), mode='lines', line = dict(width = 2, color = 'black')))\n",
    "        \n",
    "        trace_data.append(go.Scatter(x = [CIs[0,1,0], CIs[0,1,0]], \n",
    "                                  y = CI_y + [-.01, .01], showlegend=False,\n",
    "                                     opacity = 0.75, marker = dict(color = colors[j], size = 5), mode='lines', line = dict(width = 2, color = 'black')))\n",
    "      \n",
    "\n",
    "\n",
    "fig = tools.make_subplots(rows=1, cols=1)\n",
    "fig['layout'].update(barmode='group', title = 'psychometric curve - '+str(num_subjects)+' participants. Both dots are equidistant from fixation. Blue to the left', width = 750, height = 600)\n",
    "fig['layout']['xaxis1'].update(title='positional lag of green wrt blue')\n",
    "fig['layout']['yaxis1'].update(title='Prob. green flashed later')\n",
    "for i in range(len(trace_data)):\n",
    "    fig.add_trace(trace_data[i], 1, 1)\n",
    "py.iplot(fig, filename='pcf_visual_now_both_equidistant')"
   ]
  },
  {
   "cell_type": "code",
   "execution_count": null,
   "metadata": {
    "collapsed": true
   },
   "outputs": [],
   "source": []
  }
 ],
 "metadata": {
  "anaconda-cloud": {},
  "kernelspec": {
   "display_name": "adiLab (3.7)",
   "language": "python",
   "name": "adilab"
  },
  "language_info": {
   "codemirror_mode": {
    "name": "ipython",
    "version": 3
   },
   "file_extension": ".py",
   "mimetype": "text/x-python",
   "name": "python",
   "nbconvert_exporter": "python",
   "pygments_lexer": "ipython3",
   "version": "3.6.0"
  },
  "toc": {
   "base_numbering": 1,
   "nav_menu": {},
   "number_sections": true,
   "sideBar": true,
   "skip_h1_title": false,
   "title_cell": "Table of Contents",
   "title_sidebar": "Contents",
   "toc_cell": false,
   "toc_position": {},
   "toc_section_display": true,
   "toc_window_display": false
  }
 },
 "nbformat": 4,
 "nbformat_minor": 1
}
