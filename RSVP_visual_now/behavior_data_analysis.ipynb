{
 "cells": [
  {
   "cell_type": "code",
   "execution_count": 1,
   "metadata": {
    "collapsed": false
   },
   "outputs": [
    {
     "name": "stderr",
     "output_type": "stream",
     "text": [
      "[INFO] graphlab.cython.cy_server: GraphLab Create v2.1 started. Logging: /tmp/graphlab_server_1542044992.log\n"
     ]
    },
    {
     "name": "stdout",
     "output_type": "stream",
     "text": [
      "This non-commercial license of GraphLab Create for academic use is assigned to supadhy6@jhu.edu and will expire on September 18, 2019.\n"
     ]
    }
   ],
   "source": [
    "# clear all the variables\n",
    "%reset -f\n",
    "import numpy as np\n",
    "import pandas as pd\n",
    "import sys\n",
    "import graphlab\n",
    "import os\n",
    "from os import walk\n",
    "import scipy.io\n",
    "import xlrd, os, fnmatch\n",
    "import pandas as pd\n",
    "import tensorflow as tf\n",
    "import plotly.plotly as py\n",
    "import plotly.graph_objs as go\n",
    "from scipy.spatial.distance import cdist\n",
    "# Path variable (where the data is located)\n",
    "myPath = './data/' \n",
    "# Append the path variable to existing search path\n",
    "sys.path.append(myPath)\n",
    "# Get the file information in the directory\n",
    "file_list = []\n",
    "for root, dirs, files in os.walk(myPath):\n",
    "    for filename in files:\n",
    "        if fnmatch.fnmatch(filename.lower(), \"*csv\"):\n",
    "            file_list.append(os.path.join(root, filename))"
   ]
  },
  {
   "cell_type": "code",
   "execution_count": 2,
   "metadata": {
    "collapsed": false
   },
   "outputs": [
    {
     "data": {
      "text/plain": [
       "['./data/Alex_12Nov2018_12-16.csv',\n",
       " './data/2_11Nov2018_16-43.csv',\n",
       " './data/1_11Nov2018_16-40.csv',\n",
       " './data/Adi_11Nov2018_13-02.csv',\n",
       " './data/Adi_11Nov2018_20-14.csv',\n",
       " './data/3_12Nov2018_06-25.csv']"
      ]
     },
     "execution_count": 2,
     "metadata": {},
     "output_type": "execute_result"
    }
   ],
   "source": [
    "file_list"
   ]
  },
  {
   "cell_type": "code",
   "execution_count": 14,
   "metadata": {
    "collapsed": false
   },
   "outputs": [
    {
     "data": {
      "text/html": [
       "<pre>Finished parsing file /Users/supadhy6/Documents/GitHub/spatio_temporal_information_processing/RSVP_visual_now/data/Alex_12Nov2018_12-16.csv</pre>"
      ],
      "text/plain": [
       "Finished parsing file /Users/supadhy6/Documents/GitHub/spatio_temporal_information_processing/RSVP_visual_now/data/Alex_12Nov2018_12-16.csv"
      ]
     },
     "metadata": {},
     "output_type": "display_data"
    },
    {
     "data": {
      "text/html": [
       "<pre>Parsing completed. Parsed 100 lines in 0.041018 secs.</pre>"
      ],
      "text/plain": [
       "Parsing completed. Parsed 100 lines in 0.041018 secs."
      ]
     },
     "metadata": {},
     "output_type": "display_data"
    },
    {
     "name": "stdout",
     "output_type": "stream",
     "text": [
      "------------------------------------------------------\n",
      "Inferred types from first 100 line(s) of file as \n",
      "column_type_hints=[str,int,str,str,float,int,str,str,float,float,array,int,int]\n",
      "If parsing fails due to incorrect types, you can correct\n",
      "the inferred type list above and pass it to read_csv in\n",
      "the column_type_hints argument\n",
      "------------------------------------------------------\n"
     ]
    },
    {
     "data": {
      "text/html": [
       "<pre>Finished parsing file /Users/supadhy6/Documents/GitHub/spatio_temporal_information_processing/RSVP_visual_now/data/Alex_12Nov2018_12-16.csv</pre>"
      ],
      "text/plain": [
       "Finished parsing file /Users/supadhy6/Documents/GitHub/spatio_temporal_information_processing/RSVP_visual_now/data/Alex_12Nov2018_12-16.csv"
      ]
     },
     "metadata": {},
     "output_type": "display_data"
    },
    {
     "data": {
      "text/html": [
       "<pre>Parsing completed. Parsed 300 lines in 0.010074 secs.</pre>"
      ],
      "text/plain": [
       "Parsing completed. Parsed 300 lines in 0.010074 secs."
      ]
     },
     "metadata": {},
     "output_type": "display_data"
    }
   ],
   "source": [
    "data = graphlab.SFrame.read_csv(file_list[0])"
   ]
  },
  {
   "cell_type": "code",
   "execution_count": 15,
   "metadata": {
    "collapsed": false
   },
   "outputs": [
    {
     "name": "stdout",
     "output_type": "stream",
     "text": [
      "Canvas is updated and available in a tab in the default browser.\n"
     ]
    }
   ],
   "source": [
    "data.show()"
   ]
  },
  {
   "cell_type": "code",
   "execution_count": 16,
   "metadata": {
    "collapsed": false
   },
   "outputs": [
    {
     "name": "stdout",
     "output_type": "stream",
     "text": [
      "This is the format of your plot grid:\n",
      "[ (1,1) x1,y1 ]  [ (1,2) x2,y2 ]\n",
      "\n"
     ]
    },
    {
     "data": {
      "text/html": [
       "<iframe id=\"igraph\" scrolling=\"no\" style=\"border:none;\" seamless=\"seamless\" src=\"https://plot.ly/~adiboy_123/936.embed\" height=\"525px\" width=\"100%\"></iframe>"
      ],
      "text/plain": [
       "<plotly.tools.PlotlyDisplay object>"
      ]
     },
     "execution_count": 16,
     "metadata": {},
     "output_type": "execute_result"
    }
   ],
   "source": [
    "from plotly import tools\n",
    "trace = [[]]*4\n",
    "colors = ['darkviolet','darkgreen']\n",
    "for i,cuePos in enumerate(data['cueSpatialPos1'].unique()):\n",
    "    cuePosdata = data[data['cueSpatialPos1']==cuePos]\n",
    "    temp = []\n",
    "    for j,ecc in enumerate(cuePosdata['cueEccentricity1'].unique().sort()):\n",
    "        ecc_data = cuePosdata[cuePosdata['cueEccentricity1']==ecc]\n",
    "        temp.append(go.Histogram(x = ecc_data['responsePosRelative0'].to_numpy(), name = str(ecc) + 'deg', opacity = 0.5, marker = dict(color = colors[j])))\n",
    "    trace[i] = temp\n",
    "\n",
    "if data['cueSpatialPos1'].unique()[0] == [-1.0,0.0]:\n",
    "    titles = ('West','East')\n",
    "else:\n",
    "    titles = ('East','West')\n",
    "    \n",
    "fig = tools.make_subplots(rows=1, cols=2, subplot_titles = titles)\n",
    "fig['layout'].update(barmode='overlay', title = 'performance in RSVP visual now task for different cue positions')\n",
    "#fig['layout']['xaxis3'].update(title='position of reported item relative to the true item', range = [-2,2])\n",
    "#fig['layout']['xaxis4'].update(title='position of reported item relative to the true item', range = [-2,2])\n",
    "fig['layout']['xaxis1'].update(range=[-2,2],title='position of reported item relative to the true item')\n",
    "fig['layout']['xaxis2'].update(range=[-2,2], title='position of reported item relative to the true item')\n",
    "fig['layout']['yaxis1'].update(title='Frequency')\n",
    "#fig['layout']['yaxis3'].update(title='Frequency')\n",
    "for i in range(2):\n",
    "    fig.append_trace(trace[0][i], 1, 1)\n",
    "    fig.append_trace(trace[1][i], 1, 2)\n",
    "    #fig.append_trace(trace[2][i], 2, 1)\n",
    "    #fig.append_trace(trace[3][i], 2, 2)\n",
    "py.iplot(fig, filename='RSVP_visual_now')"
   ]
  },
  {
   "cell_type": "code",
   "execution_count": 10,
   "metadata": {
    "collapsed": false
   },
   "outputs": [
    {
     "data": {
      "text/plain": [
       "dtype: array\n",
       "Rows: 2\n",
       "[array('d', [-1.0, 0.0]), array('d', [1.0, 0.0])]"
      ]
     },
     "execution_count": 10,
     "metadata": {},
     "output_type": "execute_result"
    }
   ],
   "source": [
    "data['cueSpatialPos1'].unique()"
   ]
  },
  {
   "cell_type": "code",
   "execution_count": null,
   "metadata": {
    "collapsed": true
   },
   "outputs": [],
   "source": []
  }
 ],
 "metadata": {
  "anaconda-cloud": {},
  "kernelspec": {
   "display_name": "Python [conda env:gl-env]",
   "language": "python",
   "name": "conda-env-gl-env-py"
  },
  "language_info": {
   "codemirror_mode": {
    "name": "ipython",
    "version": 2
   },
   "file_extension": ".py",
   "mimetype": "text/x-python",
   "name": "python",
   "nbconvert_exporter": "python",
   "pygments_lexer": "ipython2",
   "version": "2.7.13"
  },
  "toc": {
   "base_numbering": 1,
   "nav_menu": {},
   "number_sections": true,
   "sideBar": true,
   "skip_h1_title": false,
   "title_cell": "Table of Contents",
   "title_sidebar": "Contents",
   "toc_cell": false,
   "toc_position": {},
   "toc_section_display": true,
   "toc_window_display": false
  }
 },
 "nbformat": 4,
 "nbformat_minor": 1
}
