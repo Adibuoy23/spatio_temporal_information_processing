{
 "cells": [
  {
   "cell_type": "code",
   "execution_count": 20,
   "metadata": {},
   "outputs": [],
   "source": [
    "# clear all the variables\n",
    "%reset -f\n",
    "import numpy as np\n",
    "import pandas as pd\n",
    "import sys\n",
    "import turicreate as tc\n",
    "import os\n",
    "from os import walk\n",
    "import scipy.io\n",
    "import xlrd, os, fnmatch\n",
    "import array\n",
    "import pandas as pd\n",
    "import tensorflow as tf\n",
    "import plotly.plotly as py\n",
    "import plotly.graph_objs as go\n",
    "from scipy.spatial.distance import cdist\n",
    "# Path variable (where the data is located)\n",
    "myPath = './data/RSVP_spatial_cue_replication/' \n",
    "# Append the path variable to existing search path\n",
    "sys.path.append(myPath)\n",
    "# Get the file information in the directory\n",
    "file_list = []\n",
    "ignore_list = ['pilot']\n",
    "for root, dirs, files in os.walk(myPath):\n",
    "    if 'pilot' in dirs:\n",
    "        dirs[:]=[]\n",
    "    for filename in files:\n",
    "        if fnmatch.fnmatch(filename.lower(), \"*csv\"):\n",
    "            file_list.append(os.path.join(root, filename))"
   ]
  },
  {
   "cell_type": "code",
   "execution_count": 21,
   "metadata": {},
   "outputs": [
    {
     "data": {
      "text/plain": [
       "['./data/RSVP_spatial_cue_replication/20_07Feb2019_12-10.csv',\n",
       " './data/RSVP_spatial_cue_replication/24_07Feb2019_17-30.csv',\n",
       " './data/RSVP_spatial_cue_replication/3_05Feb2019_17-54.csv',\n",
       " './data/RSVP_spatial_cue_replication/30_19Feb2019_09-35.csv',\n",
       " './data/RSVP_spatial_cue_replication/9_06Feb2019_10-34.csv',\n",
       " './data/RSVP_spatial_cue_replication/10_06Feb2019_11-01.csv',\n",
       " './data/RSVP_spatial_cue_replication/26_08Feb2019_17-26.csv',\n",
       " './data/RSVP_spatial_cue_replication/15_06Feb2019_17-02.csv',\n",
       " './data/RSVP_spatial_cue_replication/18_06Feb2019_18-35.csv',\n",
       " './data/RSVP_spatial_cue_replication/2_05Feb2019_17-26.csv',\n",
       " './data/RSVP_spatial_cue_replication/27_08Feb2019_18-00.csv',\n",
       " './data/RSVP_spatial_cue_replication/14_06Feb2019_14-42.csv',\n",
       " './data/RSVP_spatial_cue_replication/16_06Feb2019_17-35.csv',\n",
       " './data/RSVP_spatial_cue_replication/6_05Feb2019_19-29.csv',\n",
       " './data/RSVP_spatial_cue_replication/5_05Feb2019_19-03.csv',\n",
       " './data/RSVP_spatial_cue_replication/29_08Feb2019_18-57.csv',\n",
       " './data/RSVP_spatial_cue_replication/22_07Feb2019_14-27.csv',\n",
       " './data/RSVP_spatial_cue_replication/1_05Feb2019_17-00.csv',\n",
       " './data/RSVP_spatial_cue_replication/19_07Feb2019_09-34.csv',\n",
       " './data/RSVP_spatial_cue_replication/7_06Feb2019_09-35.csv',\n",
       " './data/RSVP_spatial_cue_replication/25_08Feb2019_16-40.csv',\n",
       " './data/RSVP_spatial_cue_replication/12_06Feb2019_13-35.csv',\n",
       " './data/RSVP_spatial_cue_replication/8_06Feb2019_10-03.csv',\n",
       " './data/RSVP_spatial_cue_replication/21_07Feb2019_13-59.csv',\n",
       " './data/RSVP_spatial_cue_replication/11_06Feb2019_11-31.csv',\n",
       " './data/RSVP_spatial_cue_replication/13_06Feb2019_14-03.csv',\n",
       " './data/RSVP_spatial_cue_replication/17_06Feb2019_18-10.csv',\n",
       " './data/RSVP_spatial_cue_replication/23_07Feb2019_17-01.csv',\n",
       " './data/RSVP_spatial_cue_replication/4_05Feb2019_18-31.csv',\n",
       " './data/RSVP_spatial_cue_replication/28_08Feb2019_18-32.csv']"
      ]
     },
     "execution_count": 21,
     "metadata": {},
     "output_type": "execute_result"
    }
   ],
   "source": [
    "file_list"
   ]
  },
  {
   "cell_type": "code",
   "execution_count": 22,
   "metadata": {},
   "outputs": [
    {
     "data": {
      "text/html": [
       "<pre>Finished parsing file /Users/supadhy6/Documents/GitHub/spatio_temporal_information_processing/RSVP_visual_now/data/RSVP_spatial_cue_replication/20_07Feb2019_12-10.csv</pre>"
      ],
      "text/plain": [
       "Finished parsing file /Users/supadhy6/Documents/GitHub/spatio_temporal_information_processing/RSVP_visual_now/data/RSVP_spatial_cue_replication/20_07Feb2019_12-10.csv"
      ]
     },
     "metadata": {},
     "output_type": "display_data"
    },
    {
     "data": {
      "text/html": [
       "<pre>Parsing completed. Parsed 100 lines in 0.038015 secs.</pre>"
      ],
      "text/plain": [
       "Parsing completed. Parsed 100 lines in 0.038015 secs."
      ]
     },
     "metadata": {},
     "output_type": "display_data"
    },
    {
     "name": "stdout",
     "output_type": "stream",
     "text": [
      "------------------------------------------------------\n",
      "Inferred types from first 100 line(s) of file as \n",
      "column_type_hints=[str,int,int,str,int,int,str,str,int,int,array,int,int]\n",
      "If parsing fails due to incorrect types, you can correct\n",
      "the inferred type list above and pass it to read_csv in\n",
      "the column_type_hints argument\n",
      "------------------------------------------------------\n"
     ]
    },
    {
     "data": {
      "text/html": [
       "<pre>Finished parsing file /Users/supadhy6/Documents/GitHub/spatio_temporal_information_processing/RSVP_visual_now/data/RSVP_spatial_cue_replication/20_07Feb2019_12-10.csv</pre>"
      ],
      "text/plain": [
       "Finished parsing file /Users/supadhy6/Documents/GitHub/spatio_temporal_information_processing/RSVP_visual_now/data/RSVP_spatial_cue_replication/20_07Feb2019_12-10.csv"
      ]
     },
     "metadata": {},
     "output_type": "display_data"
    },
    {
     "data": {
      "text/html": [
       "<pre>Parsing completed. Parsed 280 lines in 0.009158 secs.</pre>"
      ],
      "text/plain": [
       "Parsing completed. Parsed 280 lines in 0.009158 secs."
      ]
     },
     "metadata": {},
     "output_type": "display_data"
    },
    {
     "name": "stdout",
     "output_type": "stream",
     "text": [
      "280\n"
     ]
    },
    {
     "data": {
      "text/html": [
       "<pre>Finished parsing file /Users/supadhy6/Documents/GitHub/spatio_temporal_information_processing/RSVP_visual_now/data/RSVP_spatial_cue_replication/24_07Feb2019_17-30.csv</pre>"
      ],
      "text/plain": [
       "Finished parsing file /Users/supadhy6/Documents/GitHub/spatio_temporal_information_processing/RSVP_visual_now/data/RSVP_spatial_cue_replication/24_07Feb2019_17-30.csv"
      ]
     },
     "metadata": {},
     "output_type": "display_data"
    },
    {
     "data": {
      "text/html": [
       "<pre>Parsing completed. Parsed 280 lines in 0.011346 secs.</pre>"
      ],
      "text/plain": [
       "Parsing completed. Parsed 280 lines in 0.011346 secs."
      ]
     },
     "metadata": {},
     "output_type": "display_data"
    },
    {
     "name": "stdout",
     "output_type": "stream",
     "text": [
      "<zip object at 0x135c7a0c8>\n"
     ]
    },
    {
     "data": {
      "text/html": [
       "<pre>Finished parsing file /Users/supadhy6/Documents/GitHub/spatio_temporal_information_processing/RSVP_visual_now/data/RSVP_spatial_cue_replication/3_05Feb2019_17-54.csv</pre>"
      ],
      "text/plain": [
       "Finished parsing file /Users/supadhy6/Documents/GitHub/spatio_temporal_information_processing/RSVP_visual_now/data/RSVP_spatial_cue_replication/3_05Feb2019_17-54.csv"
      ]
     },
     "metadata": {},
     "output_type": "display_data"
    },
    {
     "data": {
      "text/html": [
       "<pre>Parsing completed. Parsed 280 lines in 0.007207 secs.</pre>"
      ],
      "text/plain": [
       "Parsing completed. Parsed 280 lines in 0.007207 secs."
      ]
     },
     "metadata": {},
     "output_type": "display_data"
    },
    {
     "name": "stdout",
     "output_type": "stream",
     "text": [
      "<zip object at 0x135c7a348>\n"
     ]
    },
    {
     "data": {
      "text/html": [
       "<pre>Finished parsing file /Users/supadhy6/Documents/GitHub/spatio_temporal_information_processing/RSVP_visual_now/data/RSVP_spatial_cue_replication/30_19Feb2019_09-35.csv</pre>"
      ],
      "text/plain": [
       "Finished parsing file /Users/supadhy6/Documents/GitHub/spatio_temporal_information_processing/RSVP_visual_now/data/RSVP_spatial_cue_replication/30_19Feb2019_09-35.csv"
      ]
     },
     "metadata": {},
     "output_type": "display_data"
    },
    {
     "data": {
      "text/html": [
       "<pre>Parsing completed. Parsed 280 lines in 0.010217 secs.</pre>"
      ],
      "text/plain": [
       "Parsing completed. Parsed 280 lines in 0.010217 secs."
      ]
     },
     "metadata": {},
     "output_type": "display_data"
    },
    {
     "name": "stdout",
     "output_type": "stream",
     "text": [
      "<zip object at 0x135c7a5c8>\n"
     ]
    },
    {
     "data": {
      "text/html": [
       "<pre>Finished parsing file /Users/supadhy6/Documents/GitHub/spatio_temporal_information_processing/RSVP_visual_now/data/RSVP_spatial_cue_replication/9_06Feb2019_10-34.csv</pre>"
      ],
      "text/plain": [
       "Finished parsing file /Users/supadhy6/Documents/GitHub/spatio_temporal_information_processing/RSVP_visual_now/data/RSVP_spatial_cue_replication/9_06Feb2019_10-34.csv"
      ]
     },
     "metadata": {},
     "output_type": "display_data"
    },
    {
     "data": {
      "text/html": [
       "<pre>Parsing completed. Parsed 280 lines in 0.010017 secs.</pre>"
      ],
      "text/plain": [
       "Parsing completed. Parsed 280 lines in 0.010017 secs."
      ]
     },
     "metadata": {},
     "output_type": "display_data"
    },
    {
     "name": "stdout",
     "output_type": "stream",
     "text": [
      "<zip object at 0x135c7a188>\n"
     ]
    },
    {
     "data": {
      "text/html": [
       "<pre>Finished parsing file /Users/supadhy6/Documents/GitHub/spatio_temporal_information_processing/RSVP_visual_now/data/RSVP_spatial_cue_replication/10_06Feb2019_11-01.csv</pre>"
      ],
      "text/plain": [
       "Finished parsing file /Users/supadhy6/Documents/GitHub/spatio_temporal_information_processing/RSVP_visual_now/data/RSVP_spatial_cue_replication/10_06Feb2019_11-01.csv"
      ]
     },
     "metadata": {},
     "output_type": "display_data"
    },
    {
     "data": {
      "text/html": [
       "<pre>Parsing completed. Parsed 280 lines in 0.007842 secs.</pre>"
      ],
      "text/plain": [
       "Parsing completed. Parsed 280 lines in 0.007842 secs."
      ]
     },
     "metadata": {},
     "output_type": "display_data"
    },
    {
     "name": "stdout",
     "output_type": "stream",
     "text": [
      "<zip object at 0x135c7a888>\n"
     ]
    },
    {
     "data": {
      "text/html": [
       "<pre>Finished parsing file /Users/supadhy6/Documents/GitHub/spatio_temporal_information_processing/RSVP_visual_now/data/RSVP_spatial_cue_replication/26_08Feb2019_17-26.csv</pre>"
      ],
      "text/plain": [
       "Finished parsing file /Users/supadhy6/Documents/GitHub/spatio_temporal_information_processing/RSVP_visual_now/data/RSVP_spatial_cue_replication/26_08Feb2019_17-26.csv"
      ]
     },
     "metadata": {},
     "output_type": "display_data"
    },
    {
     "data": {
      "text/html": [
       "<pre>Parsing completed. Parsed 280 lines in 0.007706 secs.</pre>"
      ],
      "text/plain": [
       "Parsing completed. Parsed 280 lines in 0.007706 secs."
      ]
     },
     "metadata": {},
     "output_type": "display_data"
    },
    {
     "name": "stdout",
     "output_type": "stream",
     "text": [
      "<zip object at 0x135c7a048>\n"
     ]
    },
    {
     "data": {
      "text/html": [
       "<pre>Finished parsing file /Users/supadhy6/Documents/GitHub/spatio_temporal_information_processing/RSVP_visual_now/data/RSVP_spatial_cue_replication/15_06Feb2019_17-02.csv</pre>"
      ],
      "text/plain": [
       "Finished parsing file /Users/supadhy6/Documents/GitHub/spatio_temporal_information_processing/RSVP_visual_now/data/RSVP_spatial_cue_replication/15_06Feb2019_17-02.csv"
      ]
     },
     "metadata": {},
     "output_type": "display_data"
    },
    {
     "data": {
      "text/html": [
       "<pre>Parsing completed. Parsed 280 lines in 0.007978 secs.</pre>"
      ],
      "text/plain": [
       "Parsing completed. Parsed 280 lines in 0.007978 secs."
      ]
     },
     "metadata": {},
     "output_type": "display_data"
    },
    {
     "name": "stdout",
     "output_type": "stream",
     "text": [
      "<zip object at 0x135c7a8c8>\n"
     ]
    },
    {
     "data": {
      "text/html": [
       "<pre>Finished parsing file /Users/supadhy6/Documents/GitHub/spatio_temporal_information_processing/RSVP_visual_now/data/RSVP_spatial_cue_replication/18_06Feb2019_18-35.csv</pre>"
      ],
      "text/plain": [
       "Finished parsing file /Users/supadhy6/Documents/GitHub/spatio_temporal_information_processing/RSVP_visual_now/data/RSVP_spatial_cue_replication/18_06Feb2019_18-35.csv"
      ]
     },
     "metadata": {},
     "output_type": "display_data"
    },
    {
     "data": {
      "text/html": [
       "<pre>Parsing completed. Parsed 280 lines in 0.007601 secs.</pre>"
      ],
      "text/plain": [
       "Parsing completed. Parsed 280 lines in 0.007601 secs."
      ]
     },
     "metadata": {},
     "output_type": "display_data"
    },
    {
     "name": "stdout",
     "output_type": "stream",
     "text": [
      "<zip object at 0x135c7aa08>\n"
     ]
    },
    {
     "data": {
      "text/html": [
       "<pre>Finished parsing file /Users/supadhy6/Documents/GitHub/spatio_temporal_information_processing/RSVP_visual_now/data/RSVP_spatial_cue_replication/2_05Feb2019_17-26.csv</pre>"
      ],
      "text/plain": [
       "Finished parsing file /Users/supadhy6/Documents/GitHub/spatio_temporal_information_processing/RSVP_visual_now/data/RSVP_spatial_cue_replication/2_05Feb2019_17-26.csv"
      ]
     },
     "metadata": {},
     "output_type": "display_data"
    },
    {
     "data": {
      "text/html": [
       "<pre>Parsing completed. Parsed 280 lines in 0.011729 secs.</pre>"
      ],
      "text/plain": [
       "Parsing completed. Parsed 280 lines in 0.011729 secs."
      ]
     },
     "metadata": {},
     "output_type": "display_data"
    },
    {
     "name": "stdout",
     "output_type": "stream",
     "text": [
      "<zip object at 0x135c7a108>\n"
     ]
    },
    {
     "data": {
      "text/html": [
       "<pre>Finished parsing file /Users/supadhy6/Documents/GitHub/spatio_temporal_information_processing/RSVP_visual_now/data/RSVP_spatial_cue_replication/27_08Feb2019_18-00.csv</pre>"
      ],
      "text/plain": [
       "Finished parsing file /Users/supadhy6/Documents/GitHub/spatio_temporal_information_processing/RSVP_visual_now/data/RSVP_spatial_cue_replication/27_08Feb2019_18-00.csv"
      ]
     },
     "metadata": {},
     "output_type": "display_data"
    },
    {
     "data": {
      "text/html": [
       "<pre>Parsing completed. Parsed 280 lines in 0.009141 secs.</pre>"
      ],
      "text/plain": [
       "Parsing completed. Parsed 280 lines in 0.009141 secs."
      ]
     },
     "metadata": {},
     "output_type": "display_data"
    },
    {
     "name": "stdout",
     "output_type": "stream",
     "text": [
      "<zip object at 0x135c7a108>\n"
     ]
    },
    {
     "data": {
      "text/html": [
       "<pre>Finished parsing file /Users/supadhy6/Documents/GitHub/spatio_temporal_information_processing/RSVP_visual_now/data/RSVP_spatial_cue_replication/14_06Feb2019_14-42.csv</pre>"
      ],
      "text/plain": [
       "Finished parsing file /Users/supadhy6/Documents/GitHub/spatio_temporal_information_processing/RSVP_visual_now/data/RSVP_spatial_cue_replication/14_06Feb2019_14-42.csv"
      ]
     },
     "metadata": {},
     "output_type": "display_data"
    },
    {
     "data": {
      "text/html": [
       "<pre>Parsing completed. Parsed 280 lines in 0.011621 secs.</pre>"
      ],
      "text/plain": [
       "Parsing completed. Parsed 280 lines in 0.011621 secs."
      ]
     },
     "metadata": {},
     "output_type": "display_data"
    },
    {
     "name": "stdout",
     "output_type": "stream",
     "text": [
      "<zip object at 0x135c7a108>\n"
     ]
    },
    {
     "data": {
      "text/html": [
       "<pre>Finished parsing file /Users/supadhy6/Documents/GitHub/spatio_temporal_information_processing/RSVP_visual_now/data/RSVP_spatial_cue_replication/16_06Feb2019_17-35.csv</pre>"
      ],
      "text/plain": [
       "Finished parsing file /Users/supadhy6/Documents/GitHub/spatio_temporal_information_processing/RSVP_visual_now/data/RSVP_spatial_cue_replication/16_06Feb2019_17-35.csv"
      ]
     },
     "metadata": {},
     "output_type": "display_data"
    },
    {
     "data": {
      "text/html": [
       "<pre>Parsing completed. Parsed 280 lines in 0.009519 secs.</pre>"
      ],
      "text/plain": [
       "Parsing completed. Parsed 280 lines in 0.009519 secs."
      ]
     },
     "metadata": {},
     "output_type": "display_data"
    },
    {
     "name": "stdout",
     "output_type": "stream",
     "text": [
      "<zip object at 0x135c7abc8>\n"
     ]
    },
    {
     "data": {
      "text/html": [
       "<pre>Finished parsing file /Users/supadhy6/Documents/GitHub/spatio_temporal_information_processing/RSVP_visual_now/data/RSVP_spatial_cue_replication/6_05Feb2019_19-29.csv</pre>"
      ],
      "text/plain": [
       "Finished parsing file /Users/supadhy6/Documents/GitHub/spatio_temporal_information_processing/RSVP_visual_now/data/RSVP_spatial_cue_replication/6_05Feb2019_19-29.csv"
      ]
     },
     "metadata": {},
     "output_type": "display_data"
    },
    {
     "data": {
      "text/html": [
       "<pre>Parsing completed. Parsed 280 lines in 0.008926 secs.</pre>"
      ],
      "text/plain": [
       "Parsing completed. Parsed 280 lines in 0.008926 secs."
      ]
     },
     "metadata": {},
     "output_type": "display_data"
    },
    {
     "name": "stdout",
     "output_type": "stream",
     "text": [
      "<zip object at 0x135c7abc8>\n"
     ]
    },
    {
     "data": {
      "text/html": [
       "<pre>Finished parsing file /Users/supadhy6/Documents/GitHub/spatio_temporal_information_processing/RSVP_visual_now/data/RSVP_spatial_cue_replication/5_05Feb2019_19-03.csv</pre>"
      ],
      "text/plain": [
       "Finished parsing file /Users/supadhy6/Documents/GitHub/spatio_temporal_information_processing/RSVP_visual_now/data/RSVP_spatial_cue_replication/5_05Feb2019_19-03.csv"
      ]
     },
     "metadata": {},
     "output_type": "display_data"
    },
    {
     "data": {
      "text/html": [
       "<pre>Parsing completed. Parsed 280 lines in 0.010001 secs.</pre>"
      ],
      "text/plain": [
       "Parsing completed. Parsed 280 lines in 0.010001 secs."
      ]
     },
     "metadata": {},
     "output_type": "display_data"
    },
    {
     "name": "stdout",
     "output_type": "stream",
     "text": [
      "<zip object at 0x135c7aac8>\n"
     ]
    },
    {
     "data": {
      "text/html": [
       "<pre>Finished parsing file /Users/supadhy6/Documents/GitHub/spatio_temporal_information_processing/RSVP_visual_now/data/RSVP_spatial_cue_replication/29_08Feb2019_18-57.csv</pre>"
      ],
      "text/plain": [
       "Finished parsing file /Users/supadhy6/Documents/GitHub/spatio_temporal_information_processing/RSVP_visual_now/data/RSVP_spatial_cue_replication/29_08Feb2019_18-57.csv"
      ]
     },
     "metadata": {},
     "output_type": "display_data"
    },
    {
     "data": {
      "text/html": [
       "<pre>Parsing completed. Parsed 280 lines in 0.012564 secs.</pre>"
      ],
      "text/plain": [
       "Parsing completed. Parsed 280 lines in 0.012564 secs."
      ]
     },
     "metadata": {},
     "output_type": "display_data"
    },
    {
     "name": "stdout",
     "output_type": "stream",
     "text": [
      "<zip object at 0x135c7aac8>\n"
     ]
    },
    {
     "data": {
      "text/html": [
       "<pre>Finished parsing file /Users/supadhy6/Documents/GitHub/spatio_temporal_information_processing/RSVP_visual_now/data/RSVP_spatial_cue_replication/22_07Feb2019_14-27.csv</pre>"
      ],
      "text/plain": [
       "Finished parsing file /Users/supadhy6/Documents/GitHub/spatio_temporal_information_processing/RSVP_visual_now/data/RSVP_spatial_cue_replication/22_07Feb2019_14-27.csv"
      ]
     },
     "metadata": {},
     "output_type": "display_data"
    },
    {
     "data": {
      "text/html": [
       "<pre>Parsing completed. Parsed 280 lines in 0.010084 secs.</pre>"
      ],
      "text/plain": [
       "Parsing completed. Parsed 280 lines in 0.010084 secs."
      ]
     },
     "metadata": {},
     "output_type": "display_data"
    },
    {
     "name": "stdout",
     "output_type": "stream",
     "text": [
      "<zip object at 0x135c7ad88>\n"
     ]
    },
    {
     "data": {
      "text/html": [
       "<pre>Finished parsing file /Users/supadhy6/Documents/GitHub/spatio_temporal_information_processing/RSVP_visual_now/data/RSVP_spatial_cue_replication/1_05Feb2019_17-00.csv</pre>"
      ],
      "text/plain": [
       "Finished parsing file /Users/supadhy6/Documents/GitHub/spatio_temporal_information_processing/RSVP_visual_now/data/RSVP_spatial_cue_replication/1_05Feb2019_17-00.csv"
      ]
     },
     "metadata": {},
     "output_type": "display_data"
    },
    {
     "data": {
      "text/html": [
       "<pre>Parsing completed. Parsed 280 lines in 0.010433 secs.</pre>"
      ],
      "text/plain": [
       "Parsing completed. Parsed 280 lines in 0.010433 secs."
      ]
     },
     "metadata": {},
     "output_type": "display_data"
    },
    {
     "name": "stdout",
     "output_type": "stream",
     "text": [
      "<zip object at 0x135c7ad88>\n"
     ]
    },
    {
     "data": {
      "text/html": [
       "<pre>Finished parsing file /Users/supadhy6/Documents/GitHub/spatio_temporal_information_processing/RSVP_visual_now/data/RSVP_spatial_cue_replication/19_07Feb2019_09-34.csv</pre>"
      ],
      "text/plain": [
       "Finished parsing file /Users/supadhy6/Documents/GitHub/spatio_temporal_information_processing/RSVP_visual_now/data/RSVP_spatial_cue_replication/19_07Feb2019_09-34.csv"
      ]
     },
     "metadata": {},
     "output_type": "display_data"
    },
    {
     "data": {
      "text/html": [
       "<pre>Parsing completed. Parsed 280 lines in 0.009396 secs.</pre>"
      ],
      "text/plain": [
       "Parsing completed. Parsed 280 lines in 0.009396 secs."
      ]
     },
     "metadata": {},
     "output_type": "display_data"
    },
    {
     "name": "stdout",
     "output_type": "stream",
     "text": [
      "<zip object at 0x135c7ad88>\n"
     ]
    },
    {
     "data": {
      "text/html": [
       "<pre>Finished parsing file /Users/supadhy6/Documents/GitHub/spatio_temporal_information_processing/RSVP_visual_now/data/RSVP_spatial_cue_replication/7_06Feb2019_09-35.csv</pre>"
      ],
      "text/plain": [
       "Finished parsing file /Users/supadhy6/Documents/GitHub/spatio_temporal_information_processing/RSVP_visual_now/data/RSVP_spatial_cue_replication/7_06Feb2019_09-35.csv"
      ]
     },
     "metadata": {},
     "output_type": "display_data"
    },
    {
     "data": {
      "text/html": [
       "<pre>Parsing completed. Parsed 280 lines in 0.010824 secs.</pre>"
      ],
      "text/plain": [
       "Parsing completed. Parsed 280 lines in 0.010824 secs."
      ]
     },
     "metadata": {},
     "output_type": "display_data"
    },
    {
     "name": "stdout",
     "output_type": "stream",
     "text": [
      "<zip object at 0x135c7a888>\n"
     ]
    },
    {
     "data": {
      "text/html": [
       "<pre>Finished parsing file /Users/supadhy6/Documents/GitHub/spatio_temporal_information_processing/RSVP_visual_now/data/RSVP_spatial_cue_replication/25_08Feb2019_16-40.csv</pre>"
      ],
      "text/plain": [
       "Finished parsing file /Users/supadhy6/Documents/GitHub/spatio_temporal_information_processing/RSVP_visual_now/data/RSVP_spatial_cue_replication/25_08Feb2019_16-40.csv"
      ]
     },
     "metadata": {},
     "output_type": "display_data"
    },
    {
     "data": {
      "text/html": [
       "<pre>Parsing completed. Parsed 280 lines in 0.010254 secs.</pre>"
      ],
      "text/plain": [
       "Parsing completed. Parsed 280 lines in 0.010254 secs."
      ]
     },
     "metadata": {},
     "output_type": "display_data"
    },
    {
     "name": "stdout",
     "output_type": "stream",
     "text": [
      "<zip object at 0x135c7a3c8>\n"
     ]
    },
    {
     "data": {
      "text/html": [
       "<pre>Finished parsing file /Users/supadhy6/Documents/GitHub/spatio_temporal_information_processing/RSVP_visual_now/data/RSVP_spatial_cue_replication/12_06Feb2019_13-35.csv</pre>"
      ],
      "text/plain": [
       "Finished parsing file /Users/supadhy6/Documents/GitHub/spatio_temporal_information_processing/RSVP_visual_now/data/RSVP_spatial_cue_replication/12_06Feb2019_13-35.csv"
      ]
     },
     "metadata": {},
     "output_type": "display_data"
    },
    {
     "data": {
      "text/html": [
       "<pre>Parsing completed. Parsed 280 lines in 0.010532 secs.</pre>"
      ],
      "text/plain": [
       "Parsing completed. Parsed 280 lines in 0.010532 secs."
      ]
     },
     "metadata": {},
     "output_type": "display_data"
    },
    {
     "name": "stdout",
     "output_type": "stream",
     "text": [
      "<zip object at 0x135c7a3c8>\n"
     ]
    },
    {
     "data": {
      "text/html": [
       "<pre>Finished parsing file /Users/supadhy6/Documents/GitHub/spatio_temporal_information_processing/RSVP_visual_now/data/RSVP_spatial_cue_replication/8_06Feb2019_10-03.csv</pre>"
      ],
      "text/plain": [
       "Finished parsing file /Users/supadhy6/Documents/GitHub/spatio_temporal_information_processing/RSVP_visual_now/data/RSVP_spatial_cue_replication/8_06Feb2019_10-03.csv"
      ]
     },
     "metadata": {},
     "output_type": "display_data"
    },
    {
     "data": {
      "text/html": [
       "<pre>Parsing completed. Parsed 280 lines in 0.00671 secs.</pre>"
      ],
      "text/plain": [
       "Parsing completed. Parsed 280 lines in 0.00671 secs."
      ]
     },
     "metadata": {},
     "output_type": "display_data"
    },
    {
     "name": "stdout",
     "output_type": "stream",
     "text": [
      "<zip object at 0x135c7ae88>\n"
     ]
    },
    {
     "data": {
      "text/html": [
       "<pre>Finished parsing file /Users/supadhy6/Documents/GitHub/spatio_temporal_information_processing/RSVP_visual_now/data/RSVP_spatial_cue_replication/21_07Feb2019_13-59.csv</pre>"
      ],
      "text/plain": [
       "Finished parsing file /Users/supadhy6/Documents/GitHub/spatio_temporal_information_processing/RSVP_visual_now/data/RSVP_spatial_cue_replication/21_07Feb2019_13-59.csv"
      ]
     },
     "metadata": {},
     "output_type": "display_data"
    },
    {
     "data": {
      "text/html": [
       "<pre>Parsing completed. Parsed 280 lines in 0.007091 secs.</pre>"
      ],
      "text/plain": [
       "Parsing completed. Parsed 280 lines in 0.007091 secs."
      ]
     },
     "metadata": {},
     "output_type": "display_data"
    },
    {
     "name": "stdout",
     "output_type": "stream",
     "text": [
      "<zip object at 0x135c7af48>\n"
     ]
    },
    {
     "data": {
      "text/html": [
       "<pre>Finished parsing file /Users/supadhy6/Documents/GitHub/spatio_temporal_information_processing/RSVP_visual_now/data/RSVP_spatial_cue_replication/11_06Feb2019_11-31.csv</pre>"
      ],
      "text/plain": [
       "Finished parsing file /Users/supadhy6/Documents/GitHub/spatio_temporal_information_processing/RSVP_visual_now/data/RSVP_spatial_cue_replication/11_06Feb2019_11-31.csv"
      ]
     },
     "metadata": {},
     "output_type": "display_data"
    },
    {
     "data": {
      "text/html": [
       "<pre>Parsing completed. Parsed 280 lines in 0.007302 secs.</pre>"
      ],
      "text/plain": [
       "Parsing completed. Parsed 280 lines in 0.007302 secs."
      ]
     },
     "metadata": {},
     "output_type": "display_data"
    },
    {
     "name": "stdout",
     "output_type": "stream",
     "text": [
      "<zip object at 0x135c7af48>\n"
     ]
    },
    {
     "data": {
      "text/html": [
       "<pre>Finished parsing file /Users/supadhy6/Documents/GitHub/spatio_temporal_information_processing/RSVP_visual_now/data/RSVP_spatial_cue_replication/13_06Feb2019_14-03.csv</pre>"
      ],
      "text/plain": [
       "Finished parsing file /Users/supadhy6/Documents/GitHub/spatio_temporal_information_processing/RSVP_visual_now/data/RSVP_spatial_cue_replication/13_06Feb2019_14-03.csv"
      ]
     },
     "metadata": {},
     "output_type": "display_data"
    },
    {
     "name": "stdout",
     "output_type": "stream",
     "text": [
      "<zip object at 0x135c7af48>\n"
     ]
    },
    {
     "data": {
      "text/html": [
       "<pre>Parsing completed. Parsed 280 lines in 0.00819 secs.</pre>"
      ],
      "text/plain": [
       "Parsing completed. Parsed 280 lines in 0.00819 secs."
      ]
     },
     "metadata": {},
     "output_type": "display_data"
    },
    {
     "data": {
      "text/html": [
       "<pre>Finished parsing file /Users/supadhy6/Documents/GitHub/spatio_temporal_information_processing/RSVP_visual_now/data/RSVP_spatial_cue_replication/17_06Feb2019_18-10.csv</pre>"
      ],
      "text/plain": [
       "Finished parsing file /Users/supadhy6/Documents/GitHub/spatio_temporal_information_processing/RSVP_visual_now/data/RSVP_spatial_cue_replication/17_06Feb2019_18-10.csv"
      ]
     },
     "metadata": {},
     "output_type": "display_data"
    },
    {
     "data": {
      "text/html": [
       "<pre>Parsing completed. Parsed 280 lines in 0.009657 secs.</pre>"
      ],
      "text/plain": [
       "Parsing completed. Parsed 280 lines in 0.009657 secs."
      ]
     },
     "metadata": {},
     "output_type": "display_data"
    },
    {
     "name": "stdout",
     "output_type": "stream",
     "text": [
      "<zip object at 0x135c7ac08>\n"
     ]
    },
    {
     "data": {
      "text/html": [
       "<pre>Finished parsing file /Users/supadhy6/Documents/GitHub/spatio_temporal_information_processing/RSVP_visual_now/data/RSVP_spatial_cue_replication/23_07Feb2019_17-01.csv</pre>"
      ],
      "text/plain": [
       "Finished parsing file /Users/supadhy6/Documents/GitHub/spatio_temporal_information_processing/RSVP_visual_now/data/RSVP_spatial_cue_replication/23_07Feb2019_17-01.csv"
      ]
     },
     "metadata": {},
     "output_type": "display_data"
    },
    {
     "data": {
      "text/html": [
       "<pre>Parsing completed. Parsed 280 lines in 0.008146 secs.</pre>"
      ],
      "text/plain": [
       "Parsing completed. Parsed 280 lines in 0.008146 secs."
      ]
     },
     "metadata": {},
     "output_type": "display_data"
    },
    {
     "name": "stdout",
     "output_type": "stream",
     "text": [
      "<zip object at 0x135c7ad48>\n"
     ]
    },
    {
     "data": {
      "text/html": [
       "<pre>Finished parsing file /Users/supadhy6/Documents/GitHub/spatio_temporal_information_processing/RSVP_visual_now/data/RSVP_spatial_cue_replication/4_05Feb2019_18-31.csv</pre>"
      ],
      "text/plain": [
       "Finished parsing file /Users/supadhy6/Documents/GitHub/spatio_temporal_information_processing/RSVP_visual_now/data/RSVP_spatial_cue_replication/4_05Feb2019_18-31.csv"
      ]
     },
     "metadata": {},
     "output_type": "display_data"
    },
    {
     "data": {
      "text/html": [
       "<pre>Parsing completed. Parsed 280 lines in 0.007904 secs.</pre>"
      ],
      "text/plain": [
       "Parsing completed. Parsed 280 lines in 0.007904 secs."
      ]
     },
     "metadata": {},
     "output_type": "display_data"
    },
    {
     "name": "stdout",
     "output_type": "stream",
     "text": [
      "<zip object at 0x135c7ae88>\n"
     ]
    },
    {
     "data": {
      "text/html": [
       "<pre>Finished parsing file /Users/supadhy6/Documents/GitHub/spatio_temporal_information_processing/RSVP_visual_now/data/RSVP_spatial_cue_replication/28_08Feb2019_18-32.csv</pre>"
      ],
      "text/plain": [
       "Finished parsing file /Users/supadhy6/Documents/GitHub/spatio_temporal_information_processing/RSVP_visual_now/data/RSVP_spatial_cue_replication/28_08Feb2019_18-32.csv"
      ]
     },
     "metadata": {},
     "output_type": "display_data"
    },
    {
     "data": {
      "text/html": [
       "<pre>Parsing completed. Parsed 280 lines in 0.006953 secs.</pre>"
      ],
      "text/plain": [
       "Parsing completed. Parsed 280 lines in 0.006953 secs."
      ]
     },
     "metadata": {},
     "output_type": "display_data"
    },
    {
     "name": "stdout",
     "output_type": "stream",
     "text": [
      "<zip object at 0x135c7af88>\n"
     ]
    },
    {
     "data": {
      "text/plain": [
       "8400"
      ]
     },
     "execution_count": 22,
     "metadata": {},
     "output_type": "execute_result"
    }
   ],
   "source": [
    "data = tc.SFrame.read_csv(file_list[0])\n",
    "print(len(data))\n",
    "temp = data\n",
    "for i in range(1,len(file_list)):\n",
    "    temp = tc.SFrame.read_csv(file_list[i], column_type_hints = [str,int,int,str,int,int,str,str,int,int,array.array,int,int])\n",
    "    #print(len(temp))\n",
    "    \n",
    "    print(zip(temp.column_types(),temp.column_names()))\n",
    "    data = data.append(temp)\n",
    "len(data)"
   ]
  },
  {
   "cell_type": "code",
   "execution_count": 23,
   "metadata": {},
   "outputs": [
    {
     "data": {
      "text/plain": [
       "30.0"
      ]
     },
     "execution_count": 23,
     "metadata": {},
     "output_type": "execute_result"
    }
   ],
   "source": [
    "len(data)/280"
   ]
  },
  {
   "cell_type": "code",
   "execution_count": 24,
   "metadata": {},
   "outputs": [
    {
     "name": "stdout",
     "output_type": "stream",
     "text": [
      "This is the format of your plot grid:\n",
      "[ (1,1) x1,y1 ]  [ (1,2) x2,y2 ]\n",
      "\n"
     ]
    },
    {
     "name": "stderr",
     "output_type": "stream",
     "text": [
      "/Users/supadhy6/miniconda3/envs/adiLab/lib/python3.6/site-packages/IPython/core/display.py:689: UserWarning:\n",
      "\n",
      "Consider using IPython.display.IFrame instead\n",
      "\n"
     ]
    },
    {
     "data": {
      "text/html": [
       "<iframe id=\"igraph\" scrolling=\"no\" style=\"border:none;\" seamless=\"seamless\" src=\"https://plot.ly/~adiboy_123/936.embed\" height=\"525px\" width=\"100%\"></iframe>"
      ],
      "text/plain": [
       "<plotly.tools.PlotlyDisplay object>"
      ]
     },
     "execution_count": 24,
     "metadata": {},
     "output_type": "execute_result"
    }
   ],
   "source": [
    "from plotly import tools\n",
    "import colorlover as cl\n",
    "trace = [[]]*2\n",
    "ecc_length = len(data['cueEccentricity1'].unique())\n",
    "colors = cl.scales['3']['seq']['YlOrRd']\n",
    "for i,cuePos in enumerate(data['cueSpatialPos1'].unique()):\n",
    "    cuePosdata = data[data['cueSpatialPos1']==cuePos]\n",
    "    temp1 = []\n",
    "    for j,ecc in enumerate(cuePosdata['cueEccentricity1'].unique().sort()):\n",
    "        ecc_data = cuePosdata[cuePosdata['cueEccentricity1']==ecc]\n",
    "        temp1.append(go.Histogram(x = ecc_data['responsePosRelative0'].to_numpy(), \n",
    "                                  histnorm='probability',name = str(ecc) + 'deg', opacity = 1, marker = dict(color = colors[j])))\n",
    "    trace[i] = temp1\n",
    "\n",
    "if data['cueSpatialPos1'].unique()[0] == [-1.0,0.0]:\n",
    "    titles = ('West','East')\n",
    "else:\n",
    "    titles = ('East','West')\n",
    "    \n",
    "fig = tools.make_subplots(rows=1, cols=2, subplot_titles = titles)\n",
    "fig['layout'].update(barmode='group', title = 'performance in RSVP visual now task for different cue positions - '+str(int(len(data)/280))+' participants')\n",
    "#fig['layout']['xaxis3'].update(title='position of reported item relative to the true item', range = [-2,2])\n",
    "#fig['layout']['xaxis4'].update(title='position of reported item relative to the true item', range = [-2,2])\n",
    "fig['layout']['xaxis1'].update(title='position of reported item relative to the true item')\n",
    "fig['layout']['xaxis2'].update(title='position of reported item relative to the true item')\n",
    "fig['layout']['yaxis1'].update(title='Probability')\n",
    "#fig['layout']['yaxis3'].update(title='Frequency')\n",
    "for i in range(ecc_length):\n",
    "    fig.add_trace(trace[0][ecc_length-1-i], 1, 1)\n",
    "    fig.add_trace(trace[1][ecc_length-1-i], 1, 2)\n",
    "    #fig.append_trace(trace[2][i], 2, 1)\n",
    "    #fig.append_trace(trace[3][i], 2, 2)\n",
    "py.iplot(fig, filename='RSVP_visual_now')"
   ]
  },
  {
   "cell_type": "code",
   "execution_count": 25,
   "metadata": {},
   "outputs": [
    {
     "name": "stdout",
     "output_type": "stream",
     "text": [
      "This is the format of your plot grid:\n",
      "[ (1,1) x1,y1 ]\n",
      "\n"
     ]
    },
    {
     "data": {
      "text/html": [
       "<iframe id=\"igraph\" scrolling=\"no\" style=\"border:none;\" seamless=\"seamless\" src=\"https://plot.ly/~adiboy_123/938.embed\" height=\"600px\" width=\"650px\"></iframe>"
      ],
      "text/plain": [
       "<plotly.tools.PlotlyDisplay object>"
      ]
     },
     "execution_count": 25,
     "metadata": {},
     "output_type": "execute_result"
    }
   ],
   "source": [
    "trace_data = []\n",
    "for j,ecc in enumerate(cuePosdata['cueEccentricity1'].unique().sort()):\n",
    "        ecc_data = cuePosdata[cuePosdata['cueEccentricity1']==ecc]\n",
    "        trace_data.append(go.Histogram(x = ecc_data['responsePosRelative0'].to_numpy(), \n",
    "                                  histnorm='probability',name = str(ecc) + 'deg', opacity = 1, marker = dict(color = colors[j])))\n",
    "\n",
    "        \n",
    "fig = tools.make_subplots(rows=1, cols=1)\n",
    "fig['layout'].update(barmode='group', title = 'performance in RSVP visual now task for different cue positions - '+str(int(len(data)/280))+' participants', height=600,width = 650)\n",
    "fig['layout']['xaxis1'].update(range = [-3,3], title='position of reported item relative to the true item')\n",
    "fig['layout']['yaxis1'].update(title='Probability', range = [0,0.8])\n",
    "for i in range(ecc_length):\n",
    "    fig.add_trace(trace_data[ecc_length -1 - i], 1, 1)\n",
    "py.iplot(fig, filename='RSVP_visual_now_grouped')"
   ]
  },
  {
   "cell_type": "code",
   "execution_count": 26,
   "metadata": {},
   "outputs": [],
   "source": [
    "from sklearn.neighbors import KernelDensity\n",
    "from scipy.stats import gaussian_kde"
   ]
  },
  {
   "cell_type": "code",
   "execution_count": 27,
   "metadata": {},
   "outputs": [
    {
     "name": "stdout",
     "output_type": "stream",
     "text": [
      "This is the format of your plot grid:\n",
      "[ (1,1) x1,y1 ]\n",
      "\n"
     ]
    },
    {
     "data": {
      "text/html": [
       "<iframe id=\"igraph\" scrolling=\"no\" style=\"border:none;\" seamless=\"seamless\" src=\"https://plot.ly/~adiboy_123/938.embed\" height=\"525px\" width=\"100%\"></iframe>"
      ],
      "text/plain": [
       "<plotly.tools.PlotlyDisplay object>"
      ]
     },
     "execution_count": 27,
     "metadata": {},
     "output_type": "execute_result"
    }
   ],
   "source": [
    "X_plot = np.linspace(-3, 3, 1000)\n",
    "trace_data = []\n",
    "distributions = []\n",
    "fill_colors = ['rgba(255,237,160,0.2)', 'rgba(254,178,76,0.2)', 'rgba(240,59,32,0.2)']\n",
    "for j,ecc in enumerate(cuePosdata['cueEccentricity1'].unique().sort()):\n",
    "        ecc_data = cuePosdata[cuePosdata['cueEccentricity1']==ecc]\n",
    "        X = ecc_data['responsePosRelative0'].to_numpy()\n",
    "        # Gaussian KDE\n",
    "        #kde = KernelDensity(kernel='gaussian').fit(X)\n",
    "        kde = gaussian_kde(X)\n",
    "        log_dens = kde(X_plot)\n",
    "        distributions.append({'ecc' : ecc, 'dist' : X, 'dens': log_dens})\n",
    "        trace_data.append(go.Scatter(x = X_plot, y = log_dens,\n",
    "                                  mode='lines', fill = 'tozeroy', fillcolor = fill_colors[j], name = str(ecc) + 'deg', line = dict(color = colors[j], width = 2) ))\n",
    "        \n",
    "fig = tools.make_subplots(rows=1, cols=1)\n",
    "fig['layout'].update(barmode='group', title = 'performance in RSVP visual now task for different cue positions - '+str(int(len(data)/280))+' participants')\n",
    "fig['layout']['xaxis1'].update(title='position of reported item relative to the true item')\n",
    "fig['layout']['yaxis1'].update(title='Probability', range = [0,0.8])\n",
    "for i in range(ecc_length):\n",
    "    fig.add_trace(trace_data[i], 1, 1)\n",
    "py.iplot(fig, filename='RSVP_visual_now_grouped')\n"
   ]
  },
  {
   "cell_type": "code",
   "execution_count": 28,
   "metadata": {},
   "outputs": [
    {
     "name": "stdout",
     "output_type": "stream",
     "text": [
      "Eccentricity: 2\n",
      "excess kurtosis of normal distribution (should be 0): -0.6554993076569176\n",
      "skewness of normal distribution (should be 0): 0.8731114004704202\n",
      "\n",
      "\n",
      "Eccentricity: 10\n",
      "excess kurtosis of normal distribution (should be 0): -1.2936218044404075\n",
      "skewness of normal distribution (should be 0): 0.43495197011333436\n",
      "\n",
      "\n"
     ]
    }
   ],
   "source": [
    "import numpy as np\n",
    "from scipy.stats import kurtosis, skew\n",
    "\n",
    "for x in distributions:\n",
    "    print( 'Eccentricity: {}'.format( x['ecc']))\n",
    "    print( 'excess kurtosis of normal distribution (should be 0): {}'.format( kurtosis(x['dens']) ))\n",
    "    print( 'skewness of normal distribution (should be 0): {}'.format( skew(x['dens']) ))\n",
    "    print( '\\n')"
   ]
  },
  {
   "cell_type": "code",
   "execution_count": 29,
   "metadata": {},
   "outputs": [
    {
     "name": "stdout",
     "output_type": "stream",
     "text": [
      "                           sum_sq      df         F    PR(>F)\n",
      "C(cueEccentricity1)      2.105833     1.0  0.286611  0.592415\n",
      "Residual             61703.059762  8398.0       NaN       NaN\n"
     ]
    }
   ],
   "source": [
    "import statsmodels.api as sm\n",
    "from statsmodels.formula.api import ols\n",
    "\n",
    "hsb = data.to_dataframe()\n",
    "mod = ols('responsePosRelative0 ~ C(cueEccentricity1)',\n",
    "                data=hsb).fit()\n",
    "                \n",
    "aov_table = sm.stats.anova_lm(mod, typ=2)\n",
    "print(aov_table)"
   ]
  },
  {
   "cell_type": "code",
   "execution_count": 30,
   "metadata": {},
   "outputs": [
    {
     "name": "stdout",
     "output_type": "stream",
     "text": [
      "Ecc:2 vs.Ecc:10\n"
     ]
    },
    {
     "data": {
      "text/plain": [
       "Ttest_indResult(statistic=-0.07865734852461834, pvalue=0.9373089201261349)"
      ]
     },
     "execution_count": 30,
     "metadata": {},
     "output_type": "execute_result"
    }
   ],
   "source": [
    "print('Ecc:{}'.format(distributions[0]['ecc'])+' vs.'+ 'Ecc:{}'.format(distributions[1]['ecc']))\n",
    "scipy.stats.ttest_ind(distributions[0]['dist'], distributions[1]['dist'],axis =0, equal_var=True)"
   ]
  },
  {
   "cell_type": "code",
   "execution_count": 31,
   "metadata": {},
   "outputs": [],
   "source": [
    "# print('Ecc:{}'.format(distributions[0]['ecc'])+' vs.'+ 'Ecc:{}'.format(distributions[2]['ecc']))\n",
    "# scipy.stats.ttest_ind(distributions[0]['dist'], distributions[2]['dist'], axis =0,equal_var=True)"
   ]
  },
  {
   "cell_type": "code",
   "execution_count": 32,
   "metadata": {},
   "outputs": [],
   "source": [
    "# print('Ecc:{}'.format(distributions[1]['ecc'])+' vs.'+ 'Ecc:{}'.format(distributions[2]['ecc']))\n",
    "# scipy.stats.ttest_ind(distributions[1]['dist'], distributions[2]['dist'], axis =0,equal_var=True)"
   ]
  },
  {
   "cell_type": "code",
   "execution_count": 33,
   "metadata": {},
   "outputs": [],
   "source": [
    "import turicreate.aggregate as agg\n",
    "sub_data = data.groupby(['subject','cueEccentricity1'],operations = {'avg_lag':agg.AVG('responsePosRelative0')})\n",
    "ratios = []\n",
    "c_val = [-1,1]\n",
    "for sub in data['subject'].unique().sort():\n",
    "    temp1 = data[data['subject']==sub]\n",
    "    for ecc in temp1['cueEccentricity1'].unique().sort():\n",
    "        temp = temp1[temp1['cueEccentricity1']==ecc]\n",
    "        count_data = temp['responsePosRelative0'].value_counts()\n",
    "        a = count_data[count_data['value']==c_val[0]]['count'].to_numpy()\n",
    "        b = count_data[count_data['value']==c_val[1]]['count'].to_numpy()\n",
    "        if len(a) > 0 and len(b)>0:\n",
    "            ratios.extend(a-b)\n",
    "        elif len(a)==0 and len(b)>0:\n",
    "            ratios.extend(0-b)\n",
    "        elif len(a)>0 and len(b)==0:\n",
    "            ratios.extend(a-0)\n",
    "        else:\n",
    "            ratios.extend(0)\n",
    "            \n",
    "sub_data = sub_data.sort(['subject','cueEccentricity1'])\n",
    "skewness = []\n",
    "kurtosissy = []\n",
    "for sub in data['subject'].unique().sort():\n",
    "    subd = data[data['subject']==sub]\n",
    "    for ecc in subd['cueEccentricity1'].unique().sort():\n",
    "        eccd = subd[subd['cueEccentricity1']==ecc]\n",
    "        X = eccd['responsePosRelative0'].to_numpy()\n",
    "        kde = gaussian_kde(X)\n",
    "        log_dens = kde(X_plot)\n",
    "        skewness.append(skew(log_dens))\n",
    "        kurtosissy.append(kurtosis(log_dens))\n",
    "\n",
    "sub_data['skew'] = skewness\n",
    "sub_data['kurtosis'] = kurtosissy\n",
    "sub_data['ratio'] = ratios"
   ]
  },
  {
   "cell_type": "code",
   "execution_count": 34,
   "metadata": {},
   "outputs": [
    {
     "data": {
      "text/html": [
       "<div>\n",
       "<style scoped>\n",
       "    .dataframe tbody tr th:only-of-type {\n",
       "        vertical-align: middle;\n",
       "    }\n",
       "\n",
       "    .dataframe tbody tr th {\n",
       "        vertical-align: top;\n",
       "    }\n",
       "\n",
       "    .dataframe thead th {\n",
       "        text-align: right;\n",
       "    }\n",
       "</style>\n",
       "<table border=\"1\" class=\"dataframe\">\n",
       "  <thead>\n",
       "    <tr style=\"text-align: right;\">\n",
       "      <th></th>\n",
       "      <th>df</th>\n",
       "      <th>sum_sq</th>\n",
       "      <th>mean_sq</th>\n",
       "      <th>F</th>\n",
       "      <th>PR(&gt;F)</th>\n",
       "    </tr>\n",
       "  </thead>\n",
       "  <tbody>\n",
       "    <tr>\n",
       "      <th>C(cueEccentricity1)</th>\n",
       "      <td>1.0</td>\n",
       "      <td>1.988248</td>\n",
       "      <td>1.988248</td>\n",
       "      <td>10.267171</td>\n",
       "      <td>0.002202</td>\n",
       "    </tr>\n",
       "    <tr>\n",
       "      <th>Residual</th>\n",
       "      <td>58.0</td>\n",
       "      <td>11.231756</td>\n",
       "      <td>0.193651</td>\n",
       "      <td>NaN</td>\n",
       "      <td>NaN</td>\n",
       "    </tr>\n",
       "  </tbody>\n",
       "</table>\n",
       "</div>"
      ],
      "text/plain": [
       "                       df     sum_sq   mean_sq          F    PR(>F)\n",
       "C(cueEccentricity1)   1.0   1.988248  1.988248  10.267171  0.002202\n",
       "Residual             58.0  11.231756  0.193651        NaN       NaN"
      ]
     },
     "execution_count": 34,
     "metadata": {},
     "output_type": "execute_result"
    }
   ],
   "source": [
    "sub_hsb = sub_data.to_dataframe()\n",
    "#sub_hsb = hsb.groupby(['subject','cueEccentricity1']).apply(skew('responseRelative0'))\n",
    "mod = ols('skew ~ C(cueEccentricity1)',\n",
    "                data=sub_hsb).fit()\n",
    "                \n",
    "aov_table = sm.stats.anova_lm(mod)\n",
    "aov_table"
   ]
  },
  {
   "cell_type": "code",
   "execution_count": 35,
   "metadata": {},
   "outputs": [
    {
     "data": {
      "text/html": [
       "<div>\n",
       "<style scoped>\n",
       "    .dataframe tbody tr th:only-of-type {\n",
       "        vertical-align: middle;\n",
       "    }\n",
       "\n",
       "    .dataframe tbody tr th {\n",
       "        vertical-align: top;\n",
       "    }\n",
       "\n",
       "    .dataframe thead th {\n",
       "        text-align: right;\n",
       "    }\n",
       "</style>\n",
       "<table border=\"1\" class=\"dataframe\">\n",
       "  <thead>\n",
       "    <tr style=\"text-align: right;\">\n",
       "      <th></th>\n",
       "      <th>df</th>\n",
       "      <th>sum_sq</th>\n",
       "      <th>mean_sq</th>\n",
       "      <th>F</th>\n",
       "      <th>PR(&gt;F)</th>\n",
       "    </tr>\n",
       "  </thead>\n",
       "  <tbody>\n",
       "    <tr>\n",
       "      <th>C(cueEccentricity1)</th>\n",
       "      <td>1.0</td>\n",
       "      <td>1.727905</td>\n",
       "      <td>1.727905</td>\n",
       "      <td>3.035392</td>\n",
       "      <td>0.086768</td>\n",
       "    </tr>\n",
       "    <tr>\n",
       "      <th>Residual</th>\n",
       "      <td>58.0</td>\n",
       "      <td>33.016661</td>\n",
       "      <td>0.569253</td>\n",
       "      <td>NaN</td>\n",
       "      <td>NaN</td>\n",
       "    </tr>\n",
       "  </tbody>\n",
       "</table>\n",
       "</div>"
      ],
      "text/plain": [
       "                       df     sum_sq   mean_sq         F    PR(>F)\n",
       "C(cueEccentricity1)   1.0   1.727905  1.727905  3.035392  0.086768\n",
       "Residual             58.0  33.016661  0.569253       NaN       NaN"
      ]
     },
     "execution_count": 35,
     "metadata": {},
     "output_type": "execute_result"
    }
   ],
   "source": [
    "mod1 = ols('kurtosis ~ C(cueEccentricity1)',\n",
    "                data=sub_hsb).fit()\n",
    "                \n",
    "aov_table1 = sm.stats.anova_lm(mod1)\n",
    "aov_table1"
   ]
  },
  {
   "cell_type": "code",
   "execution_count": 36,
   "metadata": {},
   "outputs": [],
   "source": [
    "ecc = sub_data['cueEccentricity1'].unique().sort()\n",
    "deg2_data = sub_data[sub_data['cueEccentricity1']==ecc[0]]\n",
    "deg2_data = deg2_data.sort('subject')\n",
    "#deg6_data = sub_data[sub_data['cueEccentricity1']==6]\n",
    "#deg6_data = deg6_data.sort('subject')\n",
    "deg10_data = sub_data[sub_data['cueEccentricity1']==ecc[1]]\n",
    "deg10_data = deg10_data.sort('subject')\n",
    "\n",
    "deg2 = deg2_data['avg_lag'].to_numpy()\n",
    "deg2_ratio = deg2_data['ratio'].to_numpy()\n",
    "#deg6 = deg6_data['avg_lag'].to_numpy()\n",
    "#deg6_ratio = deg6_data['ratio'].to_numpy()\n",
    "deg10 = deg10_data['avg_lag'].to_numpy()\n",
    "deg10_ratio = deg10_data['ratio'].to_numpy()"
   ]
  },
  {
   "cell_type": "code",
   "execution_count": 37,
   "metadata": {},
   "outputs": [
    {
     "data": {
      "text/plain": [
       "30"
      ]
     },
     "execution_count": 37,
     "metadata": {},
     "output_type": "execute_result"
    }
   ],
   "source": [
    "len(deg2_ratio)"
   ]
  },
  {
   "cell_type": "code",
   "execution_count": 38,
   "metadata": {},
   "outputs": [
    {
     "name": "stdout",
     "output_type": "stream",
     "text": [
      "Ecc:2 vs. zero mean\n"
     ]
    },
    {
     "data": {
      "text/plain": [
       "Ttest_1sampResult(statistic=-1.6914901819791122, pvalue=0.10146392756050099)"
      ]
     },
     "execution_count": 38,
     "metadata": {},
     "output_type": "execute_result"
    }
   ],
   "source": [
    "print('Ecc:{}'.format(distributions[0]['ecc'])+' vs. zero mean')\n",
    "scipy.stats.ttest_1samp(deg2,0.0)"
   ]
  },
  {
   "cell_type": "code",
   "execution_count": 39,
   "metadata": {},
   "outputs": [
    {
     "name": "stdout",
     "output_type": "stream",
     "text": [
      "Ecc:2 vs.Ecc:10\n"
     ]
    },
    {
     "data": {
      "text/plain": [
       "Ttest_relResult(statistic=0.45766270044364027, pvalue=0.6506053777140217)"
      ]
     },
     "execution_count": 39,
     "metadata": {},
     "output_type": "execute_result"
    }
   ],
   "source": [
    "print('Ecc:{}'.format(distributions[0]['ecc'])+' vs.'+ 'Ecc:{}'.format(distributions[1]['ecc']))\n",
    "scipy.stats.ttest_rel(deg2, deg10)"
   ]
  },
  {
   "cell_type": "code",
   "execution_count": 40,
   "metadata": {},
   "outputs": [],
   "source": [
    "# print('Ecc:{}'.format(distributions[0]['ecc'])+' vs.'+ 'Ecc:{}'.format(distributions[2]['ecc']))\n",
    "# scipy.stats.ttest_rel(deg2,deg10)"
   ]
  },
  {
   "cell_type": "code",
   "execution_count": 41,
   "metadata": {},
   "outputs": [],
   "source": [
    "# print('Ecc:{}'.format(distributions[1]['ecc'])+' vs.'+ 'Ecc:{}'.format(distributions[2]['ecc']))\n",
    "# scipy.stats.ttest_rel(deg6,deg10)"
   ]
  },
  {
   "cell_type": "code",
   "execution_count": 42,
   "metadata": {},
   "outputs": [],
   "source": [
    "output = tc.SFrame()\n",
    "output['subject'] = np.arange(1,len(deg2_ratio)+1)\n",
    "output['avg_lag_2deg'] = deg2\n",
    "#output['avg_lag_6deg'] = deg6\n",
    "output['avg_lag_10deg'] = deg10\n",
    "\n",
    "output['ratio_2deg'] = deg2_ratio\n",
    "#output['ratio_6deg'] = deg6_ratio\n",
    "output['ratio_10deg'] = deg10_ratio"
   ]
  },
  {
   "cell_type": "code",
   "execution_count": 43,
   "metadata": {},
   "outputs": [
    {
     "data": {
      "text/html": [
       "<div style=\"max-height:1000px;max-width:1500px;overflow:auto;\"><table frame=\"box\" rules=\"cols\">\n",
       "    <tr>\n",
       "        <th style=\"padding-left: 1em; padding-right: 1em; text-align: center\">subject</th>\n",
       "        <th style=\"padding-left: 1em; padding-right: 1em; text-align: center\">avg_lag_2deg</th>\n",
       "        <th style=\"padding-left: 1em; padding-right: 1em; text-align: center\">avg_lag_10deg</th>\n",
       "        <th style=\"padding-left: 1em; padding-right: 1em; text-align: center\">ratio_2deg</th>\n",
       "        <th style=\"padding-left: 1em; padding-right: 1em; text-align: center\">ratio_10deg</th>\n",
       "    </tr>\n",
       "    <tr>\n",
       "        <td style=\"padding-left: 1em; padding-right: 1em; text-align: center; vertical-align: top\">1</td>\n",
       "        <td style=\"padding-left: 1em; padding-right: 1em; text-align: center; vertical-align: top\">-0.3571428571428571</td>\n",
       "        <td style=\"padding-left: 1em; padding-right: 1em; text-align: center; vertical-align: top\">0.15</td>\n",
       "        <td style=\"padding-left: 1em; padding-right: 1em; text-align: center; vertical-align: top\">15</td>\n",
       "        <td style=\"padding-left: 1em; padding-right: 1em; text-align: center; vertical-align: top\">48</td>\n",
       "    </tr>\n",
       "    <tr>\n",
       "        <td style=\"padding-left: 1em; padding-right: 1em; text-align: center; vertical-align: top\">2</td>\n",
       "        <td style=\"padding-left: 1em; padding-right: 1em; text-align: center; vertical-align: top\">0.2428571428571428</td>\n",
       "        <td style=\"padding-left: 1em; padding-right: 1em; text-align: center; vertical-align: top\">-0.6857142857142856</td>\n",
       "        <td style=\"padding-left: 1em; padding-right: 1em; text-align: center; vertical-align: top\">2</td>\n",
       "        <td style=\"padding-left: 1em; padding-right: 1em; text-align: center; vertical-align: top\">17</td>\n",
       "    </tr>\n",
       "    <tr>\n",
       "        <td style=\"padding-left: 1em; padding-right: 1em; text-align: center; vertical-align: top\">3</td>\n",
       "        <td style=\"padding-left: 1em; padding-right: 1em; text-align: center; vertical-align: top\">-0.05714285714285714</td>\n",
       "        <td style=\"padding-left: 1em; padding-right: 1em; text-align: center; vertical-align: top\">0.19999999999999998</td>\n",
       "        <td style=\"padding-left: 1em; padding-right: 1em; text-align: center; vertical-align: top\">-4</td>\n",
       "        <td style=\"padding-left: 1em; padding-right: 1em; text-align: center; vertical-align: top\">9</td>\n",
       "    </tr>\n",
       "    <tr>\n",
       "        <td style=\"padding-left: 1em; padding-right: 1em; text-align: center; vertical-align: top\">4</td>\n",
       "        <td style=\"padding-left: 1em; padding-right: 1em; text-align: center; vertical-align: top\">-0.1785714285714287</td>\n",
       "        <td style=\"padding-left: 1em; padding-right: 1em; text-align: center; vertical-align: top\">0.46428571428571414</td>\n",
       "        <td style=\"padding-left: 1em; padding-right: 1em; text-align: center; vertical-align: top\">-7</td>\n",
       "        <td style=\"padding-left: 1em; padding-right: 1em; text-align: center; vertical-align: top\">15</td>\n",
       "    </tr>\n",
       "    <tr>\n",
       "        <td style=\"padding-left: 1em; padding-right: 1em; text-align: center; vertical-align: top\">5</td>\n",
       "        <td style=\"padding-left: 1em; padding-right: 1em; text-align: center; vertical-align: top\">0.02857142857142849</td>\n",
       "        <td style=\"padding-left: 1em; padding-right: 1em; text-align: center; vertical-align: top\">-0.45000000000000007</td>\n",
       "        <td style=\"padding-left: 1em; padding-right: 1em; text-align: center; vertical-align: top\">8</td>\n",
       "        <td style=\"padding-left: 1em; padding-right: 1em; text-align: center; vertical-align: top\">24</td>\n",
       "    </tr>\n",
       "    <tr>\n",
       "        <td style=\"padding-left: 1em; padding-right: 1em; text-align: center; vertical-align: top\">6</td>\n",
       "        <td style=\"padding-left: 1em; padding-right: 1em; text-align: center; vertical-align: top\">0.2642857142857142</td>\n",
       "        <td style=\"padding-left: 1em; padding-right: 1em; text-align: center; vertical-align: top\">0.44999999999999996</td>\n",
       "        <td style=\"padding-left: 1em; padding-right: 1em; text-align: center; vertical-align: top\">-18</td>\n",
       "        <td style=\"padding-left: 1em; padding-right: 1em; text-align: center; vertical-align: top\">-18</td>\n",
       "    </tr>\n",
       "    <tr>\n",
       "        <td style=\"padding-left: 1em; padding-right: 1em; text-align: center; vertical-align: top\">7</td>\n",
       "        <td style=\"padding-left: 1em; padding-right: 1em; text-align: center; vertical-align: top\">-0.06428571428571435</td>\n",
       "        <td style=\"padding-left: 1em; padding-right: 1em; text-align: center; vertical-align: top\">-0.3142857142857141</td>\n",
       "        <td style=\"padding-left: 1em; padding-right: 1em; text-align: center; vertical-align: top\">2</td>\n",
       "        <td style=\"padding-left: 1em; padding-right: 1em; text-align: center; vertical-align: top\">16</td>\n",
       "    </tr>\n",
       "    <tr>\n",
       "        <td style=\"padding-left: 1em; padding-right: 1em; text-align: center; vertical-align: top\">8</td>\n",
       "        <td style=\"padding-left: 1em; padding-right: 1em; text-align: center; vertical-align: top\">-0.42857142857142855</td>\n",
       "        <td style=\"padding-left: 1em; padding-right: 1em; text-align: center; vertical-align: top\">-0.27857142857142847</td>\n",
       "        <td style=\"padding-left: 1em; padding-right: 1em; text-align: center; vertical-align: top\">10</td>\n",
       "        <td style=\"padding-left: 1em; padding-right: 1em; text-align: center; vertical-align: top\">16</td>\n",
       "    </tr>\n",
       "    <tr>\n",
       "        <td style=\"padding-left: 1em; padding-right: 1em; text-align: center; vertical-align: top\">9</td>\n",
       "        <td style=\"padding-left: 1em; padding-right: 1em; text-align: center; vertical-align: top\">-0.1571428571428572</td>\n",
       "        <td style=\"padding-left: 1em; padding-right: 1em; text-align: center; vertical-align: top\">-0.2714285714285715</td>\n",
       "        <td style=\"padding-left: 1em; padding-right: 1em; text-align: center; vertical-align: top\">19</td>\n",
       "        <td style=\"padding-left: 1em; padding-right: 1em; text-align: center; vertical-align: top\">33</td>\n",
       "    </tr>\n",
       "    <tr>\n",
       "        <td style=\"padding-left: 1em; padding-right: 1em; text-align: center; vertical-align: top\">10</td>\n",
       "        <td style=\"padding-left: 1em; padding-right: 1em; text-align: center; vertical-align: top\">-0.2214285714285712</td>\n",
       "        <td style=\"padding-left: 1em; padding-right: 1em; text-align: center; vertical-align: top\">-0.20714285714285713</td>\n",
       "        <td style=\"padding-left: 1em; padding-right: 1em; text-align: center; vertical-align: top\">17</td>\n",
       "        <td style=\"padding-left: 1em; padding-right: 1em; text-align: center; vertical-align: top\">28</td>\n",
       "    </tr>\n",
       "</table>\n",
       "[30 rows x 5 columns]<br/>Note: Only the head of the SFrame is printed.<br/>You can use print_rows(num_rows=m, num_columns=n) to print more rows and columns.\n",
       "</div>"
      ],
      "text/plain": [
       "Columns:\n",
       "\tsubject\tint\n",
       "\tavg_lag_2deg\tfloat\n",
       "\tavg_lag_10deg\tfloat\n",
       "\tratio_2deg\tint\n",
       "\tratio_10deg\tint\n",
       "\n",
       "Rows: 30\n",
       "\n",
       "Data:\n",
       "+---------+----------------------+----------------------+------------+-------------+\n",
       "| subject |     avg_lag_2deg     |    avg_lag_10deg     | ratio_2deg | ratio_10deg |\n",
       "+---------+----------------------+----------------------+------------+-------------+\n",
       "|    1    | -0.3571428571428571  |         0.15         |     15     |      48     |\n",
       "|    2    |  0.2428571428571428  | -0.6857142857142856  |     2      |      17     |\n",
       "|    3    | -0.05714285714285714 | 0.19999999999999998  |     -4     |      9      |\n",
       "|    4    | -0.1785714285714287  | 0.46428571428571414  |     -7     |      15     |\n",
       "|    5    | 0.02857142857142849  | -0.45000000000000007 |     8      |      24     |\n",
       "|    6    |  0.2642857142857142  | 0.44999999999999996  |    -18     |     -18     |\n",
       "|    7    | -0.06428571428571435 | -0.3142857142857141  |     2      |      16     |\n",
       "|    8    | -0.42857142857142855 | -0.27857142857142847 |     10     |      16     |\n",
       "|    9    | -0.1571428571428572  | -0.2714285714285715  |     19     |      33     |\n",
       "|    10   | -0.2214285714285712  | -0.20714285714285713 |     17     |      28     |\n",
       "+---------+----------------------+----------------------+------------+-------------+\n",
       "[30 rows x 5 columns]\n",
       "Note: Only the head of the SFrame is printed.\n",
       "You can use print_rows(num_rows=m, num_columns=n) to print more rows and columns."
      ]
     },
     "execution_count": 43,
     "metadata": {},
     "output_type": "execute_result"
    }
   ],
   "source": [
    "output"
   ]
  },
  {
   "cell_type": "code",
   "execution_count": 44,
   "metadata": {},
   "outputs": [],
   "source": [
    "# print('Ecc:{}'.format(2)+' vs.'+ 'Ecc:{}'.format(6))\n",
    "# scipy.stats.ttest_rel(output['avg_lag_2deg'].to_numpy(), output['avg_lag_6deg'].to_numpy())"
   ]
  },
  {
   "cell_type": "code",
   "execution_count": 45,
   "metadata": {},
   "outputs": [
    {
     "name": "stdout",
     "output_type": "stream",
     "text": [
      "Ecc:2 vs.Ecc:10\n"
     ]
    },
    {
     "data": {
      "text/plain": [
       "Ttest_relResult(statistic=0.45766270044364027, pvalue=0.6506053777140217)"
      ]
     },
     "execution_count": 45,
     "metadata": {},
     "output_type": "execute_result"
    }
   ],
   "source": [
    "print('Ecc:{}'.format(ecc[0])+' vs.'+ 'Ecc:{}'.format(ecc[1]))\n",
    "scipy.stats.ttest_rel(output['avg_lag_2deg'].to_numpy(), output['avg_lag_10deg'].to_numpy())"
   ]
  },
  {
   "cell_type": "code",
   "execution_count": 46,
   "metadata": {},
   "outputs": [],
   "source": [
    "# print('Ecc:{}'.format(6)+' vs.'+ 'Ecc:{}'.format(10))\n",
    "# scipy.stats.ttest_rel(output['avg_lag_6deg'].to_numpy(), output['avg_lag_10deg'].to_numpy())"
   ]
  },
  {
   "cell_type": "code",
   "execution_count": 47,
   "metadata": {},
   "outputs": [],
   "source": [
    "# print('Ecc:{}'.format(2)+' vs.'+ 'Ecc:{}'.format(6))\n",
    "# scipy.stats.ttest_rel(output['ratio_2deg'].to_numpy(), output['ratio_6deg'].to_numpy())"
   ]
  },
  {
   "cell_type": "code",
   "execution_count": 48,
   "metadata": {},
   "outputs": [
    {
     "name": "stdout",
     "output_type": "stream",
     "text": [
      "Ecc:2 vs.Ecc:10\n"
     ]
    },
    {
     "data": {
      "text/plain": [
       "Ttest_relResult(statistic=-5.3072600258461184, pvalue=1.0799781200299439e-05)"
      ]
     },
     "execution_count": 48,
     "metadata": {},
     "output_type": "execute_result"
    }
   ],
   "source": [
    "print('Ecc:{}'.format(ecc[0])+' vs.'+ 'Ecc:{}'.format(ecc[1]))\n",
    "scipy.stats.ttest_rel(output['ratio_2deg'].to_numpy(), output['ratio_10deg'].to_numpy())"
   ]
  },
  {
   "cell_type": "code",
   "execution_count": null,
   "metadata": {},
   "outputs": [],
   "source": [
    "# print('Ecc:{}'.format(6)+' vs.'+ 'Ecc:{}'.format(10))\n",
    "# scipy.stats.ttest_rel(output['ratio_6deg'].to_numpy(), output['ratio_10deg'].to_numpy())"
   ]
  },
  {
   "cell_type": "code",
   "execution_count": null,
   "metadata": {},
   "outputs": [],
   "source": [
    "trace_data = []\n",
    "trace_data.append(go.Bar(x = ['preference to lag -1 over lag 1 responses'],\n",
    "                        y = [output['ratio_2deg'].mean()],\n",
    "                        name=str(ecc[0])+' deg',\n",
    "                        marker = dict(color = colors[0]),\n",
    "                        error_y = dict(type = 'data',\n",
    "                                      array = [output['ratio_2deg'].std()/np.sqrt(len(output))],\n",
    "                                      visible=True\n",
    "                                      )\n",
    "                        )\n",
    "                 )\n",
    "\n",
    "# trace_data.append(go.Bar(x = ['preference to lag -1 over lag 1 responses'],\n",
    "#                         y = [output['ratio_6deg'].mean()],\n",
    "#                         name='6 deg',\n",
    "#                         marker = dict(color = colors[1]),\n",
    "#                         error_y = dict(type = 'data',\n",
    "#                                       array = [output['ratio_6deg'].std()/np.sqrt(14)],\n",
    "#                                       visible=True\n",
    "#                                       )\n",
    "#                         )\n",
    "#                  )\n",
    "\n",
    "trace_data.append(go.Bar(x = ['preference to lag -1 over lag 1 responses'],\n",
    "                        y = [output['ratio_10deg'].mean()],\n",
    "                        name=str(ecc[1])+' deg',\n",
    "                        marker = dict(color = colors[2]),\n",
    "                        error_y = dict(type = 'data',\n",
    "                                      array = [output['ratio_10deg'].std()/np.sqrt(len(output))],\n",
    "                                      visible=True\n",
    "                                      )\n",
    "                        )\n",
    "                 )\n",
    "\n",
    "layout = go.Layout(\n",
    "    barmode='group',\n",
    "    title = str(int(len(data)/280))+' participants',\n",
    "    xaxis = dict(zeroline=False),\n",
    "    yaxis = dict(title = 'avg. # of responses lag('+str(c_val[0])+') - lag('+str(c_val[1])+')',zeroline=False),\n",
    ")\n",
    "fig = go.Figure(data=trace_data, layout=layout)\n",
    "py.iplot(fig, filename='error-bar-bar')"
   ]
  },
  {
   "cell_type": "code",
   "execution_count": null,
   "metadata": {},
   "outputs": [],
   "source": []
  }
 ],
 "metadata": {
  "anaconda-cloud": {},
  "kernelspec": {
   "display_name": "adiLab (3.7)",
   "language": "python",
   "name": "adilab"
  },
  "language_info": {
   "codemirror_mode": {
    "name": "ipython",
    "version": 3
   },
   "file_extension": ".py",
   "mimetype": "text/x-python",
   "name": "python",
   "nbconvert_exporter": "python",
   "pygments_lexer": "ipython3",
   "version": "3.6.0"
  },
  "toc": {
   "base_numbering": 1,
   "nav_menu": {},
   "number_sections": true,
   "sideBar": true,
   "skip_h1_title": false,
   "title_cell": "Table of Contents",
   "title_sidebar": "Contents",
   "toc_cell": false,
   "toc_position": {},
   "toc_section_display": true,
   "toc_window_display": false
  }
 },
 "nbformat": 4,
 "nbformat_minor": 1
}
