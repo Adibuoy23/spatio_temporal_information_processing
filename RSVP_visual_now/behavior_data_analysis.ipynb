{
 "cells": [
  {
   "cell_type": "code",
   "execution_count": 45,
   "metadata": {
    "collapsed": false
   },
   "outputs": [
    {
     "name": "stdout",
     "output_type": "stream",
     "text": [
      "['4_12Nov2018_20-00.csv', '10_14Nov2018_15-29.csv', '12_15Nov2018_13-41.txt', '5_13Nov2018_15-08.csv', '9_14Nov2018_14-35.csv', '15_15Nov2018_16-54.csv', '1_12Nov2018_16-25.txt', '8_14Nov2018_13-31.txt', '3_12Nov2018_18-35.txt', '7_13Nov2018_17-00.txt', '6_13Nov2018_16-14.csv', '14_15Nov2018_16-06.txt', '2_12Nov2018_17-35.csv', '13_15Nov2018_15-04.csv', '11_15Nov2018_11-36.txt', '10_14Nov2018_15-29.txt', '12_15Nov2018_13-41.csv', '4_12Nov2018_20-00.txt', '5_13Nov2018_15-08.txt', '9_14Nov2018_14-35.txt', '3_12Nov2018_18-35.csv', '6_13Nov2018_16-14.txt', '7_13Nov2018_17-00.csv', '15_15Nov2018_16-54.txt', '1_12Nov2018_16-25.csv', '8_14Nov2018_13-31.csv', '13_15Nov2018_15-04.txt', '11_15Nov2018_11-36.csv', '14_15Nov2018_16-06.csv', '2_12Nov2018_17-35.txt']\n"
     ]
    }
   ],
   "source": [
    "# clear all the variables\n",
    "%reset -f\n",
    "import numpy as np\n",
    "import pandas as pd\n",
    "import sys\n",
    "import graphlab\n",
    "import os\n",
    "from os import walk\n",
    "import scipy.io\n",
    "import xlrd, os, fnmatch\n",
    "import pandas as pd\n",
    "import tensorflow as tf\n",
    "import plotly.plotly as py\n",
    "import plotly.graph_objs as go\n",
    "from scipy.spatial.distance import cdist\n",
    "# Path variable (where the data is located)\n",
    "myPath = './data/Expt_I' \n",
    "# Append the path variable to existing search path\n",
    "sys.path.append(myPath)\n",
    "# Get the file information in the directory\n",
    "file_list = []\n",
    "ignore_list = ['pilot']\n",
    "for root, dirs, files in os.walk(myPath):\n",
    "    print files\n",
    "    if 'pilot' in dirs:\n",
    "        dirs[:]=[]\n",
    "    for filename in files:\n",
    "        if fnmatch.fnmatch(filename.lower(), \"*csv\"):\n",
    "            file_list.append(os.path.join(root, filename))"
   ]
  },
  {
   "cell_type": "code",
   "execution_count": 46,
   "metadata": {
    "collapsed": false
   },
   "outputs": [
    {
     "data": {
      "text/plain": [
       "['./data/Expt_I/4_12Nov2018_20-00.csv',\n",
       " './data/Expt_I/10_14Nov2018_15-29.csv',\n",
       " './data/Expt_I/5_13Nov2018_15-08.csv',\n",
       " './data/Expt_I/9_14Nov2018_14-35.csv',\n",
       " './data/Expt_I/15_15Nov2018_16-54.csv',\n",
       " './data/Expt_I/6_13Nov2018_16-14.csv',\n",
       " './data/Expt_I/2_12Nov2018_17-35.csv',\n",
       " './data/Expt_I/13_15Nov2018_15-04.csv',\n",
       " './data/Expt_I/12_15Nov2018_13-41.csv',\n",
       " './data/Expt_I/3_12Nov2018_18-35.csv',\n",
       " './data/Expt_I/7_13Nov2018_17-00.csv',\n",
       " './data/Expt_I/1_12Nov2018_16-25.csv',\n",
       " './data/Expt_I/8_14Nov2018_13-31.csv',\n",
       " './data/Expt_I/11_15Nov2018_11-36.csv',\n",
       " './data/Expt_I/14_15Nov2018_16-06.csv']"
      ]
     },
     "execution_count": 46,
     "metadata": {},
     "output_type": "execute_result"
    }
   ],
   "source": [
    "file_list"
   ]
  },
  {
   "cell_type": "code",
   "execution_count": 47,
   "metadata": {
    "collapsed": false
   },
   "outputs": [
    {
     "data": {
      "text/html": [
       "<pre>Finished parsing file /Users/supadhy6/Documents/GitHub/spatio_temporal_information_processing/RSVP_visual_now/data/Expt_I/4_12Nov2018_20-00.csv</pre>"
      ],
      "text/plain": [
       "Finished parsing file /Users/supadhy6/Documents/GitHub/spatio_temporal_information_processing/RSVP_visual_now/data/Expt_I/4_12Nov2018_20-00.csv"
      ]
     },
     "metadata": {},
     "output_type": "display_data"
    },
    {
     "data": {
      "text/html": [
       "<pre>Parsing completed. Parsed 100 lines in 0.03578 secs.</pre>"
      ],
      "text/plain": [
       "Parsing completed. Parsed 100 lines in 0.03578 secs."
      ]
     },
     "metadata": {},
     "output_type": "display_data"
    },
    {
     "name": "stdout",
     "output_type": "stream",
     "text": [
      "------------------------------------------------------\n",
      "Inferred types from first 100 line(s) of file as \n",
      "column_type_hints=[str,int,int,str,float,int,str,str,float,float,array,int,int]\n",
      "If parsing fails due to incorrect types, you can correct\n",
      "the inferred type list above and pass it to read_csv in\n",
      "the column_type_hints argument\n",
      "------------------------------------------------------\n"
     ]
    },
    {
     "data": {
      "text/html": [
       "<pre>Finished parsing file /Users/supadhy6/Documents/GitHub/spatio_temporal_information_processing/RSVP_visual_now/data/Expt_I/4_12Nov2018_20-00.csv</pre>"
      ],
      "text/plain": [
       "Finished parsing file /Users/supadhy6/Documents/GitHub/spatio_temporal_information_processing/RSVP_visual_now/data/Expt_I/4_12Nov2018_20-00.csv"
      ]
     },
     "metadata": {},
     "output_type": "display_data"
    },
    {
     "data": {
      "text/html": [
       "<pre>Parsing completed. Parsed 420 lines in 0.008129 secs.</pre>"
      ],
      "text/plain": [
       "Parsing completed. Parsed 420 lines in 0.008129 secs."
      ]
     },
     "metadata": {},
     "output_type": "display_data"
    },
    {
     "data": {
      "text/html": [
       "<pre>Finished parsing file /Users/supadhy6/Documents/GitHub/spatio_temporal_information_processing/RSVP_visual_now/data/Expt_I/10_14Nov2018_15-29.csv</pre>"
      ],
      "text/plain": [
       "Finished parsing file /Users/supadhy6/Documents/GitHub/spatio_temporal_information_processing/RSVP_visual_now/data/Expt_I/10_14Nov2018_15-29.csv"
      ]
     },
     "metadata": {},
     "output_type": "display_data"
    },
    {
     "data": {
      "text/html": [
       "<pre>Parsing completed. Parsed 100 lines in 0.009481 secs.</pre>"
      ],
      "text/plain": [
       "Parsing completed. Parsed 100 lines in 0.009481 secs."
      ]
     },
     "metadata": {},
     "output_type": "display_data"
    },
    {
     "name": "stdout",
     "output_type": "stream",
     "text": [
      "------------------------------------------------------\n",
      "Inferred types from first 100 line(s) of file as \n",
      "column_type_hints=[str,int,int,str,float,int,str,str,float,float,array,int,int]\n",
      "If parsing fails due to incorrect types, you can correct\n",
      "the inferred type list above and pass it to read_csv in\n",
      "the column_type_hints argument\n",
      "------------------------------------------------------\n"
     ]
    },
    {
     "data": {
      "text/html": [
       "<pre>Finished parsing file /Users/supadhy6/Documents/GitHub/spatio_temporal_information_processing/RSVP_visual_now/data/Expt_I/10_14Nov2018_15-29.csv</pre>"
      ],
      "text/plain": [
       "Finished parsing file /Users/supadhy6/Documents/GitHub/spatio_temporal_information_processing/RSVP_visual_now/data/Expt_I/10_14Nov2018_15-29.csv"
      ]
     },
     "metadata": {},
     "output_type": "display_data"
    },
    {
     "data": {
      "text/html": [
       "<pre>Parsing completed. Parsed 420 lines in 0.00601 secs.</pre>"
      ],
      "text/plain": [
       "Parsing completed. Parsed 420 lines in 0.00601 secs."
      ]
     },
     "metadata": {},
     "output_type": "display_data"
    },
    {
     "data": {
      "text/html": [
       "<pre>Finished parsing file /Users/supadhy6/Documents/GitHub/spatio_temporal_information_processing/RSVP_visual_now/data/Expt_I/5_13Nov2018_15-08.csv</pre>"
      ],
      "text/plain": [
       "Finished parsing file /Users/supadhy6/Documents/GitHub/spatio_temporal_information_processing/RSVP_visual_now/data/Expt_I/5_13Nov2018_15-08.csv"
      ]
     },
     "metadata": {},
     "output_type": "display_data"
    },
    {
     "data": {
      "text/html": [
       "<pre>Parsing completed. Parsed 100 lines in 0.011964 secs.</pre>"
      ],
      "text/plain": [
       "Parsing completed. Parsed 100 lines in 0.011964 secs."
      ]
     },
     "metadata": {},
     "output_type": "display_data"
    },
    {
     "name": "stdout",
     "output_type": "stream",
     "text": [
      "------------------------------------------------------\n",
      "Inferred types from first 100 line(s) of file as \n",
      "column_type_hints=[str,int,int,str,float,int,str,str,float,float,array,int,int]\n",
      "If parsing fails due to incorrect types, you can correct\n",
      "the inferred type list above and pass it to read_csv in\n",
      "the column_type_hints argument\n",
      "------------------------------------------------------\n"
     ]
    },
    {
     "data": {
      "text/html": [
       "<pre>Finished parsing file /Users/supadhy6/Documents/GitHub/spatio_temporal_information_processing/RSVP_visual_now/data/Expt_I/5_13Nov2018_15-08.csv</pre>"
      ],
      "text/plain": [
       "Finished parsing file /Users/supadhy6/Documents/GitHub/spatio_temporal_information_processing/RSVP_visual_now/data/Expt_I/5_13Nov2018_15-08.csv"
      ]
     },
     "metadata": {},
     "output_type": "display_data"
    },
    {
     "data": {
      "text/html": [
       "<pre>Parsing completed. Parsed 420 lines in 0.006319 secs.</pre>"
      ],
      "text/plain": [
       "Parsing completed. Parsed 420 lines in 0.006319 secs."
      ]
     },
     "metadata": {},
     "output_type": "display_data"
    },
    {
     "data": {
      "text/html": [
       "<pre>Finished parsing file /Users/supadhy6/Documents/GitHub/spatio_temporal_information_processing/RSVP_visual_now/data/Expt_I/9_14Nov2018_14-35.csv</pre>"
      ],
      "text/plain": [
       "Finished parsing file /Users/supadhy6/Documents/GitHub/spatio_temporal_information_processing/RSVP_visual_now/data/Expt_I/9_14Nov2018_14-35.csv"
      ]
     },
     "metadata": {},
     "output_type": "display_data"
    },
    {
     "data": {
      "text/html": [
       "<pre>Parsing completed. Parsed 100 lines in 0.008699 secs.</pre>"
      ],
      "text/plain": [
       "Parsing completed. Parsed 100 lines in 0.008699 secs."
      ]
     },
     "metadata": {},
     "output_type": "display_data"
    },
    {
     "name": "stdout",
     "output_type": "stream",
     "text": [
      "------------------------------------------------------\n",
      "Inferred types from first 100 line(s) of file as \n",
      "column_type_hints=[str,int,int,str,float,int,str,str,float,float,array,int,int]\n",
      "If parsing fails due to incorrect types, you can correct\n",
      "the inferred type list above and pass it to read_csv in\n",
      "the column_type_hints argument\n",
      "------------------------------------------------------\n"
     ]
    },
    {
     "data": {
      "text/html": [
       "<pre>Finished parsing file /Users/supadhy6/Documents/GitHub/spatio_temporal_information_processing/RSVP_visual_now/data/Expt_I/9_14Nov2018_14-35.csv</pre>"
      ],
      "text/plain": [
       "Finished parsing file /Users/supadhy6/Documents/GitHub/spatio_temporal_information_processing/RSVP_visual_now/data/Expt_I/9_14Nov2018_14-35.csv"
      ]
     },
     "metadata": {},
     "output_type": "display_data"
    },
    {
     "data": {
      "text/html": [
       "<pre>Parsing completed. Parsed 420 lines in 0.006217 secs.</pre>"
      ],
      "text/plain": [
       "Parsing completed. Parsed 420 lines in 0.006217 secs."
      ]
     },
     "metadata": {},
     "output_type": "display_data"
    },
    {
     "data": {
      "text/html": [
       "<pre>Finished parsing file /Users/supadhy6/Documents/GitHub/spatio_temporal_information_processing/RSVP_visual_now/data/Expt_I/15_15Nov2018_16-54.csv</pre>"
      ],
      "text/plain": [
       "Finished parsing file /Users/supadhy6/Documents/GitHub/spatio_temporal_information_processing/RSVP_visual_now/data/Expt_I/15_15Nov2018_16-54.csv"
      ]
     },
     "metadata": {},
     "output_type": "display_data"
    },
    {
     "data": {
      "text/html": [
       "<pre>Parsing completed. Parsed 100 lines in 0.007325 secs.</pre>"
      ],
      "text/plain": [
       "Parsing completed. Parsed 100 lines in 0.007325 secs."
      ]
     },
     "metadata": {},
     "output_type": "display_data"
    },
    {
     "name": "stdout",
     "output_type": "stream",
     "text": [
      "------------------------------------------------------\n",
      "Inferred types from first 100 line(s) of file as \n",
      "column_type_hints=[str,int,int,str,float,int,str,str,float,float,array,int,int]\n",
      "If parsing fails due to incorrect types, you can correct\n",
      "the inferred type list above and pass it to read_csv in\n",
      "the column_type_hints argument\n",
      "------------------------------------------------------\n"
     ]
    },
    {
     "data": {
      "text/html": [
       "<pre>Finished parsing file /Users/supadhy6/Documents/GitHub/spatio_temporal_information_processing/RSVP_visual_now/data/Expt_I/15_15Nov2018_16-54.csv</pre>"
      ],
      "text/plain": [
       "Finished parsing file /Users/supadhy6/Documents/GitHub/spatio_temporal_information_processing/RSVP_visual_now/data/Expt_I/15_15Nov2018_16-54.csv"
      ]
     },
     "metadata": {},
     "output_type": "display_data"
    },
    {
     "data": {
      "text/html": [
       "<pre>Parsing completed. Parsed 420 lines in 0.007358 secs.</pre>"
      ],
      "text/plain": [
       "Parsing completed. Parsed 420 lines in 0.007358 secs."
      ]
     },
     "metadata": {},
     "output_type": "display_data"
    },
    {
     "data": {
      "text/html": [
       "<pre>Finished parsing file /Users/supadhy6/Documents/GitHub/spatio_temporal_information_processing/RSVP_visual_now/data/Expt_I/6_13Nov2018_16-14.csv</pre>"
      ],
      "text/plain": [
       "Finished parsing file /Users/supadhy6/Documents/GitHub/spatio_temporal_information_processing/RSVP_visual_now/data/Expt_I/6_13Nov2018_16-14.csv"
      ]
     },
     "metadata": {},
     "output_type": "display_data"
    },
    {
     "data": {
      "text/html": [
       "<pre>Parsing completed. Parsed 100 lines in 0.00812 secs.</pre>"
      ],
      "text/plain": [
       "Parsing completed. Parsed 100 lines in 0.00812 secs."
      ]
     },
     "metadata": {},
     "output_type": "display_data"
    },
    {
     "name": "stdout",
     "output_type": "stream",
     "text": [
      "------------------------------------------------------\n",
      "Inferred types from first 100 line(s) of file as \n",
      "column_type_hints=[str,int,int,str,float,int,str,str,float,float,array,int,int]\n",
      "If parsing fails due to incorrect types, you can correct\n",
      "the inferred type list above and pass it to read_csv in\n",
      "the column_type_hints argument\n",
      "------------------------------------------------------\n"
     ]
    },
    {
     "data": {
      "text/html": [
       "<pre>Finished parsing file /Users/supadhy6/Documents/GitHub/spatio_temporal_information_processing/RSVP_visual_now/data/Expt_I/6_13Nov2018_16-14.csv</pre>"
      ],
      "text/plain": [
       "Finished parsing file /Users/supadhy6/Documents/GitHub/spatio_temporal_information_processing/RSVP_visual_now/data/Expt_I/6_13Nov2018_16-14.csv"
      ]
     },
     "metadata": {},
     "output_type": "display_data"
    },
    {
     "data": {
      "text/html": [
       "<pre>Parsing completed. Parsed 420 lines in 0.006058 secs.</pre>"
      ],
      "text/plain": [
       "Parsing completed. Parsed 420 lines in 0.006058 secs."
      ]
     },
     "metadata": {},
     "output_type": "display_data"
    },
    {
     "data": {
      "text/html": [
       "<pre>Finished parsing file /Users/supadhy6/Documents/GitHub/spatio_temporal_information_processing/RSVP_visual_now/data/Expt_I/2_12Nov2018_17-35.csv</pre>"
      ],
      "text/plain": [
       "Finished parsing file /Users/supadhy6/Documents/GitHub/spatio_temporal_information_processing/RSVP_visual_now/data/Expt_I/2_12Nov2018_17-35.csv"
      ]
     },
     "metadata": {},
     "output_type": "display_data"
    },
    {
     "data": {
      "text/html": [
       "<pre>Parsing completed. Parsed 100 lines in 0.00897 secs.</pre>"
      ],
      "text/plain": [
       "Parsing completed. Parsed 100 lines in 0.00897 secs."
      ]
     },
     "metadata": {},
     "output_type": "display_data"
    },
    {
     "name": "stdout",
     "output_type": "stream",
     "text": [
      "------------------------------------------------------\n",
      "Inferred types from first 100 line(s) of file as \n",
      "column_type_hints=[str,int,int,str,float,int,str,str,float,float,array,int,int]\n",
      "If parsing fails due to incorrect types, you can correct\n",
      "the inferred type list above and pass it to read_csv in\n",
      "the column_type_hints argument\n",
      "------------------------------------------------------\n"
     ]
    },
    {
     "data": {
      "text/html": [
       "<pre>Finished parsing file /Users/supadhy6/Documents/GitHub/spatio_temporal_information_processing/RSVP_visual_now/data/Expt_I/2_12Nov2018_17-35.csv</pre>"
      ],
      "text/plain": [
       "Finished parsing file /Users/supadhy6/Documents/GitHub/spatio_temporal_information_processing/RSVP_visual_now/data/Expt_I/2_12Nov2018_17-35.csv"
      ]
     },
     "metadata": {},
     "output_type": "display_data"
    },
    {
     "data": {
      "text/html": [
       "<pre>Parsing completed. Parsed 420 lines in 0.009334 secs.</pre>"
      ],
      "text/plain": [
       "Parsing completed. Parsed 420 lines in 0.009334 secs."
      ]
     },
     "metadata": {},
     "output_type": "display_data"
    },
    {
     "data": {
      "text/html": [
       "<pre>Finished parsing file /Users/supadhy6/Documents/GitHub/spatio_temporal_information_processing/RSVP_visual_now/data/Expt_I/13_15Nov2018_15-04.csv</pre>"
      ],
      "text/plain": [
       "Finished parsing file /Users/supadhy6/Documents/GitHub/spatio_temporal_information_processing/RSVP_visual_now/data/Expt_I/13_15Nov2018_15-04.csv"
      ]
     },
     "metadata": {},
     "output_type": "display_data"
    },
    {
     "data": {
      "text/html": [
       "<pre>Parsing completed. Parsed 100 lines in 0.007737 secs.</pre>"
      ],
      "text/plain": [
       "Parsing completed. Parsed 100 lines in 0.007737 secs."
      ]
     },
     "metadata": {},
     "output_type": "display_data"
    },
    {
     "name": "stdout",
     "output_type": "stream",
     "text": [
      "------------------------------------------------------\n",
      "Inferred types from first 100 line(s) of file as \n",
      "column_type_hints=[str,int,int,str,float,int,str,str,float,float,array,int,int]\n",
      "If parsing fails due to incorrect types, you can correct\n",
      "the inferred type list above and pass it to read_csv in\n",
      "the column_type_hints argument\n",
      "------------------------------------------------------\n"
     ]
    },
    {
     "data": {
      "text/html": [
       "<pre>Finished parsing file /Users/supadhy6/Documents/GitHub/spatio_temporal_information_processing/RSVP_visual_now/data/Expt_I/13_15Nov2018_15-04.csv</pre>"
      ],
      "text/plain": [
       "Finished parsing file /Users/supadhy6/Documents/GitHub/spatio_temporal_information_processing/RSVP_visual_now/data/Expt_I/13_15Nov2018_15-04.csv"
      ]
     },
     "metadata": {},
     "output_type": "display_data"
    },
    {
     "data": {
      "text/html": [
       "<pre>Parsing completed. Parsed 420 lines in 0.008845 secs.</pre>"
      ],
      "text/plain": [
       "Parsing completed. Parsed 420 lines in 0.008845 secs."
      ]
     },
     "metadata": {},
     "output_type": "display_data"
    },
    {
     "data": {
      "text/html": [
       "<pre>Finished parsing file /Users/supadhy6/Documents/GitHub/spatio_temporal_information_processing/RSVP_visual_now/data/Expt_I/12_15Nov2018_13-41.csv</pre>"
      ],
      "text/plain": [
       "Finished parsing file /Users/supadhy6/Documents/GitHub/spatio_temporal_information_processing/RSVP_visual_now/data/Expt_I/12_15Nov2018_13-41.csv"
      ]
     },
     "metadata": {},
     "output_type": "display_data"
    },
    {
     "data": {
      "text/html": [
       "<pre>Parsing completed. Parsed 100 lines in 0.008697 secs.</pre>"
      ],
      "text/plain": [
       "Parsing completed. Parsed 100 lines in 0.008697 secs."
      ]
     },
     "metadata": {},
     "output_type": "display_data"
    },
    {
     "name": "stdout",
     "output_type": "stream",
     "text": [
      "------------------------------------------------------\n",
      "Inferred types from first 100 line(s) of file as \n",
      "column_type_hints=[str,int,int,str,float,int,str,str,float,float,array,int,int]\n",
      "If parsing fails due to incorrect types, you can correct\n",
      "the inferred type list above and pass it to read_csv in\n",
      "the column_type_hints argument\n",
      "------------------------------------------------------\n"
     ]
    },
    {
     "data": {
      "text/html": [
       "<pre>Read 420 lines. Lines per second: 49592.6</pre>"
      ],
      "text/plain": [
       "Read 420 lines. Lines per second: 49592.6"
      ]
     },
     "metadata": {},
     "output_type": "display_data"
    },
    {
     "data": {
      "text/html": [
       "<pre>Finished parsing file /Users/supadhy6/Documents/GitHub/spatio_temporal_information_processing/RSVP_visual_now/data/Expt_I/12_15Nov2018_13-41.csv</pre>"
      ],
      "text/plain": [
       "Finished parsing file /Users/supadhy6/Documents/GitHub/spatio_temporal_information_processing/RSVP_visual_now/data/Expt_I/12_15Nov2018_13-41.csv"
      ]
     },
     "metadata": {},
     "output_type": "display_data"
    },
    {
     "data": {
      "text/html": [
       "<pre>Parsing completed. Parsed 420 lines in 0.008541 secs.</pre>"
      ],
      "text/plain": [
       "Parsing completed. Parsed 420 lines in 0.008541 secs."
      ]
     },
     "metadata": {},
     "output_type": "display_data"
    },
    {
     "data": {
      "text/html": [
       "<pre>Finished parsing file /Users/supadhy6/Documents/GitHub/spatio_temporal_information_processing/RSVP_visual_now/data/Expt_I/3_12Nov2018_18-35.csv</pre>"
      ],
      "text/plain": [
       "Finished parsing file /Users/supadhy6/Documents/GitHub/spatio_temporal_information_processing/RSVP_visual_now/data/Expt_I/3_12Nov2018_18-35.csv"
      ]
     },
     "metadata": {},
     "output_type": "display_data"
    },
    {
     "data": {
      "text/html": [
       "<pre>Parsing completed. Parsed 100 lines in 0.009779 secs.</pre>"
      ],
      "text/plain": [
       "Parsing completed. Parsed 100 lines in 0.009779 secs."
      ]
     },
     "metadata": {},
     "output_type": "display_data"
    },
    {
     "name": "stdout",
     "output_type": "stream",
     "text": [
      "------------------------------------------------------\n",
      "Inferred types from first 100 line(s) of file as \n",
      "column_type_hints=[str,int,int,str,float,int,str,str,float,float,array,int,int]\n",
      "If parsing fails due to incorrect types, you can correct\n",
      "the inferred type list above and pass it to read_csv in\n",
      "the column_type_hints argument\n",
      "------------------------------------------------------\n"
     ]
    },
    {
     "data": {
      "text/html": [
       "<pre>Finished parsing file /Users/supadhy6/Documents/GitHub/spatio_temporal_information_processing/RSVP_visual_now/data/Expt_I/3_12Nov2018_18-35.csv</pre>"
      ],
      "text/plain": [
       "Finished parsing file /Users/supadhy6/Documents/GitHub/spatio_temporal_information_processing/RSVP_visual_now/data/Expt_I/3_12Nov2018_18-35.csv"
      ]
     },
     "metadata": {},
     "output_type": "display_data"
    },
    {
     "data": {
      "text/html": [
       "<pre>Parsing completed. Parsed 420 lines in 0.006653 secs.</pre>"
      ],
      "text/plain": [
       "Parsing completed. Parsed 420 lines in 0.006653 secs."
      ]
     },
     "metadata": {},
     "output_type": "display_data"
    },
    {
     "data": {
      "text/html": [
       "<pre>Finished parsing file /Users/supadhy6/Documents/GitHub/spatio_temporal_information_processing/RSVP_visual_now/data/Expt_I/7_13Nov2018_17-00.csv</pre>"
      ],
      "text/plain": [
       "Finished parsing file /Users/supadhy6/Documents/GitHub/spatio_temporal_information_processing/RSVP_visual_now/data/Expt_I/7_13Nov2018_17-00.csv"
      ]
     },
     "metadata": {},
     "output_type": "display_data"
    },
    {
     "data": {
      "text/html": [
       "<pre>Parsing completed. Parsed 100 lines in 0.007495 secs.</pre>"
      ],
      "text/plain": [
       "Parsing completed. Parsed 100 lines in 0.007495 secs."
      ]
     },
     "metadata": {},
     "output_type": "display_data"
    },
    {
     "name": "stdout",
     "output_type": "stream",
     "text": [
      "------------------------------------------------------\n",
      "Inferred types from first 100 line(s) of file as \n",
      "column_type_hints=[str,int,int,str,float,int,str,str,float,float,array,int,int]\n",
      "If parsing fails due to incorrect types, you can correct\n",
      "the inferred type list above and pass it to read_csv in\n",
      "the column_type_hints argument\n",
      "------------------------------------------------------\n"
     ]
    },
    {
     "data": {
      "text/html": [
       "<pre>Finished parsing file /Users/supadhy6/Documents/GitHub/spatio_temporal_information_processing/RSVP_visual_now/data/Expt_I/7_13Nov2018_17-00.csv</pre>"
      ],
      "text/plain": [
       "Finished parsing file /Users/supadhy6/Documents/GitHub/spatio_temporal_information_processing/RSVP_visual_now/data/Expt_I/7_13Nov2018_17-00.csv"
      ]
     },
     "metadata": {},
     "output_type": "display_data"
    },
    {
     "data": {
      "text/html": [
       "<pre>Parsing completed. Parsed 420 lines in 0.006577 secs.</pre>"
      ],
      "text/plain": [
       "Parsing completed. Parsed 420 lines in 0.006577 secs."
      ]
     },
     "metadata": {},
     "output_type": "display_data"
    },
    {
     "data": {
      "text/html": [
       "<pre>Finished parsing file /Users/supadhy6/Documents/GitHub/spatio_temporal_information_processing/RSVP_visual_now/data/Expt_I/1_12Nov2018_16-25.csv</pre>"
      ],
      "text/plain": [
       "Finished parsing file /Users/supadhy6/Documents/GitHub/spatio_temporal_information_processing/RSVP_visual_now/data/Expt_I/1_12Nov2018_16-25.csv"
      ]
     },
     "metadata": {},
     "output_type": "display_data"
    },
    {
     "data": {
      "text/html": [
       "<pre>Parsing completed. Parsed 100 lines in 0.011218 secs.</pre>"
      ],
      "text/plain": [
       "Parsing completed. Parsed 100 lines in 0.011218 secs."
      ]
     },
     "metadata": {},
     "output_type": "display_data"
    },
    {
     "name": "stdout",
     "output_type": "stream",
     "text": [
      "------------------------------------------------------\n",
      "Inferred types from first 100 line(s) of file as \n",
      "column_type_hints=[str,int,int,str,float,int,str,str,float,float,array,int,int]\n",
      "If parsing fails due to incorrect types, you can correct\n",
      "the inferred type list above and pass it to read_csv in\n",
      "the column_type_hints argument\n",
      "------------------------------------------------------\n"
     ]
    },
    {
     "data": {
      "text/html": [
       "<pre>Finished parsing file /Users/supadhy6/Documents/GitHub/spatio_temporal_information_processing/RSVP_visual_now/data/Expt_I/1_12Nov2018_16-25.csv</pre>"
      ],
      "text/plain": [
       "Finished parsing file /Users/supadhy6/Documents/GitHub/spatio_temporal_information_processing/RSVP_visual_now/data/Expt_I/1_12Nov2018_16-25.csv"
      ]
     },
     "metadata": {},
     "output_type": "display_data"
    },
    {
     "data": {
      "text/html": [
       "<pre>Parsing completed. Parsed 450 lines in 0.008454 secs.</pre>"
      ],
      "text/plain": [
       "Parsing completed. Parsed 450 lines in 0.008454 secs."
      ]
     },
     "metadata": {},
     "output_type": "display_data"
    },
    {
     "data": {
      "text/html": [
       "<pre>Finished parsing file /Users/supadhy6/Documents/GitHub/spatio_temporal_information_processing/RSVP_visual_now/data/Expt_I/8_14Nov2018_13-31.csv</pre>"
      ],
      "text/plain": [
       "Finished parsing file /Users/supadhy6/Documents/GitHub/spatio_temporal_information_processing/RSVP_visual_now/data/Expt_I/8_14Nov2018_13-31.csv"
      ]
     },
     "metadata": {},
     "output_type": "display_data"
    },
    {
     "data": {
      "text/html": [
       "<pre>Parsing completed. Parsed 100 lines in 0.01004 secs.</pre>"
      ],
      "text/plain": [
       "Parsing completed. Parsed 100 lines in 0.01004 secs."
      ]
     },
     "metadata": {},
     "output_type": "display_data"
    },
    {
     "name": "stdout",
     "output_type": "stream",
     "text": [
      "------------------------------------------------------\n",
      "Inferred types from first 100 line(s) of file as \n",
      "column_type_hints=[str,int,int,str,float,int,str,str,float,float,array,int,int]\n",
      "If parsing fails due to incorrect types, you can correct\n",
      "the inferred type list above and pass it to read_csv in\n",
      "the column_type_hints argument\n",
      "------------------------------------------------------\n"
     ]
    },
    {
     "data": {
      "text/html": [
       "<pre>Finished parsing file /Users/supadhy6/Documents/GitHub/spatio_temporal_information_processing/RSVP_visual_now/data/Expt_I/8_14Nov2018_13-31.csv</pre>"
      ],
      "text/plain": [
       "Finished parsing file /Users/supadhy6/Documents/GitHub/spatio_temporal_information_processing/RSVP_visual_now/data/Expt_I/8_14Nov2018_13-31.csv"
      ]
     },
     "metadata": {},
     "output_type": "display_data"
    },
    {
     "data": {
      "text/html": [
       "<pre>Parsing completed. Parsed 420 lines in 0.008979 secs.</pre>"
      ],
      "text/plain": [
       "Parsing completed. Parsed 420 lines in 0.008979 secs."
      ]
     },
     "metadata": {},
     "output_type": "display_data"
    },
    {
     "data": {
      "text/html": [
       "<pre>Finished parsing file /Users/supadhy6/Documents/GitHub/spatio_temporal_information_processing/RSVP_visual_now/data/Expt_I/11_15Nov2018_11-36.csv</pre>"
      ],
      "text/plain": [
       "Finished parsing file /Users/supadhy6/Documents/GitHub/spatio_temporal_information_processing/RSVP_visual_now/data/Expt_I/11_15Nov2018_11-36.csv"
      ]
     },
     "metadata": {},
     "output_type": "display_data"
    },
    {
     "data": {
      "text/html": [
       "<pre>Parsing completed. Parsed 100 lines in 0.009855 secs.</pre>"
      ],
      "text/plain": [
       "Parsing completed. Parsed 100 lines in 0.009855 secs."
      ]
     },
     "metadata": {},
     "output_type": "display_data"
    },
    {
     "name": "stdout",
     "output_type": "stream",
     "text": [
      "------------------------------------------------------\n",
      "Inferred types from first 100 line(s) of file as \n",
      "column_type_hints=[str,int,int,str,float,int,str,str,float,float,array,int,int]\n",
      "If parsing fails due to incorrect types, you can correct\n",
      "the inferred type list above and pass it to read_csv in\n",
      "the column_type_hints argument\n",
      "------------------------------------------------------\n"
     ]
    },
    {
     "data": {
      "text/html": [
       "<pre>Finished parsing file /Users/supadhy6/Documents/GitHub/spatio_temporal_information_processing/RSVP_visual_now/data/Expt_I/11_15Nov2018_11-36.csv</pre>"
      ],
      "text/plain": [
       "Finished parsing file /Users/supadhy6/Documents/GitHub/spatio_temporal_information_processing/RSVP_visual_now/data/Expt_I/11_15Nov2018_11-36.csv"
      ]
     },
     "metadata": {},
     "output_type": "display_data"
    },
    {
     "data": {
      "text/html": [
       "<pre>Parsing completed. Parsed 420 lines in 0.006307 secs.</pre>"
      ],
      "text/plain": [
       "Parsing completed. Parsed 420 lines in 0.006307 secs."
      ]
     },
     "metadata": {},
     "output_type": "display_data"
    },
    {
     "data": {
      "text/html": [
       "<pre>Finished parsing file /Users/supadhy6/Documents/GitHub/spatio_temporal_information_processing/RSVP_visual_now/data/Expt_I/14_15Nov2018_16-06.csv</pre>"
      ],
      "text/plain": [
       "Finished parsing file /Users/supadhy6/Documents/GitHub/spatio_temporal_information_processing/RSVP_visual_now/data/Expt_I/14_15Nov2018_16-06.csv"
      ]
     },
     "metadata": {},
     "output_type": "display_data"
    },
    {
     "data": {
      "text/html": [
       "<pre>Parsing completed. Parsed 100 lines in 0.008449 secs.</pre>"
      ],
      "text/plain": [
       "Parsing completed. Parsed 100 lines in 0.008449 secs."
      ]
     },
     "metadata": {},
     "output_type": "display_data"
    },
    {
     "name": "stdout",
     "output_type": "stream",
     "text": [
      "------------------------------------------------------\n",
      "Inferred types from first 100 line(s) of file as \n",
      "column_type_hints=[str,int,int,str,float,int,str,str,float,float,array,int,int]\n",
      "If parsing fails due to incorrect types, you can correct\n",
      "the inferred type list above and pass it to read_csv in\n",
      "the column_type_hints argument\n",
      "------------------------------------------------------\n"
     ]
    },
    {
     "data": {
      "text/html": [
       "<pre>Finished parsing file /Users/supadhy6/Documents/GitHub/spatio_temporal_information_processing/RSVP_visual_now/data/Expt_I/14_15Nov2018_16-06.csv</pre>"
      ],
      "text/plain": [
       "Finished parsing file /Users/supadhy6/Documents/GitHub/spatio_temporal_information_processing/RSVP_visual_now/data/Expt_I/14_15Nov2018_16-06.csv"
      ]
     },
     "metadata": {},
     "output_type": "display_data"
    },
    {
     "data": {
      "text/html": [
       "<pre>Parsing completed. Parsed 420 lines in 0.006304 secs.</pre>"
      ],
      "text/plain": [
       "Parsing completed. Parsed 420 lines in 0.006304 secs."
      ]
     },
     "metadata": {},
     "output_type": "display_data"
    },
    {
     "data": {
      "text/plain": [
       "6330"
      ]
     },
     "execution_count": 47,
     "metadata": {},
     "output_type": "execute_result"
    }
   ],
   "source": [
    "data = graphlab.SFrame.read_csv(file_list[0])\n",
    "temp = data\n",
    "for i in range(1,len(file_list)):\n",
    "    temp = graphlab.SFrame.read_csv(file_list[i])\n",
    "    data = data.append(temp)\n",
    "len(data)"
   ]
  },
  {
   "cell_type": "code",
   "execution_count": 48,
   "metadata": {
    "collapsed": false
   },
   "outputs": [
    {
     "name": "stdout",
     "output_type": "stream",
     "text": [
      "Canvas is accessible via web browser at the URL: http://localhost:63040/index.html\n",
      "Opening Canvas in default web browser.\n"
     ]
    }
   ],
   "source": [
    "data.show()"
   ]
  },
  {
   "cell_type": "code",
   "execution_count": 49,
   "metadata": {
    "collapsed": false
   },
   "outputs": [
    {
     "name": "stdout",
     "output_type": "stream",
     "text": [
      "This is the format of your plot grid:\n",
      "[ (1,1) x1,y1 ]  [ (1,2) x2,y2 ]\n",
      "\n"
     ]
    },
    {
     "data": {
      "text/html": [
       "<iframe id=\"igraph\" scrolling=\"no\" style=\"border:none;\" seamless=\"seamless\" src=\"https://plot.ly/~adiboy_123/936.embed\" height=\"525px\" width=\"100%\"></iframe>"
      ],
      "text/plain": [
       "<plotly.tools.PlotlyDisplay object>"
      ]
     },
     "execution_count": 49,
     "metadata": {},
     "output_type": "execute_result"
    }
   ],
   "source": [
    "from plotly import tools\n",
    "import colorlover as cl\n",
    "trace = [[]]*2\n",
    "colors = cl.scales['3']['seq']['YlOrRd']\n",
    "for i,cuePos in enumerate(data['cueSpatialPos1'].unique()):\n",
    "    cuePosdata = data[data['cueSpatialPos1']==cuePos]\n",
    "    temp1 = []\n",
    "    for j,ecc in enumerate(cuePosdata['cueEccentricity1'].unique().sort()):\n",
    "        ecc_data = cuePosdata[cuePosdata['cueEccentricity1']==ecc]\n",
    "        temp1.append(go.Histogram(x = ecc_data['responsePosRelative0'].to_numpy(), \n",
    "                                  histnorm='probability',name = str(ecc) + 'deg', opacity = 1, marker = dict(color = colors[j])))\n",
    "    trace[i] = temp1\n",
    "\n",
    "if data['cueSpatialPos1'].unique()[0] == [-1.0,0.0]:\n",
    "    titles = ('West','East')\n",
    "else:\n",
    "    titles = ('East','West')\n",
    "    \n",
    "fig = tools.make_subplots(rows=1, cols=2, subplot_titles = titles)\n",
    "fig['layout'].update(barmode='group', title = 'performance in RSVP visual now task for different cue positions - '+str(len(data)/420)+' participants - ISI (36 msec)')\n",
    "#fig['layout']['xaxis3'].update(title='position of reported item relative to the true item', range = [-2,2])\n",
    "#fig['layout']['xaxis4'].update(title='position of reported item relative to the true item', range = [-2,2])\n",
    "fig['layout']['xaxis1'].update(range=[-3,3],title='position of reported item relative to the true item')\n",
    "fig['layout']['xaxis2'].update(range=[-3,3],title='position of reported item relative to the true item')\n",
    "fig['layout']['yaxis1'].update(title='Probability')\n",
    "#fig['layout']['yaxis3'].update(title='Frequency')\n",
    "for i in range(3):\n",
    "    fig.append_trace(trace[0][i], 1, 1)\n",
    "    fig.append_trace(trace[1][i], 1, 2)\n",
    "    #fig.append_trace(trace[2][i], 2, 1)\n",
    "    #fig.append_trace(trace[3][i], 2, 2)\n",
    "py.iplot(fig, filename='RSVP_visual_now')"
   ]
  },
  {
   "cell_type": "code",
   "execution_count": 51,
   "metadata": {
    "collapsed": false
   },
   "outputs": [
    {
     "name": "stdout",
     "output_type": "stream",
     "text": [
      "This is the format of your plot grid:\n",
      "[ (1,1) x1,y1 ]\n",
      "\n"
     ]
    },
    {
     "data": {
      "text/html": [
       "<iframe id=\"igraph\" scrolling=\"no\" style=\"border:none;\" seamless=\"seamless\" src=\"https://plot.ly/~adiboy_123/938.embed\" height=\"525px\" width=\"100%\"></iframe>"
      ],
      "text/plain": [
       "<plotly.tools.PlotlyDisplay object>"
      ]
     },
     "execution_count": 51,
     "metadata": {},
     "output_type": "execute_result"
    }
   ],
   "source": [
    "trace_data = []\n",
    "for j,ecc in enumerate(cuePosdata['cueEccentricity1'].unique().sort()):\n",
    "        ecc_data = cuePosdata[cuePosdata['cueEccentricity1']==ecc]\n",
    "        trace_data.append(go.Histogram(x = ecc_data['responsePosRelative0'].to_numpy(), \n",
    "                                  histnorm='probability',name = str(ecc) + 'deg', opacity = 1, marker = dict(color = colors[j])))\n",
    "        \n",
    "fig = tools.make_subplots(rows=1, cols=1)\n",
    "fig['layout'].update(barmode='group', title = 'performance in RSVP visual now task for different cue positions - '+str(len(data)/420)+' participants - ISI (73 msec)')\n",
    "fig['layout']['xaxis1'].update(range=[-3,3],title='position of reported item relative to the true item')\n",
    "fig['layout']['yaxis1'].update(title='Probability', range = [0,0.8])\n",
    "for i in range(3):\n",
    "    fig.append_trace(trace_data[i], 1, 1)\n",
    "py.iplot(fig, filename='RSVP_visual_now_grouped')"
   ]
  },
  {
   "cell_type": "code",
   "execution_count": 44,
   "metadata": {
    "collapsed": false
   },
   "outputs": [
    {
     "data": {
      "text/plain": [
       "4"
      ]
     },
     "execution_count": 44,
     "metadata": {},
     "output_type": "execute_result"
    }
   ],
   "source": [
    "len(data)/420"
   ]
  },
  {
   "cell_type": "code",
   "execution_count": null,
   "metadata": {
    "collapsed": true
   },
   "outputs": [],
   "source": []
  }
 ],
 "metadata": {
  "anaconda-cloud": {},
  "kernelspec": {
   "display_name": "Python [conda env:gl-env]",
   "language": "python",
   "name": "conda-env-gl-env-py"
  },
  "language_info": {
   "codemirror_mode": {
    "name": "ipython",
    "version": 2
   },
   "file_extension": ".py",
   "mimetype": "text/x-python",
   "name": "python",
   "nbconvert_exporter": "python",
   "pygments_lexer": "ipython2",
   "version": "2.7.13"
  },
  "toc": {
   "base_numbering": 1,
   "nav_menu": {},
   "number_sections": true,
   "sideBar": true,
   "skip_h1_title": false,
   "title_cell": "Table of Contents",
   "title_sidebar": "Contents",
   "toc_cell": false,
   "toc_position": {},
   "toc_section_display": true,
   "toc_window_display": false
  }
 },
 "nbformat": 4,
 "nbformat_minor": 1
}
