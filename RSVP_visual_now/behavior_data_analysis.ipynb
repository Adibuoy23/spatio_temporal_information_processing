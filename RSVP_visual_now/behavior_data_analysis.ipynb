{
 "cells": [
  {
   "cell_type": "code",
   "execution_count": 1,
   "metadata": {},
   "outputs": [
    {
     "name": "stderr",
     "output_type": "stream",
     "text": [
      "/Users/supadhy6/miniconda3/envs/adiLab/lib/python3.6/site-packages/tensorflow/python/util/tf_inspect.py:75: DeprecationWarning: inspect.getargspec() is deprecated, use inspect.signature() or inspect.getfullargspec()\n",
      "  return _inspect.getargspec(target)\n"
     ]
    }
   ],
   "source": [
    "# clear all the variables\n",
    "%reset -f\n",
    "import numpy as np\n",
    "import pandas as pd\n",
    "import sys\n",
    "import turicreate as tc\n",
    "import os\n",
    "from os import walk\n",
    "import scipy.io\n",
    "import xlrd, os, fnmatch\n",
    "import pandas as pd\n",
    "import tensorflow as tf\n",
    "import plotly.plotly as py\n",
    "import plotly.graph_objs as go\n",
    "from scipy.spatial.distance import cdist\n",
    "# Path variable (where the data is located)\n",
    "myPath = './data/RSVP_spatial_cue_extended_letter_duration/' \n",
    "# Append the path variable to existing search path\n",
    "sys.path.append(myPath)\n",
    "# Get the file information in the directory\n",
    "file_list = []\n",
    "ignore_list = ['pilot']\n",
    "for root, dirs, files in os.walk(myPath):\n",
    "    if 'pilot' in dirs:\n",
    "        dirs[:]=[]\n",
    "    for filename in files:\n",
    "        if fnmatch.fnmatch(filename.lower(), \"*csv\"):\n",
    "            file_list.append(os.path.join(root, filename))"
   ]
  },
  {
   "cell_type": "code",
   "execution_count": 2,
   "metadata": {},
   "outputs": [
    {
     "data": {
      "text/plain": [
       "['./data/RSVP_spatial_cue_extended_letter_duration/4_15Feb2019_11-23.csv',\n",
       " './data/RSVP_spatial_cue_extended_letter_duration/8_16Feb2019_09-02.csv',\n",
       " './data/RSVP_spatial_cue_extended_letter_duration/12_16Feb2019_11-04.csv',\n",
       " './data/RSVP_spatial_cue_extended_letter_duration/14_16Feb2019_14-33.csv',\n",
       " './data/RSVP_spatial_cue_extended_letter_duration/11_16Feb2019_10-36.csv',\n",
       " './data/RSVP_spatial_cue_extended_letter_duration/5_15Feb2019_11-57.csv',\n",
       " './data/RSVP_spatial_cue_extended_letter_duration/15_16Feb2019_15-03.csv',\n",
       " './data/RSVP_spatial_cue_extended_letter_duration/16_16Feb2019_15-39.csv',\n",
       " './data/RSVP_spatial_cue_extended_letter_duration/6_15Feb2019_12-29.csv',\n",
       " './data/RSVP_spatial_cue_extended_letter_duration/10_16Feb2019_10-04.csv',\n",
       " './data/RSVP_spatial_cue_extended_letter_duration/1_14Feb2019_14-19.csv',\n",
       " './data/RSVP_spatial_cue_extended_letter_duration/17_16Feb2019_16-05.csv',\n",
       " './data/RSVP_spatial_cue_extended_letter_duration/3_14Feb2019_15-17.csv',\n",
       " './data/RSVP_spatial_cue_extended_letter_duration/13_16Feb2019_11-36.csv',\n",
       " './data/RSVP_spatial_cue_extended_letter_duration/9_16Feb2019_09-33.csv',\n",
       " './data/RSVP_spatial_cue_extended_letter_duration/7_15Feb2019_13-01.csv',\n",
       " './data/RSVP_spatial_cue_extended_letter_duration/2_14Feb2019_14-45.csv']"
      ]
     },
     "execution_count": 2,
     "metadata": {},
     "output_type": "execute_result"
    }
   ],
   "source": [
    "file_list"
   ]
  },
  {
   "cell_type": "code",
   "execution_count": 3,
   "metadata": {},
   "outputs": [
    {
     "data": {
      "text/html": [
       "<pre>Finished parsing file /Users/supadhy6/Documents/GitHub/spatio_temporal_information_processing/RSVP_visual_now/data/RSVP_spatial_cue_extended_letter_duration/4_15Feb2019_11-23.csv</pre>"
      ],
      "text/plain": [
       "Finished parsing file /Users/supadhy6/Documents/GitHub/spatio_temporal_information_processing/RSVP_visual_now/data/RSVP_spatial_cue_extended_letter_duration/4_15Feb2019_11-23.csv"
      ]
     },
     "metadata": {},
     "output_type": "display_data"
    },
    {
     "data": {
      "text/html": [
       "<pre>Parsing completed. Parsed 100 lines in 0.03097 secs.</pre>"
      ],
      "text/plain": [
       "Parsing completed. Parsed 100 lines in 0.03097 secs."
      ]
     },
     "metadata": {},
     "output_type": "display_data"
    },
    {
     "name": "stdout",
     "output_type": "stream",
     "text": [
      "------------------------------------------------------\n",
      "Inferred types from first 100 line(s) of file as \n",
      "column_type_hints=[str,int,int,str,float,int,str,str,float,float,array,int,int]\n",
      "If parsing fails due to incorrect types, you can correct\n",
      "the inferred type list above and pass it to read_csv in\n",
      "the column_type_hints argument\n",
      "------------------------------------------------------\n"
     ]
    },
    {
     "data": {
      "text/html": [
       "<pre>Finished parsing file /Users/supadhy6/Documents/GitHub/spatio_temporal_information_processing/RSVP_visual_now/data/RSVP_spatial_cue_extended_letter_duration/4_15Feb2019_11-23.csv</pre>"
      ],
      "text/plain": [
       "Finished parsing file /Users/supadhy6/Documents/GitHub/spatio_temporal_information_processing/RSVP_visual_now/data/RSVP_spatial_cue_extended_letter_duration/4_15Feb2019_11-23.csv"
      ]
     },
     "metadata": {},
     "output_type": "display_data"
    },
    {
     "data": {
      "text/html": [
       "<pre>Parsing completed. Parsed 280 lines in 0.008436 secs.</pre>"
      ],
      "text/plain": [
       "Parsing completed. Parsed 280 lines in 0.008436 secs."
      ]
     },
     "metadata": {},
     "output_type": "display_data"
    },
    {
     "data": {
      "text/html": [
       "<pre>Finished parsing file /Users/supadhy6/Documents/GitHub/spatio_temporal_information_processing/RSVP_visual_now/data/RSVP_spatial_cue_extended_letter_duration/8_16Feb2019_09-02.csv</pre>"
      ],
      "text/plain": [
       "Finished parsing file /Users/supadhy6/Documents/GitHub/spatio_temporal_information_processing/RSVP_visual_now/data/RSVP_spatial_cue_extended_letter_duration/8_16Feb2019_09-02.csv"
      ]
     },
     "metadata": {},
     "output_type": "display_data"
    },
    {
     "data": {
      "text/html": [
       "<pre>Parsing completed. Parsed 100 lines in 0.010893 secs.</pre>"
      ],
      "text/plain": [
       "Parsing completed. Parsed 100 lines in 0.010893 secs."
      ]
     },
     "metadata": {},
     "output_type": "display_data"
    },
    {
     "name": "stdout",
     "output_type": "stream",
     "text": [
      "------------------------------------------------------\n",
      "Inferred types from first 100 line(s) of file as \n",
      "column_type_hints=[str,int,int,str,float,int,str,str,float,float,array,int,int]\n",
      "If parsing fails due to incorrect types, you can correct\n",
      "the inferred type list above and pass it to read_csv in\n",
      "the column_type_hints argument\n",
      "------------------------------------------------------\n"
     ]
    },
    {
     "data": {
      "text/html": [
       "<pre>Finished parsing file /Users/supadhy6/Documents/GitHub/spatio_temporal_information_processing/RSVP_visual_now/data/RSVP_spatial_cue_extended_letter_duration/8_16Feb2019_09-02.csv</pre>"
      ],
      "text/plain": [
       "Finished parsing file /Users/supadhy6/Documents/GitHub/spatio_temporal_information_processing/RSVP_visual_now/data/RSVP_spatial_cue_extended_letter_duration/8_16Feb2019_09-02.csv"
      ]
     },
     "metadata": {},
     "output_type": "display_data"
    },
    {
     "data": {
      "text/html": [
       "<pre>Parsing completed. Parsed 280 lines in 0.010825 secs.</pre>"
      ],
      "text/plain": [
       "Parsing completed. Parsed 280 lines in 0.010825 secs."
      ]
     },
     "metadata": {},
     "output_type": "display_data"
    },
    {
     "data": {
      "text/html": [
       "<pre>Finished parsing file /Users/supadhy6/Documents/GitHub/spatio_temporal_information_processing/RSVP_visual_now/data/RSVP_spatial_cue_extended_letter_duration/12_16Feb2019_11-04.csv</pre>"
      ],
      "text/plain": [
       "Finished parsing file /Users/supadhy6/Documents/GitHub/spatio_temporal_information_processing/RSVP_visual_now/data/RSVP_spatial_cue_extended_letter_duration/12_16Feb2019_11-04.csv"
      ]
     },
     "metadata": {},
     "output_type": "display_data"
    },
    {
     "data": {
      "text/html": [
       "<pre>Parsing completed. Parsed 100 lines in 0.007997 secs.</pre>"
      ],
      "text/plain": [
       "Parsing completed. Parsed 100 lines in 0.007997 secs."
      ]
     },
     "metadata": {},
     "output_type": "display_data"
    },
    {
     "name": "stdout",
     "output_type": "stream",
     "text": [
      "------------------------------------------------------\n",
      "Inferred types from first 100 line(s) of file as \n",
      "column_type_hints=[str,int,int,str,float,int,str,str,float,float,array,int,int]\n",
      "If parsing fails due to incorrect types, you can correct\n",
      "the inferred type list above and pass it to read_csv in\n",
      "the column_type_hints argument\n",
      "------------------------------------------------------\n"
     ]
    },
    {
     "data": {
      "text/html": [
       "<pre>Finished parsing file /Users/supadhy6/Documents/GitHub/spatio_temporal_information_processing/RSVP_visual_now/data/RSVP_spatial_cue_extended_letter_duration/12_16Feb2019_11-04.csv</pre>"
      ],
      "text/plain": [
       "Finished parsing file /Users/supadhy6/Documents/GitHub/spatio_temporal_information_processing/RSVP_visual_now/data/RSVP_spatial_cue_extended_letter_duration/12_16Feb2019_11-04.csv"
      ]
     },
     "metadata": {},
     "output_type": "display_data"
    },
    {
     "data": {
      "text/html": [
       "<pre>Parsing completed. Parsed 280 lines in 0.011502 secs.</pre>"
      ],
      "text/plain": [
       "Parsing completed. Parsed 280 lines in 0.011502 secs."
      ]
     },
     "metadata": {},
     "output_type": "display_data"
    },
    {
     "data": {
      "text/html": [
       "<pre>Finished parsing file /Users/supadhy6/Documents/GitHub/spatio_temporal_information_processing/RSVP_visual_now/data/RSVP_spatial_cue_extended_letter_duration/14_16Feb2019_14-33.csv</pre>"
      ],
      "text/plain": [
       "Finished parsing file /Users/supadhy6/Documents/GitHub/spatio_temporal_information_processing/RSVP_visual_now/data/RSVP_spatial_cue_extended_letter_duration/14_16Feb2019_14-33.csv"
      ]
     },
     "metadata": {},
     "output_type": "display_data"
    },
    {
     "data": {
      "text/html": [
       "<pre>Parsing completed. Parsed 100 lines in 0.009598 secs.</pre>"
      ],
      "text/plain": [
       "Parsing completed. Parsed 100 lines in 0.009598 secs."
      ]
     },
     "metadata": {},
     "output_type": "display_data"
    },
    {
     "name": "stdout",
     "output_type": "stream",
     "text": [
      "------------------------------------------------------\n",
      "Inferred types from first 100 line(s) of file as \n",
      "column_type_hints=[str,int,int,str,float,int,str,str,float,float,array,int,int]\n",
      "If parsing fails due to incorrect types, you can correct\n",
      "the inferred type list above and pass it to read_csv in\n",
      "the column_type_hints argument\n",
      "------------------------------------------------------\n"
     ]
    },
    {
     "data": {
      "text/html": [
       "<pre>Finished parsing file /Users/supadhy6/Documents/GitHub/spatio_temporal_information_processing/RSVP_visual_now/data/RSVP_spatial_cue_extended_letter_duration/14_16Feb2019_14-33.csv</pre>"
      ],
      "text/plain": [
       "Finished parsing file /Users/supadhy6/Documents/GitHub/spatio_temporal_information_processing/RSVP_visual_now/data/RSVP_spatial_cue_extended_letter_duration/14_16Feb2019_14-33.csv"
      ]
     },
     "metadata": {},
     "output_type": "display_data"
    },
    {
     "data": {
      "text/html": [
       "<pre>Parsing completed. Parsed 280 lines in 0.009823 secs.</pre>"
      ],
      "text/plain": [
       "Parsing completed. Parsed 280 lines in 0.009823 secs."
      ]
     },
     "metadata": {},
     "output_type": "display_data"
    },
    {
     "data": {
      "text/html": [
       "<pre>Finished parsing file /Users/supadhy6/Documents/GitHub/spatio_temporal_information_processing/RSVP_visual_now/data/RSVP_spatial_cue_extended_letter_duration/11_16Feb2019_10-36.csv</pre>"
      ],
      "text/plain": [
       "Finished parsing file /Users/supadhy6/Documents/GitHub/spatio_temporal_information_processing/RSVP_visual_now/data/RSVP_spatial_cue_extended_letter_duration/11_16Feb2019_10-36.csv"
      ]
     },
     "metadata": {},
     "output_type": "display_data"
    },
    {
     "data": {
      "text/html": [
       "<pre>Parsing completed. Parsed 100 lines in 0.012641 secs.</pre>"
      ],
      "text/plain": [
       "Parsing completed. Parsed 100 lines in 0.012641 secs."
      ]
     },
     "metadata": {},
     "output_type": "display_data"
    },
    {
     "name": "stdout",
     "output_type": "stream",
     "text": [
      "------------------------------------------------------\n",
      "Inferred types from first 100 line(s) of file as \n",
      "column_type_hints=[str,int,int,str,float,int,str,str,float,float,array,int,int]\n",
      "If parsing fails due to incorrect types, you can correct\n",
      "the inferred type list above and pass it to read_csv in\n",
      "the column_type_hints argument\n",
      "------------------------------------------------------\n"
     ]
    },
    {
     "data": {
      "text/html": [
       "<pre>Finished parsing file /Users/supadhy6/Documents/GitHub/spatio_temporal_information_processing/RSVP_visual_now/data/RSVP_spatial_cue_extended_letter_duration/11_16Feb2019_10-36.csv</pre>"
      ],
      "text/plain": [
       "Finished parsing file /Users/supadhy6/Documents/GitHub/spatio_temporal_information_processing/RSVP_visual_now/data/RSVP_spatial_cue_extended_letter_duration/11_16Feb2019_10-36.csv"
      ]
     },
     "metadata": {},
     "output_type": "display_data"
    },
    {
     "data": {
      "text/html": [
       "<pre>Parsing completed. Parsed 280 lines in 0.008596 secs.</pre>"
      ],
      "text/plain": [
       "Parsing completed. Parsed 280 lines in 0.008596 secs."
      ]
     },
     "metadata": {},
     "output_type": "display_data"
    },
    {
     "data": {
      "text/html": [
       "<pre>Finished parsing file /Users/supadhy6/Documents/GitHub/spatio_temporal_information_processing/RSVP_visual_now/data/RSVP_spatial_cue_extended_letter_duration/5_15Feb2019_11-57.csv</pre>"
      ],
      "text/plain": [
       "Finished parsing file /Users/supadhy6/Documents/GitHub/spatio_temporal_information_processing/RSVP_visual_now/data/RSVP_spatial_cue_extended_letter_duration/5_15Feb2019_11-57.csv"
      ]
     },
     "metadata": {},
     "output_type": "display_data"
    },
    {
     "data": {
      "text/html": [
       "<pre>Parsing completed. Parsed 100 lines in 0.00989 secs.</pre>"
      ],
      "text/plain": [
       "Parsing completed. Parsed 100 lines in 0.00989 secs."
      ]
     },
     "metadata": {},
     "output_type": "display_data"
    },
    {
     "name": "stdout",
     "output_type": "stream",
     "text": [
      "------------------------------------------------------\n",
      "Inferred types from first 100 line(s) of file as \n",
      "column_type_hints=[str,int,int,str,float,int,str,str,float,float,array,int,int]\n",
      "If parsing fails due to incorrect types, you can correct\n",
      "the inferred type list above and pass it to read_csv in\n",
      "the column_type_hints argument\n",
      "------------------------------------------------------\n"
     ]
    },
    {
     "data": {
      "text/html": [
       "<pre>Finished parsing file /Users/supadhy6/Documents/GitHub/spatio_temporal_information_processing/RSVP_visual_now/data/RSVP_spatial_cue_extended_letter_duration/5_15Feb2019_11-57.csv</pre>"
      ],
      "text/plain": [
       "Finished parsing file /Users/supadhy6/Documents/GitHub/spatio_temporal_information_processing/RSVP_visual_now/data/RSVP_spatial_cue_extended_letter_duration/5_15Feb2019_11-57.csv"
      ]
     },
     "metadata": {},
     "output_type": "display_data"
    },
    {
     "data": {
      "text/html": [
       "<pre>Parsing completed. Parsed 280 lines in 0.009413 secs.</pre>"
      ],
      "text/plain": [
       "Parsing completed. Parsed 280 lines in 0.009413 secs."
      ]
     },
     "metadata": {},
     "output_type": "display_data"
    },
    {
     "data": {
      "text/html": [
       "<pre>Finished parsing file /Users/supadhy6/Documents/GitHub/spatio_temporal_information_processing/RSVP_visual_now/data/RSVP_spatial_cue_extended_letter_duration/15_16Feb2019_15-03.csv</pre>"
      ],
      "text/plain": [
       "Finished parsing file /Users/supadhy6/Documents/GitHub/spatio_temporal_information_processing/RSVP_visual_now/data/RSVP_spatial_cue_extended_letter_duration/15_16Feb2019_15-03.csv"
      ]
     },
     "metadata": {},
     "output_type": "display_data"
    },
    {
     "data": {
      "text/html": [
       "<pre>Parsing completed. Parsed 100 lines in 0.008908 secs.</pre>"
      ],
      "text/plain": [
       "Parsing completed. Parsed 100 lines in 0.008908 secs."
      ]
     },
     "metadata": {},
     "output_type": "display_data"
    },
    {
     "name": "stdout",
     "output_type": "stream",
     "text": [
      "------------------------------------------------------\n",
      "Inferred types from first 100 line(s) of file as \n",
      "column_type_hints=[str,int,int,str,float,int,str,str,float,float,array,int,int]\n",
      "If parsing fails due to incorrect types, you can correct\n",
      "the inferred type list above and pass it to read_csv in\n",
      "the column_type_hints argument\n",
      "------------------------------------------------------\n"
     ]
    },
    {
     "data": {
      "text/html": [
       "<pre>Finished parsing file /Users/supadhy6/Documents/GitHub/spatio_temporal_information_processing/RSVP_visual_now/data/RSVP_spatial_cue_extended_letter_duration/15_16Feb2019_15-03.csv</pre>"
      ],
      "text/plain": [
       "Finished parsing file /Users/supadhy6/Documents/GitHub/spatio_temporal_information_processing/RSVP_visual_now/data/RSVP_spatial_cue_extended_letter_duration/15_16Feb2019_15-03.csv"
      ]
     },
     "metadata": {},
     "output_type": "display_data"
    },
    {
     "data": {
      "text/html": [
       "<pre>Parsing completed. Parsed 280 lines in 0.010003 secs.</pre>"
      ],
      "text/plain": [
       "Parsing completed. Parsed 280 lines in 0.010003 secs."
      ]
     },
     "metadata": {},
     "output_type": "display_data"
    },
    {
     "data": {
      "text/html": [
       "<pre>Finished parsing file /Users/supadhy6/Documents/GitHub/spatio_temporal_information_processing/RSVP_visual_now/data/RSVP_spatial_cue_extended_letter_duration/16_16Feb2019_15-39.csv</pre>"
      ],
      "text/plain": [
       "Finished parsing file /Users/supadhy6/Documents/GitHub/spatio_temporal_information_processing/RSVP_visual_now/data/RSVP_spatial_cue_extended_letter_duration/16_16Feb2019_15-39.csv"
      ]
     },
     "metadata": {},
     "output_type": "display_data"
    },
    {
     "data": {
      "text/html": [
       "<pre>Parsing completed. Parsed 100 lines in 0.010644 secs.</pre>"
      ],
      "text/plain": [
       "Parsing completed. Parsed 100 lines in 0.010644 secs."
      ]
     },
     "metadata": {},
     "output_type": "display_data"
    },
    {
     "name": "stdout",
     "output_type": "stream",
     "text": [
      "------------------------------------------------------\n",
      "Inferred types from first 100 line(s) of file as \n",
      "column_type_hints=[str,int,int,str,float,int,str,str,float,float,array,int,int]\n",
      "If parsing fails due to incorrect types, you can correct\n",
      "the inferred type list above and pass it to read_csv in\n",
      "the column_type_hints argument\n",
      "------------------------------------------------------\n"
     ]
    },
    {
     "data": {
      "text/html": [
       "<pre>Finished parsing file /Users/supadhy6/Documents/GitHub/spatio_temporal_information_processing/RSVP_visual_now/data/RSVP_spatial_cue_extended_letter_duration/16_16Feb2019_15-39.csv</pre>"
      ],
      "text/plain": [
       "Finished parsing file /Users/supadhy6/Documents/GitHub/spatio_temporal_information_processing/RSVP_visual_now/data/RSVP_spatial_cue_extended_letter_duration/16_16Feb2019_15-39.csv"
      ]
     },
     "metadata": {},
     "output_type": "display_data"
    },
    {
     "data": {
      "text/html": [
       "<pre>Parsing completed. Parsed 280 lines in 0.011025 secs.</pre>"
      ],
      "text/plain": [
       "Parsing completed. Parsed 280 lines in 0.011025 secs."
      ]
     },
     "metadata": {},
     "output_type": "display_data"
    },
    {
     "data": {
      "text/html": [
       "<pre>Finished parsing file /Users/supadhy6/Documents/GitHub/spatio_temporal_information_processing/RSVP_visual_now/data/RSVP_spatial_cue_extended_letter_duration/6_15Feb2019_12-29.csv</pre>"
      ],
      "text/plain": [
       "Finished parsing file /Users/supadhy6/Documents/GitHub/spatio_temporal_information_processing/RSVP_visual_now/data/RSVP_spatial_cue_extended_letter_duration/6_15Feb2019_12-29.csv"
      ]
     },
     "metadata": {},
     "output_type": "display_data"
    },
    {
     "data": {
      "text/html": [
       "<pre>Parsing completed. Parsed 100 lines in 0.010849 secs.</pre>"
      ],
      "text/plain": [
       "Parsing completed. Parsed 100 lines in 0.010849 secs."
      ]
     },
     "metadata": {},
     "output_type": "display_data"
    },
    {
     "name": "stdout",
     "output_type": "stream",
     "text": [
      "------------------------------------------------------\n",
      "Inferred types from first 100 line(s) of file as \n",
      "column_type_hints=[str,int,int,str,float,int,str,str,float,float,array,int,int]\n",
      "If parsing fails due to incorrect types, you can correct\n",
      "the inferred type list above and pass it to read_csv in\n",
      "the column_type_hints argument\n",
      "------------------------------------------------------\n"
     ]
    },
    {
     "data": {
      "text/html": [
       "<pre>Finished parsing file /Users/supadhy6/Documents/GitHub/spatio_temporal_information_processing/RSVP_visual_now/data/RSVP_spatial_cue_extended_letter_duration/6_15Feb2019_12-29.csv</pre>"
      ],
      "text/plain": [
       "Finished parsing file /Users/supadhy6/Documents/GitHub/spatio_temporal_information_processing/RSVP_visual_now/data/RSVP_spatial_cue_extended_letter_duration/6_15Feb2019_12-29.csv"
      ]
     },
     "metadata": {},
     "output_type": "display_data"
    },
    {
     "data": {
      "text/html": [
       "<pre>Parsing completed. Parsed 280 lines in 0.00939 secs.</pre>"
      ],
      "text/plain": [
       "Parsing completed. Parsed 280 lines in 0.00939 secs."
      ]
     },
     "metadata": {},
     "output_type": "display_data"
    },
    {
     "data": {
      "text/html": [
       "<pre>Finished parsing file /Users/supadhy6/Documents/GitHub/spatio_temporal_information_processing/RSVP_visual_now/data/RSVP_spatial_cue_extended_letter_duration/10_16Feb2019_10-04.csv</pre>"
      ],
      "text/plain": [
       "Finished parsing file /Users/supadhy6/Documents/GitHub/spatio_temporal_information_processing/RSVP_visual_now/data/RSVP_spatial_cue_extended_letter_duration/10_16Feb2019_10-04.csv"
      ]
     },
     "metadata": {},
     "output_type": "display_data"
    },
    {
     "data": {
      "text/html": [
       "<pre>Parsing completed. Parsed 100 lines in 0.009582 secs.</pre>"
      ],
      "text/plain": [
       "Parsing completed. Parsed 100 lines in 0.009582 secs."
      ]
     },
     "metadata": {},
     "output_type": "display_data"
    },
    {
     "name": "stdout",
     "output_type": "stream",
     "text": [
      "------------------------------------------------------\n",
      "Inferred types from first 100 line(s) of file as \n",
      "column_type_hints=[str,int,int,str,float,int,str,str,float,float,array,int,int]\n",
      "If parsing fails due to incorrect types, you can correct\n",
      "the inferred type list above and pass it to read_csv in\n",
      "the column_type_hints argument\n",
      "------------------------------------------------------\n"
     ]
    },
    {
     "data": {
      "text/html": [
       "<pre>Finished parsing file /Users/supadhy6/Documents/GitHub/spatio_temporal_information_processing/RSVP_visual_now/data/RSVP_spatial_cue_extended_letter_duration/10_16Feb2019_10-04.csv</pre>"
      ],
      "text/plain": [
       "Finished parsing file /Users/supadhy6/Documents/GitHub/spatio_temporal_information_processing/RSVP_visual_now/data/RSVP_spatial_cue_extended_letter_duration/10_16Feb2019_10-04.csv"
      ]
     },
     "metadata": {},
     "output_type": "display_data"
    },
    {
     "data": {
      "text/html": [
       "<pre>Parsing completed. Parsed 280 lines in 0.008786 secs.</pre>"
      ],
      "text/plain": [
       "Parsing completed. Parsed 280 lines in 0.008786 secs."
      ]
     },
     "metadata": {},
     "output_type": "display_data"
    },
    {
     "data": {
      "text/html": [
       "<pre>Finished parsing file /Users/supadhy6/Documents/GitHub/spatio_temporal_information_processing/RSVP_visual_now/data/RSVP_spatial_cue_extended_letter_duration/1_14Feb2019_14-19.csv</pre>"
      ],
      "text/plain": [
       "Finished parsing file /Users/supadhy6/Documents/GitHub/spatio_temporal_information_processing/RSVP_visual_now/data/RSVP_spatial_cue_extended_letter_duration/1_14Feb2019_14-19.csv"
      ]
     },
     "metadata": {},
     "output_type": "display_data"
    },
    {
     "data": {
      "text/html": [
       "<pre>Parsing completed. Parsed 100 lines in 0.011218 secs.</pre>"
      ],
      "text/plain": [
       "Parsing completed. Parsed 100 lines in 0.011218 secs."
      ]
     },
     "metadata": {},
     "output_type": "display_data"
    },
    {
     "name": "stdout",
     "output_type": "stream",
     "text": [
      "------------------------------------------------------\n",
      "Inferred types from first 100 line(s) of file as \n",
      "column_type_hints=[str,int,int,str,float,int,str,str,float,float,array,int,int]\n",
      "If parsing fails due to incorrect types, you can correct\n",
      "the inferred type list above and pass it to read_csv in\n",
      "the column_type_hints argument\n",
      "------------------------------------------------------\n"
     ]
    },
    {
     "data": {
      "text/html": [
       "<pre>Finished parsing file /Users/supadhy6/Documents/GitHub/spatio_temporal_information_processing/RSVP_visual_now/data/RSVP_spatial_cue_extended_letter_duration/1_14Feb2019_14-19.csv</pre>"
      ],
      "text/plain": [
       "Finished parsing file /Users/supadhy6/Documents/GitHub/spatio_temporal_information_processing/RSVP_visual_now/data/RSVP_spatial_cue_extended_letter_duration/1_14Feb2019_14-19.csv"
      ]
     },
     "metadata": {},
     "output_type": "display_data"
    },
    {
     "data": {
      "text/html": [
       "<pre>Parsing completed. Parsed 280 lines in 0.009704 secs.</pre>"
      ],
      "text/plain": [
       "Parsing completed. Parsed 280 lines in 0.009704 secs."
      ]
     },
     "metadata": {},
     "output_type": "display_data"
    },
    {
     "data": {
      "text/html": [
       "<pre>Finished parsing file /Users/supadhy6/Documents/GitHub/spatio_temporal_information_processing/RSVP_visual_now/data/RSVP_spatial_cue_extended_letter_duration/17_16Feb2019_16-05.csv</pre>"
      ],
      "text/plain": [
       "Finished parsing file /Users/supadhy6/Documents/GitHub/spatio_temporal_information_processing/RSVP_visual_now/data/RSVP_spatial_cue_extended_letter_duration/17_16Feb2019_16-05.csv"
      ]
     },
     "metadata": {},
     "output_type": "display_data"
    },
    {
     "data": {
      "text/html": [
       "<pre>Parsing completed. Parsed 100 lines in 0.009844 secs.</pre>"
      ],
      "text/plain": [
       "Parsing completed. Parsed 100 lines in 0.009844 secs."
      ]
     },
     "metadata": {},
     "output_type": "display_data"
    },
    {
     "name": "stdout",
     "output_type": "stream",
     "text": [
      "------------------------------------------------------\n",
      "Inferred types from first 100 line(s) of file as \n",
      "column_type_hints=[str,int,int,str,float,int,str,str,float,float,array,int,int]\n",
      "If parsing fails due to incorrect types, you can correct\n",
      "the inferred type list above and pass it to read_csv in\n",
      "the column_type_hints argument\n",
      "------------------------------------------------------\n"
     ]
    },
    {
     "data": {
      "text/html": [
       "<pre>Finished parsing file /Users/supadhy6/Documents/GitHub/spatio_temporal_information_processing/RSVP_visual_now/data/RSVP_spatial_cue_extended_letter_duration/17_16Feb2019_16-05.csv</pre>"
      ],
      "text/plain": [
       "Finished parsing file /Users/supadhy6/Documents/GitHub/spatio_temporal_information_processing/RSVP_visual_now/data/RSVP_spatial_cue_extended_letter_duration/17_16Feb2019_16-05.csv"
      ]
     },
     "metadata": {},
     "output_type": "display_data"
    },
    {
     "data": {
      "text/html": [
       "<pre>Parsing completed. Parsed 280 lines in 0.010985 secs.</pre>"
      ],
      "text/plain": [
       "Parsing completed. Parsed 280 lines in 0.010985 secs."
      ]
     },
     "metadata": {},
     "output_type": "display_data"
    },
    {
     "data": {
      "text/html": [
       "<pre>Finished parsing file /Users/supadhy6/Documents/GitHub/spatio_temporal_information_processing/RSVP_visual_now/data/RSVP_spatial_cue_extended_letter_duration/3_14Feb2019_15-17.csv</pre>"
      ],
      "text/plain": [
       "Finished parsing file /Users/supadhy6/Documents/GitHub/spatio_temporal_information_processing/RSVP_visual_now/data/RSVP_spatial_cue_extended_letter_duration/3_14Feb2019_15-17.csv"
      ]
     },
     "metadata": {},
     "output_type": "display_data"
    },
    {
     "data": {
      "text/html": [
       "<pre>Parsing completed. Parsed 100 lines in 0.009531 secs.</pre>"
      ],
      "text/plain": [
       "Parsing completed. Parsed 100 lines in 0.009531 secs."
      ]
     },
     "metadata": {},
     "output_type": "display_data"
    },
    {
     "name": "stdout",
     "output_type": "stream",
     "text": [
      "------------------------------------------------------\n",
      "Inferred types from first 100 line(s) of file as \n",
      "column_type_hints=[str,int,int,str,float,int,str,str,float,float,array,int,int]\n",
      "If parsing fails due to incorrect types, you can correct\n",
      "the inferred type list above and pass it to read_csv in\n",
      "the column_type_hints argument\n",
      "------------------------------------------------------\n"
     ]
    },
    {
     "data": {
      "text/html": [
       "<pre>Finished parsing file /Users/supadhy6/Documents/GitHub/spatio_temporal_information_processing/RSVP_visual_now/data/RSVP_spatial_cue_extended_letter_duration/3_14Feb2019_15-17.csv</pre>"
      ],
      "text/plain": [
       "Finished parsing file /Users/supadhy6/Documents/GitHub/spatio_temporal_information_processing/RSVP_visual_now/data/RSVP_spatial_cue_extended_letter_duration/3_14Feb2019_15-17.csv"
      ]
     },
     "metadata": {},
     "output_type": "display_data"
    },
    {
     "data": {
      "text/html": [
       "<pre>Parsing completed. Parsed 280 lines in 0.007561 secs.</pre>"
      ],
      "text/plain": [
       "Parsing completed. Parsed 280 lines in 0.007561 secs."
      ]
     },
     "metadata": {},
     "output_type": "display_data"
    },
    {
     "data": {
      "text/html": [
       "<pre>Finished parsing file /Users/supadhy6/Documents/GitHub/spatio_temporal_information_processing/RSVP_visual_now/data/RSVP_spatial_cue_extended_letter_duration/13_16Feb2019_11-36.csv</pre>"
      ],
      "text/plain": [
       "Finished parsing file /Users/supadhy6/Documents/GitHub/spatio_temporal_information_processing/RSVP_visual_now/data/RSVP_spatial_cue_extended_letter_duration/13_16Feb2019_11-36.csv"
      ]
     },
     "metadata": {},
     "output_type": "display_data"
    },
    {
     "data": {
      "text/html": [
       "<pre>Parsing completed. Parsed 100 lines in 0.007826 secs.</pre>"
      ],
      "text/plain": [
       "Parsing completed. Parsed 100 lines in 0.007826 secs."
      ]
     },
     "metadata": {},
     "output_type": "display_data"
    },
    {
     "name": "stdout",
     "output_type": "stream",
     "text": [
      "------------------------------------------------------\n",
      "Inferred types from first 100 line(s) of file as \n",
      "column_type_hints=[str,int,int,str,float,int,str,str,float,float,array,int,int]\n",
      "If parsing fails due to incorrect types, you can correct\n",
      "the inferred type list above and pass it to read_csv in\n",
      "the column_type_hints argument\n",
      "------------------------------------------------------\n"
     ]
    },
    {
     "data": {
      "text/html": [
       "<pre>Finished parsing file /Users/supadhy6/Documents/GitHub/spatio_temporal_information_processing/RSVP_visual_now/data/RSVP_spatial_cue_extended_letter_duration/13_16Feb2019_11-36.csv</pre>"
      ],
      "text/plain": [
       "Finished parsing file /Users/supadhy6/Documents/GitHub/spatio_temporal_information_processing/RSVP_visual_now/data/RSVP_spatial_cue_extended_letter_duration/13_16Feb2019_11-36.csv"
      ]
     },
     "metadata": {},
     "output_type": "display_data"
    },
    {
     "data": {
      "text/html": [
       "<pre>Parsing completed. Parsed 280 lines in 0.008824 secs.</pre>"
      ],
      "text/plain": [
       "Parsing completed. Parsed 280 lines in 0.008824 secs."
      ]
     },
     "metadata": {},
     "output_type": "display_data"
    },
    {
     "data": {
      "text/html": [
       "<pre>Finished parsing file /Users/supadhy6/Documents/GitHub/spatio_temporal_information_processing/RSVP_visual_now/data/RSVP_spatial_cue_extended_letter_duration/9_16Feb2019_09-33.csv</pre>"
      ],
      "text/plain": [
       "Finished parsing file /Users/supadhy6/Documents/GitHub/spatio_temporal_information_processing/RSVP_visual_now/data/RSVP_spatial_cue_extended_letter_duration/9_16Feb2019_09-33.csv"
      ]
     },
     "metadata": {},
     "output_type": "display_data"
    },
    {
     "data": {
      "text/html": [
       "<pre>Parsing completed. Parsed 100 lines in 0.009126 secs.</pre>"
      ],
      "text/plain": [
       "Parsing completed. Parsed 100 lines in 0.009126 secs."
      ]
     },
     "metadata": {},
     "output_type": "display_data"
    },
    {
     "name": "stdout",
     "output_type": "stream",
     "text": [
      "------------------------------------------------------\n",
      "Inferred types from first 100 line(s) of file as \n",
      "column_type_hints=[str,int,int,str,float,int,str,str,float,float,array,int,int]\n",
      "If parsing fails due to incorrect types, you can correct\n",
      "the inferred type list above and pass it to read_csv in\n",
      "the column_type_hints argument\n",
      "------------------------------------------------------\n"
     ]
    },
    {
     "data": {
      "text/html": [
       "<pre>Finished parsing file /Users/supadhy6/Documents/GitHub/spatio_temporal_information_processing/RSVP_visual_now/data/RSVP_spatial_cue_extended_letter_duration/9_16Feb2019_09-33.csv</pre>"
      ],
      "text/plain": [
       "Finished parsing file /Users/supadhy6/Documents/GitHub/spatio_temporal_information_processing/RSVP_visual_now/data/RSVP_spatial_cue_extended_letter_duration/9_16Feb2019_09-33.csv"
      ]
     },
     "metadata": {},
     "output_type": "display_data"
    },
    {
     "data": {
      "text/html": [
       "<pre>Parsing completed. Parsed 280 lines in 0.010508 secs.</pre>"
      ],
      "text/plain": [
       "Parsing completed. Parsed 280 lines in 0.010508 secs."
      ]
     },
     "metadata": {},
     "output_type": "display_data"
    },
    {
     "data": {
      "text/html": [
       "<pre>Finished parsing file /Users/supadhy6/Documents/GitHub/spatio_temporal_information_processing/RSVP_visual_now/data/RSVP_spatial_cue_extended_letter_duration/7_15Feb2019_13-01.csv</pre>"
      ],
      "text/plain": [
       "Finished parsing file /Users/supadhy6/Documents/GitHub/spatio_temporal_information_processing/RSVP_visual_now/data/RSVP_spatial_cue_extended_letter_duration/7_15Feb2019_13-01.csv"
      ]
     },
     "metadata": {},
     "output_type": "display_data"
    },
    {
     "data": {
      "text/html": [
       "<pre>Parsing completed. Parsed 100 lines in 0.012075 secs.</pre>"
      ],
      "text/plain": [
       "Parsing completed. Parsed 100 lines in 0.012075 secs."
      ]
     },
     "metadata": {},
     "output_type": "display_data"
    },
    {
     "name": "stdout",
     "output_type": "stream",
     "text": [
      "------------------------------------------------------\n",
      "Inferred types from first 100 line(s) of file as \n",
      "column_type_hints=[str,int,int,str,float,int,str,str,float,float,array,int,int]\n",
      "If parsing fails due to incorrect types, you can correct\n",
      "the inferred type list above and pass it to read_csv in\n",
      "the column_type_hints argument\n",
      "------------------------------------------------------\n"
     ]
    },
    {
     "data": {
      "text/html": [
       "<pre>Finished parsing file /Users/supadhy6/Documents/GitHub/spatio_temporal_information_processing/RSVP_visual_now/data/RSVP_spatial_cue_extended_letter_duration/7_15Feb2019_13-01.csv</pre>"
      ],
      "text/plain": [
       "Finished parsing file /Users/supadhy6/Documents/GitHub/spatio_temporal_information_processing/RSVP_visual_now/data/RSVP_spatial_cue_extended_letter_duration/7_15Feb2019_13-01.csv"
      ]
     },
     "metadata": {},
     "output_type": "display_data"
    },
    {
     "data": {
      "text/html": [
       "<pre>Parsing completed. Parsed 280 lines in 0.009005 secs.</pre>"
      ],
      "text/plain": [
       "Parsing completed. Parsed 280 lines in 0.009005 secs."
      ]
     },
     "metadata": {},
     "output_type": "display_data"
    },
    {
     "data": {
      "text/html": [
       "<pre>Finished parsing file /Users/supadhy6/Documents/GitHub/spatio_temporal_information_processing/RSVP_visual_now/data/RSVP_spatial_cue_extended_letter_duration/2_14Feb2019_14-45.csv</pre>"
      ],
      "text/plain": [
       "Finished parsing file /Users/supadhy6/Documents/GitHub/spatio_temporal_information_processing/RSVP_visual_now/data/RSVP_spatial_cue_extended_letter_duration/2_14Feb2019_14-45.csv"
      ]
     },
     "metadata": {},
     "output_type": "display_data"
    },
    {
     "data": {
      "text/html": [
       "<pre>Parsing completed. Parsed 100 lines in 0.011364 secs.</pre>"
      ],
      "text/plain": [
       "Parsing completed. Parsed 100 lines in 0.011364 secs."
      ]
     },
     "metadata": {},
     "output_type": "display_data"
    },
    {
     "name": "stdout",
     "output_type": "stream",
     "text": [
      "------------------------------------------------------\n",
      "Inferred types from first 100 line(s) of file as \n",
      "column_type_hints=[str,int,int,str,float,int,str,str,float,float,array,int,int]\n",
      "If parsing fails due to incorrect types, you can correct\n",
      "the inferred type list above and pass it to read_csv in\n",
      "the column_type_hints argument\n",
      "------------------------------------------------------\n"
     ]
    },
    {
     "data": {
      "text/html": [
       "<pre>Finished parsing file /Users/supadhy6/Documents/GitHub/spatio_temporal_information_processing/RSVP_visual_now/data/RSVP_spatial_cue_extended_letter_duration/2_14Feb2019_14-45.csv</pre>"
      ],
      "text/plain": [
       "Finished parsing file /Users/supadhy6/Documents/GitHub/spatio_temporal_information_processing/RSVP_visual_now/data/RSVP_spatial_cue_extended_letter_duration/2_14Feb2019_14-45.csv"
      ]
     },
     "metadata": {},
     "output_type": "display_data"
    },
    {
     "data": {
      "text/html": [
       "<pre>Parsing completed. Parsed 280 lines in 0.00912 secs.</pre>"
      ],
      "text/plain": [
       "Parsing completed. Parsed 280 lines in 0.00912 secs."
      ]
     },
     "metadata": {},
     "output_type": "display_data"
    },
    {
     "data": {
      "text/plain": [
       "4760"
      ]
     },
     "execution_count": 3,
     "metadata": {},
     "output_type": "execute_result"
    }
   ],
   "source": [
    "data = tc.SFrame.read_csv(file_list[0])\n",
    "temp = data\n",
    "for i in range(1,len(file_list)):\n",
    "    temp = tc.SFrame.read_csv(file_list[i])\n",
    "    #temp.column_types([str,int,int,str,float,int,str,str,float,float,list,int,int])\n",
    "    data = data.append(temp)\n",
    "len(data)"
   ]
  },
  {
   "cell_type": "code",
   "execution_count": 4,
   "metadata": {},
   "outputs": [
    {
     "name": "stdout",
     "output_type": "stream",
     "text": [
      "This is the format of your plot grid:\n",
      "[ (1,1) x1,y1 ]  [ (1,2) x2,y2 ]\n",
      "\n"
     ]
    },
    {
     "name": "stderr",
     "output_type": "stream",
     "text": [
      "/Users/supadhy6/miniconda3/envs/adiLab/lib/python3.6/site-packages/IPython/core/display.py:689: UserWarning:\n",
      "\n",
      "Consider using IPython.display.IFrame instead\n",
      "\n"
     ]
    },
    {
     "data": {
      "text/html": [
       "<iframe id=\"igraph\" scrolling=\"no\" style=\"border:none;\" seamless=\"seamless\" src=\"https://plot.ly/~adiboy_123/936.embed\" height=\"525px\" width=\"100%\"></iframe>"
      ],
      "text/plain": [
       "<plotly.tools.PlotlyDisplay object>"
      ]
     },
     "execution_count": 4,
     "metadata": {},
     "output_type": "execute_result"
    }
   ],
   "source": [
    "from plotly import tools\n",
    "import colorlover as cl\n",
    "trace = [[]]*2\n",
    "ecc_length = len(data['cueEccentricity1'].unique())\n",
    "colors = cl.scales['3']['seq']['YlOrRd']\n",
    "for i,cuePos in enumerate(data['cueSpatialPos1'].unique()):\n",
    "    cuePosdata = data[data['cueSpatialPos1']==cuePos]\n",
    "    temp1 = []\n",
    "    for j,ecc in enumerate(cuePosdata['cueEccentricity1'].unique().sort()):\n",
    "        ecc_data = cuePosdata[cuePosdata['cueEccentricity1']==ecc]\n",
    "        temp1.append(go.Histogram(x = ecc_data['responsePosRelative0'].to_numpy(), \n",
    "                                  histnorm='probability',name = str(ecc) + 'deg', opacity = 1, marker = dict(color = colors[j])))\n",
    "    trace[i] = temp1\n",
    "\n",
    "if data['cueSpatialPos1'].unique()[0] == [-1.0,0.0]:\n",
    "    titles = ('West','East')\n",
    "else:\n",
    "    titles = ('East','West')\n",
    "    \n",
    "fig = tools.make_subplots(rows=1, cols=2, subplot_titles = titles)\n",
    "fig['layout'].update(barmode='group', title = 'performance in RSVP visual now task for different cue positions - '+str(int(len(data)/280))+' participants')\n",
    "#fig['layout']['xaxis3'].update(title='position of reported item relative to the true item', range = [-2,2])\n",
    "#fig['layout']['xaxis4'].update(title='position of reported item relative to the true item', range = [-2,2])\n",
    "fig['layout']['xaxis1'].update(range=[-3,3],title='position of reported item relative to the true item')\n",
    "fig['layout']['xaxis2'].update(range=[-3,3],title='position of reported item relative to the true item')\n",
    "fig['layout']['yaxis1'].update(title='Probability')\n",
    "#fig['layout']['yaxis3'].update(title='Frequency')\n",
    "for i in range(ecc_length):\n",
    "    fig.add_trace(trace[0][ecc_length-1-i], 1, 1)\n",
    "    fig.add_trace(trace[1][ecc_length-1-i], 1, 2)\n",
    "    #fig.append_trace(trace[2][i], 2, 1)\n",
    "    #fig.append_trace(trace[3][i], 2, 2)\n",
    "py.iplot(fig, filename='RSVP_visual_now')"
   ]
  },
  {
   "cell_type": "code",
   "execution_count": 5,
   "metadata": {},
   "outputs": [
    {
     "name": "stdout",
     "output_type": "stream",
     "text": [
      "This is the format of your plot grid:\n",
      "[ (1,1) x1,y1 ]\n",
      "\n"
     ]
    },
    {
     "data": {
      "text/html": [
       "<iframe id=\"igraph\" scrolling=\"no\" style=\"border:none;\" seamless=\"seamless\" src=\"https://plot.ly/~adiboy_123/938.embed\" height=\"600px\" width=\"650px\"></iframe>"
      ],
      "text/plain": [
       "<plotly.tools.PlotlyDisplay object>"
      ]
     },
     "execution_count": 5,
     "metadata": {},
     "output_type": "execute_result"
    }
   ],
   "source": [
    "trace_data = []\n",
    "for j,ecc in enumerate(cuePosdata['cueEccentricity1'].unique().sort()):\n",
    "        ecc_data = cuePosdata[cuePosdata['cueEccentricity1']==ecc]\n",
    "        trace_data.append(go.Histogram(x = ecc_data['responsePosRelative0'].to_numpy(), \n",
    "                                  histnorm='probability',name = str(ecc) + 'deg', opacity = 1, marker = dict(color = colors[j])))\n",
    "\n",
    "        \n",
    "fig = tools.make_subplots(rows=1, cols=1)\n",
    "fig['layout'].update(barmode='group', title = 'performance in RSVP visual now task for different cue positions - '+str(int(len(data)/280))+' participants', height=600,width = 650)\n",
    "fig['layout']['xaxis1'].update(range = [-3,3], title='position of reported item relative to the true item')\n",
    "fig['layout']['yaxis1'].update(title='Probability', range = [0,0.8])\n",
    "for i in range(ecc_length):\n",
    "    fig.add_trace(trace_data[ecc_length -1 - i], 1, 1)\n",
    "py.iplot(fig, filename='RSVP_visual_now_grouped')"
   ]
  },
  {
   "cell_type": "code",
   "execution_count": 6,
   "metadata": {},
   "outputs": [],
   "source": [
    "from sklearn.neighbors import KernelDensity\n",
    "from scipy.stats import gaussian_kde"
   ]
  },
  {
   "cell_type": "code",
   "execution_count": 7,
   "metadata": {},
   "outputs": [
    {
     "name": "stdout",
     "output_type": "stream",
     "text": [
      "This is the format of your plot grid:\n",
      "[ (1,1) x1,y1 ]\n",
      "\n"
     ]
    },
    {
     "data": {
      "text/html": [
       "<iframe id=\"igraph\" scrolling=\"no\" style=\"border:none;\" seamless=\"seamless\" src=\"https://plot.ly/~adiboy_123/938.embed\" height=\"525px\" width=\"100%\"></iframe>"
      ],
      "text/plain": [
       "<plotly.tools.PlotlyDisplay object>"
      ]
     },
     "execution_count": 7,
     "metadata": {},
     "output_type": "execute_result"
    }
   ],
   "source": [
    "X_plot = np.linspace(-3, 3, 1000)\n",
    "trace_data = []\n",
    "distributions = []\n",
    "fill_colors = ['rgba(255,237,160,0.2)', 'rgba(254,178,76,0.2)', 'rgba(240,59,32,0.2)']\n",
    "for j,ecc in enumerate(cuePosdata['cueEccentricity1'].unique().sort()):\n",
    "        ecc_data = cuePosdata[cuePosdata['cueEccentricity1']==ecc]\n",
    "        X = ecc_data['responsePosRelative0'].to_numpy()\n",
    "        # Gaussian KDE\n",
    "        #kde = KernelDensity(kernel='gaussian').fit(X)\n",
    "        kde = gaussian_kde(X)\n",
    "        log_dens = kde(X_plot)\n",
    "        distributions.append({'ecc' : ecc, 'dist' : X, 'dens': log_dens})\n",
    "        trace_data.append(go.Scatter(x = X_plot, y = log_dens,\n",
    "                                  mode='lines', fill = 'tozeroy', fillcolor = fill_colors[j], name = str(ecc) + 'deg', line = dict(color = colors[j], width = 2) ))\n",
    "        \n",
    "fig = tools.make_subplots(rows=1, cols=1)\n",
    "fig['layout'].update(barmode='group', title = 'performance in RSVP visual now task for different cue positions - '+str(int(len(data)/280))+' participants')\n",
    "fig['layout']['xaxis1'].update(title='position of reported item relative to the true item')\n",
    "fig['layout']['yaxis1'].update(title='Probability', range = [0,0.8])\n",
    "for i in range(ecc_length):\n",
    "    fig.add_trace(trace_data[i], 1, 1)\n",
    "py.iplot(fig, filename='RSVP_visual_now_grouped')\n"
   ]
  },
  {
   "cell_type": "code",
   "execution_count": 8,
   "metadata": {},
   "outputs": [
    {
     "name": "stdout",
     "output_type": "stream",
     "text": [
      "Eccentricity: 2\n",
      "excess kurtosis of normal distribution (should be 0): -1.4402792822399355\n",
      "skewness of normal distribution (should be 0): 0.21824933444349992\n",
      "\n",
      "\n",
      "Eccentricity: 10\n",
      "excess kurtosis of normal distribution (should be 0): -1.4456160977696304\n",
      "skewness of normal distribution (should be 0): 0.12346173688522705\n",
      "\n",
      "\n"
     ]
    }
   ],
   "source": [
    "import numpy as np\n",
    "from scipy.stats import kurtosis, skew\n",
    "\n",
    "for x in distributions:\n",
    "    print( 'Eccentricity: {}'.format( x['ecc']))\n",
    "    print( 'excess kurtosis of normal distribution (should be 0): {}'.format( kurtosis(x['dens']) ))\n",
    "    print( 'skewness of normal distribution (should be 0): {}'.format( skew(x['dens']) ))\n",
    "    print( '\\n')"
   ]
  },
  {
   "cell_type": "code",
   "execution_count": 9,
   "metadata": {},
   "outputs": [
    {
     "name": "stdout",
     "output_type": "stream",
     "text": [
      "                           sum_sq      df         F    PR(>F)\n",
      "C(cueEccentricity1)     78.428782     1.0  7.011732  0.008124\n",
      "Residual             53219.965966  4758.0       NaN       NaN\n"
     ]
    }
   ],
   "source": [
    "import statsmodels.api as sm\n",
    "from statsmodels.formula.api import ols\n",
    "\n",
    "hsb = data.to_dataframe()\n",
    "mod = ols('responsePosRelative0 ~ C(cueEccentricity1)',\n",
    "                data=hsb).fit()\n",
    "                \n",
    "aov_table = sm.stats.anova_lm(mod, typ=2)\n",
    "print(aov_table)"
   ]
  },
  {
   "cell_type": "code",
   "execution_count": 10,
   "metadata": {},
   "outputs": [
    {
     "name": "stdout",
     "output_type": "stream",
     "text": [
      "Ecc:2 vs.Ecc:10\n"
     ]
    },
    {
     "data": {
      "text/plain": [
       "Ttest_indResult(statistic=2.226825085604193, pvalue=0.026052279149974236)"
      ]
     },
     "execution_count": 10,
     "metadata": {},
     "output_type": "execute_result"
    }
   ],
   "source": [
    "print('Ecc:{}'.format(distributions[0]['ecc'])+' vs.'+ 'Ecc:{}'.format(distributions[1]['ecc']))\n",
    "scipy.stats.ttest_ind(distributions[0]['dist'], distributions[1]['dist'],axis =0, equal_var=True)"
   ]
  },
  {
   "cell_type": "code",
   "execution_count": 11,
   "metadata": {},
   "outputs": [],
   "source": [
    "# print('Ecc:{}'.format(distributions[0]['ecc'])+' vs.'+ 'Ecc:{}'.format(distributions[2]['ecc']))\n",
    "# scipy.stats.ttest_ind(distributions[0]['dist'], distributions[2]['dist'], axis =0,equal_var=True)"
   ]
  },
  {
   "cell_type": "code",
   "execution_count": 12,
   "metadata": {},
   "outputs": [],
   "source": [
    "# print('Ecc:{}'.format(distributions[1]['ecc'])+' vs.'+ 'Ecc:{}'.format(distributions[2]['ecc']))\n",
    "# scipy.stats.ttest_ind(distributions[1]['dist'], distributions[2]['dist'], axis =0,equal_var=True)"
   ]
  },
  {
   "cell_type": "code",
   "execution_count": 111,
   "metadata": {},
   "outputs": [],
   "source": [
    "import turicreate.aggregate as agg\n",
    "sub_data = data.groupby(['subject','cueEccentricity1'],operations = {'avg_lag':agg.AVG('responsePosRelative0')})\n",
    "ratios = []\n",
    "c_val = [-1,0]\n",
    "for sub in data['subject'].unique().sort():\n",
    "    temp1 = data[data['subject']==sub]\n",
    "    for ecc in temp1['cueEccentricity1'].unique().sort():\n",
    "        temp = temp1[temp1['cueEccentricity1']==ecc]\n",
    "        count_data = temp['responsePosRelative0'].value_counts()\n",
    "        a = count_data[count_data['value']==c_val[0]]['count'].to_numpy()\n",
    "        b = count_data[count_data['value']==c_val[1]]['count'].to_numpy()\n",
    "        if len(a) > 0 and len(b)>0:\n",
    "            ratios.extend(a-b)\n",
    "        elif len(a)==0 and len(b)>0:\n",
    "            ratios.extend(0-b)\n",
    "        elif len(a)>0 and len(b)==0:\n",
    "            ratios.extend(a-0)\n",
    "        else:\n",
    "            ratios.extend(0)\n",
    "            \n",
    "sub_data = sub_data.sort(['subject','cueEccentricity1'])\n",
    "skewness = []\n",
    "kurtosissy = []\n",
    "for sub in data['subject'].unique().sort():\n",
    "    subd = data[data['subject']==sub]\n",
    "    for ecc in subd['cueEccentricity1'].unique().sort():\n",
    "        eccd = subd[subd['cueEccentricity1']==ecc]\n",
    "        X = eccd['responsePosRelative0'].to_numpy()\n",
    "        kde = gaussian_kde(X)\n",
    "        log_dens = kde(X_plot)\n",
    "        skewness.append(skew(log_dens))\n",
    "        kurtosissy.append(kurtosis(log_dens))\n",
    "\n",
    "sub_data['skew'] = skewness\n",
    "sub_data['kurtosis'] = kurtosissy\n",
    "sub_data['ratio'] = ratios"
   ]
  },
  {
   "cell_type": "code",
   "execution_count": 112,
   "metadata": {},
   "outputs": [
    {
     "data": {
      "text/html": [
       "<div>\n",
       "<style scoped>\n",
       "    .dataframe tbody tr th:only-of-type {\n",
       "        vertical-align: middle;\n",
       "    }\n",
       "\n",
       "    .dataframe tbody tr th {\n",
       "        vertical-align: top;\n",
       "    }\n",
       "\n",
       "    .dataframe thead th {\n",
       "        text-align: right;\n",
       "    }\n",
       "</style>\n",
       "<table border=\"1\" class=\"dataframe\">\n",
       "  <thead>\n",
       "    <tr style=\"text-align: right;\">\n",
       "      <th></th>\n",
       "      <th>df</th>\n",
       "      <th>sum_sq</th>\n",
       "      <th>mean_sq</th>\n",
       "      <th>F</th>\n",
       "      <th>PR(&gt;F)</th>\n",
       "    </tr>\n",
       "  </thead>\n",
       "  <tbody>\n",
       "    <tr>\n",
       "      <th>C(cueEccentricity1)</th>\n",
       "      <td>1.0</td>\n",
       "      <td>0.099960</td>\n",
       "      <td>0.099960</td>\n",
       "      <td>0.472392</td>\n",
       "      <td>0.49684</td>\n",
       "    </tr>\n",
       "    <tr>\n",
       "      <th>Residual</th>\n",
       "      <td>32.0</td>\n",
       "      <td>6.771332</td>\n",
       "      <td>0.211604</td>\n",
       "      <td>NaN</td>\n",
       "      <td>NaN</td>\n",
       "    </tr>\n",
       "  </tbody>\n",
       "</table>\n",
       "</div>"
      ],
      "text/plain": [
       "                       df    sum_sq   mean_sq         F   PR(>F)\n",
       "C(cueEccentricity1)   1.0  0.099960  0.099960  0.472392  0.49684\n",
       "Residual             32.0  6.771332  0.211604       NaN      NaN"
      ]
     },
     "execution_count": 112,
     "metadata": {},
     "output_type": "execute_result"
    }
   ],
   "source": [
    "sub_hsb = sub_data.to_dataframe()\n",
    "#sub_hsb = hsb.groupby(['subject','cueEccentricity1']).apply(skew('responseRelative0'))\n",
    "mod = ols('skew ~ C(cueEccentricity1)',\n",
    "                data=sub_hsb).fit()\n",
    "                \n",
    "aov_table = sm.stats.anova_lm(mod)\n",
    "aov_table"
   ]
  },
  {
   "cell_type": "code",
   "execution_count": 113,
   "metadata": {},
   "outputs": [
    {
     "data": {
      "text/html": [
       "<div>\n",
       "<style scoped>\n",
       "    .dataframe tbody tr th:only-of-type {\n",
       "        vertical-align: middle;\n",
       "    }\n",
       "\n",
       "    .dataframe tbody tr th {\n",
       "        vertical-align: top;\n",
       "    }\n",
       "\n",
       "    .dataframe thead th {\n",
       "        text-align: right;\n",
       "    }\n",
       "</style>\n",
       "<table border=\"1\" class=\"dataframe\">\n",
       "  <thead>\n",
       "    <tr style=\"text-align: right;\">\n",
       "      <th></th>\n",
       "      <th>df</th>\n",
       "      <th>sum_sq</th>\n",
       "      <th>mean_sq</th>\n",
       "      <th>F</th>\n",
       "      <th>PR(&gt;F)</th>\n",
       "    </tr>\n",
       "  </thead>\n",
       "  <tbody>\n",
       "    <tr>\n",
       "      <th>C(cueEccentricity1)</th>\n",
       "      <td>1.0</td>\n",
       "      <td>0.208919</td>\n",
       "      <td>0.208919</td>\n",
       "      <td>0.673302</td>\n",
       "      <td>0.417974</td>\n",
       "    </tr>\n",
       "    <tr>\n",
       "      <th>Residual</th>\n",
       "      <td>32.0</td>\n",
       "      <td>9.929310</td>\n",
       "      <td>0.310291</td>\n",
       "      <td>NaN</td>\n",
       "      <td>NaN</td>\n",
       "    </tr>\n",
       "  </tbody>\n",
       "</table>\n",
       "</div>"
      ],
      "text/plain": [
       "                       df    sum_sq   mean_sq         F    PR(>F)\n",
       "C(cueEccentricity1)   1.0  0.208919  0.208919  0.673302  0.417974\n",
       "Residual             32.0  9.929310  0.310291       NaN       NaN"
      ]
     },
     "execution_count": 113,
     "metadata": {},
     "output_type": "execute_result"
    }
   ],
   "source": [
    "mod1 = ols('kurtosis ~ C(cueEccentricity1)',\n",
    "                data=sub_hsb).fit()\n",
    "                \n",
    "aov_table1 = sm.stats.anova_lm(mod1)\n",
    "aov_table1"
   ]
  },
  {
   "cell_type": "code",
   "execution_count": 114,
   "metadata": {},
   "outputs": [],
   "source": [
    "deg2_data = sub_data[sub_data['cueEccentricity1']==2]\n",
    "deg2_data = deg2_data.sort('subject')\n",
    "#deg6_data = sub_data[sub_data['cueEccentricity1']==6]\n",
    "#deg6_data = deg6_data.sort('subject')\n",
    "deg10_data = sub_data[sub_data['cueEccentricity1']==10]\n",
    "deg10_data = deg10_data.sort('subject')\n",
    "\n",
    "deg2 = deg2_data['avg_lag'].to_numpy()\n",
    "deg2_ratio = deg2_data['ratio'].to_numpy()\n",
    "#deg6 = deg6_data['avg_lag'].to_numpy()\n",
    "#deg6_ratio = deg6_data['ratio'].to_numpy()\n",
    "deg10 = deg10_data['avg_lag'].to_numpy()\n",
    "deg10_ratio = deg10_data['ratio'].to_numpy()"
   ]
  },
  {
   "cell_type": "code",
   "execution_count": 115,
   "metadata": {},
   "outputs": [
    {
     "data": {
      "text/plain": [
       "17"
      ]
     },
     "execution_count": 115,
     "metadata": {},
     "output_type": "execute_result"
    }
   ],
   "source": [
    "len(deg2_ratio)"
   ]
  },
  {
   "cell_type": "code",
   "execution_count": 116,
   "metadata": {},
   "outputs": [
    {
     "name": "stdout",
     "output_type": "stream",
     "text": [
      "Ecc:2 vs. zero mean\n"
     ]
    },
    {
     "data": {
      "text/plain": [
       "Ttest_1sampResult(statistic=-2.848870559296973, pvalue=0.011608075116130462)"
      ]
     },
     "execution_count": 116,
     "metadata": {},
     "output_type": "execute_result"
    }
   ],
   "source": [
    "print('Ecc:{}'.format(distributions[0]['ecc'])+' vs. zero mean')\n",
    "scipy.stats.ttest_1samp(deg2,0.0)"
   ]
  },
  {
   "cell_type": "code",
   "execution_count": 117,
   "metadata": {},
   "outputs": [
    {
     "name": "stdout",
     "output_type": "stream",
     "text": [
      "Ecc:2 vs.Ecc:10\n"
     ]
    },
    {
     "data": {
      "text/plain": [
       "Ttest_relResult(statistic=2.5999382095364325, pvalue=0.019343236325712963)"
      ]
     },
     "execution_count": 117,
     "metadata": {},
     "output_type": "execute_result"
    }
   ],
   "source": [
    "print('Ecc:{}'.format(distributions[0]['ecc'])+' vs.'+ 'Ecc:{}'.format(distributions[1]['ecc']))\n",
    "scipy.stats.ttest_rel(deg2, deg10)"
   ]
  },
  {
   "cell_type": "code",
   "execution_count": 118,
   "metadata": {},
   "outputs": [],
   "source": [
    "# print('Ecc:{}'.format(distributions[0]['ecc'])+' vs.'+ 'Ecc:{}'.format(distributions[2]['ecc']))\n",
    "# scipy.stats.ttest_rel(deg2,deg10)"
   ]
  },
  {
   "cell_type": "code",
   "execution_count": 119,
   "metadata": {},
   "outputs": [],
   "source": [
    "# print('Ecc:{}'.format(distributions[1]['ecc'])+' vs.'+ 'Ecc:{}'.format(distributions[2]['ecc']))\n",
    "# scipy.stats.ttest_rel(deg6,deg10)"
   ]
  },
  {
   "cell_type": "code",
   "execution_count": 120,
   "metadata": {},
   "outputs": [],
   "source": [
    "output = tc.SFrame()\n",
    "output['subject'] = np.arange(1,len(deg2_ratio)+1)\n",
    "output['avg_lag_2deg'] = deg2\n",
    "#output['avg_lag_6deg'] = deg6\n",
    "output['avg_lag_10deg'] = deg10\n",
    "\n",
    "output['ratio_2deg'] = deg2_ratio\n",
    "#output['ratio_6deg'] = deg6_ratio\n",
    "output['ratio_10deg'] = deg10_ratio"
   ]
  },
  {
   "cell_type": "code",
   "execution_count": 121,
   "metadata": {},
   "outputs": [
    {
     "data": {
      "text/html": [
       "<div style=\"max-height:1000px;max-width:1500px;overflow:auto;\"><table frame=\"box\" rules=\"cols\">\n",
       "    <tr>\n",
       "        <th style=\"padding-left: 1em; padding-right: 1em; text-align: center\">subject</th>\n",
       "        <th style=\"padding-left: 1em; padding-right: 1em; text-align: center\">avg_lag_2deg</th>\n",
       "        <th style=\"padding-left: 1em; padding-right: 1em; text-align: center\">avg_lag_10deg</th>\n",
       "        <th style=\"padding-left: 1em; padding-right: 1em; text-align: center\">ratio_2deg</th>\n",
       "        <th style=\"padding-left: 1em; padding-right: 1em; text-align: center\">ratio_10deg</th>\n",
       "    </tr>\n",
       "    <tr>\n",
       "        <td style=\"padding-left: 1em; padding-right: 1em; text-align: center; vertical-align: top\">1</td>\n",
       "        <td style=\"padding-left: 1em; padding-right: 1em; text-align: center; vertical-align: top\">-0.1928571428571429</td>\n",
       "        <td style=\"padding-left: 1em; padding-right: 1em; text-align: center; vertical-align: top\">-0.392857142857143</td>\n",
       "        <td style=\"padding-left: 1em; padding-right: 1em; text-align: center; vertical-align: top\">-17</td>\n",
       "        <td style=\"padding-left: 1em; padding-right: 1em; text-align: center; vertical-align: top\">13</td>\n",
       "    </tr>\n",
       "    <tr>\n",
       "        <td style=\"padding-left: 1em; padding-right: 1em; text-align: center; vertical-align: top\">2</td>\n",
       "        <td style=\"padding-left: 1em; padding-right: 1em; text-align: center; vertical-align: top\">0.10714285714285707</td>\n",
       "        <td style=\"padding-left: 1em; padding-right: 1em; text-align: center; vertical-align: top\">-0.7785714285714284</td>\n",
       "        <td style=\"padding-left: 1em; padding-right: 1em; text-align: center; vertical-align: top\">3</td>\n",
       "        <td style=\"padding-left: 1em; padding-right: 1em; text-align: center; vertical-align: top\">18</td>\n",
       "    </tr>\n",
       "    <tr>\n",
       "        <td style=\"padding-left: 1em; padding-right: 1em; text-align: center; vertical-align: top\">3</td>\n",
       "        <td style=\"padding-left: 1em; padding-right: 1em; text-align: center; vertical-align: top\">0.0428571428571428</td>\n",
       "        <td style=\"padding-left: 1em; padding-right: 1em; text-align: center; vertical-align: top\">-0.442857142857143</td>\n",
       "        <td style=\"padding-left: 1em; padding-right: 1em; text-align: center; vertical-align: top\">-27</td>\n",
       "        <td style=\"padding-left: 1em; padding-right: 1em; text-align: center; vertical-align: top\">-15</td>\n",
       "    </tr>\n",
       "    <tr>\n",
       "        <td style=\"padding-left: 1em; padding-right: 1em; text-align: center; vertical-align: top\">4</td>\n",
       "        <td style=\"padding-left: 1em; padding-right: 1em; text-align: center; vertical-align: top\">-0.3285714285714285</td>\n",
       "        <td style=\"padding-left: 1em; padding-right: 1em; text-align: center; vertical-align: top\">-0.6214285714285716</td>\n",
       "        <td style=\"padding-left: 1em; padding-right: 1em; text-align: center; vertical-align: top\">-28</td>\n",
       "        <td style=\"padding-left: 1em; padding-right: 1em; text-align: center; vertical-align: top\">-16</td>\n",
       "    </tr>\n",
       "    <tr>\n",
       "        <td style=\"padding-left: 1em; padding-right: 1em; text-align: center; vertical-align: top\">5</td>\n",
       "        <td style=\"padding-left: 1em; padding-right: 1em; text-align: center; vertical-align: top\">-1.1785714285714286</td>\n",
       "        <td style=\"padding-left: 1em; padding-right: 1em; text-align: center; vertical-align: top\">-0.9142857142857141</td>\n",
       "        <td style=\"padding-left: 1em; padding-right: 1em; text-align: center; vertical-align: top\">35</td>\n",
       "        <td style=\"padding-left: 1em; padding-right: 1em; text-align: center; vertical-align: top\">67</td>\n",
       "    </tr>\n",
       "    <tr>\n",
       "        <td style=\"padding-left: 1em; padding-right: 1em; text-align: center; vertical-align: top\">6</td>\n",
       "        <td style=\"padding-left: 1em; padding-right: 1em; text-align: center; vertical-align: top\">-0.18571428571428567</td>\n",
       "        <td style=\"padding-left: 1em; padding-right: 1em; text-align: center; vertical-align: top\">-0.7142857142857141</td>\n",
       "        <td style=\"padding-left: 1em; padding-right: 1em; text-align: center; vertical-align: top\">-40</td>\n",
       "        <td style=\"padding-left: 1em; padding-right: 1em; text-align: center; vertical-align: top\">-13</td>\n",
       "    </tr>\n",
       "    <tr>\n",
       "        <td style=\"padding-left: 1em; padding-right: 1em; text-align: center; vertical-align: top\">7</td>\n",
       "        <td style=\"padding-left: 1em; padding-right: 1em; text-align: center; vertical-align: top\">-0.05714285714285714</td>\n",
       "        <td style=\"padding-left: 1em; padding-right: 1em; text-align: center; vertical-align: top\">-0.028571428571428602</td>\n",
       "        <td style=\"padding-left: 1em; padding-right: 1em; text-align: center; vertical-align: top\">-51</td>\n",
       "        <td style=\"padding-left: 1em; padding-right: 1em; text-align: center; vertical-align: top\">-19</td>\n",
       "    </tr>\n",
       "    <tr>\n",
       "        <td style=\"padding-left: 1em; padding-right: 1em; text-align: center; vertical-align: top\">8</td>\n",
       "        <td style=\"padding-left: 1em; padding-right: 1em; text-align: center; vertical-align: top\">-0.21428571428571422</td>\n",
       "        <td style=\"padding-left: 1em; padding-right: 1em; text-align: center; vertical-align: top\">-0.1357142857142858</td>\n",
       "        <td style=\"padding-left: 1em; padding-right: 1em; text-align: center; vertical-align: top\">-53</td>\n",
       "        <td style=\"padding-left: 1em; padding-right: 1em; text-align: center; vertical-align: top\">-46</td>\n",
       "    </tr>\n",
       "    <tr>\n",
       "        <td style=\"padding-left: 1em; padding-right: 1em; text-align: center; vertical-align: top\">9</td>\n",
       "        <td style=\"padding-left: 1em; padding-right: 1em; text-align: center; vertical-align: top\">-0.31428571428571433</td>\n",
       "        <td style=\"padding-left: 1em; padding-right: 1em; text-align: center; vertical-align: top\">-0.042857142857142885</td>\n",
       "        <td style=\"padding-left: 1em; padding-right: 1em; text-align: center; vertical-align: top\">-33</td>\n",
       "        <td style=\"padding-left: 1em; padding-right: 1em; text-align: center; vertical-align: top\">-24</td>\n",
       "    </tr>\n",
       "    <tr>\n",
       "        <td style=\"padding-left: 1em; padding-right: 1em; text-align: center; vertical-align: top\">10</td>\n",
       "        <td style=\"padding-left: 1em; padding-right: 1em; text-align: center; vertical-align: top\">-0.2571428571428571</td>\n",
       "        <td style=\"padding-left: 1em; padding-right: 1em; text-align: center; vertical-align: top\">-0.8285714285714287</td>\n",
       "        <td style=\"padding-left: 1em; padding-right: 1em; text-align: center; vertical-align: top\">-10</td>\n",
       "        <td style=\"padding-left: 1em; padding-right: 1em; text-align: center; vertical-align: top\">36</td>\n",
       "    </tr>\n",
       "</table>\n",
       "[17 rows x 5 columns]<br/>Note: Only the head of the SFrame is printed.<br/>You can use print_rows(num_rows=m, num_columns=n) to print more rows and columns.\n",
       "</div>"
      ],
      "text/plain": [
       "Columns:\n",
       "\tsubject\tint\n",
       "\tavg_lag_2deg\tfloat\n",
       "\tavg_lag_10deg\tfloat\n",
       "\tratio_2deg\tint\n",
       "\tratio_10deg\tint\n",
       "\n",
       "Rows: 17\n",
       "\n",
       "Data:\n",
       "+---------+----------------------+-----------------------+------------+-------------+\n",
       "| subject |     avg_lag_2deg     |     avg_lag_10deg     | ratio_2deg | ratio_10deg |\n",
       "+---------+----------------------+-----------------------+------------+-------------+\n",
       "|    1    | -0.1928571428571429  |   -0.392857142857143  |    -17     |      13     |\n",
       "|    2    | 0.10714285714285707  |  -0.7785714285714284  |     3      |      18     |\n",
       "|    3    |  0.0428571428571428  |   -0.442857142857143  |    -27     |     -15     |\n",
       "|    4    | -0.3285714285714285  |  -0.6214285714285716  |    -28     |     -16     |\n",
       "|    5    | -1.1785714285714286  |  -0.9142857142857141  |     35     |      67     |\n",
       "|    6    | -0.18571428571428567 |  -0.7142857142857141  |    -40     |     -13     |\n",
       "|    7    | -0.05714285714285714 | -0.028571428571428602 |    -51     |     -19     |\n",
       "|    8    | -0.21428571428571422 |  -0.1357142857142858  |    -53     |     -46     |\n",
       "|    9    | -0.31428571428571433 | -0.042857142857142885 |    -33     |     -24     |\n",
       "|    10   | -0.2571428571428571  |  -0.8285714285714287  |    -10     |      36     |\n",
       "+---------+----------------------+-----------------------+------------+-------------+\n",
       "[17 rows x 5 columns]\n",
       "Note: Only the head of the SFrame is printed.\n",
       "You can use print_rows(num_rows=m, num_columns=n) to print more rows and columns."
      ]
     },
     "execution_count": 121,
     "metadata": {},
     "output_type": "execute_result"
    }
   ],
   "source": [
    "output"
   ]
  },
  {
   "cell_type": "code",
   "execution_count": 122,
   "metadata": {},
   "outputs": [],
   "source": [
    "# print('Ecc:{}'.format(2)+' vs.'+ 'Ecc:{}'.format(6))\n",
    "# scipy.stats.ttest_rel(output['avg_lag_2deg'].to_numpy(), output['avg_lag_6deg'].to_numpy())"
   ]
  },
  {
   "cell_type": "code",
   "execution_count": 123,
   "metadata": {},
   "outputs": [
    {
     "name": "stdout",
     "output_type": "stream",
     "text": [
      "Ecc:2 vs.Ecc:10\n"
     ]
    },
    {
     "data": {
      "text/plain": [
       "Ttest_relResult(statistic=2.5999382095364325, pvalue=0.019343236325712963)"
      ]
     },
     "execution_count": 123,
     "metadata": {},
     "output_type": "execute_result"
    }
   ],
   "source": [
    "print('Ecc:{}'.format(2)+' vs.'+ 'Ecc:{}'.format(10))\n",
    "scipy.stats.ttest_rel(output['avg_lag_2deg'].to_numpy(), output['avg_lag_10deg'].to_numpy())"
   ]
  },
  {
   "cell_type": "code",
   "execution_count": 124,
   "metadata": {},
   "outputs": [],
   "source": [
    "# print('Ecc:{}'.format(6)+' vs.'+ 'Ecc:{}'.format(10))\n",
    "# scipy.stats.ttest_rel(output['avg_lag_6deg'].to_numpy(), output['avg_lag_10deg'].to_numpy())"
   ]
  },
  {
   "cell_type": "code",
   "execution_count": 125,
   "metadata": {},
   "outputs": [],
   "source": [
    "# print('Ecc:{}'.format(2)+' vs.'+ 'Ecc:{}'.format(6))\n",
    "# scipy.stats.ttest_rel(output['ratio_2deg'].to_numpy(), output['ratio_6deg'].to_numpy())"
   ]
  },
  {
   "cell_type": "code",
   "execution_count": 126,
   "metadata": {},
   "outputs": [
    {
     "name": "stdout",
     "output_type": "stream",
     "text": [
      "Ecc:2 vs.Ecc:10\n"
     ]
    },
    {
     "data": {
      "text/plain": [
       "Ttest_relResult(statistic=-6.879173731240084, pvalue=3.7065193630143115e-06)"
      ]
     },
     "execution_count": 126,
     "metadata": {},
     "output_type": "execute_result"
    }
   ],
   "source": [
    "print('Ecc:{}'.format(2)+' vs.'+ 'Ecc:{}'.format(10))\n",
    "scipy.stats.ttest_rel(output['ratio_2deg'].to_numpy(), output['ratio_10deg'].to_numpy())"
   ]
  },
  {
   "cell_type": "code",
   "execution_count": 127,
   "metadata": {},
   "outputs": [],
   "source": [
    "# print('Ecc:{}'.format(6)+' vs.'+ 'Ecc:{}'.format(10))\n",
    "# scipy.stats.ttest_rel(output['ratio_6deg'].to_numpy(), output['ratio_10deg'].to_numpy())"
   ]
  },
  {
   "cell_type": "code",
   "execution_count": 129,
   "metadata": {},
   "outputs": [
    {
     "name": "stderr",
     "output_type": "stream",
     "text": [
      "/Users/supadhy6/miniconda3/envs/adiLab/lib/python3.6/site-packages/IPython/core/display.py:689: UserWarning:\n",
      "\n",
      "Consider using IPython.display.IFrame instead\n",
      "\n"
     ]
    },
    {
     "data": {
      "text/html": [
       "<iframe id=\"igraph\" scrolling=\"no\" style=\"border:none;\" seamless=\"seamless\" src=\"https://plot.ly/~adiboy_123/947.embed\" height=\"525px\" width=\"100%\"></iframe>"
      ],
      "text/plain": [
       "<plotly.tools.PlotlyDisplay object>"
      ]
     },
     "execution_count": 129,
     "metadata": {},
     "output_type": "execute_result"
    }
   ],
   "source": [
    "trace_data = []\n",
    "trace_data.append(go.Bar(x = ['preference to lag -1 over lag 1 responses'],\n",
    "                        y = [output['ratio_2deg'].mean()],\n",
    "                        name='2 deg',\n",
    "                        marker = dict(color = colors[0]),\n",
    "                        error_y = dict(type = 'data',\n",
    "                                      array = [output['ratio_2deg'].std()/np.sqrt(14)],\n",
    "                                      visible=True\n",
    "                                      )\n",
    "                        )\n",
    "                 )\n",
    "\n",
    "# trace_data.append(go.Bar(x = ['preference to lag -1 over lag 1 responses'],\n",
    "#                         y = [output['ratio_6deg'].mean()],\n",
    "#                         name='6 deg',\n",
    "#                         marker = dict(color = colors[1]),\n",
    "#                         error_y = dict(type = 'data',\n",
    "#                                       array = [output['ratio_6deg'].std()/np.sqrt(14)],\n",
    "#                                       visible=True\n",
    "#                                       )\n",
    "#                         )\n",
    "#                  )\n",
    "\n",
    "trace_data.append(go.Bar(x = ['preference to lag -1 over lag 1 responses'],\n",
    "                        y = [output['ratio_10deg'].mean()],\n",
    "                        name='10 deg',\n",
    "                        marker = dict(color = colors[2]),\n",
    "                        error_y = dict(type = 'data',\n",
    "                                      array = [output['ratio_10deg'].std()/np.sqrt(14)],\n",
    "                                      visible=True\n",
    "                                      )\n",
    "                        )\n",
    "                 )\n",
    "\n",
    "layout = go.Layout(\n",
    "    barmode='group',\n",
    "    title = str(int(len(data)/280))+' participants',\n",
    "    xaxis = dict(zeroline=False),\n",
    "    yaxis = dict(title = 'avg. # of responses lag('+str(c_val[0])+') - lag('+str(c_val[1])+')',zeroline=False),\n",
    ")\n",
    "fig = go.Figure(data=trace_data, layout=layout)\n",
    "py.iplot(fig, filename='error-bar-bar')"
   ]
  },
  {
   "cell_type": "code",
   "execution_count": null,
   "metadata": {},
   "outputs": [],
   "source": []
  }
 ],
 "metadata": {
  "anaconda-cloud": {},
  "kernelspec": {
   "display_name": "adiLab (3.7)",
   "language": "python",
   "name": "adilab"
  },
  "language_info": {
   "codemirror_mode": {
    "name": "ipython",
    "version": 3
   },
   "file_extension": ".py",
   "mimetype": "text/x-python",
   "name": "python",
   "nbconvert_exporter": "python",
   "pygments_lexer": "ipython3",
   "version": "3.6.0"
  },
  "toc": {
   "base_numbering": 1,
   "nav_menu": {},
   "number_sections": true,
   "sideBar": true,
   "skip_h1_title": false,
   "title_cell": "Table of Contents",
   "title_sidebar": "Contents",
   "toc_cell": false,
   "toc_position": {},
   "toc_section_display": true,
   "toc_window_display": false
  }
 },
 "nbformat": 4,
 "nbformat_minor": 1
}
