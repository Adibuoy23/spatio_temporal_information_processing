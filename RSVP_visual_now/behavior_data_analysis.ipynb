{
 "cells": [
  {
   "cell_type": "code",
   "execution_count": 14,
   "metadata": {
    "collapsed": false
   },
   "outputs": [
    {
     "name": "stdout",
     "output_type": "stream",
     "text": [
      "['2_21Nov2018_10-09.csv', '4_21Nov2018_14-04.txt', '7_23Nov2018_13-59.txt', '1_20Nov2018_16-17.txt', '5_23Nov2018_10-06.csv', '3_21Nov2018_11-06.csv', '6_23Nov2018_11-02.txt', '8_23Nov2018_16-07.csv', '2_21Nov2018_10-09.txt', '7_23Nov2018_13-59.csv', '4_21Nov2018_14-04.csv', '1_20Nov2018_16-17.csv', '5_23Nov2018_10-06.txt', '8_23Nov2018_16-07.txt', '6_23Nov2018_11-02.csv', '3_21Nov2018_11-06.txt']\n"
     ]
    }
   ],
   "source": [
    "# clear all the variables\n",
    "%reset -f\n",
    "import numpy as np\n",
    "import pandas as pd\n",
    "import sys\n",
    "import graphlab\n",
    "import os\n",
    "from os import walk\n",
    "import scipy.io\n",
    "import xlrd, os, fnmatch\n",
    "import pandas as pd\n",
    "import tensorflow as tf\n",
    "import plotly.plotly as py\n",
    "import plotly.graph_objs as go\n",
    "from scipy.spatial.distance import cdist\n",
    "# Path variable (where the data is located)\n",
    "myPath = './data/' \n",
    "# Append the path variable to existing search path\n",
    "sys.path.append(myPath)\n",
    "# Get the file information in the directory\n",
    "file_list = []\n",
    "ignore_list = ['pilot']\n",
    "for root, dirs, files in os.walk(myPath):\n",
    "    print files\n",
    "    if 'pilot' in dirs:\n",
    "        dirs[:]=[]\n",
    "    for filename in files:\n",
    "        if fnmatch.fnmatch(filename.lower(), \"*csv\"):\n",
    "            file_list.append(os.path.join(root, filename))"
   ]
  },
  {
   "cell_type": "code",
   "execution_count": 15,
   "metadata": {
    "collapsed": false
   },
   "outputs": [
    {
     "data": {
      "text/plain": [
       "['./data/2_21Nov2018_10-09.csv',\n",
       " './data/5_23Nov2018_10-06.csv',\n",
       " './data/3_21Nov2018_11-06.csv',\n",
       " './data/8_23Nov2018_16-07.csv',\n",
       " './data/7_23Nov2018_13-59.csv',\n",
       " './data/4_21Nov2018_14-04.csv',\n",
       " './data/1_20Nov2018_16-17.csv',\n",
       " './data/6_23Nov2018_11-02.csv']"
      ]
     },
     "execution_count": 15,
     "metadata": {},
     "output_type": "execute_result"
    }
   ],
   "source": [
    "file_list"
   ]
  },
  {
   "cell_type": "code",
   "execution_count": 16,
   "metadata": {
    "collapsed": false
   },
   "outputs": [
    {
     "data": {
      "text/html": [
       "<pre>Finished parsing file /Users/supadhy6/Documents/GitHub/spatio_temporal_information_processing/RSVP_visual_now/data/2_21Nov2018_10-09.csv</pre>"
      ],
      "text/plain": [
       "Finished parsing file /Users/supadhy6/Documents/GitHub/spatio_temporal_information_processing/RSVP_visual_now/data/2_21Nov2018_10-09.csv"
      ]
     },
     "metadata": {},
     "output_type": "display_data"
    },
    {
     "data": {
      "text/html": [
       "<pre>Parsing completed. Parsed 100 lines in 0.035494 secs.</pre>"
      ],
      "text/plain": [
       "Parsing completed. Parsed 100 lines in 0.035494 secs."
      ]
     },
     "metadata": {},
     "output_type": "display_data"
    },
    {
     "name": "stdout",
     "output_type": "stream",
     "text": [
      "------------------------------------------------------\n",
      "Inferred types from first 100 line(s) of file as \n",
      "column_type_hints=[str,int,int,str,float,int,str,str,float,float,array,int,int]\n",
      "If parsing fails due to incorrect types, you can correct\n",
      "the inferred type list above and pass it to read_csv in\n",
      "the column_type_hints argument\n",
      "------------------------------------------------------\n"
     ]
    },
    {
     "data": {
      "text/html": [
       "<pre>Finished parsing file /Users/supadhy6/Documents/GitHub/spatio_temporal_information_processing/RSVP_visual_now/data/2_21Nov2018_10-09.csv</pre>"
      ],
      "text/plain": [
       "Finished parsing file /Users/supadhy6/Documents/GitHub/spatio_temporal_information_processing/RSVP_visual_now/data/2_21Nov2018_10-09.csv"
      ]
     },
     "metadata": {},
     "output_type": "display_data"
    },
    {
     "data": {
      "text/html": [
       "<pre>Parsing completed. Parsed 420 lines in 0.009028 secs.</pre>"
      ],
      "text/plain": [
       "Parsing completed. Parsed 420 lines in 0.009028 secs."
      ]
     },
     "metadata": {},
     "output_type": "display_data"
    },
    {
     "data": {
      "text/html": [
       "<pre>Finished parsing file /Users/supadhy6/Documents/GitHub/spatio_temporal_information_processing/RSVP_visual_now/data/5_23Nov2018_10-06.csv</pre>"
      ],
      "text/plain": [
       "Finished parsing file /Users/supadhy6/Documents/GitHub/spatio_temporal_information_processing/RSVP_visual_now/data/5_23Nov2018_10-06.csv"
      ]
     },
     "metadata": {},
     "output_type": "display_data"
    },
    {
     "data": {
      "text/html": [
       "<pre>Parsing completed. Parsed 100 lines in 0.011978 secs.</pre>"
      ],
      "text/plain": [
       "Parsing completed. Parsed 100 lines in 0.011978 secs."
      ]
     },
     "metadata": {},
     "output_type": "display_data"
    },
    {
     "name": "stdout",
     "output_type": "stream",
     "text": [
      "------------------------------------------------------\n",
      "Inferred types from first 100 line(s) of file as \n",
      "column_type_hints=[str,int,int,str,float,int,str,str,float,float,array,int,int]\n",
      "If parsing fails due to incorrect types, you can correct\n",
      "the inferred type list above and pass it to read_csv in\n",
      "the column_type_hints argument\n",
      "------------------------------------------------------\n"
     ]
    },
    {
     "data": {
      "text/html": [
       "<pre>Finished parsing file /Users/supadhy6/Documents/GitHub/spatio_temporal_information_processing/RSVP_visual_now/data/5_23Nov2018_10-06.csv</pre>"
      ],
      "text/plain": [
       "Finished parsing file /Users/supadhy6/Documents/GitHub/spatio_temporal_information_processing/RSVP_visual_now/data/5_23Nov2018_10-06.csv"
      ]
     },
     "metadata": {},
     "output_type": "display_data"
    },
    {
     "data": {
      "text/html": [
       "<pre>Parsing completed. Parsed 420 lines in 0.006221 secs.</pre>"
      ],
      "text/plain": [
       "Parsing completed. Parsed 420 lines in 0.006221 secs."
      ]
     },
     "metadata": {},
     "output_type": "display_data"
    },
    {
     "data": {
      "text/html": [
       "<pre>Finished parsing file /Users/supadhy6/Documents/GitHub/spatio_temporal_information_processing/RSVP_visual_now/data/3_21Nov2018_11-06.csv</pre>"
      ],
      "text/plain": [
       "Finished parsing file /Users/supadhy6/Documents/GitHub/spatio_temporal_information_processing/RSVP_visual_now/data/3_21Nov2018_11-06.csv"
      ]
     },
     "metadata": {},
     "output_type": "display_data"
    },
    {
     "data": {
      "text/html": [
       "<pre>Parsing completed. Parsed 100 lines in 0.012129 secs.</pre>"
      ],
      "text/plain": [
       "Parsing completed. Parsed 100 lines in 0.012129 secs."
      ]
     },
     "metadata": {},
     "output_type": "display_data"
    },
    {
     "name": "stdout",
     "output_type": "stream",
     "text": [
      "------------------------------------------------------\n",
      "Inferred types from first 100 line(s) of file as \n",
      "column_type_hints=[str,int,int,str,float,int,str,str,float,float,array,int,int]\n",
      "If parsing fails due to incorrect types, you can correct\n",
      "the inferred type list above and pass it to read_csv in\n",
      "the column_type_hints argument\n",
      "------------------------------------------------------\n"
     ]
    },
    {
     "data": {
      "text/html": [
       "<pre>Finished parsing file /Users/supadhy6/Documents/GitHub/spatio_temporal_information_processing/RSVP_visual_now/data/3_21Nov2018_11-06.csv</pre>"
      ],
      "text/plain": [
       "Finished parsing file /Users/supadhy6/Documents/GitHub/spatio_temporal_information_processing/RSVP_visual_now/data/3_21Nov2018_11-06.csv"
      ]
     },
     "metadata": {},
     "output_type": "display_data"
    },
    {
     "data": {
      "text/html": [
       "<pre>Parsing completed. Parsed 420 lines in 0.005895 secs.</pre>"
      ],
      "text/plain": [
       "Parsing completed. Parsed 420 lines in 0.005895 secs."
      ]
     },
     "metadata": {},
     "output_type": "display_data"
    },
    {
     "data": {
      "text/html": [
       "<pre>Finished parsing file /Users/supadhy6/Documents/GitHub/spatio_temporal_information_processing/RSVP_visual_now/data/8_23Nov2018_16-07.csv</pre>"
      ],
      "text/plain": [
       "Finished parsing file /Users/supadhy6/Documents/GitHub/spatio_temporal_information_processing/RSVP_visual_now/data/8_23Nov2018_16-07.csv"
      ]
     },
     "metadata": {},
     "output_type": "display_data"
    },
    {
     "data": {
      "text/html": [
       "<pre>Parsing completed. Parsed 100 lines in 0.008628 secs.</pre>"
      ],
      "text/plain": [
       "Parsing completed. Parsed 100 lines in 0.008628 secs."
      ]
     },
     "metadata": {},
     "output_type": "display_data"
    },
    {
     "name": "stdout",
     "output_type": "stream",
     "text": [
      "------------------------------------------------------\n",
      "Inferred types from first 100 line(s) of file as \n",
      "column_type_hints=[str,int,int,str,float,int,str,str,float,float,array,int,int]\n",
      "If parsing fails due to incorrect types, you can correct\n",
      "the inferred type list above and pass it to read_csv in\n",
      "the column_type_hints argument\n",
      "------------------------------------------------------\n"
     ]
    },
    {
     "data": {
      "text/html": [
       "<pre>Read 420 lines. Lines per second: 46113.3</pre>"
      ],
      "text/plain": [
       "Read 420 lines. Lines per second: 46113.3"
      ]
     },
     "metadata": {},
     "output_type": "display_data"
    },
    {
     "data": {
      "text/html": [
       "<pre>Finished parsing file /Users/supadhy6/Documents/GitHub/spatio_temporal_information_processing/RSVP_visual_now/data/8_23Nov2018_16-07.csv</pre>"
      ],
      "text/plain": [
       "Finished parsing file /Users/supadhy6/Documents/GitHub/spatio_temporal_information_processing/RSVP_visual_now/data/8_23Nov2018_16-07.csv"
      ]
     },
     "metadata": {},
     "output_type": "display_data"
    },
    {
     "data": {
      "text/html": [
       "<pre>Parsing completed. Parsed 420 lines in 0.009344 secs.</pre>"
      ],
      "text/plain": [
       "Parsing completed. Parsed 420 lines in 0.009344 secs."
      ]
     },
     "metadata": {},
     "output_type": "display_data"
    },
    {
     "data": {
      "text/html": [
       "<pre>Finished parsing file /Users/supadhy6/Documents/GitHub/spatio_temporal_information_processing/RSVP_visual_now/data/7_23Nov2018_13-59.csv</pre>"
      ],
      "text/plain": [
       "Finished parsing file /Users/supadhy6/Documents/GitHub/spatio_temporal_information_processing/RSVP_visual_now/data/7_23Nov2018_13-59.csv"
      ]
     },
     "metadata": {},
     "output_type": "display_data"
    },
    {
     "data": {
      "text/html": [
       "<pre>Parsing completed. Parsed 100 lines in 0.007922 secs.</pre>"
      ],
      "text/plain": [
       "Parsing completed. Parsed 100 lines in 0.007922 secs."
      ]
     },
     "metadata": {},
     "output_type": "display_data"
    },
    {
     "name": "stdout",
     "output_type": "stream",
     "text": [
      "------------------------------------------------------\n",
      "Inferred types from first 100 line(s) of file as \n",
      "column_type_hints=[str,int,int,str,float,int,str,str,float,float,array,int,int]\n",
      "If parsing fails due to incorrect types, you can correct\n",
      "the inferred type list above and pass it to read_csv in\n",
      "the column_type_hints argument\n",
      "------------------------------------------------------\n"
     ]
    },
    {
     "data": {
      "text/html": [
       "<pre>Finished parsing file /Users/supadhy6/Documents/GitHub/spatio_temporal_information_processing/RSVP_visual_now/data/7_23Nov2018_13-59.csv</pre>"
      ],
      "text/plain": [
       "Finished parsing file /Users/supadhy6/Documents/GitHub/spatio_temporal_information_processing/RSVP_visual_now/data/7_23Nov2018_13-59.csv"
      ]
     },
     "metadata": {},
     "output_type": "display_data"
    },
    {
     "data": {
      "text/html": [
       "<pre>Parsing completed. Parsed 420 lines in 0.005789 secs.</pre>"
      ],
      "text/plain": [
       "Parsing completed. Parsed 420 lines in 0.005789 secs."
      ]
     },
     "metadata": {},
     "output_type": "display_data"
    },
    {
     "data": {
      "text/html": [
       "<pre>Finished parsing file /Users/supadhy6/Documents/GitHub/spatio_temporal_information_processing/RSVP_visual_now/data/4_21Nov2018_14-04.csv</pre>"
      ],
      "text/plain": [
       "Finished parsing file /Users/supadhy6/Documents/GitHub/spatio_temporal_information_processing/RSVP_visual_now/data/4_21Nov2018_14-04.csv"
      ]
     },
     "metadata": {},
     "output_type": "display_data"
    },
    {
     "data": {
      "text/html": [
       "<pre>Parsing completed. Parsed 100 lines in 0.009843 secs.</pre>"
      ],
      "text/plain": [
       "Parsing completed. Parsed 100 lines in 0.009843 secs."
      ]
     },
     "metadata": {},
     "output_type": "display_data"
    },
    {
     "name": "stdout",
     "output_type": "stream",
     "text": [
      "------------------------------------------------------\n",
      "Inferred types from first 100 line(s) of file as \n",
      "column_type_hints=[str,int,int,str,float,int,str,str,float,float,array,int,int]\n",
      "If parsing fails due to incorrect types, you can correct\n",
      "the inferred type list above and pass it to read_csv in\n",
      "the column_type_hints argument\n",
      "------------------------------------------------------\n"
     ]
    },
    {
     "data": {
      "text/html": [
       "<pre>Finished parsing file /Users/supadhy6/Documents/GitHub/spatio_temporal_information_processing/RSVP_visual_now/data/4_21Nov2018_14-04.csv</pre>"
      ],
      "text/plain": [
       "Finished parsing file /Users/supadhy6/Documents/GitHub/spatio_temporal_information_processing/RSVP_visual_now/data/4_21Nov2018_14-04.csv"
      ]
     },
     "metadata": {},
     "output_type": "display_data"
    },
    {
     "data": {
      "text/html": [
       "<pre>Parsing completed. Parsed 420 lines in 0.006669 secs.</pre>"
      ],
      "text/plain": [
       "Parsing completed. Parsed 420 lines in 0.006669 secs."
      ]
     },
     "metadata": {},
     "output_type": "display_data"
    },
    {
     "data": {
      "text/html": [
       "<pre>Finished parsing file /Users/supadhy6/Documents/GitHub/spatio_temporal_information_processing/RSVP_visual_now/data/1_20Nov2018_16-17.csv</pre>"
      ],
      "text/plain": [
       "Finished parsing file /Users/supadhy6/Documents/GitHub/spatio_temporal_information_processing/RSVP_visual_now/data/1_20Nov2018_16-17.csv"
      ]
     },
     "metadata": {},
     "output_type": "display_data"
    },
    {
     "data": {
      "text/html": [
       "<pre>Parsing completed. Parsed 100 lines in 0.008658 secs.</pre>"
      ],
      "text/plain": [
       "Parsing completed. Parsed 100 lines in 0.008658 secs."
      ]
     },
     "metadata": {},
     "output_type": "display_data"
    },
    {
     "name": "stdout",
     "output_type": "stream",
     "text": [
      "------------------------------------------------------\n",
      "Inferred types from first 100 line(s) of file as \n",
      "column_type_hints=[str,int,int,str,float,int,str,str,float,float,array,int,int]\n",
      "If parsing fails due to incorrect types, you can correct\n",
      "the inferred type list above and pass it to read_csv in\n",
      "the column_type_hints argument\n",
      "------------------------------------------------------\n"
     ]
    },
    {
     "data": {
      "text/html": [
       "<pre>Finished parsing file /Users/supadhy6/Documents/GitHub/spatio_temporal_information_processing/RSVP_visual_now/data/1_20Nov2018_16-17.csv</pre>"
      ],
      "text/plain": [
       "Finished parsing file /Users/supadhy6/Documents/GitHub/spatio_temporal_information_processing/RSVP_visual_now/data/1_20Nov2018_16-17.csv"
      ]
     },
     "metadata": {},
     "output_type": "display_data"
    },
    {
     "data": {
      "text/html": [
       "<pre>Parsing completed. Parsed 420 lines in 0.007569 secs.</pre>"
      ],
      "text/plain": [
       "Parsing completed. Parsed 420 lines in 0.007569 secs."
      ]
     },
     "metadata": {},
     "output_type": "display_data"
    },
    {
     "data": {
      "text/html": [
       "<pre>Finished parsing file /Users/supadhy6/Documents/GitHub/spatio_temporal_information_processing/RSVP_visual_now/data/6_23Nov2018_11-02.csv</pre>"
      ],
      "text/plain": [
       "Finished parsing file /Users/supadhy6/Documents/GitHub/spatio_temporal_information_processing/RSVP_visual_now/data/6_23Nov2018_11-02.csv"
      ]
     },
     "metadata": {},
     "output_type": "display_data"
    },
    {
     "data": {
      "text/html": [
       "<pre>Parsing completed. Parsed 100 lines in 0.006969 secs.</pre>"
      ],
      "text/plain": [
       "Parsing completed. Parsed 100 lines in 0.006969 secs."
      ]
     },
     "metadata": {},
     "output_type": "display_data"
    },
    {
     "name": "stdout",
     "output_type": "stream",
     "text": [
      "------------------------------------------------------\n",
      "Inferred types from first 100 line(s) of file as \n",
      "column_type_hints=[str,int,int,str,float,int,str,str,float,float,array,int,int]\n",
      "If parsing fails due to incorrect types, you can correct\n",
      "the inferred type list above and pass it to read_csv in\n",
      "the column_type_hints argument\n",
      "------------------------------------------------------\n"
     ]
    },
    {
     "data": {
      "text/html": [
       "<pre>Finished parsing file /Users/supadhy6/Documents/GitHub/spatio_temporal_information_processing/RSVP_visual_now/data/6_23Nov2018_11-02.csv</pre>"
      ],
      "text/plain": [
       "Finished parsing file /Users/supadhy6/Documents/GitHub/spatio_temporal_information_processing/RSVP_visual_now/data/6_23Nov2018_11-02.csv"
      ]
     },
     "metadata": {},
     "output_type": "display_data"
    },
    {
     "data": {
      "text/html": [
       "<pre>Parsing completed. Parsed 420 lines in 0.007895 secs.</pre>"
      ],
      "text/plain": [
       "Parsing completed. Parsed 420 lines in 0.007895 secs."
      ]
     },
     "metadata": {},
     "output_type": "display_data"
    },
    {
     "data": {
      "text/plain": [
       "3360"
      ]
     },
     "execution_count": 16,
     "metadata": {},
     "output_type": "execute_result"
    }
   ],
   "source": [
    "data = graphlab.SFrame.read_csv(file_list[0])\n",
    "temp = data\n",
    "for i in range(1,len(file_list)):\n",
    "    temp = graphlab.SFrame.read_csv(file_list[i])\n",
    "    data = data.append(temp)\n",
    "len(data)"
   ]
  },
  {
   "cell_type": "code",
   "execution_count": 17,
   "metadata": {
    "collapsed": false
   },
   "outputs": [
    {
     "name": "stdout",
     "output_type": "stream",
     "text": [
      "Canvas is updated and available in a tab in the default browser.\n"
     ]
    }
   ],
   "source": [
    "data.show()"
   ]
  },
  {
   "cell_type": "code",
   "execution_count": 18,
   "metadata": {
    "collapsed": false
   },
   "outputs": [
    {
     "name": "stdout",
     "output_type": "stream",
     "text": [
      "This is the format of your plot grid:\n",
      "[ (1,1) x1,y1 ]  [ (1,2) x2,y2 ]\n",
      "\n"
     ]
    },
    {
     "data": {
      "text/html": [
       "<iframe id=\"igraph\" scrolling=\"no\" style=\"border:none;\" seamless=\"seamless\" src=\"https://plot.ly/~adiboy_123/936.embed\" height=\"525px\" width=\"100%\"></iframe>"
      ],
      "text/plain": [
       "<plotly.tools.PlotlyDisplay object>"
      ]
     },
     "execution_count": 18,
     "metadata": {},
     "output_type": "execute_result"
    }
   ],
   "source": [
    "from plotly import tools\n",
    "import colorlover as cl\n",
    "trace = [[]]*2\n",
    "colors = cl.scales['3']['seq']['YlOrRd']\n",
    "for i,cuePos in enumerate(data['cueSpatialPos1'].unique()):\n",
    "    cuePosdata = data[data['cueSpatialPos1']==cuePos]\n",
    "    temp1 = []\n",
    "    for j,ecc in enumerate(cuePosdata['cueEccentricity1'].unique().sort()):\n",
    "        ecc_data = cuePosdata[cuePosdata['cueEccentricity1']==ecc]\n",
    "        temp1.append(go.Histogram(x = ecc_data['responsePosRelative0'].to_numpy(), \n",
    "                                  histnorm='probability',name = str(ecc) + 'deg', opacity = 1, marker = dict(color = colors[j])))\n",
    "    trace[i] = temp1\n",
    "\n",
    "if data['cueSpatialPos1'].unique()[0] == [-1.0,0.0]:\n",
    "    titles = ('West','East')\n",
    "else:\n",
    "    titles = ('East','West')\n",
    "    \n",
    "fig = tools.make_subplots(rows=1, cols=2, subplot_titles = titles)\n",
    "fig['layout'].update(barmode='group', title = 'performance in RSVP visual now task for different cue positions - '+str(len(data)/420)+' participants - ISI (73 msec)')\n",
    "#fig['layout']['xaxis3'].update(title='position of reported item relative to the true item', range = [-2,2])\n",
    "#fig['layout']['xaxis4'].update(title='position of reported item relative to the true item', range = [-2,2])\n",
    "fig['layout']['xaxis1'].update(range=[-2,2],title='position of reported item relative to the true item')\n",
    "fig['layout']['xaxis2'].update(range=[-2,2],title='position of reported item relative to the true item')\n",
    "fig['layout']['yaxis1'].update(title='Frequency')\n",
    "#fig['layout']['yaxis3'].update(title='Frequency')\n",
    "for i in range(3):\n",
    "    fig.append_trace(trace[0][i], 1, 1)\n",
    "    fig.append_trace(trace[1][i], 1, 2)\n",
    "    #fig.append_trace(trace[2][i], 2, 1)\n",
    "    #fig.append_trace(trace[3][i], 2, 2)\n",
    "py.iplot(fig, filename='RSVP_visual_now')"
   ]
  },
  {
   "cell_type": "code",
   "execution_count": 35,
   "metadata": {
    "collapsed": false
   },
   "outputs": [
    {
     "data": {
      "text/plain": [
       "dtype: int\n",
       "Rows: 3\n",
       "[2, 6, 10]"
      ]
     },
     "execution_count": 35,
     "metadata": {},
     "output_type": "execute_result"
    }
   ],
   "source": [
    "cuePosdata['cueEccentricity1'].unique().sort()"
   ]
  },
  {
   "cell_type": "code",
   "execution_count": 44,
   "metadata": {
    "collapsed": false
   },
   "outputs": [
    {
     "data": {
      "text/plain": [
       "4"
      ]
     },
     "execution_count": 44,
     "metadata": {},
     "output_type": "execute_result"
    }
   ],
   "source": [
    "len(data)/420"
   ]
  },
  {
   "cell_type": "code",
   "execution_count": null,
   "metadata": {
    "collapsed": true
   },
   "outputs": [],
   "source": []
  }
 ],
 "metadata": {
  "anaconda-cloud": {},
  "kernelspec": {
   "display_name": "Python [conda env:gl-env]",
   "language": "python",
   "name": "conda-env-gl-env-py"
  },
  "language_info": {
   "codemirror_mode": {
    "name": "ipython",
    "version": 2
   },
   "file_extension": ".py",
   "mimetype": "text/x-python",
   "name": "python",
   "nbconvert_exporter": "python",
   "pygments_lexer": "ipython2",
   "version": "2.7.13"
  },
  "toc": {
   "base_numbering": 1,
   "nav_menu": {},
   "number_sections": true,
   "sideBar": true,
   "skip_h1_title": false,
   "title_cell": "Table of Contents",
   "title_sidebar": "Contents",
   "toc_cell": false,
   "toc_position": {},
   "toc_section_display": true,
   "toc_window_display": false
  }
 },
 "nbformat": 4,
 "nbformat_minor": 1
}
